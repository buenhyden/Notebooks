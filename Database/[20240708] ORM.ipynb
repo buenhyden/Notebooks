{
 "cells": [
  {
   "cell_type": "markdown",
   "metadata": {},
   "source": [
    "# ORM (Object-Relational Mapping)"
   ]
  },
  {
   "cell_type": "markdown",
   "metadata": {},
   "source": [
    "데이터베이스 작업을 단순화하는 ORM(Object-Relational Mapping) 라이브러리는 복잡한 데이터 구조를 쉽게 관리할 수 있게 도와줍니다. 이번 챕터에서는 파이썬에서 사용할 수 있는 여러 ORM 라이브러리를 소개하고 각각의 특징과 장점을 탐구할 예정입니다. 이러한 도구들은 데이터베이스와의 상호작용을 효율적으로 만들어 주어 개발자의 부담을 줄여줍니다."
   ]
  },
  {
   "cell_type": "markdown",
   "metadata": {},
   "source": [
    "* sqlalchemy : is the Python SQL toolkit and Object Relational Mapper that gives application developers the full power and flexibility of SQL."
   ]
  },
  {
   "cell_type": "code",
   "execution_count": null,
   "metadata": {},
   "outputs": [],
   "source": [
    "%pip install sqlalchemy"
   ]
  }
 ],
 "metadata": {
  "language_info": {
   "name": "python"
  }
 },
 "nbformat": 4,
 "nbformat_minor": 2
}
