{
 "cells": [
  {
   "cell_type": "markdown",
   "metadata": {},
   "source": [
    "# DuckDB"
   ]
  },
  {
   "cell_type": "markdown",
   "metadata": {},
   "source": [
    "* DuckDB: 데이터 분석용 SQL 데이터"
   ]
  },
  {
   "cell_type": "code",
   "execution_count": 1,
   "metadata": {},
   "outputs": [
    {
     "name": "stdout",
     "output_type": "stream",
     "text": [
      "Collecting duckdb\n",
      "  Downloading duckdb-1.0.0-cp312-cp312-win_amd64.whl.metadata (781 bytes)\n",
      "Downloading duckdb-1.0.0-cp312-cp312-win_amd64.whl (9.9 MB)\n",
      "   ---------------------------------------- 0.0/9.9 MB ? eta -:--:--\n",
      "   -- ------------------------------------- 0.6/9.9 MB 18.8 MB/s eta 0:00:01\n",
      "   ---- ----------------------------------- 1.1/9.9 MB 13.8 MB/s eta 0:00:01\n",
      "   ------ --------------------------------- 1.6/9.9 MB 12.9 MB/s eta 0:00:01\n",
      "   -------- ------------------------------- 2.2/9.9 MB 12.9 MB/s eta 0:00:01\n",
      "   ---------- ----------------------------- 2.7/9.9 MB 12.4 MB/s eta 0:00:01\n",
      "   ------------ --------------------------- 3.2/9.9 MB 12.0 MB/s eta 0:00:01\n",
      "   --------------- ------------------------ 3.7/9.9 MB 11.9 MB/s eta 0:00:01\n",
      "   ----------------- ---------------------- 4.3/9.9 MB 12.4 MB/s eta 0:00:01\n",
      "   ------------------- -------------------- 4.8/9.9 MB 11.9 MB/s eta 0:00:01\n",
      "   --------------------- ------------------ 5.3/9.9 MB 12.2 MB/s eta 0:00:01\n",
      "   ----------------------- ---------------- 5.9/9.9 MB 12.1 MB/s eta 0:00:01\n",
      "   -------------------------- ------------- 6.5/9.9 MB 11.8 MB/s eta 0:00:01\n",
      "   ---------------------------- ----------- 7.0/9.9 MB 12.0 MB/s eta 0:00:01\n",
      "   ----------------------------- ---------- 7.4/9.9 MB 11.8 MB/s eta 0:00:01\n",
      "   ------------------------------- -------- 7.9/9.9 MB 12.0 MB/s eta 0:00:01\n",
      "   --------------------------------- ------ 8.4/9.9 MB 11.9 MB/s eta 0:00:01\n",
      "   ----------------------------------- ---- 8.8/9.9 MB 12.0 MB/s eta 0:00:01\n",
      "   ------------------------------------- -- 9.4/9.9 MB 12.0 MB/s eta 0:00:01\n",
      "   ---------------------------------------  9.9/9.9 MB 11.9 MB/s eta 0:00:01\n",
      "   ---------------------------------------  9.9/9.9 MB 11.8 MB/s eta 0:00:01\n",
      "   ---------------------------------------- 9.9/9.9 MB 11.3 MB/s eta 0:00:00\n",
      "Installing collected packages: duckdb\n",
      "Successfully installed duckdb-1.0.0\n",
      "Note: you may need to restart the kernel to use updated packages.\n"
     ]
    }
   ],
   "source": [
    "%pip install duckdb"
   ]
  },
  {
   "cell_type": "code",
   "execution_count": null,
   "metadata": {},
   "outputs": [],
   "source": []
  }
 ],
 "metadata": {
  "kernelspec": {
   "display_name": "Python 3",
   "language": "python",
   "name": "python3"
  },
  "language_info": {
   "codemirror_mode": {
    "name": "ipython",
    "version": 3
   },
   "file_extension": ".py",
   "mimetype": "text/x-python",
   "name": "python",
   "nbconvert_exporter": "python",
   "pygments_lexer": "ipython3",
   "version": "3.12.4"
  }
 },
 "nbformat": 4,
 "nbformat_minor": 2
}
