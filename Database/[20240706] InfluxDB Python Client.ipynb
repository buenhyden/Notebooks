{
 "cells": [
  {
   "cell_type": "markdown",
   "metadata": {},
   "source": [
    "# InfluxDB"
   ]
  },
  {
   "cell_type": "markdown",
   "metadata": {},
   "source": [
    "* influxdb-client : InfluxDB Python Client"
   ]
  },
  {
   "cell_type": "code",
   "execution_count": 1,
   "metadata": {},
   "outputs": [
    {
     "name": "stdout",
     "output_type": "stream",
     "text": [
      "Collecting influxdb-client\n",
      "  Downloading influxdb_client-1.44.0-py3-none-any.whl.metadata (64 kB)\n",
      "     ---------------------------------------- 0.0/64.8 kB ? eta -:--:--\n",
      "     ---------------------------------------- 64.8/64.8 kB 1.8 MB/s eta 0:00:00\n",
      "Collecting reactivex>=4.0.4 (from influxdb-client)\n",
      "  Downloading reactivex-4.0.4-py3-none-any.whl.metadata (5.5 kB)\n",
      "Requirement already satisfied: certifi>=14.05.14 in c:\\python312\\lib\\site-packages (from influxdb-client) (2024.6.2)\n",
      "Requirement already satisfied: python-dateutil>=2.5.3 in c:\\python312\\lib\\site-packages (from influxdb-client) (2.9.0.post0)\n",
      "Requirement already satisfied: setuptools>=21.0.0 in c:\\python312\\lib\\site-packages (from influxdb-client) (70.1.1)\n",
      "Requirement already satisfied: urllib3>=1.26.0 in c:\\python312\\lib\\site-packages (from influxdb-client) (2.2.2)\n",
      "Requirement already satisfied: six>=1.5 in c:\\python312\\lib\\site-packages (from python-dateutil>=2.5.3->influxdb-client) (1.16.0)\n",
      "Requirement already satisfied: typing-extensions<5.0.0,>=4.1.1 in c:\\python312\\lib\\site-packages (from reactivex>=4.0.4->influxdb-client) (4.12.2)\n",
      "Downloading influxdb_client-1.44.0-py3-none-any.whl (745 kB)\n",
      "   ---------------------------------------- 0.0/745.4 kB ? eta -:--:--\n",
      "   --- ------------------------------------ 61.4/745.4 kB ? eta -:--:--\n",
      "   ------ --------------------------------- 122.9/745.4 kB 2.4 MB/s eta 0:00:01\n",
      "   --------- ------------------------------ 184.3/745.4 kB 1.9 MB/s eta 0:00:01\n",
      "   ------------- -------------------------- 245.8/745.4 kB 1.7 MB/s eta 0:00:01\n",
      "   ------------------- -------------------- 368.6/745.4 kB 1.9 MB/s eta 0:00:01\n",
      "   -------------------------- ------------- 491.5/745.4 kB 2.1 MB/s eta 0:00:01\n",
      "   ---------------------------------------  737.3/745.4 kB 2.6 MB/s eta 0:00:01\n",
      "   ---------------------------------------- 745.4/745.4 kB 2.5 MB/s eta 0:00:00\n",
      "Downloading reactivex-4.0.4-py3-none-any.whl (217 kB)\n",
      "   ---------------------------------------- 0.0/217.8 kB ? eta -:--:--\n",
      "   ---------------------------------------- 217.8/217.8 kB 6.7 MB/s eta 0:00:00\n",
      "Installing collected packages: reactivex, influxdb-client\n",
      "Successfully installed influxdb-client-1.44.0 reactivex-4.0.4\n",
      "Note: you may need to restart the kernel to use updated packages.\n"
     ]
    }
   ],
   "source": [
    "%pip install influxdb-client"
   ]
  },
  {
   "cell_type": "code",
   "execution_count": null,
   "metadata": {},
   "outputs": [],
   "source": []
  }
 ],
 "metadata": {
  "kernelspec": {
   "display_name": "Python 3",
   "language": "python",
   "name": "python3"
  },
  "language_info": {
   "codemirror_mode": {
    "name": "ipython",
    "version": 3
   },
   "file_extension": ".py",
   "mimetype": "text/x-python",
   "name": "python",
   "nbconvert_exporter": "python",
   "pygments_lexer": "ipython3",
   "version": "3.12.4"
  }
 },
 "nbformat": 4,
 "nbformat_minor": 2
}
