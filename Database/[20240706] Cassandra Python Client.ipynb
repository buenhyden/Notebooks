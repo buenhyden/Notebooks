{
 "cells": [
  {
   "cell_type": "markdown",
   "metadata": {},
   "source": [
    "# Cassandra"
   ]
  },
  {
   "cell_type": "markdown",
   "metadata": {},
   "source": [
    "* geomet : Pure-Python conversion library for common geospatial data formats."
   ]
  },
  {
   "cell_type": "code",
   "execution_count": 3,
   "metadata": {},
   "outputs": [
    {
     "name": "stdout",
     "output_type": "stream",
     "text": [
      "Requirement already satisfied: geomet in c:\\python312\\lib\\site-packages (0.2.1.post1)\n",
      "Requirement already satisfied: click in c:\\python312\\lib\\site-packages (from geomet) (8.1.7)\n",
      "Requirement already satisfied: six in c:\\python312\\lib\\site-packages (from geomet) (1.16.0)\n",
      "Requirement already satisfied: colorama in c:\\python312\\lib\\site-packages (from click->geomet) (0.4.6)\n",
      "Note: you may need to restart the kernel to use updated packages.\n"
     ]
    }
   ],
   "source": [
    "%pip install geomet"
   ]
  },
  {
   "cell_type": "markdown",
   "metadata": {},
   "source": [
    "* cassandra-driver : cassandra python client"
   ]
  },
  {
   "cell_type": "code",
   "execution_count": 4,
   "metadata": {},
   "outputs": [
    {
     "name": "stdout",
     "output_type": "stream",
     "text": [
      "Collecting cassandra-driver\n",
      "  Using cached cassandra_driver-3.29.1-cp312-cp312-win_amd64.whl.metadata (6.0 kB)\n",
      "Requirement already satisfied: geomet<0.3,>=0.1 in c:\\python312\\lib\\site-packages (from cassandra-driver) (0.2.1.post1)\n",
      "Requirement already satisfied: click in c:\\python312\\lib\\site-packages (from geomet<0.3,>=0.1->cassandra-driver) (8.1.7)\n",
      "Requirement already satisfied: six in c:\\python312\\lib\\site-packages (from geomet<0.3,>=0.1->cassandra-driver) (1.16.0)\n",
      "Requirement already satisfied: colorama in c:\\python312\\lib\\site-packages (from click->geomet<0.3,>=0.1->cassandra-driver) (0.4.6)\n",
      "Using cached cassandra_driver-3.29.1-cp312-cp312-win_amd64.whl (2.6 MB)\n",
      "Installing collected packages: cassandra-driver\n",
      "Successfully installed cassandra-driver-3.29.1\n",
      "Note: you may need to restart the kernel to use updated packages.\n"
     ]
    }
   ],
   "source": [
    "%pip install cassandra-driver"
   ]
  },
  {
   "cell_type": "code",
   "execution_count": null,
   "metadata": {},
   "outputs": [],
   "source": []
  }
 ],
 "metadata": {
  "kernelspec": {
   "display_name": "Python 3",
   "language": "python",
   "name": "python3"
  },
  "language_info": {
   "codemirror_mode": {
    "name": "ipython",
    "version": 3
   },
   "file_extension": ".py",
   "mimetype": "text/x-python",
   "name": "python",
   "nbconvert_exporter": "python",
   "pygments_lexer": "ipython3",
   "version": "3.12.4"
  }
 },
 "nbformat": 4,
 "nbformat_minor": 2
}
