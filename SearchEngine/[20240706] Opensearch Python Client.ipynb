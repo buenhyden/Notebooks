{
 "cells": [
  {
   "cell_type": "markdown",
   "metadata": {},
   "source": [
    "# Opensearch"
   ]
  },
  {
   "cell_type": "markdown",
   "metadata": {},
   "source": [
    "* is a distributed search and analytics engine that supports various use cases, from implementing a search box on a website to analyzing security data for threat detection. \n",
    "* The term distributed means that you can run OpenSearch on multiple computers. \n",
    "* Search and analytics means that you can search and analyze your data once you ingest it into OpenSearch. \n",
    "* No matter your type of data, you can store and analyze it using OpenSearch."
   ]
  },
  {
   "cell_type": "markdown",
   "metadata": {},
   "source": [
    "* opensearch-dsl : High-level Python client\n",
    "  * wrapper classes for common OpenSearch entities, like documents, so you can work with them as Python objects. \n",
    "  * Additionally, the high-level client simplifies writing queries and supplies convenient Python methods for common OpenSearch operations. \n",
    "  * The high-level Python client supports creating and indexing documents, searching with and without filters, and updating documents using queries."
   ]
  },
  {
   "cell_type": "code",
   "execution_count": 1,
   "metadata": {},
   "outputs": [
    {
     "name": "stdout",
     "output_type": "stream",
     "text": [
      "Requirement already satisfied: opensearch-dsl in c:\\python312\\lib\\site-packages (2.1.0)\n",
      "Requirement already satisfied: six in c:\\python312\\lib\\site-packages (from opensearch-dsl) (1.16.0)\n",
      "Requirement already satisfied: python-dateutil in c:\\python312\\lib\\site-packages (from opensearch-dsl) (2.9.0.post0)\n",
      "Requirement already satisfied: opensearch-py>=2.2.0 in c:\\python312\\lib\\site-packages (from opensearch-dsl) (2.6.0)\n",
      "Requirement already satisfied: requests<3.0.0,>=2.4.0 in c:\\python312\\lib\\site-packages (from opensearch-py>=2.2.0->opensearch-dsl) (2.32.3)\n",
      "Requirement already satisfied: certifi>=2022.12.07 in c:\\python312\\lib\\site-packages (from opensearch-py>=2.2.0->opensearch-dsl) (2024.6.2)\n",
      "Requirement already satisfied: Events in c:\\python312\\lib\\site-packages (from opensearch-py>=2.2.0->opensearch-dsl) (0.5)\n",
      "Requirement already satisfied: urllib3!=2.2.0,<3,>=1.26.18 in c:\\python312\\lib\\site-packages (from opensearch-py>=2.2.0->opensearch-dsl) (1.26.19)\n",
      "Requirement already satisfied: charset-normalizer<4,>=2 in c:\\python312\\lib\\site-packages (from requests<3.0.0,>=2.4.0->opensearch-py>=2.2.0->opensearch-dsl) (3.3.2)\n",
      "Requirement already satisfied: idna<4,>=2.5 in c:\\python312\\lib\\site-packages (from requests<3.0.0,>=2.4.0->opensearch-py>=2.2.0->opensearch-dsl) (2.10)\n",
      "Note: you may need to restart the kernel to use updated packages.\n"
     ]
    },
    {
     "name": "stderr",
     "output_type": "stream",
     "text": [
      "WARNING: Ignoring invalid distribution ~ (c:\\Python312\\Lib\\site-packages)\n",
      "WARNING: Ignoring invalid distribution ~ebsockets (c:\\Python312\\Lib\\site-packages)\n",
      "WARNING: Ignoring invalid distribution ~equests (c:\\Python312\\Lib\\site-packages)\n",
      "WARNING: Ignoring invalid distribution ~ip (c:\\Python312\\Lib\\site-packages)\n",
      "WARNING: Ignoring invalid distribution ~ttpcore (c:\\Python312\\Lib\\site-packages)\n",
      "WARNING: Ignoring invalid distribution ~ (c:\\Python312\\Lib\\site-packages)\n",
      "WARNING: Ignoring invalid distribution ~ebsockets (c:\\Python312\\Lib\\site-packages)\n",
      "WARNING: Ignoring invalid distribution ~equests (c:\\Python312\\Lib\\site-packages)\n",
      "WARNING: Ignoring invalid distribution ~ip (c:\\Python312\\Lib\\site-packages)\n",
      "WARNING: Ignoring invalid distribution ~ttpcore (c:\\Python312\\Lib\\site-packages)\n",
      "WARNING: Ignoring invalid distribution ~ (c:\\Python312\\Lib\\site-packages)\n",
      "WARNING: Ignoring invalid distribution ~ebsockets (c:\\Python312\\Lib\\site-packages)\n",
      "WARNING: Ignoring invalid distribution ~equests (c:\\Python312\\Lib\\site-packages)\n",
      "WARNING: Ignoring invalid distribution ~ip (c:\\Python312\\Lib\\site-packages)\n",
      "WARNING: Ignoring invalid distribution ~ttpcore (c:\\Python312\\Lib\\site-packages)\n"
     ]
    }
   ],
   "source": [
    "%pip install opensearch-dsl"
   ]
  },
  {
   "cell_type": "markdown",
   "metadata": {},
   "source": [
    "* opensearch-py : Low-level Python client\n",
    "  * wrapper methods for the OpenSearch REST API so that you can interact with your cluster more naturally in Python. \n",
    "  * Rather than sending raw HTTP requests to a given URL, you can create an OpenSearch client for your cluster and call the client’s built-in functions."
   ]
  },
  {
   "cell_type": "code",
   "execution_count": 2,
   "metadata": {},
   "outputs": [
    {
     "name": "stdout",
     "output_type": "stream",
     "text": [
      "Requirement already satisfied: opensearch-py in c:\\python312\\lib\\site-packages (2.6.0)\n",
      "Requirement already satisfied: requests<3.0.0,>=2.4.0 in c:\\python312\\lib\\site-packages (from opensearch-py) (2.32.3)\n",
      "Requirement already satisfied: six in c:\\python312\\lib\\site-packages (from opensearch-py) (1.16.0)\n",
      "Requirement already satisfied: python-dateutil in c:\\python312\\lib\\site-packages (from opensearch-py) (2.9.0.post0)\n",
      "Requirement already satisfied: certifi>=2022.12.07 in c:\\python312\\lib\\site-packages (from opensearch-py) (2024.6.2)\n",
      "Requirement already satisfied: Events in c:\\python312\\lib\\site-packages (from opensearch-py) (0.5)\n",
      "Requirement already satisfied: urllib3!=2.2.0,<3,>=1.26.18 in c:\\python312\\lib\\site-packages (from opensearch-py) (1.26.19)\n",
      "Requirement already satisfied: charset-normalizer<4,>=2 in c:\\python312\\lib\\site-packages (from requests<3.0.0,>=2.4.0->opensearch-py) (3.3.2)\n",
      "Requirement already satisfied: idna<4,>=2.5 in c:\\python312\\lib\\site-packages (from requests<3.0.0,>=2.4.0->opensearch-py) (2.10)\n",
      "Note: you may need to restart the kernel to use updated packages.\n"
     ]
    },
    {
     "name": "stderr",
     "output_type": "stream",
     "text": [
      "WARNING: Ignoring invalid distribution ~ (c:\\Python312\\Lib\\site-packages)\n",
      "WARNING: Ignoring invalid distribution ~ebsockets (c:\\Python312\\Lib\\site-packages)\n",
      "WARNING: Ignoring invalid distribution ~equests (c:\\Python312\\Lib\\site-packages)\n",
      "WARNING: Ignoring invalid distribution ~ip (c:\\Python312\\Lib\\site-packages)\n",
      "WARNING: Ignoring invalid distribution ~ttpcore (c:\\Python312\\Lib\\site-packages)\n",
      "WARNING: Ignoring invalid distribution ~ (c:\\Python312\\Lib\\site-packages)\n",
      "WARNING: Ignoring invalid distribution ~ebsockets (c:\\Python312\\Lib\\site-packages)\n",
      "WARNING: Ignoring invalid distribution ~equests (c:\\Python312\\Lib\\site-packages)\n",
      "WARNING: Ignoring invalid distribution ~ip (c:\\Python312\\Lib\\site-packages)\n",
      "WARNING: Ignoring invalid distribution ~ttpcore (c:\\Python312\\Lib\\site-packages)\n",
      "WARNING: Ignoring invalid distribution ~ (c:\\Python312\\Lib\\site-packages)\n",
      "WARNING: Ignoring invalid distribution ~ebsockets (c:\\Python312\\Lib\\site-packages)\n",
      "WARNING: Ignoring invalid distribution ~equests (c:\\Python312\\Lib\\site-packages)\n",
      "WARNING: Ignoring invalid distribution ~ip (c:\\Python312\\Lib\\site-packages)\n",
      "WARNING: Ignoring invalid distribution ~ttpcore (c:\\Python312\\Lib\\site-packages)\n"
     ]
    }
   ],
   "source": [
    "%pip install opensearch-py"
   ]
  },
  {
   "cell_type": "code",
   "execution_count": null,
   "metadata": {},
   "outputs": [],
   "source": []
  },
  {
   "cell_type": "code",
   "execution_count": null,
   "metadata": {},
   "outputs": [],
   "source": []
  }
 ],
 "metadata": {
  "kernelspec": {
   "display_name": "Python 3",
   "language": "python",
   "name": "python3"
  },
  "language_info": {
   "codemirror_mode": {
    "name": "ipython",
    "version": 3
   },
   "file_extension": ".py",
   "mimetype": "text/x-python",
   "name": "python",
   "nbconvert_exporter": "python",
   "pygments_lexer": "ipython3",
   "version": "3.12.4"
  }
 },
 "nbformat": 4,
 "nbformat_minor": 2
}
