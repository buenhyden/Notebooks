{
 "cells": [
  {
   "cell_type": "markdown",
   "metadata": {},
   "source": [
    "# Web Application Frontend"
   ]
  },
  {
   "cell_type": "markdown",
   "metadata": {},
   "source": [
    "* FastUI: 더 빠르고 좋은 웹 애플리케이션 UI"
   ]
  },
  {
   "cell_type": "code",
   "execution_count": 1,
   "metadata": {},
   "outputs": [
    {
     "name": "stdout",
     "output_type": "stream",
     "text": [
      "Requirement already satisfied: fastui in c:\\python312\\lib\\site-packages (0.6.0)\n",
      "Requirement already satisfied: pydantic>=2.5.2 in c:\\python312\\lib\\site-packages (from pydantic[email]>=2.5.2->fastui) (2.8.2)\n",
      "Requirement already satisfied: annotated-types>=0.4.0 in c:\\python312\\lib\\site-packages (from pydantic>=2.5.2->pydantic[email]>=2.5.2->fastui) (0.7.0)\n",
      "Requirement already satisfied: pydantic-core==2.20.1 in c:\\python312\\lib\\site-packages (from pydantic>=2.5.2->pydantic[email]>=2.5.2->fastui) (2.20.1)\n",
      "Requirement already satisfied: typing-extensions>=4.6.1 in c:\\python312\\lib\\site-packages (from pydantic>=2.5.2->pydantic[email]>=2.5.2->fastui) (4.12.2)\n",
      "Requirement already satisfied: email-validator>=2.0.0 in c:\\python312\\lib\\site-packages (from pydantic[email]>=2.5.2->fastui) (2.2.0)\n",
      "Requirement already satisfied: dnspython>=2.0.0 in c:\\python312\\lib\\site-packages (from email-validator>=2.0.0->pydantic[email]>=2.5.2->fastui) (2.6.1)\n",
      "Requirement already satisfied: idna>=2.0.0 in c:\\python312\\lib\\site-packages (from email-validator>=2.0.0->pydantic[email]>=2.5.2->fastui) (2.10)\n",
      "Note: you may need to restart the kernel to use updated packages.\n"
     ]
    },
    {
     "name": "stderr",
     "output_type": "stream",
     "text": [
      "WARNING: Ignoring invalid distribution ~ip (c:\\Python312\\Lib\\site-packages)\n",
      "WARNING: Ignoring invalid distribution ~ip (c:\\Python312\\Lib\\site-packages)\n",
      "WARNING: Ignoring invalid distribution ~ip (c:\\Python312\\Lib\\site-packages)\n"
     ]
    }
   ],
   "source": [
    "%pip install fastui"
   ]
  },
  {
   "cell_type": "markdown",
   "metadata": {},
   "source": [
    "* JustPy: 객체 지향 고수준 파이썬 웹 프레임워크"
   ]
  },
  {
   "cell_type": "code",
   "execution_count": 4,
   "metadata": {},
   "outputs": [
    {
     "name": "stdout",
     "output_type": "stream",
     "text": [
      "Collecting justpy\n",
      "  Using cached justpy-0.14.0-py3-none-any.whl.metadata (23 kB)\n",
      "Requirement already satisfied: addict>=2.4.0 in c:\\python312\\lib\\site-packages (from justpy) (2.4.0)\n",
      "Requirement already satisfied: aiofiles in c:\\users\\hyunyoun\\appdata\\roaming\\python\\python312\\site-packages (from justpy) (24.1.0)\n",
      "Requirement already satisfied: fastapi in c:\\users\\hyunyoun\\appdata\\roaming\\python\\python312\\site-packages (from justpy) (0.110.3)\n",
      "Requirement already satisfied: hjson>=3.1.0 in c:\\python312\\lib\\site-packages (from justpy) (3.1.0)\n",
      "Requirement already satisfied: httpx>=0.23.0 in c:\\python312\\lib\\site-packages (from justpy) (0.27.0)\n",
      "Requirement already satisfied: itsdangerous>=2.1.2 in c:\\users\\hyunyoun\\appdata\\roaming\\python\\python312\\site-packages (from justpy) (2.2.0)\n",
      "Requirement already satisfied: jinja2>=3.1.2 in c:\\python312\\lib\\site-packages (from justpy) (3.1.4)\n",
      "Requirement already satisfied: psutil>=5.9.2 in c:\\users\\hyunyoun\\appdata\\roaming\\python\\python312\\site-packages (from justpy) (5.9.8)\n",
      "Requirement already satisfied: starlette>=0.20.4 in c:\\users\\hyunyoun\\appdata\\roaming\\python\\python312\\site-packages (from justpy) (0.37.2)\n",
      "Requirement already satisfied: twine in c:\\users\\hyunyoun\\appdata\\roaming\\python\\python312\\site-packages (from justpy) (5.1.1)\n",
      "Requirement already satisfied: uvicorn>=0.18.3 in c:\\users\\hyunyoun\\appdata\\roaming\\python\\python312\\site-packages (from justpy) (0.24.0.post1)\n",
      "Requirement already satisfied: websockets in c:\\users\\hyunyoun\\appdata\\roaming\\python\\python312\\site-packages (from justpy) (12.0)\n",
      "Requirement already satisfied: wheel in c:\\users\\hyunyoun\\appdata\\roaming\\python\\python312\\site-packages (from justpy) (0.43.0)\n",
      "Requirement already satisfied: anyio in c:\\python312\\lib\\site-packages (from httpx>=0.23.0->justpy) (4.4.0)\n",
      "Requirement already satisfied: certifi in c:\\python312\\lib\\site-packages (from httpx>=0.23.0->justpy) (2024.6.2)\n",
      "Requirement already satisfied: httpcore==1.* in c:\\users\\hyunyoun\\appdata\\roaming\\python\\python312\\site-packages (from httpx>=0.23.0->justpy) (1.0.5)\n",
      "Requirement already satisfied: idna in c:\\python312\\lib\\site-packages (from httpx>=0.23.0->justpy) (2.10)\n",
      "Requirement already satisfied: sniffio in c:\\python312\\lib\\site-packages (from httpx>=0.23.0->justpy) (1.3.1)\n",
      "Requirement already satisfied: h11<0.15,>=0.13 in c:\\python312\\lib\\site-packages (from httpcore==1.*->httpx>=0.23.0->justpy) (0.14.0)\n",
      "Requirement already satisfied: MarkupSafe>=2.0 in c:\\python312\\lib\\site-packages (from jinja2>=3.1.2->justpy) (2.1.5)\n",
      "Requirement already satisfied: click>=7.0 in c:\\python312\\lib\\site-packages (from uvicorn>=0.18.3->justpy) (8.1.7)\n",
      "Requirement already satisfied: pydantic!=1.8,!=1.8.1,!=2.0.0,!=2.0.1,!=2.1.0,<3.0.0,>=1.7.4 in c:\\python312\\lib\\site-packages (from fastapi->justpy) (2.8.2)\n",
      "Requirement already satisfied: typing-extensions>=4.8.0 in c:\\python312\\lib\\site-packages (from fastapi->justpy) (4.12.2)\n",
      "Requirement already satisfied: pkginfo>=1.8.1 in c:\\users\\hyunyoun\\appdata\\roaming\\python\\python312\\site-packages (from twine->justpy) (1.10.0)\n",
      "Requirement already satisfied: readme-renderer>=35.0 in c:\\users\\hyunyoun\\appdata\\roaming\\python\\python312\\site-packages (from twine->justpy) (43.0)\n",
      "Requirement already satisfied: requests>=2.20 in c:\\python312\\lib\\site-packages (from twine->justpy) (2.32.3)\n",
      "Requirement already satisfied: requests-toolbelt!=0.9.0,>=0.8.0 in c:\\users\\hyunyoun\\appdata\\roaming\\python\\python312\\site-packages (from twine->justpy) (1.0.0)\n",
      "Requirement already satisfied: urllib3>=1.26.0 in c:\\python312\\lib\\site-packages (from twine->justpy) (1.26.19)\n",
      "Requirement already satisfied: importlib-metadata>=3.6 in c:\\users\\hyunyoun\\appdata\\roaming\\python\\python312\\site-packages (from twine->justpy) (8.0.0)\n",
      "Requirement already satisfied: keyring>=15.1 in c:\\users\\hyunyoun\\appdata\\roaming\\python\\python312\\site-packages (from twine->justpy) (25.2.1)\n",
      "Requirement already satisfied: rfc3986>=1.4.0 in c:\\python312\\lib\\site-packages (from twine->justpy) (1.5.0)\n",
      "Requirement already satisfied: rich>=12.0.0 in c:\\users\\hyunyoun\\appdata\\roaming\\python\\python312\\site-packages (from twine->justpy) (13.7.1)\n",
      "Requirement already satisfied: colorama in c:\\python312\\lib\\site-packages (from click>=7.0->uvicorn>=0.18.3->justpy) (0.4.6)\n",
      "Requirement already satisfied: zipp>=0.5 in c:\\users\\hyunyoun\\appdata\\roaming\\python\\python312\\site-packages (from importlib-metadata>=3.6->twine->justpy) (3.19.2)\n",
      "Requirement already satisfied: jaraco.classes in c:\\users\\hyunyoun\\appdata\\roaming\\python\\python312\\site-packages (from keyring>=15.1->twine->justpy) (3.4.0)\n",
      "Requirement already satisfied: jaraco.functools in c:\\users\\hyunyoun\\appdata\\roaming\\python\\python312\\site-packages (from keyring>=15.1->twine->justpy) (4.0.1)\n",
      "Requirement already satisfied: jaraco.context in c:\\users\\hyunyoun\\appdata\\roaming\\python\\python312\\site-packages (from keyring>=15.1->twine->justpy) (5.3.0)\n",
      "Requirement already satisfied: pywin32-ctypes>=0.2.0 in c:\\users\\hyunyoun\\appdata\\roaming\\python\\python312\\site-packages (from keyring>=15.1->twine->justpy) (0.2.2)\n",
      "Requirement already satisfied: annotated-types>=0.4.0 in c:\\python312\\lib\\site-packages (from pydantic!=1.8,!=1.8.1,!=2.0.0,!=2.0.1,!=2.1.0,<3.0.0,>=1.7.4->fastapi->justpy) (0.7.0)\n",
      "Requirement already satisfied: pydantic-core==2.20.1 in c:\\python312\\lib\\site-packages (from pydantic!=1.8,!=1.8.1,!=2.0.0,!=2.0.1,!=2.1.0,<3.0.0,>=1.7.4->fastapi->justpy) (2.20.1)\n",
      "Requirement already satisfied: nh3>=0.2.14 in c:\\python312\\lib\\site-packages (from readme-renderer>=35.0->twine->justpy) (0.2.18)\n",
      "Requirement already satisfied: docutils>=0.13.1 in c:\\users\\hyunyoun\\appdata\\roaming\\python\\python312\\site-packages (from readme-renderer>=35.0->twine->justpy) (0.21.2)\n",
      "Requirement already satisfied: Pygments>=2.5.1 in c:\\python312\\lib\\site-packages (from readme-renderer>=35.0->twine->justpy) (2.18.0)\n",
      "Requirement already satisfied: charset-normalizer<4,>=2 in c:\\python312\\lib\\site-packages (from requests>=2.20->twine->justpy) (3.3.2)\n",
      "Requirement already satisfied: markdown-it-py>=2.2.0 in c:\\users\\hyunyoun\\appdata\\roaming\\python\\python312\\site-packages (from rich>=12.0.0->twine->justpy) (3.0.0)\n",
      "Requirement already satisfied: mdurl~=0.1 in c:\\users\\hyunyoun\\appdata\\roaming\\python\\python312\\site-packages (from markdown-it-py>=2.2.0->rich>=12.0.0->twine->justpy) (0.1.2)\n",
      "Requirement already satisfied: more-itertools in c:\\users\\hyunyoun\\appdata\\roaming\\python\\python312\\site-packages (from jaraco.classes->keyring>=15.1->twine->justpy) (10.3.0)\n",
      "Using cached justpy-0.14.0-py3-none-any.whl (5.0 MB)\n",
      "Installing collected packages: justpy\n",
      "Successfully installed justpy-0.14.0\n",
      "Note: you may need to restart the kernel to use updated packages.\n"
     ]
    },
    {
     "name": "stderr",
     "output_type": "stream",
     "text": [
      "WARNING: Ignoring invalid distribution ~ (c:\\Python312\\Lib\\site-packages)\n",
      "WARNING: Ignoring invalid distribution ~ebsockets (c:\\Python312\\Lib\\site-packages)\n",
      "WARNING: Ignoring invalid distribution ~equests (c:\\Python312\\Lib\\site-packages)\n",
      "WARNING: Ignoring invalid distribution ~hardet (c:\\Python312\\Lib\\site-packages)\n",
      "WARNING: Ignoring invalid distribution ~ip (c:\\Python312\\Lib\\site-packages)\n",
      "WARNING: Ignoring invalid distribution ~ttpcore (c:\\Python312\\Lib\\site-packages)\n",
      "WARNING: Ignoring invalid distribution ~ (c:\\Python312\\Lib\\site-packages)\n",
      "WARNING: Ignoring invalid distribution ~ebsockets (c:\\Python312\\Lib\\site-packages)\n",
      "WARNING: Ignoring invalid distribution ~equests (c:\\Python312\\Lib\\site-packages)\n",
      "WARNING: Ignoring invalid distribution ~hardet (c:\\Python312\\Lib\\site-packages)\n",
      "WARNING: Ignoring invalid distribution ~ip (c:\\Python312\\Lib\\site-packages)\n",
      "WARNING: Ignoring invalid distribution ~ttpcore (c:\\Python312\\Lib\\site-packages)\n"
     ]
    }
   ],
   "source": [
    "%pip install justpy --user"
   ]
  },
  {
   "cell_type": "markdown",
   "metadata": {},
   "source": [
    "* NiceGUI: JustPy 기반 웹 프레임워크"
   ]
  },
  {
   "cell_type": "code",
   "execution_count": 1,
   "metadata": {},
   "outputs": [
    {
     "name": "stdout",
     "output_type": "stream",
     "text": [
      "Requirement already satisfied: nicegui in c:\\users\\hyunyoun\\appdata\\roaming\\python\\python312\\site-packages (1.4.34)\n",
      "Requirement already satisfied: Pygments<3.0.0,>=2.15.1 in c:\\python312\\lib\\site-packages (from nicegui) (2.18.0)\n",
      "Requirement already satisfied: aiofiles>=23.1.0 in c:\\users\\hyunyoun\\appdata\\roaming\\python\\python312\\site-packages (from nicegui) (24.1.0)\n",
      "Requirement already satisfied: aiohttp>=3.9.2 in c:\\python312\\lib\\site-packages (from nicegui) (3.9.5)\n",
      "Requirement already satisfied: certifi>=2024.07.04 in c:\\users\\hyunyoun\\appdata\\roaming\\python\\python312\\site-packages (from nicegui) (2024.7.4)\n",
      "Requirement already satisfied: docutils<0.20,>=0.19 in c:\\users\\hyunyoun\\appdata\\roaming\\python\\python312\\site-packages (from nicegui) (0.19)\n",
      "Requirement already satisfied: fastapi<0.110.0,>=0.109.1 in c:\\users\\hyunyoun\\appdata\\roaming\\python\\python312\\site-packages (from nicegui) (0.109.2)\n",
      "Requirement already satisfied: httpx>=0.24.0 in c:\\python312\\lib\\site-packages (from nicegui) (0.27.0)\n",
      "Requirement already satisfied: ifaddr>=0.2.0 in c:\\python312\\lib\\site-packages (from nicegui) (0.2.0)\n",
      "Requirement already satisfied: itsdangerous<3.0.0,>=2.1.2 in c:\\users\\hyunyoun\\appdata\\roaming\\python\\python312\\site-packages (from nicegui) (2.2.0)\n",
      "Requirement already satisfied: jinja2<4.0.0,>=3.1.4 in c:\\python312\\lib\\site-packages (from nicegui) (3.1.4)\n",
      "Requirement already satisfied: markdown2!=2.4.11,>=2.4.7 in c:\\users\\hyunyoun\\appdata\\roaming\\python\\python312\\site-packages (from nicegui) (2.5.0)\n",
      "Requirement already satisfied: orjson>=3.9.15 in c:\\users\\hyunyoun\\appdata\\roaming\\python\\python312\\site-packages (from nicegui) (3.10.6)\n",
      "Requirement already satisfied: python-multipart>=0.0.7 in c:\\python312\\lib\\site-packages (from nicegui) (0.0.9)\n",
      "Requirement already satisfied: python-socketio>=5.10.0 in c:\\python312\\lib\\site-packages (from python-socketio[asyncio-client]>=5.10.0->nicegui) (5.11.3)\n",
      "Requirement already satisfied: requests>=2.32.0 in c:\\python312\\lib\\site-packages (from nicegui) (2.32.3)\n",
      "Requirement already satisfied: typing-extensions>=4.0.0 in c:\\python312\\lib\\site-packages (from nicegui) (4.12.2)\n",
      "Requirement already satisfied: urllib3!=2.0.0,!=2.0.1,!=2.0.2,!=2.0.3,!=2.0.4,!=2.0.5,!=2.0.6,!=2.0.7,!=2.1.0,!=2.2.0,!=2.2.1,>=1.26.18 in c:\\python312\\lib\\site-packages (from nicegui) (1.26.19)\n",
      "Requirement already satisfied: uvicorn>=0.22.0 in c:\\users\\hyunyoun\\appdata\\roaming\\python\\python312\\site-packages (from uvicorn[standard]>=0.22.0->nicegui) (0.24.0.post1)\n",
      "Requirement already satisfied: vbuild>=0.8.2 in c:\\python312\\lib\\site-packages (from nicegui) (0.8.2)\n",
      "Requirement already satisfied: watchfiles>=0.18.1 in c:\\users\\hyunyoun\\appdata\\roaming\\python\\python312\\site-packages (from nicegui) (0.22.0)\n",
      "Requirement already satisfied: aiosignal>=1.1.2 in c:\\python312\\lib\\site-packages (from aiohttp>=3.9.2->nicegui) (1.3.1)\n",
      "Requirement already satisfied: attrs>=17.3.0 in c:\\python312\\lib\\site-packages (from aiohttp>=3.9.2->nicegui) (23.2.0)\n",
      "Requirement already satisfied: frozenlist>=1.1.1 in c:\\python312\\lib\\site-packages (from aiohttp>=3.9.2->nicegui) (1.4.1)\n",
      "Requirement already satisfied: multidict<7.0,>=4.5 in c:\\python312\\lib\\site-packages (from aiohttp>=3.9.2->nicegui) (6.0.5)\n",
      "Requirement already satisfied: yarl<2.0,>=1.0 in c:\\python312\\lib\\site-packages (from aiohttp>=3.9.2->nicegui) (1.9.4)\n",
      "Requirement already satisfied: pydantic!=1.8,!=1.8.1,!=2.0.0,!=2.0.1,!=2.1.0,<3.0.0,>=1.7.4 in c:\\python312\\lib\\site-packages (from fastapi<0.110.0,>=0.109.1->nicegui) (2.8.2)\n",
      "Requirement already satisfied: starlette<0.37.0,>=0.36.3 in c:\\users\\hyunyoun\\appdata\\roaming\\python\\python312\\site-packages (from fastapi<0.110.0,>=0.109.1->nicegui) (0.36.3)\n",
      "Requirement already satisfied: anyio in c:\\python312\\lib\\site-packages (from httpx>=0.24.0->nicegui) (4.4.0)\n",
      "Requirement already satisfied: httpcore==1.* in c:\\users\\hyunyoun\\appdata\\roaming\\python\\python312\\site-packages (from httpx>=0.24.0->nicegui) (1.0.5)\n",
      "Requirement already satisfied: idna in c:\\python312\\lib\\site-packages (from httpx>=0.24.0->nicegui) (2.10)\n",
      "Requirement already satisfied: sniffio in c:\\python312\\lib\\site-packages (from httpx>=0.24.0->nicegui) (1.3.1)\n",
      "Requirement already satisfied: h11<0.15,>=0.13 in c:\\python312\\lib\\site-packages (from httpcore==1.*->httpx>=0.24.0->nicegui) (0.14.0)\n",
      "Requirement already satisfied: MarkupSafe>=2.0 in c:\\python312\\lib\\site-packages (from jinja2<4.0.0,>=3.1.4->nicegui) (2.1.5)\n",
      "Requirement already satisfied: bidict>=0.21.0 in c:\\python312\\lib\\site-packages (from python-socketio>=5.10.0->python-socketio[asyncio-client]>=5.10.0->nicegui) (0.23.1)\n",
      "Requirement already satisfied: python-engineio>=4.8.0 in c:\\python312\\lib\\site-packages (from python-socketio>=5.10.0->python-socketio[asyncio-client]>=5.10.0->nicegui) (4.9.1)\n",
      "Requirement already satisfied: charset-normalizer<4,>=2 in c:\\python312\\lib\\site-packages (from requests>=2.32.0->nicegui) (3.3.2)\n",
      "Requirement already satisfied: click>=7.0 in c:\\python312\\lib\\site-packages (from uvicorn>=0.22.0->uvicorn[standard]>=0.22.0->nicegui) (8.1.7)\n",
      "Requirement already satisfied: colorama>=0.4 in c:\\python312\\lib\\site-packages (from uvicorn[standard]>=0.22.0->nicegui) (0.4.6)\n",
      "Requirement already satisfied: httptools>=0.5.0 in c:\\users\\hyunyoun\\appdata\\roaming\\python\\python312\\site-packages (from uvicorn[standard]>=0.22.0->nicegui) (0.6.1)\n",
      "Requirement already satisfied: python-dotenv>=0.13 in c:\\python312\\lib\\site-packages (from uvicorn[standard]>=0.22.0->nicegui) (1.0.1)\n",
      "Requirement already satisfied: pyyaml>=5.1 in c:\\python312\\lib\\site-packages (from uvicorn[standard]>=0.22.0->nicegui) (6.0.1)\n",
      "Requirement already satisfied: websockets>=10.4 in c:\\users\\hyunyoun\\appdata\\roaming\\python\\python312\\site-packages (from uvicorn[standard]>=0.22.0->nicegui) (12.0)\n",
      "Requirement already satisfied: pscript<0.8.0,>=0.7.0 in c:\\python312\\lib\\site-packages (from vbuild>=0.8.2->nicegui) (0.7.7)\n",
      "Requirement already satisfied: annotated-types>=0.4.0 in c:\\python312\\lib\\site-packages (from pydantic!=1.8,!=1.8.1,!=2.0.0,!=2.0.1,!=2.1.0,<3.0.0,>=1.7.4->fastapi<0.110.0,>=0.109.1->nicegui) (0.7.0)\n",
      "Requirement already satisfied: pydantic-core==2.20.1 in c:\\python312\\lib\\site-packages (from pydantic!=1.8,!=1.8.1,!=2.0.0,!=2.0.1,!=2.1.0,<3.0.0,>=1.7.4->fastapi<0.110.0,>=0.109.1->nicegui) (2.20.1)\n",
      "Requirement already satisfied: simple-websocket>=0.10.0 in c:\\python312\\lib\\site-packages (from python-engineio>=4.8.0->python-socketio>=5.10.0->python-socketio[asyncio-client]>=5.10.0->nicegui) (1.0.0)\n",
      "Requirement already satisfied: wsproto in c:\\python312\\lib\\site-packages (from simple-websocket>=0.10.0->python-engineio>=4.8.0->python-socketio>=5.10.0->python-socketio[asyncio-client]>=5.10.0->nicegui) (1.2.0)\n",
      "Note: you may need to restart the kernel to use updated packages.\n"
     ]
    },
    {
     "name": "stderr",
     "output_type": "stream",
     "text": [
      "WARNING: Ignoring invalid distribution ~ (c:\\Python312\\Lib\\site-packages)\n",
      "WARNING: Ignoring invalid distribution ~ebsockets (c:\\Python312\\Lib\\site-packages)\n",
      "WARNING: Ignoring invalid distribution ~equests (c:\\Python312\\Lib\\site-packages)\n",
      "WARNING: Ignoring invalid distribution ~hardet (c:\\Python312\\Lib\\site-packages)\n",
      "WARNING: Ignoring invalid distribution ~ip (c:\\Python312\\Lib\\site-packages)\n",
      "WARNING: Ignoring invalid distribution ~ttpcore (c:\\Python312\\Lib\\site-packages)\n",
      "WARNING: Ignoring invalid distribution ~ (c:\\Python312\\Lib\\site-packages)\n",
      "WARNING: Ignoring invalid distribution ~ebsockets (c:\\Python312\\Lib\\site-packages)\n",
      "WARNING: Ignoring invalid distribution ~equests (c:\\Python312\\Lib\\site-packages)\n",
      "WARNING: Ignoring invalid distribution ~hardet (c:\\Python312\\Lib\\site-packages)\n",
      "WARNING: Ignoring invalid distribution ~ip (c:\\Python312\\Lib\\site-packages)\n",
      "WARNING: Ignoring invalid distribution ~ttpcore (c:\\Python312\\Lib\\site-packages)\n"
     ]
    }
   ],
   "source": [
    "%pip install nicegui --user"
   ]
  }
 ],
 "metadata": {
  "kernelspec": {
   "display_name": "Python 3",
   "language": "python",
   "name": "python3"
  },
  "language_info": {
   "codemirror_mode": {
    "name": "ipython",
    "version": 3
   },
   "file_extension": ".py",
   "mimetype": "text/x-python",
   "name": "python",
   "nbconvert_exporter": "python",
   "pygments_lexer": "ipython3",
   "version": "3.12.4"
  }
 },
 "nbformat": 4,
 "nbformat_minor": 2
}
