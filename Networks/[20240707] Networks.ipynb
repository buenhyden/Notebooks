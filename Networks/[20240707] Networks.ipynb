{
 "cells": [
  {
   "cell_type": "markdown",
   "metadata": {},
   "source": [
    "# Networks"
   ]
  },
  {
   "cell_type": "markdown",
   "metadata": {},
   "source": [
    "## 네트워킹 및 웹 스크래핑"
   ]
  },
  {
   "cell_type": "markdown",
   "metadata": {},
   "source": [
    "* BeautifulSoup: 웹 데이터 추출을 위한 도구"
   ]
  },
  {
   "cell_type": "code",
   "execution_count": 1,
   "metadata": {},
   "outputs": [
    {
     "name": "stdout",
     "output_type": "stream",
     "text": [
      "Requirement already satisfied: beautifulsoup4 in c:\\python312\\lib\\site-packages (4.12.3)Note: you may need to restart the kernel to use updated packages.\n",
      "\n",
      "Requirement already satisfied: soupsieve>1.2 in c:\\python312\\lib\\site-packages (from beautifulsoup4) (2.5)\n"
     ]
    }
   ],
   "source": [
    "%pip install beautifulsoup4"
   ]
  },
  {
   "cell_type": "markdown",
   "metadata": {},
   "source": [
    "* MechanicalSoup: 자동화 + 웹 스크레이핑 라이브러리"
   ]
  },
  {
   "cell_type": "code",
   "execution_count": 7,
   "metadata": {},
   "outputs": [
    {
     "name": "stdout",
     "output_type": "stream",
     "text": [
      "Collecting MechanicalSoup\n",
      "  Downloading MechanicalSoup-1.3.0-py3-none-any.whl.metadata (6.0 kB)\n",
      "Requirement already satisfied: requests>=2.22.0 in c:\\python312\\lib\\site-packages (from MechanicalSoup) (2.32.3)\n",
      "Requirement already satisfied: beautifulsoup4>=4.7 in c:\\python312\\lib\\site-packages (from MechanicalSoup) (4.12.3)\n",
      "Requirement already satisfied: lxml in c:\\python312\\lib\\site-packages (from MechanicalSoup) (5.2.2)\n",
      "Requirement already satisfied: soupsieve>1.2 in c:\\python312\\lib\\site-packages (from beautifulsoup4>=4.7->MechanicalSoup) (2.5)\n",
      "Requirement already satisfied: charset-normalizer<4,>=2 in c:\\python312\\lib\\site-packages (from requests>=2.22.0->MechanicalSoup) (3.3.2)\n",
      "Requirement already satisfied: idna<4,>=2.5 in c:\\python312\\lib\\site-packages (from requests>=2.22.0->MechanicalSoup) (3.7)\n",
      "Requirement already satisfied: urllib3<3,>=1.21.1 in c:\\python312\\lib\\site-packages (from requests>=2.22.0->MechanicalSoup) (2.2.2)\n",
      "Requirement already satisfied: certifi>=2017.4.17 in c:\\python312\\lib\\site-packages (from requests>=2.22.0->MechanicalSoup) (2024.6.2)\n",
      "Downloading MechanicalSoup-1.3.0-py3-none-any.whl (19 kB)\n",
      "Installing collected packages: MechanicalSoup\n",
      "Successfully installed MechanicalSoup-1.3.0\n",
      "Note: you may need to restart the kernel to use updated packages.\n"
     ]
    }
   ],
   "source": [
    "%pip install MechanicalSoup"
   ]
  },
  {
   "cell_type": "markdown",
   "metadata": {},
   "source": [
    "* PyQuery: HTML 문서 파싱 및 조작 라이브러리"
   ]
  },
  {
   "cell_type": "code",
   "execution_count": 2,
   "metadata": {},
   "outputs": [
    {
     "name": "stdout",
     "output_type": "stream",
     "text": [
      "Collecting pyquery\n",
      "  Downloading pyquery-2.0.0-py3-none-any.whl.metadata (9.0 kB)\n",
      "Collecting lxml>=2.1 (from pyquery)\n",
      "  Downloading lxml-5.2.2-cp312-cp312-win_amd64.whl.metadata (3.5 kB)\n",
      "Collecting cssselect>=1.2.0 (from pyquery)\n",
      "  Downloading cssselect-1.2.0-py2.py3-none-any.whl.metadata (2.2 kB)\n",
      "Downloading pyquery-2.0.0-py3-none-any.whl (22 kB)\n",
      "Downloading cssselect-1.2.0-py2.py3-none-any.whl (18 kB)\n",
      "Downloading lxml-5.2.2-cp312-cp312-win_amd64.whl (3.8 MB)\n",
      "   ---------------------------------------- 0.0/3.8 MB ? eta -:--:--\n",
      "   ---- ----------------------------------- 0.4/3.8 MB 13.9 MB/s eta 0:00:01\n",
      "   ---------- ----------------------------- 1.0/3.8 MB 12.7 MB/s eta 0:00:01\n",
      "   ---------------- ----------------------- 1.5/3.8 MB 12.3 MB/s eta 0:00:01\n",
      "   --------------------- ------------------ 2.1/3.8 MB 12.1 MB/s eta 0:00:01\n",
      "   --------------------------- ------------ 2.6/3.8 MB 11.8 MB/s eta 0:00:01\n",
      "   -------------------------------- ------- 3.1/3.8 MB 11.7 MB/s eta 0:00:01\n",
      "   -------------------------------------- - 3.7/3.8 MB 11.8 MB/s eta 0:00:01\n",
      "   ---------------------------------------  3.8/3.8 MB 11.6 MB/s eta 0:00:01\n",
      "   ---------------------------------------- 3.8/3.8 MB 10.2 MB/s eta 0:00:00\n",
      "Installing collected packages: lxml, cssselect, pyquery\n",
      "Successfully installed cssselect-1.2.0 lxml-5.2.2 pyquery-2.0.0\n",
      "Note: you may need to restart the kernel to use updated packages.\n"
     ]
    }
   ],
   "source": [
    "%pip install pyquery"
   ]
  },
  {
   "cell_type": "markdown",
   "metadata": {},
   "source": [
    "* PyZMQ: ZeroMQ 라이브러리의 Python 바인딩"
   ]
  },
  {
   "cell_type": "code",
   "execution_count": 4,
   "metadata": {},
   "outputs": [
    {
     "name": "stdout",
     "output_type": "stream",
     "text": [
      "Requirement already satisfied: pyzmq in c:\\python312\\lib\\site-packages (26.0.3)Note: you may need to restart the kernel to use updated packages.\n",
      "\n"
     ]
    }
   ],
   "source": [
    "%pip install pyzmq"
   ]
  },
  {
   "cell_type": "markdown",
   "metadata": {},
   "source": [
    "* Scapy: 대화형 패킷 조작 프로그램"
   ]
  },
  {
   "cell_type": "code",
   "execution_count": 1,
   "metadata": {},
   "outputs": [
    {
     "name": "stdout",
     "output_type": "stream",
     "text": [
      "Collecting scapy\n",
      "  Downloading scapy-2.5.0.tar.gz (1.3 MB)\n",
      "     ---------------------------------------- 0.0/1.3 MB ? eta -:--:--\n",
      "     ---------------- ----------------------- 0.5/1.3 MB 10.9 MB/s eta 0:00:01\n",
      "     ---------------------------------- ----- 1.1/1.3 MB 11.8 MB/s eta 0:00:01\n",
      "     ---------------------------------------- 1.3/1.3 MB 10.2 MB/s eta 0:00:00\n",
      "  Installing build dependencies: started\n",
      "  Installing build dependencies: finished with status 'done'\n",
      "  Getting requirements to build wheel: started\n",
      "  Getting requirements to build wheel: finished with status 'done'\n",
      "  Preparing metadata (pyproject.toml): started\n",
      "  Preparing metadata (pyproject.toml): finished with status 'done'\n",
      "Building wheels for collected packages: scapy\n",
      "  Building wheel for scapy (pyproject.toml): started\n",
      "  Building wheel for scapy (pyproject.toml): finished with status 'done'\n",
      "  Created wheel for scapy: filename=scapy-2.5.0-py2.py3-none-any.whl size=1444342 sha256=5f54973ef671207e70092d6d12b8b7bbc5083fe32835d792de58adc0a1e3bba4\n",
      "  Stored in directory: c:\\users\\hyunyoun\\appdata\\local\\pip\\cache\\wheels\\8a\\5e\\7c\\6f92df559dadf49d0e31cecdd5b104fc8c38a7c67fde16b029\n",
      "Successfully built scapy\n",
      "Installing collected packages: scapy\n",
      "Note: you may need to restart the kernel to use updated packages.\n"
     ]
    },
    {
     "name": "stderr",
     "output_type": "stream",
     "text": [
      "ERROR: Could not install packages due to an OSError: [Errno 13] Permission denied: 'c:\\\\Python312\\\\share\\\\man\\\\man1\\\\scapy.1'\n",
      "Consider using the `--user` option or check the permissions.\n",
      "\n"
     ]
    }
   ],
   "source": [
    "%pip install scapy"
   ]
  },
  {
   "cell_type": "markdown",
   "metadata": {},
   "source": [
    "* Scrapy: 강력한 웹 크롤링 및 스크래핑 프레임워크"
   ]
  },
  {
   "cell_type": "code",
   "execution_count": 2,
   "metadata": {},
   "outputs": [
    {
     "name": "stdout",
     "output_type": "stream",
     "text": [
      "Collecting scrapy\n",
      "  Downloading Scrapy-2.11.2-py2.py3-none-any.whl.metadata (5.3 kB)\n",
      "Collecting Twisted>=18.9.0 (from scrapy)\n",
      "  Downloading twisted-24.3.0-py3-none-any.whl.metadata (9.5 kB)\n",
      "Requirement already satisfied: cryptography>=36.0.0 in c:\\python312\\lib\\site-packages (from scrapy) (42.0.8)\n",
      "Requirement already satisfied: cssselect>=0.9.1 in c:\\python312\\lib\\site-packages (from scrapy) (1.2.0)\n",
      "Collecting itemloaders>=1.0.1 (from scrapy)\n",
      "  Downloading itemloaders-1.3.1-py3-none-any.whl.metadata (3.9 kB)\n",
      "Collecting parsel>=1.5.0 (from scrapy)\n",
      "  Downloading parsel-1.9.1-py2.py3-none-any.whl.metadata (11 kB)\n",
      "Collecting pyOpenSSL>=21.0.0 (from scrapy)\n",
      "  Downloading pyOpenSSL-24.1.0-py3-none-any.whl.metadata (12 kB)\n",
      "Collecting queuelib>=1.4.2 (from scrapy)\n",
      "  Downloading queuelib-1.7.0-py2.py3-none-any.whl.metadata (5.7 kB)\n",
      "Collecting service-identity>=18.1.0 (from scrapy)\n",
      "  Downloading service_identity-24.1.0-py3-none-any.whl.metadata (4.8 kB)\n",
      "Collecting w3lib>=1.17.0 (from scrapy)\n",
      "  Downloading w3lib-2.2.1-py3-none-any.whl.metadata (2.1 kB)\n",
      "Requirement already satisfied: zope.interface>=5.1.0 in c:\\python312\\lib\\site-packages (from scrapy) (6.4.post2)\n",
      "Collecting protego>=0.1.15 (from scrapy)\n",
      "  Downloading Protego-0.3.1-py2.py3-none-any.whl.metadata (5.9 kB)\n",
      "Collecting itemadapter>=0.1.0 (from scrapy)\n",
      "  Downloading itemadapter-0.9.0-py3-none-any.whl.metadata (17 kB)\n",
      "Requirement already satisfied: setuptools in c:\\python312\\lib\\site-packages (from scrapy) (70.1.1)\n",
      "Requirement already satisfied: packaging in c:\\python312\\lib\\site-packages (from scrapy) (24.1)\n",
      "Collecting tldextract (from scrapy)\n",
      "  Downloading tldextract-5.1.2-py3-none-any.whl.metadata (11 kB)\n",
      "Requirement already satisfied: lxml>=4.4.1 in c:\\python312\\lib\\site-packages (from scrapy) (5.2.2)\n",
      "Requirement already satisfied: defusedxml>=0.7.1 in c:\\python312\\lib\\site-packages (from scrapy) (0.7.1)\n",
      "Collecting PyDispatcher>=2.0.5 (from scrapy)\n",
      "  Downloading PyDispatcher-2.0.7-py3-none-any.whl.metadata (2.4 kB)\n",
      "Requirement already satisfied: cffi>=1.12 in c:\\python312\\lib\\site-packages (from cryptography>=36.0.0->scrapy) (1.16.0)\n",
      "Requirement already satisfied: jmespath>=0.9.5 in c:\\python312\\lib\\site-packages (from itemloaders>=1.0.1->scrapy) (1.0.1)\n",
      "Requirement already satisfied: attrs>=19.1.0 in c:\\python312\\lib\\site-packages (from service-identity>=18.1.0->scrapy) (23.2.0)\n",
      "Requirement already satisfied: pyasn1 in c:\\python312\\lib\\site-packages (from service-identity>=18.1.0->scrapy) (0.6.0)\n",
      "Requirement already satisfied: pyasn1-modules in c:\\python312\\lib\\site-packages (from service-identity>=18.1.0->scrapy) (0.4.0)\n",
      "Collecting automat>=0.8.0 (from Twisted>=18.9.0->scrapy)\n",
      "  Downloading Automat-22.10.0-py2.py3-none-any.whl.metadata (1.0 kB)\n",
      "Collecting constantly>=15.1 (from Twisted>=18.9.0->scrapy)\n",
      "  Downloading constantly-23.10.4-py3-none-any.whl.metadata (1.8 kB)\n",
      "Collecting hyperlink>=17.1.1 (from Twisted>=18.9.0->scrapy)\n",
      "  Downloading hyperlink-21.0.0-py2.py3-none-any.whl.metadata (1.5 kB)\n",
      "Collecting incremental>=22.10.0 (from Twisted>=18.9.0->scrapy)\n",
      "  Downloading incremental-22.10.0-py2.py3-none-any.whl.metadata (6.0 kB)\n",
      "Collecting twisted-iocpsupport<2,>=1.0.2 (from Twisted>=18.9.0->scrapy)\n",
      "  Downloading twisted_iocpsupport-1.0.4-cp312-cp312-win_amd64.whl.metadata (2.2 kB)\n",
      "Requirement already satisfied: typing-extensions>=4.2.0 in c:\\python312\\lib\\site-packages (from Twisted>=18.9.0->scrapy) (4.12.2)\n",
      "Requirement already satisfied: idna in c:\\python312\\lib\\site-packages (from tldextract->scrapy) (3.7)\n",
      "Requirement already satisfied: requests>=2.1.0 in c:\\python312\\lib\\site-packages (from tldextract->scrapy) (2.32.3)\n",
      "Collecting requests-file>=1.4 (from tldextract->scrapy)\n",
      "  Downloading requests_file-2.1.0-py2.py3-none-any.whl.metadata (1.7 kB)\n",
      "Requirement already satisfied: filelock>=3.0.8 in c:\\python312\\lib\\site-packages (from tldextract->scrapy) (3.15.4)\n",
      "Requirement already satisfied: six in c:\\python312\\lib\\site-packages (from automat>=0.8.0->Twisted>=18.9.0->scrapy) (1.16.0)\n",
      "Requirement already satisfied: pycparser in c:\\python312\\lib\\site-packages (from cffi>=1.12->cryptography>=36.0.0->scrapy) (2.22)\n",
      "Requirement already satisfied: charset-normalizer<4,>=2 in c:\\python312\\lib\\site-packages (from requests>=2.1.0->tldextract->scrapy) (3.3.2)\n",
      "Requirement already satisfied: urllib3<3,>=1.21.1 in c:\\python312\\lib\\site-packages (from requests>=2.1.0->tldextract->scrapy) (2.2.2)\n",
      "Requirement already satisfied: certifi>=2017.4.17 in c:\\python312\\lib\\site-packages (from requests>=2.1.0->tldextract->scrapy) (2024.6.2)\n",
      "Downloading Scrapy-2.11.2-py2.py3-none-any.whl (290 kB)\n",
      "   ---------------------------------------- 0.0/290.1 kB ? eta -:--:--\n",
      "   -------------------------------------- - 276.5/290.1 kB 8.6 MB/s eta 0:00:01\n",
      "   ---------------------------------------- 290.1/290.1 kB 6.0 MB/s eta 0:00:00\n",
      "Downloading itemadapter-0.9.0-py3-none-any.whl (11 kB)\n",
      "Downloading itemloaders-1.3.1-py3-none-any.whl (12 kB)\n",
      "Downloading parsel-1.9.1-py2.py3-none-any.whl (17 kB)\n",
      "Downloading Protego-0.3.1-py2.py3-none-any.whl (8.5 kB)\n",
      "Downloading PyDispatcher-2.0.7-py3-none-any.whl (12 kB)\n",
      "Downloading pyOpenSSL-24.1.0-py3-none-any.whl (56 kB)\n",
      "   ---------------------------------------- 0.0/56.9 kB ? eta -:--:--\n",
      "   ---------------------------------------- 56.9/56.9 kB 3.1 MB/s eta 0:00:00\n",
      "Downloading queuelib-1.7.0-py2.py3-none-any.whl (13 kB)\n",
      "Downloading service_identity-24.1.0-py3-none-any.whl (12 kB)\n",
      "Downloading twisted-24.3.0-py3-none-any.whl (3.2 MB)\n",
      "   ---------------------------------------- 0.0/3.2 MB ? eta -:--:--\n",
      "   ----- ---------------------------------- 0.5/3.2 MB 14.5 MB/s eta 0:00:01\n",
      "   ------------ --------------------------- 1.0/3.2 MB 12.6 MB/s eta 0:00:01\n",
      "   ------------------- -------------------- 1.6/3.2 MB 12.5 MB/s eta 0:00:01\n",
      "   -------------------------- ------------- 2.1/3.2 MB 12.3 MB/s eta 0:00:01\n",
      "   --------------------------------- ------ 2.6/3.2 MB 12.0 MB/s eta 0:00:01\n",
      "   -------------------------------------- - 3.1/3.2 MB 10.9 MB/s eta 0:00:01\n",
      "   ---------------------------------------- 3.2/3.2 MB 10.6 MB/s eta 0:00:00\n",
      "Downloading w3lib-2.2.1-py3-none-any.whl (21 kB)\n",
      "Downloading tldextract-5.1.2-py3-none-any.whl (97 kB)\n",
      "   ---------------------------------------- 0.0/97.6 kB ? eta -:--:--\n",
      "   ---------------------------------------- 97.6/97.6 kB 5.5 MB/s eta 0:00:00\n",
      "Downloading Automat-22.10.0-py2.py3-none-any.whl (26 kB)\n",
      "Downloading constantly-23.10.4-py3-none-any.whl (13 kB)\n",
      "Downloading hyperlink-21.0.0-py2.py3-none-any.whl (74 kB)\n",
      "   ---------------------------------------- 0.0/74.6 kB ? eta -:--:--\n",
      "   ---------------------------------------- 74.6/74.6 kB ? eta 0:00:00\n",
      "Downloading incremental-22.10.0-py2.py3-none-any.whl (16 kB)\n",
      "Downloading requests_file-2.1.0-py2.py3-none-any.whl (4.2 kB)\n",
      "Downloading twisted_iocpsupport-1.0.4-cp312-cp312-win_amd64.whl (47 kB)\n",
      "   ---------------------------------------- 0.0/47.6 kB ? eta -:--:--\n",
      "   ---------------------------------------- 47.6/47.6 kB 2.3 MB/s eta 0:00:00\n",
      "Installing collected packages: twisted-iocpsupport, PyDispatcher, incremental, w3lib, queuelib, protego, itemadapter, hyperlink, constantly, automat, Twisted, requests-file, parsel, tldextract, service-identity, pyOpenSSL, itemloaders, scrapy\n",
      "Note: you may need to restart the kernel to use updated packages.\n"
     ]
    },
    {
     "name": "stderr",
     "output_type": "stream",
     "text": [
      "  WARNING: Failed to write executable - trying to use .deleteme logic\n",
      "ERROR: Could not install packages due to an OSError: [WinError 2] 지정된 파일을 찾을 수 없습니다: 'c:\\\\Python312\\\\Scripts\\\\automat-visualize.exe' -> 'c:\\\\Python312\\\\Scripts\\\\automat-visualize.exe.deleteme'\n",
      "\n"
     ]
    }
   ],
   "source": [
    "%pip install scrapy"
   ]
  },
  {
   "cell_type": "markdown",
   "metadata": {},
   "source": [
    "* impacket: 네트워크 프로토콜을 위한 컬렉션"
   ]
  },
  {
   "cell_type": "code",
   "execution_count": 3,
   "metadata": {},
   "outputs": [
    {
     "name": "stdout",
     "output_type": "stream",
     "text": [
      "Note: you may need to restart the kernel to use updated packages.Collecting impacket\n",
      "  Downloading impacket-0.11.0.tar.gz (1.5 MB)\n",
      "     ---------------------------------------- 0.0/1.5 MB ? eta -:--:--\n",
      "     -------------- ------------------------- 0.5/1.5 MB 11.1 MB/s eta 0:00:01\n",
      "     ---------------------------- ----------- 1.1/1.5 MB 11.3 MB/s eta 0:00:01\n",
      "     ---------------------------------------  1.5/1.5 MB 11.9 MB/s eta 0:00:01\n",
      "     ---------------------------------------- 1.5/1.5 MB 10.6 MB/s eta 0:00:00\n",
      "  Installing build dependencies: started\n",
      "  Installing build dependencies: finished with status 'done'\n",
      "  Getting requirements to build wheel: started\n",
      "  Getting requirements to build wheel: finished with status 'done'\n",
      "  Preparing metadata (pyproject.toml): started\n",
      "  Preparing metadata (pyproject.toml): finished with status 'done'\n",
      "Requirement already satisfied: pyasn1>=0.2.3 in c:\\python312\\lib\\site-packages (from impacket) (0.6.0)\n",
      "Collecting pycryptodomex (from impacket)\n",
      "  Downloading pycryptodomex-3.20.0-cp35-abi3-win_amd64.whl.metadata (3.4 kB)\n",
      "Collecting pyOpenSSL>=21.0.0 (from impacket)\n",
      "  Using cached pyOpenSSL-24.1.0-py3-none-any.whl.metadata (12 kB)\n",
      "Requirement already satisfied: six in c:\\python312\\lib\\site-packages (from impacket) (1.16.0)\n",
      "Collecting ldap3!=2.5.0,!=2.5.2,!=2.6,>=2.5 (from impacket)\n",
      "  Downloading ldap3-2.9.1-py2.py3-none-any.whl.metadata (5.4 kB)\n",
      "Collecting ldapdomaindump>=0.9.0 (from impacket)\n",
      "  Downloading ldapdomaindump-0.9.4-py3-none-any.whl.metadata (359 bytes)\n",
      "Collecting flask>=1.0 (from impacket)\n",
      "  Downloading flask-3.0.3-py3-none-any.whl.metadata (3.2 kB)\n",
      "Collecting future (from impacket)\n",
      "  Downloading future-1.0.0-py3-none-any.whl.metadata (4.0 kB)\n",
      "Requirement already satisfied: charset-normalizer in c:\\python312\\lib\\site-packages (from impacket) (3.3.2)\n",
      "Collecting dsinternals (from impacket)\n",
      "  Downloading dsinternals-1.2.4.tar.gz (174 kB)\n",
      "     ---------------------------------------- 0.0/174.2 kB ? eta -:--:--\n",
      "     ------------------------------------- 174.2/174.2 kB 10.9 MB/s eta 0:00:00\n",
      "  Installing build dependencies: started\n",
      "  Installing build dependencies: finished with status 'done'\n",
      "  Getting requirements to build wheel: started\n",
      "  Getting requirements to build wheel: finished with status 'done'\n",
      "  Preparing metadata (pyproject.toml): started\n",
      "  Preparing metadata (pyproject.toml): finished with status 'done'\n",
      "Collecting Werkzeug>=3.0.0 (from flask>=1.0->impacket)\n",
      "  Downloading werkzeug-3.0.3-py3-none-any.whl.metadata (3.7 kB)\n",
      "Requirement already satisfied: Jinja2>=3.1.2 in c:\\python312\\lib\\site-packages (from flask>=1.0->impacket) (3.1.4)\n",
      "Collecting itsdangerous>=2.1.2 (from flask>=1.0->impacket)\n",
      "  Downloading itsdangerous-2.2.0-py3-none-any.whl.metadata (1.9 kB)\n",
      "Requirement already satisfied: click>=8.1.3 in c:\\python312\\lib\\site-packages (from flask>=1.0->impacket) (8.1.7)\n",
      "Collecting blinker>=1.6.2 (from flask>=1.0->impacket)\n",
      "  Downloading blinker-1.8.2-py3-none-any.whl.metadata (1.6 kB)\n",
      "Requirement already satisfied: dnspython in c:\\python312\\lib\\site-packages (from ldapdomaindump>=0.9.0->impacket) (2.6.1)\n",
      "Requirement already satisfied: cryptography<43,>=41.0.5 in c:\\python312\\lib\\site-packages (from pyOpenSSL>=21.0.0->impacket) (42.0.8)\n",
      "Requirement already satisfied: colorama in c:\\python312\\lib\\site-packages (from click>=8.1.3->flask>=1.0->impacket) (0.4.6)\n",
      "Requirement already satisfied: cffi>=1.12 in c:\\python312\\lib\\site-packages (from cryptography<43,>=41.0.5->pyOpenSSL>=21.0.0->impacket) (1.16.0)\n",
      "Requirement already satisfied: MarkupSafe>=2.0 in c:\\python312\\lib\\site-packages (from Jinja2>=3.1.2->flask>=1.0->impacket) (2.1.5)\n",
      "Requirement already satisfied: pycparser in c:\\python312\\lib\\site-packages (from cffi>=1.12->cryptography<43,>=41.0.5->pyOpenSSL>=21.0.0->impacket) (2.22)\n",
      "Downloading flask-3.0.3-py3-none-any.whl (101 kB)\n",
      "   ---------------------------------------- 0.0/101.7 kB ? eta -:--:--\n",
      "   ---------------------------------------- 101.7/101.7 kB 5.7 MB/s eta 0:00:00\n",
      "Downloading ldap3-2.9.1-py2.py3-none-any.whl (432 kB)\n",
      "   ---------------------------------------- 0.0/432.2 kB ? eta -:--:--\n",
      "   --------------------------------------  430.1/432.2 kB 13.5 MB/s eta 0:00:01\n",
      "   ---------------------------------------- 432.2/432.2 kB 9.2 MB/s eta 0:00:00\n",
      "Downloading ldapdomaindump-0.9.4-py3-none-any.whl (18 kB)\n",
      "Using cached pyOpenSSL-24.1.0-py3-none-any.whl (56 kB)\n",
      "Downloading future-1.0.0-py3-none-any.whl (491 kB)\n",
      "   ---------------------------------------- 0.0/491.3 kB ? eta -:--:--\n",
      "   --------------------------------------  481.3/491.3 kB 10.0 MB/s eta 0:00:01\n",
      "   --------------------------------------- 491.3/491.3 kB 10.2 MB/s eta 0:00:00\n",
      "Downloading pycryptodomex-3.20.0-cp35-abi3-win_amd64.whl (1.8 MB)\n",
      "   ---------------------------------------- 0.0/1.8 MB ? eta -:--:--\n",
      "   ------------- -------------------------- 0.6/1.8 MB 12.2 MB/s eta 0:00:01\n",
      "   ------------------------- -------------- 1.1/1.8 MB 12.0 MB/s eta 0:00:01\n",
      "   -------------------------------------- - 1.7/1.8 MB 11.8 MB/s eta 0:00:01\n",
      "   ---------------------------------------- 1.8/1.8 MB 11.2 MB/s eta 0:00:00\n",
      "Downloading blinker-1.8.2-py3-none-any.whl (9.5 kB)\n",
      "Downloading itsdangerous-2.2.0-py3-none-any.whl (16 kB)\n",
      "Downloading werkzeug-3.0.3-py3-none-any.whl (227 kB)\n",
      "   ---------------------------------------- 0.0/227.3 kB ? eta -:--:--\n",
      "   --------------------------------------- 227.3/227.3 kB 13.6 MB/s eta 0:00:00\n",
      "Building wheels for collected packages: impacket, dsinternals\n",
      "  Building wheel for impacket (pyproject.toml): started\n",
      "  Building wheel for impacket (pyproject.toml): finished with status 'error'\n",
      "  Building wheel for dsinternals (pyproject.toml): started\n",
      "  Building wheel for dsinternals (pyproject.toml): finished with status 'done'\n",
      "  Created wheel for dsinternals: filename=dsinternals-1.2.4-py3-none-any.whl size=208330 sha256=1e1088bc7b578da9e46e832b4008614cd05838b2355ca098abdceb883aea5a2d\n",
      "  Stored in directory: c:\\users\\hyunyoun\\appdata\\local\\pip\\cache\\wheels\\03\\55\\a4\\5a698429d511a8e35d5ce4a9d55c0ea11aff182ec9013a3505\n",
      "Successfully built dsinternals\n",
      "Failed to build impacket\n",
      "\n"
     ]
    },
    {
     "name": "stderr",
     "output_type": "stream",
     "text": [
      "  error: subprocess-exited-with-error\n",
      "  \n",
      "  × Building wheel for impacket (pyproject.toml) did not run successfully.\n",
      "  │ exit code: 1\n",
      "  ╰─> [15 lines of output]\n",
      "      running bdist_wheel\n",
      "      running build\n",
      "      running build_py\n",
      "      creating build\n",
      "      creating build\\lib\n",
      "      creating build\\lib\\impacket\n",
      "      copying impacket\\cdp.py -> build\\lib\\impacket\n",
      "      copying impacket\\crypto.py -> build\\lib\\impacket\n",
      "      copying impacket\\dhcp.py -> build\\lib\\impacket\n",
      "      copying impacket\\dns.py -> build\\lib\\impacket\n",
      "      copying impacket\\dot11.py -> build\\lib\\impacket\n",
      "      copying impacket\\Dot11Crypto.py -> build\\lib\\impacket\n",
      "      copying impacket\\Dot11KeyManager.py -> build\\lib\\impacket\n",
      "      copying impacket\\dpapi.py -> build\\lib\\impacket\n",
      "      error: could not open 'impacket\\dpapi.py': Invalid argument\n",
      "      [end of output]\n",
      "  \n",
      "  note: This error originates from a subprocess, and is likely not a problem with pip.\n",
      "  ERROR: Failed building wheel for impacket\n",
      "ERROR: ERROR: Failed to build installable wheels for some pyproject.toml based projects (impacket)\n"
     ]
    }
   ],
   "source": [
    "%pip install impacket"
   ]
  },
  {
   "cell_type": "markdown",
   "metadata": {},
   "source": [
    "## 비동기 라이브러리"
   ]
  },
  {
   "cell_type": "markdown",
   "metadata": {},
   "source": [
    "* Asyncer: 비동기 프로그래밍을 위한 유틸리티"
   ]
  },
  {
   "cell_type": "code",
   "execution_count": 8,
   "metadata": {},
   "outputs": [
    {
     "name": "stdout",
     "output_type": "stream",
     "text": [
      "Collecting asyncer\n",
      "  Downloading asyncer-0.0.7-py3-none-any.whl.metadata (6.6 kB)\n",
      "Requirement already satisfied: anyio<5.0,>=3.4.0 in c:\\python312\\lib\\site-packages (from asyncer) (4.4.0)\n",
      "Requirement already satisfied: idna>=2.8 in c:\\python312\\lib\\site-packages (from anyio<5.0,>=3.4.0->asyncer) (3.7)\n",
      "Requirement already satisfied: sniffio>=1.1 in c:\\python312\\lib\\site-packages (from anyio<5.0,>=3.4.0->asyncer) (1.3.1)\n",
      "Downloading asyncer-0.0.7-py3-none-any.whl (8.5 kB)\n",
      "Installing collected packages: asyncer\n",
      "Successfully installed asyncer-0.0.7\n",
      "Note: you may need to restart the kernel to use updated packages.\n"
     ]
    }
   ],
   "source": [
    "%pip install asyncer"
   ]
  },
  {
   "cell_type": "markdown",
   "metadata": {},
   "source": [
    "* Trio: 비동기 동시성 및 I/O를 위한 라이브러리"
   ]
  },
  {
   "cell_type": "code",
   "execution_count": 7,
   "metadata": {},
   "outputs": [
    {
     "name": "stdout",
     "output_type": "stream",
     "text": [
      "Collecting trio\n",
      "  Downloading trio-0.26.0-py3-none-any.whl.metadata (8.8 kB)\n",
      "Requirement already satisfied: attrs>=23.2.0 in c:\\python312\\lib\\site-packages (from trio) (23.2.0)\n",
      "Requirement already satisfied: sortedcontainers in c:\\python312\\lib\\site-packages (from trio) (2.4.0)\n",
      "Requirement already satisfied: idna in c:\\python312\\lib\\site-packages (from trio) (3.7)\n",
      "Collecting outcome (from trio)\n",
      "  Downloading outcome-1.3.0.post0-py2.py3-none-any.whl.metadata (2.6 kB)\n",
      "Requirement already satisfied: sniffio>=1.3.0 in c:\\python312\\lib\\site-packages (from trio) (1.3.1)\n",
      "Requirement already satisfied: cffi>=1.14 in c:\\python312\\lib\\site-packages (from trio) (1.16.0)\n",
      "Requirement already satisfied: pycparser in c:\\python312\\lib\\site-packages (from cffi>=1.14->trio) (2.22)\n",
      "Downloading trio-0.26.0-py3-none-any.whl (475 kB)\n",
      "   ---------------------------------------- 0.0/475.7 kB ? eta -:--:--\n",
      "   ------------------------------------ -- 450.6/475.7 kB 14.2 MB/s eta 0:00:01\n",
      "   ---------------------------------------- 475.7/475.7 kB 9.9 MB/s eta 0:00:00\n",
      "Downloading outcome-1.3.0.post0-py2.py3-none-any.whl (10 kB)\n",
      "Installing collected packages: outcome, trio\n",
      "Successfully installed outcome-1.3.0.post0 trio-0.26.0\n",
      "Note: you may need to restart the kernel to use updated packages.\n"
     ]
    }
   ],
   "source": [
    "%pip install trio"
   ]
  },
  {
   "cell_type": "markdown",
   "metadata": {},
   "source": [
    "* Twisted: 이벤트 기반 네트워킹 엔진"
   ]
  },
  {
   "cell_type": "code",
   "execution_count": 6,
   "metadata": {},
   "outputs": [
    {
     "name": "stdout",
     "output_type": "stream",
     "text": [
      "Requirement already satisfied: twisted in c:\\python312\\lib\\site-packages (24.3.0)Note: you may need to restart the kernel to use updated packages.\n",
      "\n",
      "Requirement already satisfied: attrs>=21.3.0 in c:\\python312\\lib\\site-packages (from twisted) (23.2.0)\n",
      "Requirement already satisfied: automat>=0.8.0 in c:\\python312\\lib\\site-packages (from twisted) (22.10.0)\n",
      "Requirement already satisfied: constantly>=15.1 in c:\\python312\\lib\\site-packages (from twisted) (23.10.4)\n",
      "Requirement already satisfied: hyperlink>=17.1.1 in c:\\python312\\lib\\site-packages (from twisted) (21.0.0)\n",
      "Requirement already satisfied: incremental>=22.10.0 in c:\\python312\\lib\\site-packages (from twisted) (22.10.0)\n",
      "Requirement already satisfied: twisted-iocpsupport<2,>=1.0.2 in c:\\python312\\lib\\site-packages (from twisted) (1.0.4)\n",
      "Requirement already satisfied: typing-extensions>=4.2.0 in c:\\python312\\lib\\site-packages (from twisted) (4.12.2)\n",
      "Requirement already satisfied: zope-interface>=5 in c:\\python312\\lib\\site-packages (from twisted) (6.4.post2)\n",
      "Requirement already satisfied: six in c:\\python312\\lib\\site-packages (from automat>=0.8.0->twisted) (1.16.0)\n",
      "Requirement already satisfied: idna>=2.5 in c:\\python312\\lib\\site-packages (from hyperlink>=17.1.1->twisted) (3.7)\n",
      "Requirement already satisfied: setuptools in c:\\python312\\lib\\site-packages (from zope-interface>=5->twisted) (70.1.1)\n"
     ]
    }
   ],
   "source": [
    "%pip install twisted"
   ]
  },
  {
   "cell_type": "markdown",
   "metadata": {},
   "source": [
    "* aiohttp: 비동기 HTTP 클라이언트/서버 프레임워크"
   ]
  },
  {
   "cell_type": "code",
   "execution_count": 5,
   "metadata": {},
   "outputs": [
    {
     "name": "stdout",
     "output_type": "stream",
     "text": [
      "Collecting aiohttp\n",
      "  Downloading aiohttp-3.9.5-cp312-cp312-win_amd64.whl.metadata (7.7 kB)\n",
      "Requirement already satisfied: aiosignal>=1.1.2 in c:\\python312\\lib\\site-packages (from aiohttp) (1.3.1)\n",
      "Requirement already satisfied: attrs>=17.3.0 in c:\\python312\\lib\\site-packages (from aiohttp) (23.2.0)\n",
      "Requirement already satisfied: frozenlist>=1.1.1 in c:\\python312\\lib\\site-packages (from aiohttp) (1.4.1)\n",
      "Collecting multidict<7.0,>=4.5 (from aiohttp)\n",
      "  Downloading multidict-6.0.5-cp312-cp312-win_amd64.whl.metadata (4.3 kB)\n",
      "Collecting yarl<2.0,>=1.0 (from aiohttp)\n",
      "  Downloading yarl-1.9.4-cp312-cp312-win_amd64.whl.metadata (32 kB)\n",
      "Requirement already satisfied: idna>=2.0 in c:\\python312\\lib\\site-packages (from yarl<2.0,>=1.0->aiohttp) (3.7)\n",
      "Downloading aiohttp-3.9.5-cp312-cp312-win_amd64.whl (369 kB)\n",
      "   ---------------------------------------- 0.0/369.0 kB ? eta -:--:--\n",
      "   --------------------------------------  368.6/369.0 kB 11.6 MB/s eta 0:00:01\n",
      "   ---------------------------------------- 369.0/369.0 kB 5.8 MB/s eta 0:00:00\n",
      "Downloading multidict-6.0.5-cp312-cp312-win_amd64.whl (27 kB)\n",
      "Downloading yarl-1.9.4-cp312-cp312-win_amd64.whl (76 kB)\n",
      "   ---------------------------------------- 0.0/76.4 kB ? eta -:--:--\n",
      "   ---------------------------------------- 76.4/76.4 kB ? eta 0:00:00\n",
      "Installing collected packages: multidict, yarl, aiohttp\n",
      "Successfully installed aiohttp-3.9.5 multidict-6.0.5 yarl-1.9.4\n",
      "Note: you may need to restart the kernel to use updated packages.\n"
     ]
    }
   ],
   "source": [
    "%pip install aiohttp"
   ]
  },
  {
   "cell_type": "markdown",
   "metadata": {},
   "source": [
    "* gevent: 비동기 프로그래밍을 위한 경량화된 코루틴 라이브러리"
   ]
  },
  {
   "cell_type": "code",
   "execution_count": 4,
   "metadata": {},
   "outputs": [
    {
     "name": "stdout",
     "output_type": "stream",
     "text": [
      "Requirement already satisfied: gevent in c:\\users\\hyunyoun\\appdata\\roaming\\python\\python312\\site-packages (24.2.1)\n",
      "Requirement already satisfied: zope.event in c:\\python312\\lib\\site-packages (from gevent) (5.0)\n",
      "Requirement already satisfied: zope.interface in c:\\python312\\lib\\site-packages (from gevent) (6.4.post2)\n",
      "Requirement already satisfied: greenlet>=3.0rc3 in c:\\python312\\lib\\site-packages (from gevent) (3.0.3)\n",
      "Requirement already satisfied: cffi>=1.12.2 in c:\\python312\\lib\\site-packages (from gevent) (1.16.0)\n",
      "Requirement already satisfied: pycparser in c:\\python312\\lib\\site-packages (from cffi>=1.12.2->gevent) (2.22)\n",
      "Requirement already satisfied: setuptools in c:\\python312\\lib\\site-packages (from zope.event->gevent) (70.1.1)\n",
      "Note: you may need to restart the kernel to use updated packages.\n"
     ]
    }
   ],
   "source": [
    "%pip install gevent"
   ]
  },
  {
   "cell_type": "markdown",
   "metadata": {},
   "source": [
    "## 실시간 통신"
   ]
  },
  {
   "cell_type": "markdown",
   "metadata": {},
   "source": [
    "* websockets 설치"
   ]
  },
  {
   "cell_type": "code",
   "execution_count": 3,
   "metadata": {},
   "outputs": [
    {
     "name": "stdout",
     "output_type": "stream",
     "text": [
      "Requirement already satisfied: websockets in c:\\python312\\lib\\site-packages (12.0)\n",
      "Note: you may need to restart the kernel to use updated packages.\n"
     ]
    }
   ],
   "source": [
    "%pip install websockets\n"
   ]
  },
  {
   "cell_type": "markdown",
   "metadata": {},
   "source": [
    "* paho-mqtt 설치"
   ]
  },
  {
   "cell_type": "code",
   "execution_count": 5,
   "metadata": {},
   "outputs": [
    {
     "name": "stdout",
     "output_type": "stream",
     "text": [
      "Collecting paho-mqtt\n",
      "  Downloading paho_mqtt-2.1.0-py3-none-any.whl.metadata (23 kB)\n",
      "Downloading paho_mqtt-2.1.0-py3-none-any.whl (67 kB)\n",
      "   ---------------------------------------- 0.0/67.2 kB ? eta -:--:--\n",
      "   ---------------------------------------- 67.2/67.2 kB 3.6 MB/s eta 0:00:00\n",
      "Installing collected packages: paho-mqtt\n",
      "Successfully installed paho-mqtt-2.1.0\n",
      "Note: you may need to restart the kernel to use updated packages.\n"
     ]
    }
   ],
   "source": [
    "%pip install paho-mqtt"
   ]
  },
  {
   "cell_type": "markdown",
   "metadata": {},
   "source": [
    "* python-socketio 설치"
   ]
  },
  {
   "cell_type": "code",
   "execution_count": 6,
   "metadata": {},
   "outputs": [
    {
     "name": "stdout",
     "output_type": "stream",
     "text": [
      "Collecting python-socketioNote: you may need to restart the kernel to use updated packages.\n",
      "\n",
      "  Downloading python_socketio-5.11.3-py3-none-any.whl.metadata (3.2 kB)\n",
      "Collecting bidict>=0.21.0 (from python-socketio)\n",
      "  Downloading bidict-0.23.1-py3-none-any.whl.metadata (8.7 kB)\n",
      "Collecting python-engineio>=4.8.0 (from python-socketio)\n",
      "  Downloading python_engineio-4.9.1-py3-none-any.whl.metadata (2.2 kB)\n",
      "Collecting simple-websocket>=0.10.0 (from python-engineio>=4.8.0->python-socketio)\n",
      "  Downloading simple_websocket-1.0.0-py3-none-any.whl.metadata (1.3 kB)\n",
      "Collecting wsproto (from simple-websocket>=0.10.0->python-engineio>=4.8.0->python-socketio)\n",
      "  Downloading wsproto-1.2.0-py3-none-any.whl.metadata (5.6 kB)\n",
      "Requirement already satisfied: h11<1,>=0.9.0 in c:\\python312\\lib\\site-packages (from wsproto->simple-websocket>=0.10.0->python-engineio>=4.8.0->python-socketio) (0.14.0)\n",
      "Downloading python_socketio-5.11.3-py3-none-any.whl (76 kB)\n",
      "   ---------------------------------------- 0.0/76.2 kB ? eta -:--:--\n",
      "   ---------------------------------------- 76.2/76.2 kB 4.1 MB/s eta 0:00:00\n",
      "Downloading bidict-0.23.1-py3-none-any.whl (32 kB)\n",
      "Downloading python_engineio-4.9.1-py3-none-any.whl (57 kB)\n",
      "   ---------------------------------------- 0.0/57.7 kB ? eta -:--:--\n",
      "   ---------------------------------------- 57.7/57.7 kB 3.0 MB/s eta 0:00:00\n",
      "Downloading simple_websocket-1.0.0-py3-none-any.whl (13 kB)\n",
      "Downloading wsproto-1.2.0-py3-none-any.whl (24 kB)\n",
      "Installing collected packages: wsproto, bidict, simple-websocket, python-engineio, python-socketio\n",
      "Successfully installed bidict-0.23.1 python-engineio-4.9.1 python-socketio-5.11.3 simple-websocket-1.0.0 wsproto-1.2.0\n"
     ]
    }
   ],
   "source": [
    "%pip install python-socketio"
   ]
  }
 ],
 "metadata": {
  "kernelspec": {
   "display_name": "Python 3",
   "language": "python",
   "name": "python3"
  },
  "language_info": {
   "codemirror_mode": {
    "name": "ipython",
    "version": 3
   },
   "file_extension": ".py",
   "mimetype": "text/x-python",
   "name": "python",
   "nbconvert_exporter": "python",
   "pygments_lexer": "ipython3",
   "version": "3.12.4"
  }
 },
 "nbformat": 4,
 "nbformat_minor": 2
}
