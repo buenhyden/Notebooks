{
 "cells": [
  {
   "cell_type": "markdown",
   "metadata": {},
   "source": [
    "# Networks"
   ]
  },
  {
   "cell_type": "markdown",
   "metadata": {},
   "source": [
    "## 네트워킹 및 웹 스크래핑"
   ]
  },
  {
   "cell_type": "markdown",
   "metadata": {},
   "source": [
    "* BeautifulSoup: 웹 데이터 추출을 위한 도구"
   ]
  },
  {
   "cell_type": "code",
   "execution_count": 1,
   "metadata": {},
   "outputs": [
    {
     "name": "stdout",
     "output_type": "stream",
     "text": [
      "Requirement already satisfied: beautifulsoup4 in c:\\python312\\lib\\site-packages (4.12.3)Note: you may need to restart the kernel to use updated packages.\n",
      "\n",
      "Requirement already satisfied: soupsieve>1.2 in c:\\python312\\lib\\site-packages (from beautifulsoup4) (2.5)\n"
     ]
    }
   ],
   "source": [
    "%pip install beautifulsoup4"
   ]
  },
  {
   "cell_type": "markdown",
   "metadata": {},
   "source": [
    "* MechanicalSoup: 자동화 + 웹 스크레이핑 라이브러리"
   ]
  },
  {
   "cell_type": "code",
   "execution_count": 7,
   "metadata": {},
   "outputs": [
    {
     "name": "stdout",
     "output_type": "stream",
     "text": [
      "Collecting MechanicalSoup\n",
      "  Downloading MechanicalSoup-1.3.0-py3-none-any.whl.metadata (6.0 kB)\n",
      "Requirement already satisfied: requests>=2.22.0 in c:\\python312\\lib\\site-packages (from MechanicalSoup) (2.32.3)\n",
      "Requirement already satisfied: beautifulsoup4>=4.7 in c:\\python312\\lib\\site-packages (from MechanicalSoup) (4.12.3)\n",
      "Requirement already satisfied: lxml in c:\\python312\\lib\\site-packages (from MechanicalSoup) (5.2.2)\n",
      "Requirement already satisfied: soupsieve>1.2 in c:\\python312\\lib\\site-packages (from beautifulsoup4>=4.7->MechanicalSoup) (2.5)\n",
      "Requirement already satisfied: charset-normalizer<4,>=2 in c:\\python312\\lib\\site-packages (from requests>=2.22.0->MechanicalSoup) (3.3.2)\n",
      "Requirement already satisfied: idna<4,>=2.5 in c:\\python312\\lib\\site-packages (from requests>=2.22.0->MechanicalSoup) (3.7)\n",
      "Requirement already satisfied: urllib3<3,>=1.21.1 in c:\\python312\\lib\\site-packages (from requests>=2.22.0->MechanicalSoup) (2.2.2)\n",
      "Requirement already satisfied: certifi>=2017.4.17 in c:\\python312\\lib\\site-packages (from requests>=2.22.0->MechanicalSoup) (2024.6.2)\n",
      "Downloading MechanicalSoup-1.3.0-py3-none-any.whl (19 kB)\n",
      "Installing collected packages: MechanicalSoup\n",
      "Successfully installed MechanicalSoup-1.3.0\n",
      "Note: you may need to restart the kernel to use updated packages.\n"
     ]
    }
   ],
   "source": [
    "%pip install MechanicalSoup"
   ]
  },
  {
   "cell_type": "markdown",
   "metadata": {},
   "source": [
    "* PyQuery: HTML 문서 파싱 및 조작 라이브러리"
   ]
  },
  {
   "cell_type": "code",
   "execution_count": 2,
   "metadata": {},
   "outputs": [
    {
     "name": "stdout",
     "output_type": "stream",
     "text": [
      "Collecting pyquery\n",
      "  Downloading pyquery-2.0.0-py3-none-any.whl.metadata (9.0 kB)\n",
      "Collecting lxml>=2.1 (from pyquery)\n",
      "  Downloading lxml-5.2.2-cp312-cp312-win_amd64.whl.metadata (3.5 kB)\n",
      "Collecting cssselect>=1.2.0 (from pyquery)\n",
      "  Downloading cssselect-1.2.0-py2.py3-none-any.whl.metadata (2.2 kB)\n",
      "Downloading pyquery-2.0.0-py3-none-any.whl (22 kB)\n",
      "Downloading cssselect-1.2.0-py2.py3-none-any.whl (18 kB)\n",
      "Downloading lxml-5.2.2-cp312-cp312-win_amd64.whl (3.8 MB)\n",
      "   ---------------------------------------- 0.0/3.8 MB ? eta -:--:--\n",
      "   ---- ----------------------------------- 0.4/3.8 MB 13.9 MB/s eta 0:00:01\n",
      "   ---------- ----------------------------- 1.0/3.8 MB 12.7 MB/s eta 0:00:01\n",
      "   ---------------- ----------------------- 1.5/3.8 MB 12.3 MB/s eta 0:00:01\n",
      "   --------------------- ------------------ 2.1/3.8 MB 12.1 MB/s eta 0:00:01\n",
      "   --------------------------- ------------ 2.6/3.8 MB 11.8 MB/s eta 0:00:01\n",
      "   -------------------------------- ------- 3.1/3.8 MB 11.7 MB/s eta 0:00:01\n",
      "   -------------------------------------- - 3.7/3.8 MB 11.8 MB/s eta 0:00:01\n",
      "   ---------------------------------------  3.8/3.8 MB 11.6 MB/s eta 0:00:01\n",
      "   ---------------------------------------- 3.8/3.8 MB 10.2 MB/s eta 0:00:00\n",
      "Installing collected packages: lxml, cssselect, pyquery\n",
      "Successfully installed cssselect-1.2.0 lxml-5.2.2 pyquery-2.0.0\n",
      "Note: you may need to restart the kernel to use updated packages.\n"
     ]
    }
   ],
   "source": [
    "%pip install pyquery"
   ]
  },
  {
   "cell_type": "markdown",
   "metadata": {},
   "source": [
    "* PyZMQ: ZeroMQ 라이브러리의 Python 바인딩"
   ]
  },
  {
   "cell_type": "code",
   "execution_count": 4,
   "metadata": {},
   "outputs": [
    {
     "name": "stdout",
     "output_type": "stream",
     "text": [
      "Requirement already satisfied: pyzmq in c:\\python312\\lib\\site-packages (26.0.3)Note: you may need to restart the kernel to use updated packages.\n",
      "\n"
     ]
    }
   ],
   "source": [
    "%pip install pyzmq"
   ]
  },
  {
   "cell_type": "markdown",
   "metadata": {},
   "source": [
    "* Scapy: 대화형 패킷 조작 프로그램"
   ]
  },
  {
   "cell_type": "code",
   "execution_count": 1,
   "metadata": {},
   "outputs": [
    {
     "name": "stdout",
     "output_type": "stream",
     "text": [
      "Collecting scapy\n",
      "  Downloading scapy-2.5.0.tar.gz (1.3 MB)\n",
      "     ---------------------------------------- 0.0/1.3 MB ? eta -:--:--\n",
      "     ---------------- ----------------------- 0.5/1.3 MB 10.9 MB/s eta 0:00:01\n",
      "     ---------------------------------- ----- 1.1/1.3 MB 11.8 MB/s eta 0:00:01\n",
      "     ---------------------------------------- 1.3/1.3 MB 10.2 MB/s eta 0:00:00\n",
      "  Installing build dependencies: started\n",
      "  Installing build dependencies: finished with status 'done'\n",
      "  Getting requirements to build wheel: started\n",
      "  Getting requirements to build wheel: finished with status 'done'\n",
      "  Preparing metadata (pyproject.toml): started\n",
      "  Preparing metadata (pyproject.toml): finished with status 'done'\n",
      "Building wheels for collected packages: scapy\n",
      "  Building wheel for scapy (pyproject.toml): started\n",
      "  Building wheel for scapy (pyproject.toml): finished with status 'done'\n",
      "  Created wheel for scapy: filename=scapy-2.5.0-py2.py3-none-any.whl size=1444342 sha256=5f54973ef671207e70092d6d12b8b7bbc5083fe32835d792de58adc0a1e3bba4\n",
      "  Stored in directory: c:\\users\\hyunyoun\\appdata\\local\\pip\\cache\\wheels\\8a\\5e\\7c\\6f92df559dadf49d0e31cecdd5b104fc8c38a7c67fde16b029\n",
      "Successfully built scapy\n",
      "Installing collected packages: scapy\n",
      "Note: you may need to restart the kernel to use updated packages.\n"
     ]
    },
    {
     "name": "stderr",
     "output_type": "stream",
     "text": [
      "ERROR: Could not install packages due to an OSError: [Errno 13] Permission denied: 'c:\\\\Python312\\\\share\\\\man\\\\man1\\\\scapy.1'\n",
      "Consider using the `--user` option or check the permissions.\n",
      "\n"
     ]
    }
   ],
   "source": [
    "%pip install scapy"
   ]
  },
  {
   "cell_type": "markdown",
   "metadata": {},
   "source": [
    "* Scrapy: 강력한 웹 크롤링 및 스크래핑 프레임워크"
   ]
  },
  {
   "cell_type": "code",
   "execution_count": 2,
   "metadata": {},
   "outputs": [
    {
     "name": "stdout",
     "output_type": "stream",
     "text": [
      "Collecting scrapy\n",
      "  Downloading Scrapy-2.11.2-py2.py3-none-any.whl.metadata (5.3 kB)\n",
      "Collecting Twisted>=18.9.0 (from scrapy)\n",
      "  Downloading twisted-24.3.0-py3-none-any.whl.metadata (9.5 kB)\n",
      "Requirement already satisfied: cryptography>=36.0.0 in c:\\python312\\lib\\site-packages (from scrapy) (42.0.8)\n",
      "Requirement already satisfied: cssselect>=0.9.1 in c:\\python312\\lib\\site-packages (from scrapy) (1.2.0)\n",
      "Collecting itemloaders>=1.0.1 (from scrapy)\n",
      "  Downloading itemloaders-1.3.1-py3-none-any.whl.metadata (3.9 kB)\n",
      "Collecting parsel>=1.5.0 (from scrapy)\n",
      "  Downloading parsel-1.9.1-py2.py3-none-any.whl.metadata (11 kB)\n",
      "Collecting pyOpenSSL>=21.0.0 (from scrapy)\n",
      "  Downloading pyOpenSSL-24.1.0-py3-none-any.whl.metadata (12 kB)\n",
      "Collecting queuelib>=1.4.2 (from scrapy)\n",
      "  Downloading queuelib-1.7.0-py2.py3-none-any.whl.metadata (5.7 kB)\n",
      "Collecting service-identity>=18.1.0 (from scrapy)\n",
      "  Downloading service_identity-24.1.0-py3-none-any.whl.metadata (4.8 kB)\n",
      "Collecting w3lib>=1.17.0 (from scrapy)\n",
      "  Downloading w3lib-2.2.1-py3-none-any.whl.metadata (2.1 kB)\n",
      "Requirement already satisfied: zope.interface>=5.1.0 in c:\\python312\\lib\\site-packages (from scrapy) (6.4.post2)\n",
      "Collecting protego>=0.1.15 (from scrapy)\n",
      "  Downloading Protego-0.3.1-py2.py3-none-any.whl.metadata (5.9 kB)\n",
      "Collecting itemadapter>=0.1.0 (from scrapy)\n",
      "  Downloading itemadapter-0.9.0-py3-none-any.whl.metadata (17 kB)\n",
      "Requirement already satisfied: setuptools in c:\\python312\\lib\\site-packages (from scrapy) (70.1.1)\n",
      "Requirement already satisfied: packaging in c:\\python312\\lib\\site-packages (from scrapy) (24.1)\n",
      "Collecting tldextract (from scrapy)\n",
      "  Downloading tldextract-5.1.2-py3-none-any.whl.metadata (11 kB)\n",
      "Requirement already satisfied: lxml>=4.4.1 in c:\\python312\\lib\\site-packages (from scrapy) (5.2.2)\n",
      "Requirement already satisfied: defusedxml>=0.7.1 in c:\\python312\\lib\\site-packages (from scrapy) (0.7.1)\n",
      "Collecting PyDispatcher>=2.0.5 (from scrapy)\n",
      "  Downloading PyDispatcher-2.0.7-py3-none-any.whl.metadata (2.4 kB)\n",
      "Requirement already satisfied: cffi>=1.12 in c:\\python312\\lib\\site-packages (from cryptography>=36.0.0->scrapy) (1.16.0)\n",
      "Requirement already satisfied: jmespath>=0.9.5 in c:\\python312\\lib\\site-packages (from itemloaders>=1.0.1->scrapy) (1.0.1)\n",
      "Requirement already satisfied: attrs>=19.1.0 in c:\\python312\\lib\\site-packages (from service-identity>=18.1.0->scrapy) (23.2.0)\n",
      "Requirement already satisfied: pyasn1 in c:\\python312\\lib\\site-packages (from service-identity>=18.1.0->scrapy) (0.6.0)\n",
      "Requirement already satisfied: pyasn1-modules in c:\\python312\\lib\\site-packages (from service-identity>=18.1.0->scrapy) (0.4.0)\n",
      "Collecting automat>=0.8.0 (from Twisted>=18.9.0->scrapy)\n",
      "  Downloading Automat-22.10.0-py2.py3-none-any.whl.metadata (1.0 kB)\n",
      "Collecting constantly>=15.1 (from Twisted>=18.9.0->scrapy)\n",
      "  Downloading constantly-23.10.4-py3-none-any.whl.metadata (1.8 kB)\n",
      "Collecting hyperlink>=17.1.1 (from Twisted>=18.9.0->scrapy)\n",
      "  Downloading hyperlink-21.0.0-py2.py3-none-any.whl.metadata (1.5 kB)\n",
      "Collecting incremental>=22.10.0 (from Twisted>=18.9.0->scrapy)\n",
      "  Downloading incremental-22.10.0-py2.py3-none-any.whl.metadata (6.0 kB)\n",
      "Collecting twisted-iocpsupport<2,>=1.0.2 (from Twisted>=18.9.0->scrapy)\n",
      "  Downloading twisted_iocpsupport-1.0.4-cp312-cp312-win_amd64.whl.metadata (2.2 kB)\n",
      "Requirement already satisfied: typing-extensions>=4.2.0 in c:\\python312\\lib\\site-packages (from Twisted>=18.9.0->scrapy) (4.12.2)\n",
      "Requirement already satisfied: idna in c:\\python312\\lib\\site-packages (from tldextract->scrapy) (3.7)\n",
      "Requirement already satisfied: requests>=2.1.0 in c:\\python312\\lib\\site-packages (from tldextract->scrapy) (2.32.3)\n",
      "Collecting requests-file>=1.4 (from tldextract->scrapy)\n",
      "  Downloading requests_file-2.1.0-py2.py3-none-any.whl.metadata (1.7 kB)\n",
      "Requirement already satisfied: filelock>=3.0.8 in c:\\python312\\lib\\site-packages (from tldextract->scrapy) (3.15.4)\n",
      "Requirement already satisfied: six in c:\\python312\\lib\\site-packages (from automat>=0.8.0->Twisted>=18.9.0->scrapy) (1.16.0)\n",
      "Requirement already satisfied: pycparser in c:\\python312\\lib\\site-packages (from cffi>=1.12->cryptography>=36.0.0->scrapy) (2.22)\n",
      "Requirement already satisfied: charset-normalizer<4,>=2 in c:\\python312\\lib\\site-packages (from requests>=2.1.0->tldextract->scrapy) (3.3.2)\n",
      "Requirement already satisfied: urllib3<3,>=1.21.1 in c:\\python312\\lib\\site-packages (from requests>=2.1.0->tldextract->scrapy) (2.2.2)\n",
      "Requirement already satisfied: certifi>=2017.4.17 in c:\\python312\\lib\\site-packages (from requests>=2.1.0->tldextract->scrapy) (2024.6.2)\n",
      "Downloading Scrapy-2.11.2-py2.py3-none-any.whl (290 kB)\n",
      "   ---------------------------------------- 0.0/290.1 kB ? eta -:--:--\n",
      "   -------------------------------------- - 276.5/290.1 kB 8.6 MB/s eta 0:00:01\n",
      "   ---------------------------------------- 290.1/290.1 kB 6.0 MB/s eta 0:00:00\n",
      "Downloading itemadapter-0.9.0-py3-none-any.whl (11 kB)\n",
      "Downloading itemloaders-1.3.1-py3-none-any.whl (12 kB)\n",
      "Downloading parsel-1.9.1-py2.py3-none-any.whl (17 kB)\n",
      "Downloading Protego-0.3.1-py2.py3-none-any.whl (8.5 kB)\n",
      "Downloading PyDispatcher-2.0.7-py3-none-any.whl (12 kB)\n",
      "Downloading pyOpenSSL-24.1.0-py3-none-any.whl (56 kB)\n",
      "   ---------------------------------------- 0.0/56.9 kB ? eta -:--:--\n",
      "   ---------------------------------------- 56.9/56.9 kB 3.1 MB/s eta 0:00:00\n",
      "Downloading queuelib-1.7.0-py2.py3-none-any.whl (13 kB)\n",
      "Downloading service_identity-24.1.0-py3-none-any.whl (12 kB)\n",
      "Downloading twisted-24.3.0-py3-none-any.whl (3.2 MB)\n",
      "   ---------------------------------------- 0.0/3.2 MB ? eta -:--:--\n",
      "   ----- ---------------------------------- 0.5/3.2 MB 14.5 MB/s eta 0:00:01\n",
      "   ------------ --------------------------- 1.0/3.2 MB 12.6 MB/s eta 0:00:01\n",
      "   ------------------- -------------------- 1.6/3.2 MB 12.5 MB/s eta 0:00:01\n",
      "   -------------------------- ------------- 2.1/3.2 MB 12.3 MB/s eta 0:00:01\n",
      "   --------------------------------- ------ 2.6/3.2 MB 12.0 MB/s eta 0:00:01\n",
      "   -------------------------------------- - 3.1/3.2 MB 10.9 MB/s eta 0:00:01\n",
      "   ---------------------------------------- 3.2/3.2 MB 10.6 MB/s eta 0:00:00\n",
      "Downloading w3lib-2.2.1-py3-none-any.whl (21 kB)\n",
      "Downloading tldextract-5.1.2-py3-none-any.whl (97 kB)\n",
      "   ---------------------------------------- 0.0/97.6 kB ? eta -:--:--\n",
      "   ---------------------------------------- 97.6/97.6 kB 5.5 MB/s eta 0:00:00\n",
      "Downloading Automat-22.10.0-py2.py3-none-any.whl (26 kB)\n",
      "Downloading constantly-23.10.4-py3-none-any.whl (13 kB)\n",
      "Downloading hyperlink-21.0.0-py2.py3-none-any.whl (74 kB)\n",
      "   ---------------------------------------- 0.0/74.6 kB ? eta -:--:--\n",
      "   ---------------------------------------- 74.6/74.6 kB ? eta 0:00:00\n",
      "Downloading incremental-22.10.0-py2.py3-none-any.whl (16 kB)\n",
      "Downloading requests_file-2.1.0-py2.py3-none-any.whl (4.2 kB)\n",
      "Downloading twisted_iocpsupport-1.0.4-cp312-cp312-win_amd64.whl (47 kB)\n",
      "   ---------------------------------------- 0.0/47.6 kB ? eta -:--:--\n",
      "   ---------------------------------------- 47.6/47.6 kB 2.3 MB/s eta 0:00:00\n",
      "Installing collected packages: twisted-iocpsupport, PyDispatcher, incremental, w3lib, queuelib, protego, itemadapter, hyperlink, constantly, automat, Twisted, requests-file, parsel, tldextract, service-identity, pyOpenSSL, itemloaders, scrapy\n",
      "Note: you may need to restart the kernel to use updated packages.\n"
     ]
    },
    {
     "name": "stderr",
     "output_type": "stream",
     "text": [
      "  WARNING: Failed to write executable - trying to use .deleteme logic\n",
      "ERROR: Could not install packages due to an OSError: [WinError 2] 지정된 파일을 찾을 수 없습니다: 'c:\\\\Python312\\\\Scripts\\\\automat-visualize.exe' -> 'c:\\\\Python312\\\\Scripts\\\\automat-visualize.exe.deleteme'\n",
      "\n"
     ]
    }
   ],
   "source": [
    "%pip install scrapy"
   ]
  },
  {
   "cell_type": "markdown",
   "metadata": {},
   "source": [
    "* impacket: 네트워크 프로토콜을 위한 컬렉션"
   ]
  },
  {
   "cell_type": "code",
   "execution_count": 3,
   "metadata": {},
   "outputs": [
    {
     "name": "stdout",
     "output_type": "stream",
     "text": [
      "Note: you may need to restart the kernel to use updated packages.Collecting impacket\n",
      "  Downloading impacket-0.11.0.tar.gz (1.5 MB)\n",
      "     ---------------------------------------- 0.0/1.5 MB ? eta -:--:--\n",
      "     -------------- ------------------------- 0.5/1.5 MB 11.1 MB/s eta 0:00:01\n",
      "     ---------------------------- ----------- 1.1/1.5 MB 11.3 MB/s eta 0:00:01\n",
      "     ---------------------------------------  1.5/1.5 MB 11.9 MB/s eta 0:00:01\n",
      "     ---------------------------------------- 1.5/1.5 MB 10.6 MB/s eta 0:00:00\n",
      "  Installing build dependencies: started\n",
      "  Installing build dependencies: finished with status 'done'\n",
      "  Getting requirements to build wheel: started\n",
      "  Getting requirements to build wheel: finished with status 'done'\n",
      "  Preparing metadata (pyproject.toml): started\n",
      "  Preparing metadata (pyproject.toml): finished with status 'done'\n",
      "Requirement already satisfied: pyasn1>=0.2.3 in c:\\python312\\lib\\site-packages (from impacket) (0.6.0)\n",
      "Collecting pycryptodomex (from impacket)\n",
      "  Downloading pycryptodomex-3.20.0-cp35-abi3-win_amd64.whl.metadata (3.4 kB)\n",
      "Collecting pyOpenSSL>=21.0.0 (from impacket)\n",
      "  Using cached pyOpenSSL-24.1.0-py3-none-any.whl.metadata (12 kB)\n",
      "Requirement already satisfied: six in c:\\python312\\lib\\site-packages (from impacket) (1.16.0)\n",
      "Collecting ldap3!=2.5.0,!=2.5.2,!=2.6,>=2.5 (from impacket)\n",
      "  Downloading ldap3-2.9.1-py2.py3-none-any.whl.metadata (5.4 kB)\n",
      "Collecting ldapdomaindump>=0.9.0 (from impacket)\n",
      "  Downloading ldapdomaindump-0.9.4-py3-none-any.whl.metadata (359 bytes)\n",
      "Collecting flask>=1.0 (from impacket)\n",
      "  Downloading flask-3.0.3-py3-none-any.whl.metadata (3.2 kB)\n",
      "Collecting future (from impacket)\n",
      "  Downloading future-1.0.0-py3-none-any.whl.metadata (4.0 kB)\n",
      "Requirement already satisfied: charset-normalizer in c:\\python312\\lib\\site-packages (from impacket) (3.3.2)\n",
      "Collecting dsinternals (from impacket)\n",
      "  Downloading dsinternals-1.2.4.tar.gz (174 kB)\n",
      "     ---------------------------------------- 0.0/174.2 kB ? eta -:--:--\n",
      "     ------------------------------------- 174.2/174.2 kB 10.9 MB/s eta 0:00:00\n",
      "  Installing build dependencies: started\n",
      "  Installing build dependencies: finished with status 'done'\n",
      "  Getting requirements to build wheel: started\n",
      "  Getting requirements to build wheel: finished with status 'done'\n",
      "  Preparing metadata (pyproject.toml): started\n",
      "  Preparing metadata (pyproject.toml): finished with status 'done'\n",
      "Collecting Werkzeug>=3.0.0 (from flask>=1.0->impacket)\n",
      "  Downloading werkzeug-3.0.3-py3-none-any.whl.metadata (3.7 kB)\n",
      "Requirement already satisfied: Jinja2>=3.1.2 in c:\\python312\\lib\\site-packages (from flask>=1.0->impacket) (3.1.4)\n",
      "Collecting itsdangerous>=2.1.2 (from flask>=1.0->impacket)\n",
      "  Downloading itsdangerous-2.2.0-py3-none-any.whl.metadata (1.9 kB)\n",
      "Requirement already satisfied: click>=8.1.3 in c:\\python312\\lib\\site-packages (from flask>=1.0->impacket) (8.1.7)\n",
      "Collecting blinker>=1.6.2 (from flask>=1.0->impacket)\n",
      "  Downloading blinker-1.8.2-py3-none-any.whl.metadata (1.6 kB)\n",
      "Requirement already satisfied: dnspython in c:\\python312\\lib\\site-packages (from ldapdomaindump>=0.9.0->impacket) (2.6.1)\n",
      "Requirement already satisfied: cryptography<43,>=41.0.5 in c:\\python312\\lib\\site-packages (from pyOpenSSL>=21.0.0->impacket) (42.0.8)\n",
      "Requirement already satisfied: colorama in c:\\python312\\lib\\site-packages (from click>=8.1.3->flask>=1.0->impacket) (0.4.6)\n",
      "Requirement already satisfied: cffi>=1.12 in c:\\python312\\lib\\site-packages (from cryptography<43,>=41.0.5->pyOpenSSL>=21.0.0->impacket) (1.16.0)\n",
      "Requirement already satisfied: MarkupSafe>=2.0 in c:\\python312\\lib\\site-packages (from Jinja2>=3.1.2->flask>=1.0->impacket) (2.1.5)\n",
      "Requirement already satisfied: pycparser in c:\\python312\\lib\\site-packages (from cffi>=1.12->cryptography<43,>=41.0.5->pyOpenSSL>=21.0.0->impacket) (2.22)\n",
      "Downloading flask-3.0.3-py3-none-any.whl (101 kB)\n",
      "   ---------------------------------------- 0.0/101.7 kB ? eta -:--:--\n",
      "   ---------------------------------------- 101.7/101.7 kB 5.7 MB/s eta 0:00:00\n",
      "Downloading ldap3-2.9.1-py2.py3-none-any.whl (432 kB)\n",
      "   ---------------------------------------- 0.0/432.2 kB ? eta -:--:--\n",
      "   --------------------------------------  430.1/432.2 kB 13.5 MB/s eta 0:00:01\n",
      "   ---------------------------------------- 432.2/432.2 kB 9.2 MB/s eta 0:00:00\n",
      "Downloading ldapdomaindump-0.9.4-py3-none-any.whl (18 kB)\n",
      "Using cached pyOpenSSL-24.1.0-py3-none-any.whl (56 kB)\n",
      "Downloading future-1.0.0-py3-none-any.whl (491 kB)\n",
      "   ---------------------------------------- 0.0/491.3 kB ? eta -:--:--\n",
      "   --------------------------------------  481.3/491.3 kB 10.0 MB/s eta 0:00:01\n",
      "   --------------------------------------- 491.3/491.3 kB 10.2 MB/s eta 0:00:00\n",
      "Downloading pycryptodomex-3.20.0-cp35-abi3-win_amd64.whl (1.8 MB)\n",
      "   ---------------------------------------- 0.0/1.8 MB ? eta -:--:--\n",
      "   ------------- -------------------------- 0.6/1.8 MB 12.2 MB/s eta 0:00:01\n",
      "   ------------------------- -------------- 1.1/1.8 MB 12.0 MB/s eta 0:00:01\n",
      "   -------------------------------------- - 1.7/1.8 MB 11.8 MB/s eta 0:00:01\n",
      "   ---------------------------------------- 1.8/1.8 MB 11.2 MB/s eta 0:00:00\n",
      "Downloading blinker-1.8.2-py3-none-any.whl (9.5 kB)\n",
      "Downloading itsdangerous-2.2.0-py3-none-any.whl (16 kB)\n",
      "Downloading werkzeug-3.0.3-py3-none-any.whl (227 kB)\n",
      "   ---------------------------------------- 0.0/227.3 kB ? eta -:--:--\n",
      "   --------------------------------------- 227.3/227.3 kB 13.6 MB/s eta 0:00:00\n",
      "Building wheels for collected packages: impacket, dsinternals\n",
      "  Building wheel for impacket (pyproject.toml): started\n",
      "  Building wheel for impacket (pyproject.toml): finished with status 'error'\n",
      "  Building wheel for dsinternals (pyproject.toml): started\n",
      "  Building wheel for dsinternals (pyproject.toml): finished with status 'done'\n",
      "  Created wheel for dsinternals: filename=dsinternals-1.2.4-py3-none-any.whl size=208330 sha256=1e1088bc7b578da9e46e832b4008614cd05838b2355ca098abdceb883aea5a2d\n",
      "  Stored in directory: c:\\users\\hyunyoun\\appdata\\local\\pip\\cache\\wheels\\03\\55\\a4\\5a698429d511a8e35d5ce4a9d55c0ea11aff182ec9013a3505\n",
      "Successfully built dsinternals\n",
      "Failed to build impacket\n",
      "\n"
     ]
    },
    {
     "name": "stderr",
     "output_type": "stream",
     "text": [
      "  error: subprocess-exited-with-error\n",
      "  \n",
      "  × Building wheel for impacket (pyproject.toml) did not run successfully.\n",
      "  │ exit code: 1\n",
      "  ╰─> [15 lines of output]\n",
      "      running bdist_wheel\n",
      "      running build\n",
      "      running build_py\n",
      "      creating build\n",
      "      creating build\\lib\n",
      "      creating build\\lib\\impacket\n",
      "      copying impacket\\cdp.py -> build\\lib\\impacket\n",
      "      copying impacket\\crypto.py -> build\\lib\\impacket\n",
      "      copying impacket\\dhcp.py -> build\\lib\\impacket\n",
      "      copying impacket\\dns.py -> build\\lib\\impacket\n",
      "      copying impacket\\dot11.py -> build\\lib\\impacket\n",
      "      copying impacket\\Dot11Crypto.py -> build\\lib\\impacket\n",
      "      copying impacket\\Dot11KeyManager.py -> build\\lib\\impacket\n",
      "      copying impacket\\dpapi.py -> build\\lib\\impacket\n",
      "      error: could not open 'impacket\\dpapi.py': Invalid argument\n",
      "      [end of output]\n",
      "  \n",
      "  note: This error originates from a subprocess, and is likely not a problem with pip.\n",
      "  ERROR: Failed building wheel for impacket\n",
      "ERROR: ERROR: Failed to build installable wheels for some pyproject.toml based projects (impacket)\n"
     ]
    }
   ],
   "source": [
    "%pip install impacket"
   ]
  },
  {
   "cell_type": "markdown",
   "metadata": {},
   "source": [
    "## 비동기 라이브러리"
   ]
  },
  {
   "cell_type": "markdown",
   "metadata": {},
   "source": [
    "* Asyncer: 비동기 프로그래밍을 위한 유틸리티"
   ]
  },
  {
   "cell_type": "code",
   "execution_count": 8,
   "metadata": {},
   "outputs": [
    {
     "name": "stdout",
     "output_type": "stream",
     "text": [
      "Collecting asyncer\n",
      "  Downloading asyncer-0.0.7-py3-none-any.whl.metadata (6.6 kB)\n",
      "Requirement already satisfied: anyio<5.0,>=3.4.0 in c:\\python312\\lib\\site-packages (from asyncer) (4.4.0)\n",
      "Requirement already satisfied: idna>=2.8 in c:\\python312\\lib\\site-packages (from anyio<5.0,>=3.4.0->asyncer) (3.7)\n",
      "Requirement already satisfied: sniffio>=1.1 in c:\\python312\\lib\\site-packages (from anyio<5.0,>=3.4.0->asyncer) (1.3.1)\n",
      "Downloading asyncer-0.0.7-py3-none-any.whl (8.5 kB)\n",
      "Installing collected packages: asyncer\n",
      "Successfully installed asyncer-0.0.7\n",
      "Note: you may need to restart the kernel to use updated packages.\n"
     ]
    }
   ],
   "source": [
    "%pip install asyncer"
   ]
  },
  {
   "cell_type": "markdown",
   "metadata": {},
   "source": [
    "* Trio: 비동기 동시성 및 I/O를 위한 라이브러리"
   ]
  },
  {
   "cell_type": "code",
   "execution_count": 7,
   "metadata": {},
   "outputs": [
    {
     "name": "stdout",
     "output_type": "stream",
     "text": [
      "Collecting trio\n",
      "  Downloading trio-0.26.0-py3-none-any.whl.metadata (8.8 kB)\n",
      "Requirement already satisfied: attrs>=23.2.0 in c:\\python312\\lib\\site-packages (from trio) (23.2.0)\n",
      "Requirement already satisfied: sortedcontainers in c:\\python312\\lib\\site-packages (from trio) (2.4.0)\n",
      "Requirement already satisfied: idna in c:\\python312\\lib\\site-packages (from trio) (3.7)\n",
      "Collecting outcome (from trio)\n",
      "  Downloading outcome-1.3.0.post0-py2.py3-none-any.whl.metadata (2.6 kB)\n",
      "Requirement already satisfied: sniffio>=1.3.0 in c:\\python312\\lib\\site-packages (from trio) (1.3.1)\n",
      "Requirement already satisfied: cffi>=1.14 in c:\\python312\\lib\\site-packages (from trio) (1.16.0)\n",
      "Requirement already satisfied: pycparser in c:\\python312\\lib\\site-packages (from cffi>=1.14->trio) (2.22)\n",
      "Downloading trio-0.26.0-py3-none-any.whl (475 kB)\n",
      "   ---------------------------------------- 0.0/475.7 kB ? eta -:--:--\n",
      "   ------------------------------------ -- 450.6/475.7 kB 14.2 MB/s eta 0:00:01\n",
      "   ---------------------------------------- 475.7/475.7 kB 9.9 MB/s eta 0:00:00\n",
      "Downloading outcome-1.3.0.post0-py2.py3-none-any.whl (10 kB)\n",
      "Installing collected packages: outcome, trio\n",
      "Successfully installed outcome-1.3.0.post0 trio-0.26.0\n",
      "Note: you may need to restart the kernel to use updated packages.\n"
     ]
    }
   ],
   "source": [
    "%pip install trio"
   ]
  },
  {
   "cell_type": "markdown",
   "metadata": {},
   "source": [
    "* Twisted: 이벤트 기반 네트워킹 엔진"
   ]
  },
  {
   "cell_type": "code",
   "execution_count": 6,
   "metadata": {},
   "outputs": [
    {
     "name": "stdout",
     "output_type": "stream",
     "text": [
      "Requirement already satisfied: twisted in c:\\python312\\lib\\site-packages (24.3.0)Note: you may need to restart the kernel to use updated packages.\n",
      "\n",
      "Requirement already satisfied: attrs>=21.3.0 in c:\\python312\\lib\\site-packages (from twisted) (23.2.0)\n",
      "Requirement already satisfied: automat>=0.8.0 in c:\\python312\\lib\\site-packages (from twisted) (22.10.0)\n",
      "Requirement already satisfied: constantly>=15.1 in c:\\python312\\lib\\site-packages (from twisted) (23.10.4)\n",
      "Requirement already satisfied: hyperlink>=17.1.1 in c:\\python312\\lib\\site-packages (from twisted) (21.0.0)\n",
      "Requirement already satisfied: incremental>=22.10.0 in c:\\python312\\lib\\site-packages (from twisted) (22.10.0)\n",
      "Requirement already satisfied: twisted-iocpsupport<2,>=1.0.2 in c:\\python312\\lib\\site-packages (from twisted) (1.0.4)\n",
      "Requirement already satisfied: typing-extensions>=4.2.0 in c:\\python312\\lib\\site-packages (from twisted) (4.12.2)\n",
      "Requirement already satisfied: zope-interface>=5 in c:\\python312\\lib\\site-packages (from twisted) (6.4.post2)\n",
      "Requirement already satisfied: six in c:\\python312\\lib\\site-packages (from automat>=0.8.0->twisted) (1.16.0)\n",
      "Requirement already satisfied: idna>=2.5 in c:\\python312\\lib\\site-packages (from hyperlink>=17.1.1->twisted) (3.7)\n",
      "Requirement already satisfied: setuptools in c:\\python312\\lib\\site-packages (from zope-interface>=5->twisted) (70.1.1)\n"
     ]
    }
   ],
   "source": [
    "%pip install twisted"
   ]
  },
  {
   "cell_type": "markdown",
   "metadata": {},
   "source": [
    "* aiohttp: 비동기 HTTP 클라이언트/서버 프레임워크"
   ]
  },
  {
   "cell_type": "code",
   "execution_count": 5,
   "metadata": {},
   "outputs": [
    {
     "name": "stdout",
     "output_type": "stream",
     "text": [
      "Collecting aiohttp\n",
      "  Downloading aiohttp-3.9.5-cp312-cp312-win_amd64.whl.metadata (7.7 kB)\n",
      "Requirement already satisfied: aiosignal>=1.1.2 in c:\\python312\\lib\\site-packages (from aiohttp) (1.3.1)\n",
      "Requirement already satisfied: attrs>=17.3.0 in c:\\python312\\lib\\site-packages (from aiohttp) (23.2.0)\n",
      "Requirement already satisfied: frozenlist>=1.1.1 in c:\\python312\\lib\\site-packages (from aiohttp) (1.4.1)\n",
      "Collecting multidict<7.0,>=4.5 (from aiohttp)\n",
      "  Downloading multidict-6.0.5-cp312-cp312-win_amd64.whl.metadata (4.3 kB)\n",
      "Collecting yarl<2.0,>=1.0 (from aiohttp)\n",
      "  Downloading yarl-1.9.4-cp312-cp312-win_amd64.whl.metadata (32 kB)\n",
      "Requirement already satisfied: idna>=2.0 in c:\\python312\\lib\\site-packages (from yarl<2.0,>=1.0->aiohttp) (3.7)\n",
      "Downloading aiohttp-3.9.5-cp312-cp312-win_amd64.whl (369 kB)\n",
      "   ---------------------------------------- 0.0/369.0 kB ? eta -:--:--\n",
      "   --------------------------------------  368.6/369.0 kB 11.6 MB/s eta 0:00:01\n",
      "   ---------------------------------------- 369.0/369.0 kB 5.8 MB/s eta 0:00:00\n",
      "Downloading multidict-6.0.5-cp312-cp312-win_amd64.whl (27 kB)\n",
      "Downloading yarl-1.9.4-cp312-cp312-win_amd64.whl (76 kB)\n",
      "   ---------------------------------------- 0.0/76.4 kB ? eta -:--:--\n",
      "   ---------------------------------------- 76.4/76.4 kB ? eta 0:00:00\n",
      "Installing collected packages: multidict, yarl, aiohttp\n",
      "Successfully installed aiohttp-3.9.5 multidict-6.0.5 yarl-1.9.4\n",
      "Note: you may need to restart the kernel to use updated packages.\n"
     ]
    }
   ],
   "source": [
    "%pip install aiohttp"
   ]
  },
  {
   "cell_type": "markdown",
   "metadata": {},
   "source": [
    "* gevent: 비동기 프로그래밍을 위한 경량화된 코루틴 라이브러리"
   ]
  },
  {
   "cell_type": "code",
   "execution_count": 4,
   "metadata": {},
   "outputs": [
    {
     "name": "stdout",
     "output_type": "stream",
     "text": [
      "Requirement already satisfied: gevent in c:\\users\\hyunyoun\\appdata\\roaming\\python\\python312\\site-packages (24.2.1)\n",
      "Requirement already satisfied: zope.event in c:\\python312\\lib\\site-packages (from gevent) (5.0)\n",
      "Requirement already satisfied: zope.interface in c:\\python312\\lib\\site-packages (from gevent) (6.4.post2)\n",
      "Requirement already satisfied: greenlet>=3.0rc3 in c:\\python312\\lib\\site-packages (from gevent) (3.0.3)\n",
      "Requirement already satisfied: cffi>=1.12.2 in c:\\python312\\lib\\site-packages (from gevent) (1.16.0)\n",
      "Requirement already satisfied: pycparser in c:\\python312\\lib\\site-packages (from cffi>=1.12.2->gevent) (2.22)\n",
      "Requirement already satisfied: setuptools in c:\\python312\\lib\\site-packages (from zope.event->gevent) (70.1.1)\n",
      "Note: you may need to restart the kernel to use updated packages.\n"
     ]
    }
   ],
   "source": [
    "%pip install gevent"
   ]
  },
  {
   "cell_type": "markdown",
   "metadata": {},
   "source": [
    "## 실시간 통신"
   ]
  },
  {
   "cell_type": "markdown",
   "metadata": {},
   "source": [
    "* websockets 설치"
   ]
  },
  {
   "cell_type": "code",
   "execution_count": 3,
   "metadata": {},
   "outputs": [
    {
     "name": "stdout",
     "output_type": "stream",
     "text": [
      "Requirement already satisfied: websockets in c:\\python312\\lib\\site-packages (12.0)\n",
      "Note: you may need to restart the kernel to use updated packages.\n"
     ]
    }
   ],
   "source": [
    "%pip install websockets\n"
   ]
  },
  {
   "cell_type": "markdown",
   "metadata": {},
   "source": [
    "* paho-mqtt 설치"
   ]
  },
  {
   "cell_type": "code",
   "execution_count": 5,
   "metadata": {},
   "outputs": [
    {
     "name": "stdout",
     "output_type": "stream",
     "text": [
      "Collecting paho-mqtt\n",
      "  Downloading paho_mqtt-2.1.0-py3-none-any.whl.metadata (23 kB)\n",
      "Downloading paho_mqtt-2.1.0-py3-none-any.whl (67 kB)\n",
      "   ---------------------------------------- 0.0/67.2 kB ? eta -:--:--\n",
      "   ---------------------------------------- 67.2/67.2 kB 3.6 MB/s eta 0:00:00\n",
      "Installing collected packages: paho-mqtt\n",
      "Successfully installed paho-mqtt-2.1.0\n",
      "Note: you may need to restart the kernel to use updated packages.\n"
     ]
    }
   ],
   "source": [
    "%pip install paho-mqtt"
   ]
  },
  {
   "cell_type": "markdown",
   "metadata": {},
   "source": [
    "* python-socketio 설치"
   ]
  },
  {
   "cell_type": "code",
   "execution_count": 6,
   "metadata": {},
   "outputs": [
    {
     "name": "stdout",
     "output_type": "stream",
     "text": [
      "Collecting python-socketioNote: you may need to restart the kernel to use updated packages.\n",
      "\n",
      "  Downloading python_socketio-5.11.3-py3-none-any.whl.metadata (3.2 kB)\n",
      "Collecting bidict>=0.21.0 (from python-socketio)\n",
      "  Downloading bidict-0.23.1-py3-none-any.whl.metadata (8.7 kB)\n",
      "Collecting python-engineio>=4.8.0 (from python-socketio)\n",
      "  Downloading python_engineio-4.9.1-py3-none-any.whl.metadata (2.2 kB)\n",
      "Collecting simple-websocket>=0.10.0 (from python-engineio>=4.8.0->python-socketio)\n",
      "  Downloading simple_websocket-1.0.0-py3-none-any.whl.metadata (1.3 kB)\n",
      "Collecting wsproto (from simple-websocket>=0.10.0->python-engineio>=4.8.0->python-socketio)\n",
      "  Downloading wsproto-1.2.0-py3-none-any.whl.metadata (5.6 kB)\n",
      "Requirement already satisfied: h11<1,>=0.9.0 in c:\\python312\\lib\\site-packages (from wsproto->simple-websocket>=0.10.0->python-engineio>=4.8.0->python-socketio) (0.14.0)\n",
      "Downloading python_socketio-5.11.3-py3-none-any.whl (76 kB)\n",
      "   ---------------------------------------- 0.0/76.2 kB ? eta -:--:--\n",
      "   ---------------------------------------- 76.2/76.2 kB 4.1 MB/s eta 0:00:00\n",
      "Downloading bidict-0.23.1-py3-none-any.whl (32 kB)\n",
      "Downloading python_engineio-4.9.1-py3-none-any.whl (57 kB)\n",
      "   ---------------------------------------- 0.0/57.7 kB ? eta -:--:--\n",
      "   ---------------------------------------- 57.7/57.7 kB 3.0 MB/s eta 0:00:00\n",
      "Downloading simple_websocket-1.0.0-py3-none-any.whl (13 kB)\n",
      "Downloading wsproto-1.2.0-py3-none-any.whl (24 kB)\n",
      "Installing collected packages: wsproto, bidict, simple-websocket, python-engineio, python-socketio\n",
      "Successfully installed bidict-0.23.1 python-engineio-4.9.1 python-socketio-5.11.3 simple-websocket-1.0.0 wsproto-1.2.0\n"
     ]
    }
   ],
   "source": [
    "%pip install python-socketio"
   ]
  },
  {
   "cell_type": "markdown",
   "metadata": {},
   "source": [
    "## 웹 어플리케이션 프론트엔드"
   ]
  },
  {
   "cell_type": "markdown",
   "metadata": {},
   "source": [
    "* FastUI: 더 빠르고 좋은 웹 애플리케이션 UI"
   ]
  },
  {
   "cell_type": "code",
   "execution_count": 9,
   "metadata": {},
   "outputs": [
    {
     "name": "stdout",
     "output_type": "stream",
     "text": [
      "Collecting fastui\n",
      "  Downloading fastui-0.6.0-py3-none-any.whl.metadata (1.6 kB)\n",
      "Requirement already satisfied: pydantic>=2.5.2 in c:\\python312\\lib\\site-packages (from pydantic[email]>=2.5.2->fastui) (2.8.2)\n",
      "Requirement already satisfied: annotated-types>=0.4.0 in c:\\python312\\lib\\site-packages (from pydantic>=2.5.2->pydantic[email]>=2.5.2->fastui) (0.7.0)\n",
      "Requirement already satisfied: pydantic-core==2.20.1 in c:\\python312\\lib\\site-packages (from pydantic>=2.5.2->pydantic[email]>=2.5.2->fastui) (2.20.1)\n",
      "Requirement already satisfied: typing-extensions>=4.6.1 in c:\\python312\\lib\\site-packages (from pydantic>=2.5.2->pydantic[email]>=2.5.2->fastui) (4.12.2)\n",
      "Collecting email-validator>=2.0.0 (from pydantic[email]>=2.5.2->fastui)\n",
      "  Downloading email_validator-2.2.0-py3-none-any.whl.metadata (25 kB)\n",
      "Requirement already satisfied: dnspython>=2.0.0 in c:\\python312\\lib\\site-packages (from email-validator>=2.0.0->pydantic[email]>=2.5.2->fastui) (2.6.1)\n",
      "Requirement already satisfied: idna>=2.0.0 in c:\\python312\\lib\\site-packages (from email-validator>=2.0.0->pydantic[email]>=2.5.2->fastui) (3.7)\n",
      "Downloading fastui-0.6.0-py3-none-any.whl (28 kB)\n",
      "Downloading email_validator-2.2.0-py3-none-any.whl (33 kB)\n",
      "Installing collected packages: email-validator, fastui\n",
      "Note: you may need to restart the kernel to use updated packages.\n"
     ]
    },
    {
     "name": "stderr",
     "output_type": "stream",
     "text": [
      "  WARNING: Failed to write executable - trying to use .deleteme logic\n",
      "ERROR: Could not install packages due to an OSError: [WinError 2] 지정된 파일을 찾을 수 없습니다: 'c:\\\\Python312\\\\Scripts\\\\email_validator.exe' -> 'c:\\\\Python312\\\\Scripts\\\\email_validator.exe.deleteme'\n",
      "\n"
     ]
    }
   ],
   "source": [
    "%pip install fastui"
   ]
  },
  {
   "cell_type": "markdown",
   "metadata": {},
   "source": [
    "* JustPy: 객체 지향 고수준 파이썬 웹 프레임워크"
   ]
  },
  {
   "cell_type": "code",
   "execution_count": 11,
   "metadata": {},
   "outputs": [
    {
     "name": "stdout",
     "output_type": "stream",
     "text": [
      "Collecting justpy\n",
      "  Downloading justpy-0.14.0-py3-none-any.whl.metadata (23 kB)\n",
      "Collecting addict>=2.4.0 (from justpy)\n",
      "  Downloading addict-2.4.0-py3-none-any.whl.metadata (1.0 kB)\n",
      "Collecting aiofiles (from justpy)\n",
      "  Using cached aiofiles-24.1.0-py3-none-any.whl.metadata (10 kB)\n",
      "Collecting fastapi (from justpy)\n",
      "  Downloading fastapi-0.111.0-py3-none-any.whl.metadata (25 kB)\n",
      "Collecting hjson>=3.1.0 (from justpy)\n",
      "  Downloading hjson-3.1.0-py3-none-any.whl.metadata (2.6 kB)\n",
      "Requirement already satisfied: httpx>=0.23.0 in c:\\python312\\lib\\site-packages (from justpy) (0.27.0)\n",
      "Collecting itsdangerous>=2.1.2 (from justpy)\n",
      "  Using cached itsdangerous-2.2.0-py3-none-any.whl.metadata (1.9 kB)\n",
      "Requirement already satisfied: jinja2>=3.1.2 in c:\\python312\\lib\\site-packages (from justpy) (3.1.4)\n",
      "Requirement already satisfied: psutil>=5.9.2 in c:\\python312\\lib\\site-packages (from justpy) (6.0.0)\n",
      "Collecting starlette>=0.20.4 (from justpy)\n",
      "  Downloading starlette-0.37.2-py3-none-any.whl.metadata (5.9 kB)\n",
      "Collecting twine (from justpy)\n",
      "  Downloading twine-5.1.1-py3-none-any.whl.metadata (3.5 kB)\n",
      "Collecting uvicorn>=0.18.3 (from justpy)\n",
      "  Using cached uvicorn-0.30.1-py3-none-any.whl.metadata (6.3 kB)\n",
      "Requirement already satisfied: websockets in c:\\python312\\lib\\site-packages (from justpy) (12.0)\n",
      "Collecting wheel (from justpy)\n",
      "  Using cached wheel-0.43.0-py3-none-any.whl.metadata (2.2 kB)\n",
      "Requirement already satisfied: anyio in c:\\python312\\lib\\site-packages (from httpx>=0.23.0->justpy) (4.4.0)\n",
      "Requirement already satisfied: certifi in c:\\python312\\lib\\site-packages (from httpx>=0.23.0->justpy) (2024.6.2)\n",
      "Requirement already satisfied: httpcore==1.* in c:\\python312\\lib\\site-packages (from httpx>=0.23.0->justpy) (1.0.5)\n",
      "Requirement already satisfied: idna in c:\\python312\\lib\\site-packages (from httpx>=0.23.0->justpy) (3.7)\n",
      "Requirement already satisfied: sniffio in c:\\python312\\lib\\site-packages (from httpx>=0.23.0->justpy) (1.3.1)\n",
      "Requirement already satisfied: h11<0.15,>=0.13 in c:\\python312\\lib\\site-packages (from httpcore==1.*->httpx>=0.23.0->justpy) (0.14.0)\n",
      "Requirement already satisfied: MarkupSafe>=2.0 in c:\\python312\\lib\\site-packages (from jinja2>=3.1.2->justpy) (2.1.5)\n",
      "Requirement already satisfied: click>=7.0 in c:\\python312\\lib\\site-packages (from uvicorn>=0.18.3->justpy) (8.1.7)\n",
      "Requirement already satisfied: pydantic!=1.8,!=1.8.1,!=2.0.0,!=2.0.1,!=2.1.0,<3.0.0,>=1.7.4 in c:\\python312\\lib\\site-packages (from fastapi->justpy) (2.8.2)\n",
      "Requirement already satisfied: typing-extensions>=4.8.0 in c:\\python312\\lib\\site-packages (from fastapi->justpy) (4.12.2)\n",
      "Collecting fastapi-cli>=0.0.2 (from fastapi->justpy)\n",
      "  Downloading fastapi_cli-0.0.4-py3-none-any.whl.metadata (7.0 kB)\n",
      "Requirement already satisfied: python-multipart>=0.0.7 in c:\\python312\\lib\\site-packages (from fastapi->justpy) (0.0.9)\n",
      "Collecting ujson!=4.0.2,!=4.1.0,!=4.2.0,!=4.3.0,!=5.0.0,!=5.1.0,>=4.0.1 (from fastapi->justpy)\n",
      "  Downloading ujson-5.10.0-cp312-cp312-win_amd64.whl.metadata (9.5 kB)\n",
      "Collecting orjson>=3.2.1 (from fastapi->justpy)\n",
      "  Using cached orjson-3.10.6-cp312-none-win_amd64.whl.metadata (51 kB)\n",
      "Requirement already satisfied: email_validator>=2.0.0 in c:\\python312\\lib\\site-packages (from fastapi->justpy) (2.2.0)\n",
      "Collecting pkginfo>=1.8.1 (from twine->justpy)\n",
      "  Downloading pkginfo-1.11.1-py3-none-any.whl.metadata (11 kB)\n",
      "Collecting readme-renderer>=35.0 (from twine->justpy)\n",
      "  Downloading readme_renderer-43.0-py3-none-any.whl.metadata (2.8 kB)\n",
      "Requirement already satisfied: requests>=2.20 in c:\\python312\\lib\\site-packages (from twine->justpy) (2.32.3)\n",
      "Collecting requests-toolbelt!=0.9.0,>=0.8.0 (from twine->justpy)\n",
      "  Downloading requests_toolbelt-1.0.0-py2.py3-none-any.whl.metadata (14 kB)\n",
      "Requirement already satisfied: urllib3>=1.26.0 in c:\\python312\\lib\\site-packages (from twine->justpy) (2.2.2)\n",
      "Collecting importlib-metadata>=3.6 (from twine->justpy)\n",
      "  Downloading importlib_metadata-8.0.0-py3-none-any.whl.metadata (4.6 kB)\n",
      "Collecting keyring>=15.1 (from twine->justpy)\n",
      "  Downloading keyring-25.2.1-py3-none-any.whl.metadata (20 kB)\n",
      "Collecting rfc3986>=1.4.0 (from twine->justpy)\n",
      "  Downloading rfc3986-2.0.0-py2.py3-none-any.whl.metadata (6.6 kB)\n",
      "Requirement already satisfied: rich>=12.0.0 in c:\\users\\hyunyoun\\appdata\\roaming\\python\\python312\\site-packages (from twine->justpy) (13.7.1)\n",
      "Collecting pkginfo>=1.8.1 (from twine->justpy)\n",
      "  Downloading pkginfo-1.10.0-py3-none-any.whl.metadata (11 kB)\n",
      "Requirement already satisfied: colorama in c:\\python312\\lib\\site-packages (from click>=7.0->uvicorn>=0.18.3->justpy) (0.4.6)\n",
      "Requirement already satisfied: dnspython>=2.0.0 in c:\\python312\\lib\\site-packages (from email_validator>=2.0.0->fastapi->justpy) (2.6.1)\n",
      "Collecting typer>=0.12.3 (from fastapi-cli>=0.0.2->fastapi->justpy)\n",
      "  Downloading typer-0.12.3-py3-none-any.whl.metadata (15 kB)\n",
      "Collecting zipp>=0.5 (from importlib-metadata>=3.6->twine->justpy)\n",
      "  Downloading zipp-3.19.2-py3-none-any.whl.metadata (3.6 kB)\n",
      "Collecting jaraco.classes (from keyring>=15.1->twine->justpy)\n",
      "  Downloading jaraco.classes-3.4.0-py3-none-any.whl.metadata (2.6 kB)\n",
      "Collecting jaraco.functools (from keyring>=15.1->twine->justpy)\n",
      "  Downloading jaraco.functools-4.0.1-py3-none-any.whl.metadata (2.9 kB)\n",
      "Collecting jaraco.context (from keyring>=15.1->twine->justpy)\n",
      "  Downloading jaraco.context-5.3.0-py3-none-any.whl.metadata (4.0 kB)\n",
      "Collecting pywin32-ctypes>=0.2.0 (from keyring>=15.1->twine->justpy)\n",
      "  Downloading pywin32_ctypes-0.2.2-py3-none-any.whl.metadata (3.8 kB)\n",
      "Requirement already satisfied: annotated-types>=0.4.0 in c:\\python312\\lib\\site-packages (from pydantic!=1.8,!=1.8.1,!=2.0.0,!=2.0.1,!=2.1.0,<3.0.0,>=1.7.4->fastapi->justpy) (0.7.0)\n",
      "Requirement already satisfied: pydantic-core==2.20.1 in c:\\python312\\lib\\site-packages (from pydantic!=1.8,!=1.8.1,!=2.0.0,!=2.0.1,!=2.1.0,<3.0.0,>=1.7.4->fastapi->justpy) (2.20.1)\n",
      "Collecting nh3>=0.2.14 (from readme-renderer>=35.0->twine->justpy)\n",
      "  Downloading nh3-0.2.18-cp37-abi3-win_amd64.whl.metadata (1.8 kB)\n",
      "Collecting docutils>=0.13.1 (from readme-renderer>=35.0->twine->justpy)\n",
      "  Downloading docutils-0.21.2-py3-none-any.whl.metadata (2.8 kB)\n",
      "Requirement already satisfied: Pygments>=2.5.1 in c:\\python312\\lib\\site-packages (from readme-renderer>=35.0->twine->justpy) (2.18.0)\n",
      "Requirement already satisfied: charset-normalizer<4,>=2 in c:\\python312\\lib\\site-packages (from requests>=2.20->twine->justpy) (3.3.2)\n",
      "Requirement already satisfied: markdown-it-py>=2.2.0 in c:\\users\\hyunyoun\\appdata\\roaming\\python\\python312\\site-packages (from rich>=12.0.0->twine->justpy) (3.0.0)\n",
      "Collecting httptools>=0.5.0 (from uvicorn[standard]>=0.12.0->fastapi->justpy)\n",
      "  Using cached httptools-0.6.1-cp312-cp312-win_amd64.whl.metadata (3.7 kB)\n",
      "Requirement already satisfied: python-dotenv>=0.13 in c:\\python312\\lib\\site-packages (from uvicorn[standard]>=0.12.0->fastapi->justpy) (1.0.1)\n",
      "Requirement already satisfied: pyyaml>=5.1 in c:\\python312\\lib\\site-packages (from uvicorn[standard]>=0.12.0->fastapi->justpy) (6.0.1)\n",
      "Collecting watchfiles>=0.13 (from uvicorn[standard]>=0.12.0->fastapi->justpy)\n",
      "  Using cached watchfiles-0.22.0-cp312-none-win_amd64.whl.metadata (5.0 kB)\n",
      "Requirement already satisfied: mdurl~=0.1 in c:\\users\\hyunyoun\\appdata\\roaming\\python\\python312\\site-packages (from markdown-it-py>=2.2.0->rich>=12.0.0->twine->justpy) (0.1.2)\n",
      "Collecting shellingham>=1.3.0 (from typer>=0.12.3->fastapi-cli>=0.0.2->fastapi->justpy)\n",
      "  Downloading shellingham-1.5.4-py2.py3-none-any.whl.metadata (3.5 kB)\n",
      "Collecting more-itertools (from jaraco.classes->keyring>=15.1->twine->justpy)\n",
      "  Downloading more_itertools-10.3.0-py3-none-any.whl.metadata (36 kB)\n",
      "Downloading justpy-0.14.0-py3-none-any.whl (5.0 MB)\n",
      "   ---------------------------------------- 0.0/5.0 MB ? eta -:--:--\n",
      "   ----- ---------------------------------- 0.6/5.0 MB 13.3 MB/s eta 0:00:01\n",
      "   -------- ------------------------------- 1.0/5.0 MB 13.3 MB/s eta 0:00:01\n",
      "   ------------ --------------------------- 1.6/5.0 MB 14.3 MB/s eta 0:00:01\n",
      "   ---------------- ----------------------- 2.1/5.0 MB 13.0 MB/s eta 0:00:01\n",
      "   --------------------- ------------------ 2.7/5.0 MB 13.0 MB/s eta 0:00:01\n",
      "   ------------------------- -------------- 3.1/5.0 MB 12.5 MB/s eta 0:00:01\n",
      "   ---------------------------- ----------- 3.6/5.0 MB 12.1 MB/s eta 0:00:01\n",
      "   -------------------------------- ------- 4.1/5.0 MB 12.4 MB/s eta 0:00:01\n",
      "   --------------------------------- ------ 4.2/5.0 MB 12.1 MB/s eta 0:00:01\n",
      "   --------------------------------- ------ 4.2/5.0 MB 12.1 MB/s eta 0:00:01\n",
      "   --------------------------------- ------ 4.2/5.0 MB 12.1 MB/s eta 0:00:01\n",
      "   --------------------------------- ------ 4.2/5.0 MB 12.1 MB/s eta 0:00:01\n",
      "   -------------------------------------- - 4.7/5.0 MB 8.9 MB/s eta 0:00:01\n",
      "   ---------------------------------------  5.0/5.0 MB 9.1 MB/s eta 0:00:01\n",
      "   ---------------------------------------- 5.0/5.0 MB 8.6 MB/s eta 0:00:00\n",
      "Downloading addict-2.4.0-py3-none-any.whl (3.8 kB)\n",
      "Downloading hjson-3.1.0-py3-none-any.whl (54 kB)\n",
      "   ---------------------------------------- 0.0/54.0 kB ? eta -:--:--\n",
      "   ---------------------------------------- 54.0/54.0 kB 2.9 MB/s eta 0:00:00\n",
      "Using cached itsdangerous-2.2.0-py3-none-any.whl (16 kB)\n",
      "Downloading starlette-0.37.2-py3-none-any.whl (71 kB)\n",
      "   ---------------------------------------- 0.0/71.9 kB ? eta -:--:--\n",
      "   ---------------------------------------- 71.9/71.9 kB ? eta 0:00:00\n",
      "Using cached uvicorn-0.30.1-py3-none-any.whl (62 kB)\n",
      "Using cached aiofiles-24.1.0-py3-none-any.whl (15 kB)\n",
      "Downloading fastapi-0.111.0-py3-none-any.whl (91 kB)\n",
      "   ---------------------------------------- 0.0/92.0 kB ? eta -:--:--\n",
      "   ---------------------------------------- 92.0/92.0 kB 5.1 MB/s eta 0:00:00\n",
      "Downloading twine-5.1.1-py3-none-any.whl (38 kB)\n",
      "Using cached wheel-0.43.0-py3-none-any.whl (65 kB)\n",
      "Downloading fastapi_cli-0.0.4-py3-none-any.whl (9.5 kB)\n",
      "Downloading importlib_metadata-8.0.0-py3-none-any.whl (24 kB)\n",
      "Downloading keyring-25.2.1-py3-none-any.whl (38 kB)\n",
      "Using cached orjson-3.10.6-cp312-none-win_amd64.whl (136 kB)\n",
      "Downloading pkginfo-1.10.0-py3-none-any.whl (30 kB)\n",
      "Downloading readme_renderer-43.0-py3-none-any.whl (13 kB)\n",
      "Downloading requests_toolbelt-1.0.0-py2.py3-none-any.whl (54 kB)\n",
      "   ---------------------------------------- 0.0/54.5 kB ? eta -:--:--\n",
      "   ---------------------------------------- 54.5/54.5 kB ? eta 0:00:00\n",
      "Downloading rfc3986-2.0.0-py2.py3-none-any.whl (31 kB)\n",
      "Downloading ujson-5.10.0-cp312-cp312-win_amd64.whl (42 kB)\n",
      "   ---------------------------------------- 0.0/42.2 kB ? eta -:--:--\n",
      "   ---------------------------------------- 42.2/42.2 kB 2.1 MB/s eta 0:00:00\n",
      "Downloading docutils-0.21.2-py3-none-any.whl (587 kB)\n",
      "   ---------------------------------------- 0.0/587.4 kB ? eta -:--:--\n",
      "   ----------------------------- ---------- 440.3/587.4 kB 9.2 MB/s eta 0:00:01\n",
      "   ---------------------------------------- 587.4/587.4 kB 7.3 MB/s eta 0:00:00\n",
      "Using cached httptools-0.6.1-cp312-cp312-win_amd64.whl (55 kB)\n",
      "Downloading nh3-0.2.18-cp37-abi3-win_amd64.whl (579 kB)\n",
      "   ---------------------------------------- 0.0/579.0 kB ? eta -:--:--\n",
      "   --------------------------------------  573.4/579.0 kB 18.2 MB/s eta 0:00:01\n",
      "   --------------------------------------- 579.0/579.0 kB 12.1 MB/s eta 0:00:00\n",
      "Downloading pywin32_ctypes-0.2.2-py3-none-any.whl (30 kB)\n",
      "Downloading typer-0.12.3-py3-none-any.whl (47 kB)\n",
      "   ---------------------------------------- 0.0/47.2 kB ? eta -:--:--\n",
      "   ---------------------------------------- 47.2/47.2 kB 2.3 MB/s eta 0:00:00\n",
      "Using cached watchfiles-0.22.0-cp312-none-win_amd64.whl (280 kB)\n",
      "Downloading zipp-3.19.2-py3-none-any.whl (9.0 kB)\n",
      "Downloading jaraco.classes-3.4.0-py3-none-any.whl (6.8 kB)\n",
      "Downloading jaraco.context-5.3.0-py3-none-any.whl (6.5 kB)\n",
      "Downloading jaraco.functools-4.0.1-py3-none-any.whl (9.8 kB)\n",
      "Downloading shellingham-1.5.4-py2.py3-none-any.whl (9.8 kB)\n",
      "Downloading more_itertools-10.3.0-py3-none-any.whl (59 kB)\n",
      "   ---------------------------------------- 0.0/59.2 kB ? eta -:--:--\n",
      "   ---------------------------------------- 59.2/59.2 kB 3.1 MB/s eta 0:00:00\n",
      "Installing collected packages: nh3, hjson, addict, zipp, wheel, ujson, shellingham, rfc3986, pywin32-ctypes, pkginfo, orjson, more-itertools, jaraco.context, itsdangerous, httptools, docutils, aiofiles, watchfiles, uvicorn, starlette, requests-toolbelt, readme-renderer, jaraco.functools, jaraco.classes, importlib-metadata, typer, keyring, twine, fastapi-cli, fastapi, justpy\n",
      "Note: you may need to restart the kernel to use updated packages.\n"
     ]
    },
    {
     "name": "stderr",
     "output_type": "stream",
     "text": [
      "  WARNING: Failed to write executable - trying to use .deleteme logic\n",
      "ERROR: Could not install packages due to an OSError: [WinError 2] 지정된 파일을 찾을 수 없습니다: 'c:\\\\Python312\\\\Scripts\\\\hjson.exe' -> 'c:\\\\Python312\\\\Scripts\\\\hjson.exe.deleteme'\n",
      "\n"
     ]
    }
   ],
   "source": [
    "%pip install justpy"
   ]
  },
  {
   "cell_type": "markdown",
   "metadata": {},
   "source": [
    "* NiceGUI: JustPy 기반 웹 프레임워크"
   ]
  },
  {
   "cell_type": "code",
   "execution_count": 10,
   "metadata": {},
   "outputs": [
    {
     "name": "stdout",
     "output_type": "stream",
     "text": [
      "Collecting niceguiNote: you may need to restart the kernel to use updated packages.\n"
     ]
    },
    {
     "name": "stderr",
     "output_type": "stream",
     "text": [
      "  WARNING: Failed to write executable - trying to use .deleteme logic\n",
      "ERROR: Could not install packages due to an OSError: [WinError 2] 지정된 파일을 찾을 수 없습니다: 'c:\\\\Python312\\\\Scripts\\\\dotenv.exe' -> 'c:\\\\Python312\\\\Scripts\\\\dotenv.exe.deleteme'\n",
      "\n"
     ]
    },
    {
     "name": "stdout",
     "output_type": "stream",
     "text": [
      "\n",
      "  Downloading nicegui-1.4.28-py3-none-any.whl.metadata (9.4 kB)\n",
      "Requirement already satisfied: Pygments<3.0.0,>=2.15.1 in c:\\python312\\lib\\site-packages (from nicegui) (2.18.0)\n",
      "Collecting aiofiles>=23.1.0 (from nicegui)\n",
      "  Downloading aiofiles-24.1.0-py3-none-any.whl.metadata (10 kB)\n",
      "Requirement already satisfied: aiohttp>=3.9.2 in c:\\python312\\lib\\site-packages (from nicegui) (3.9.5)\n",
      "Collecting docutils<0.20,>=0.19 (from nicegui)\n",
      "  Downloading docutils-0.19-py3-none-any.whl.metadata (2.7 kB)\n",
      "Collecting fastapi<0.110.0,>=0.109.1 (from nicegui)\n",
      "  Downloading fastapi-0.109.2-py3-none-any.whl.metadata (25 kB)\n",
      "Requirement already satisfied: httpx>=0.24.0 in c:\\python312\\lib\\site-packages (from nicegui) (0.27.0)\n",
      "Collecting ifaddr>=0.2.0 (from nicegui)\n",
      "  Downloading ifaddr-0.2.0-py3-none-any.whl.metadata (4.9 kB)\n",
      "Collecting itsdangerous<3.0.0,>=2.1.2 (from nicegui)\n",
      "  Using cached itsdangerous-2.2.0-py3-none-any.whl.metadata (1.9 kB)\n",
      "Requirement already satisfied: jinja2<4.0.0,>=3.1.4 in c:\\python312\\lib\\site-packages (from nicegui) (3.1.4)\n",
      "Collecting markdown2!=2.4.11,>=2.4.7 (from nicegui)\n",
      "  Downloading markdown2-2.4.13-py2.py3-none-any.whl.metadata (2.0 kB)\n",
      "Collecting orjson>=3.9.15 (from nicegui)\n",
      "  Downloading orjson-3.10.6-cp312-none-win_amd64.whl.metadata (51 kB)\n",
      "     ---------------------------------------- 0.0/51.6 kB ? eta -:--:--\n",
      "     ---------------------------------------- 51.6/51.6 kB 2.6 MB/s eta 0:00:00\n",
      "Collecting python-multipart>=0.0.7 (from nicegui)\n",
      "  Downloading python_multipart-0.0.9-py3-none-any.whl.metadata (2.5 kB)\n",
      "Requirement already satisfied: python-socketio>=5.10.0 in c:\\python312\\lib\\site-packages (from python-socketio[asyncio-client]>=5.10.0->nicegui) (5.11.3)\n",
      "Requirement already satisfied: requests>=2.32.0 in c:\\python312\\lib\\site-packages (from nicegui) (2.32.3)\n",
      "Requirement already satisfied: typing-extensions>=4.0.0 in c:\\python312\\lib\\site-packages (from nicegui) (4.12.2)\n",
      "Collecting uvicorn>=0.22.0 (from uvicorn[standard]>=0.22.0->nicegui)\n",
      "  Downloading uvicorn-0.30.1-py3-none-any.whl.metadata (6.3 kB)\n",
      "Collecting vbuild>=0.8.2 (from nicegui)\n",
      "  Downloading vbuild-0.8.2-py2.py3-none-any.whl.metadata (5.0 kB)\n",
      "Collecting watchfiles>=0.18.1 (from nicegui)\n",
      "  Downloading watchfiles-0.22.0-cp312-none-win_amd64.whl.metadata (5.0 kB)\n",
      "Requirement already satisfied: aiosignal>=1.1.2 in c:\\python312\\lib\\site-packages (from aiohttp>=3.9.2->nicegui) (1.3.1)\n",
      "Requirement already satisfied: attrs>=17.3.0 in c:\\python312\\lib\\site-packages (from aiohttp>=3.9.2->nicegui) (23.2.0)\n",
      "Requirement already satisfied: frozenlist>=1.1.1 in c:\\python312\\lib\\site-packages (from aiohttp>=3.9.2->nicegui) (1.4.1)\n",
      "Requirement already satisfied: multidict<7.0,>=4.5 in c:\\python312\\lib\\site-packages (from aiohttp>=3.9.2->nicegui) (6.0.5)\n",
      "Requirement already satisfied: yarl<2.0,>=1.0 in c:\\python312\\lib\\site-packages (from aiohttp>=3.9.2->nicegui) (1.9.4)\n",
      "Requirement already satisfied: pydantic!=1.8,!=1.8.1,!=2.0.0,!=2.0.1,!=2.1.0,<3.0.0,>=1.7.4 in c:\\python312\\lib\\site-packages (from fastapi<0.110.0,>=0.109.1->nicegui) (2.8.2)\n",
      "Collecting starlette<0.37.0,>=0.36.3 (from fastapi<0.110.0,>=0.109.1->nicegui)\n",
      "  Downloading starlette-0.36.3-py3-none-any.whl.metadata (5.9 kB)\n",
      "Requirement already satisfied: anyio in c:\\python312\\lib\\site-packages (from httpx>=0.24.0->nicegui) (4.4.0)\n",
      "Requirement already satisfied: certifi in c:\\python312\\lib\\site-packages (from httpx>=0.24.0->nicegui) (2024.6.2)\n",
      "Requirement already satisfied: httpcore==1.* in c:\\python312\\lib\\site-packages (from httpx>=0.24.0->nicegui) (1.0.5)\n",
      "Requirement already satisfied: idna in c:\\python312\\lib\\site-packages (from httpx>=0.24.0->nicegui) (3.7)\n",
      "Requirement already satisfied: sniffio in c:\\python312\\lib\\site-packages (from httpx>=0.24.0->nicegui) (1.3.1)\n",
      "Requirement already satisfied: h11<0.15,>=0.13 in c:\\python312\\lib\\site-packages (from httpcore==1.*->httpx>=0.24.0->nicegui) (0.14.0)\n",
      "Requirement already satisfied: MarkupSafe>=2.0 in c:\\python312\\lib\\site-packages (from jinja2<4.0.0,>=3.1.4->nicegui) (2.1.5)\n",
      "Requirement already satisfied: bidict>=0.21.0 in c:\\python312\\lib\\site-packages (from python-socketio>=5.10.0->python-socketio[asyncio-client]>=5.10.0->nicegui) (0.23.1)\n",
      "Requirement already satisfied: python-engineio>=4.8.0 in c:\\python312\\lib\\site-packages (from python-socketio>=5.10.0->python-socketio[asyncio-client]>=5.10.0->nicegui) (4.9.1)\n",
      "Requirement already satisfied: charset-normalizer<4,>=2 in c:\\python312\\lib\\site-packages (from requests>=2.32.0->nicegui) (3.3.2)\n",
      "Requirement already satisfied: urllib3<3,>=1.21.1 in c:\\python312\\lib\\site-packages (from requests>=2.32.0->nicegui) (2.2.2)\n",
      "Requirement already satisfied: click>=7.0 in c:\\python312\\lib\\site-packages (from uvicorn>=0.22.0->uvicorn[standard]>=0.22.0->nicegui) (8.1.7)\n",
      "Requirement already satisfied: colorama>=0.4 in c:\\python312\\lib\\site-packages (from uvicorn[standard]>=0.22.0->nicegui) (0.4.6)\n",
      "Collecting httptools>=0.5.0 (from uvicorn[standard]>=0.22.0->nicegui)\n",
      "  Downloading httptools-0.6.1-cp312-cp312-win_amd64.whl.metadata (3.7 kB)\n",
      "Collecting python-dotenv>=0.13 (from uvicorn[standard]>=0.22.0->nicegui)\n",
      "  Downloading python_dotenv-1.0.1-py3-none-any.whl.metadata (23 kB)\n",
      "Requirement already satisfied: pyyaml>=5.1 in c:\\python312\\lib\\site-packages (from uvicorn[standard]>=0.22.0->nicegui) (6.0.1)\n",
      "Requirement already satisfied: websockets>=10.4 in c:\\python312\\lib\\site-packages (from uvicorn[standard]>=0.22.0->nicegui) (12.0)\n",
      "Collecting pscript<0.8.0,>=0.7.0 (from vbuild>=0.8.2->nicegui)\n",
      "  Downloading pscript-0.7.7-py3-none-any.whl.metadata (1.2 kB)\n",
      "Requirement already satisfied: annotated-types>=0.4.0 in c:\\python312\\lib\\site-packages (from pydantic!=1.8,!=1.8.1,!=2.0.0,!=2.0.1,!=2.1.0,<3.0.0,>=1.7.4->fastapi<0.110.0,>=0.109.1->nicegui) (0.7.0)\n",
      "Requirement already satisfied: pydantic-core==2.20.1 in c:\\python312\\lib\\site-packages (from pydantic!=1.8,!=1.8.1,!=2.0.0,!=2.0.1,!=2.1.0,<3.0.0,>=1.7.4->fastapi<0.110.0,>=0.109.1->nicegui) (2.20.1)\n",
      "Requirement already satisfied: simple-websocket>=0.10.0 in c:\\python312\\lib\\site-packages (from python-engineio>=4.8.0->python-socketio>=5.10.0->python-socketio[asyncio-client]>=5.10.0->nicegui) (1.0.0)\n",
      "Requirement already satisfied: wsproto in c:\\python312\\lib\\site-packages (from simple-websocket>=0.10.0->python-engineio>=4.8.0->python-socketio>=5.10.0->python-socketio[asyncio-client]>=5.10.0->nicegui) (1.2.0)\n",
      "Downloading nicegui-1.4.28-py3-none-any.whl (16.6 MB)\n",
      "   ---------------------------------------- 0.0/16.6 MB ? eta -:--:--\n",
      "   - -------------------------------------- 0.6/16.6 MB 12.0 MB/s eta 0:00:02\n",
      "   -- ------------------------------------- 1.1/16.6 MB 12.1 MB/s eta 0:00:02\n",
      "   ---- ----------------------------------- 1.7/16.6 MB 12.2 MB/s eta 0:00:02\n",
      "   ----- ---------------------------------- 2.3/16.6 MB 11.9 MB/s eta 0:00:02\n",
      "   ------ --------------------------------- 2.7/16.6 MB 11.5 MB/s eta 0:00:02\n",
      "   ------- -------------------------------- 3.3/16.6 MB 11.7 MB/s eta 0:00:02\n",
      "   --------- ------------------------------ 3.9/16.6 MB 11.7 MB/s eta 0:00:02\n",
      "   ---------- ----------------------------- 4.3/16.6 MB 11.9 MB/s eta 0:00:02\n",
      "   ----------- ---------------------------- 4.8/16.6 MB 11.7 MB/s eta 0:00:02\n",
      "   ------------ --------------------------- 5.2/16.6 MB 11.9 MB/s eta 0:00:01\n",
      "   ------------- -------------------------- 5.7/16.6 MB 11.8 MB/s eta 0:00:01\n",
      "   -------------- ------------------------- 6.2/16.6 MB 11.7 MB/s eta 0:00:01\n",
      "   ---------------- ----------------------- 6.7/16.6 MB 11.9 MB/s eta 0:00:01\n",
      "   ----------------- ---------------------- 7.2/16.6 MB 11.8 MB/s eta 0:00:01\n",
      "   ------------------ --------------------- 7.8/16.6 MB 11.8 MB/s eta 0:00:01\n",
      "   ------------------- -------------------- 8.2/16.6 MB 11.7 MB/s eta 0:00:01\n",
      "   --------------------- ------------------ 8.8/16.6 MB 11.7 MB/s eta 0:00:01\n",
      "   ---------------------- ----------------- 9.3/16.6 MB 11.6 MB/s eta 0:00:01\n",
      "   ----------------------- ---------------- 9.7/16.6 MB 11.7 MB/s eta 0:00:01\n",
      "   ------------------------ --------------- 10.4/16.6 MB 11.9 MB/s eta 0:00:01\n",
      "   -------------------------- ------------- 10.9/16.6 MB 11.5 MB/s eta 0:00:01\n",
      "   --------------------------- ------------ 11.5/16.6 MB 11.7 MB/s eta 0:00:01\n",
      "   ---------------------------- ----------- 11.9/16.6 MB 11.7 MB/s eta 0:00:01\n",
      "   ------------------------------ --------- 12.5/16.6 MB 11.7 MB/s eta 0:00:01\n",
      "   ------------------------------- -------- 13.0/16.6 MB 11.9 MB/s eta 0:00:01\n",
      "   -------------------------------- ------- 13.6/16.6 MB 11.9 MB/s eta 0:00:01\n",
      "   --------------------------------- ------ 14.1/16.6 MB 11.7 MB/s eta 0:00:01\n",
      "   ----------------------------------- ---- 14.6/16.6 MB 11.7 MB/s eta 0:00:01\n",
      "   ------------------------------------ --- 15.0/16.6 MB 11.7 MB/s eta 0:00:01\n",
      "   ------------------------------------- -- 15.5/16.6 MB 11.5 MB/s eta 0:00:01\n",
      "   -------------------------------------- - 16.0/16.6 MB 11.7 MB/s eta 0:00:01\n",
      "   ---------------------------------------  16.5/16.6 MB 11.7 MB/s eta 0:00:01\n",
      "   ---------------------------------------  16.6/16.6 MB 11.7 MB/s eta 0:00:01\n",
      "   ---------------------------------------  16.6/16.6 MB 11.7 MB/s eta 0:00:01\n",
      "   ---------------------------------------  16.6/16.6 MB 11.7 MB/s eta 0:00:01\n",
      "   ---------------------------------------  16.6/16.6 MB 11.7 MB/s eta 0:00:01\n",
      "   ---------------------------------------- 16.6/16.6 MB 9.8 MB/s eta 0:00:00\n",
      "Downloading aiofiles-24.1.0-py3-none-any.whl (15 kB)\n",
      "Downloading docutils-0.19-py3-none-any.whl (570 kB)\n",
      "   ---------------------------------------- 0.0/570.5 kB ? eta -:--:--\n",
      "   ------------------------------ -------- 440.3/570.5 kB 13.9 MB/s eta 0:00:01\n",
      "   ---------------------------------------- 570.5/570.5 kB 8.9 MB/s eta 0:00:00\n",
      "Downloading fastapi-0.109.2-py3-none-any.whl (92 kB)\n",
      "   ---------------------------------------- 0.0/92.1 kB ? eta -:--:--\n",
      "   ---------------------------------------- 92.1/92.1 kB 2.6 MB/s eta 0:00:00\n",
      "Downloading ifaddr-0.2.0-py3-none-any.whl (12 kB)\n",
      "Using cached itsdangerous-2.2.0-py3-none-any.whl (16 kB)\n",
      "Downloading markdown2-2.4.13-py2.py3-none-any.whl (41 kB)\n",
      "   ---------------------------------------- 0.0/41.3 kB ? eta -:--:--\n",
      "   ---------------------------------------- 41.3/41.3 kB ? eta 0:00:00\n",
      "Downloading orjson-3.10.6-cp312-none-win_amd64.whl (136 kB)\n",
      "   ---------------------------------------- 0.0/136.4 kB ? eta -:--:--\n",
      "   ---------------------------------------- 136.4/136.4 kB 4.1 MB/s eta 0:00:00\n",
      "Downloading python_multipart-0.0.9-py3-none-any.whl (22 kB)\n",
      "Downloading uvicorn-0.30.1-py3-none-any.whl (62 kB)\n",
      "   ---------------------------------------- 0.0/62.4 kB ? eta -:--:--\n",
      "   ---------------------------------------- 62.4/62.4 kB 3.3 MB/s eta 0:00:00\n",
      "Downloading vbuild-0.8.2-py2.py3-none-any.whl (9.4 kB)\n",
      "Downloading watchfiles-0.22.0-cp312-none-win_amd64.whl (280 kB)\n",
      "   ---------------------------------------- 0.0/281.0 kB ? eta -:--:--\n",
      "   ---------------------------------------- 281.0/281.0 kB 8.7 MB/s eta 0:00:00\n",
      "Downloading httptools-0.6.1-cp312-cp312-win_amd64.whl (55 kB)\n",
      "   ---------------------------------------- 0.0/55.7 kB ? eta -:--:--\n",
      "   ---------------------------------------- 55.7/55.7 kB 3.0 MB/s eta 0:00:00\n",
      "Downloading pscript-0.7.7-py3-none-any.whl (126 kB)\n",
      "   ---------------------------------------- 0.0/126.7 kB ? eta -:--:--\n",
      "   ---------------------------------------- 126.7/126.7 kB 7.3 MB/s eta 0:00:00\n",
      "Downloading python_dotenv-1.0.1-py3-none-any.whl (19 kB)\n",
      "Downloading starlette-0.36.3-py3-none-any.whl (71 kB)\n",
      "   ---------------------------------------- 0.0/71.5 kB ? eta -:--:--\n",
      "   ---------------------------------------- 71.5/71.5 kB 3.8 MB/s eta 0:00:00\n",
      "Installing collected packages: pscript, ifaddr, vbuild, python-multipart, python-dotenv, orjson, markdown2, itsdangerous, httptools, docutils, aiofiles, watchfiles, uvicorn, starlette, fastapi, nicegui\n"
     ]
    }
   ],
   "source": [
    "%pip install nicegui"
   ]
  },
  {
   "cell_type": "markdown",
   "metadata": {},
   "source": [
    "## 웹 프레임워크"
   ]
  },
  {
   "cell_type": "markdown",
   "metadata": {},
   "source": [
    "* Django: 강력한 기능의 웹 프레임워크"
   ]
  },
  {
   "cell_type": "code",
   "execution_count": 14,
   "metadata": {},
   "outputs": [
    {
     "name": "stdout",
     "output_type": "stream",
     "text": [
      "Requirement already satisfied: Django in c:\\python312\\lib\\site-packages (5.0.6)\n",
      "Requirement already satisfied: asgiref<4,>=3.7.0 in c:\\python312\\lib\\site-packages (from Django) (3.8.1)\n",
      "Requirement already satisfied: sqlparse>=0.3.1 in c:\\python312\\lib\\site-packages (from Django) (0.5.0)\n",
      "Requirement already satisfied: tzdata in c:\\python312\\lib\\site-packages (from Django) (2024.1)\n",
      "Note: you may need to restart the kernel to use updated packages.\n"
     ]
    }
   ],
   "source": [
    "%pip install Django --user"
   ]
  },
  {
   "cell_type": "markdown",
   "metadata": {},
   "source": [
    "* Channels: Django 애플리케이션에 비동기 처리와 실시간 통신 기능을 추가"
   ]
  },
  {
   "cell_type": "code",
   "execution_count": 22,
   "metadata": {},
   "outputs": [
    {
     "name": "stdout",
     "output_type": "stream",
     "text": [
      "Collecting channels\n",
      "  Downloading channels-4.1.0-py3-none-any.whl.metadata (4.5 kB)\n",
      "Requirement already satisfied: Django>=4.2 in c:\\python312\\lib\\site-packages (from channels) (5.0.6)\n",
      "Requirement already satisfied: asgiref<4,>=3.6.0 in c:\\python312\\lib\\site-packages (from channels) (3.8.1)\n",
      "Requirement already satisfied: sqlparse>=0.3.1 in c:\\python312\\lib\\site-packages (from Django>=4.2->channels) (0.5.0)\n",
      "Requirement already satisfied: tzdata in c:\\python312\\lib\\site-packages (from Django>=4.2->channels) (2024.1)\n",
      "Downloading channels-4.1.0-py3-none-any.whl (30 kB)\n",
      "Installing collected packages: channels\n",
      "Successfully installed channels-4.1.0\n",
      "Note: you may need to restart the kernel to use updated packages.\n"
     ]
    }
   ],
   "source": [
    "%pip install channels"
   ]
  },
  {
   "cell_type": "markdown",
   "metadata": {},
   "source": [
    "* Django REST framework (DRF): Django 웹 프레임워크 기반 툴"
   ]
  },
  {
   "cell_type": "code",
   "execution_count": 24,
   "metadata": {},
   "outputs": [
    {
     "name": "stdout",
     "output_type": "stream",
     "text": [
      "Requirement already satisfied: djangorestframework in c:\\python312\\lib\\site-packages (3.15.2)\n",
      "Requirement already satisfied: django>=4.2 in c:\\python312\\lib\\site-packages (from djangorestframework) (5.0.6)\n",
      "Requirement already satisfied: asgiref<4,>=3.7.0 in c:\\python312\\lib\\site-packages (from django>=4.2->djangorestframework) (3.8.1)\n",
      "Requirement already satisfied: sqlparse>=0.3.1 in c:\\python312\\lib\\site-packages (from django>=4.2->djangorestframework) (0.5.0)\n",
      "Requirement already satisfied: tzdata in c:\\python312\\lib\\site-packages (from django>=4.2->djangorestframework) (2024.1)\n",
      "Note: you may need to restart the kernel to use updated packages.\n",
      "Requirement already satisfied: markdown in c:\\users\\hyunyoun\\appdata\\roaming\\python\\python312\\site-packages (3.6)\n",
      "Note: you may need to restart the kernel to use updated packages.\n",
      "Collecting django-filter\n",
      "  Downloading django_filter-24.2-py3-none-any.whl.metadata (5.1 kB)\n",
      "Requirement already satisfied: Django>=4.2 in c:\\python312\\lib\\site-packages (from django-filter) (5.0.6)\n",
      "Requirement already satisfied: asgiref<4,>=3.7.0 in c:\\python312\\lib\\site-packages (from Django>=4.2->django-filter) (3.8.1)\n",
      "Requirement already satisfied: sqlparse>=0.3.1 in c:\\python312\\lib\\site-packages (from Django>=4.2->django-filter) (0.5.0)\n",
      "Requirement already satisfied: tzdata in c:\\python312\\lib\\site-packages (from Django>=4.2->django-filter) (2024.1)\n",
      "Downloading django_filter-24.2-py3-none-any.whl (94 kB)\n",
      "   ---------------------------------------- 0.0/94.5 kB ? eta -:--:--\n",
      "   ---------------------------------------- 94.5/94.5 kB 5.6 MB/s eta 0:00:00\n",
      "Installing collected packages: django-filter\n",
      "Successfully installed django-filter-24.2\n",
      "Note: you may need to restart the kernel to use updated packages.\n"
     ]
    }
   ],
   "source": [
    "%pip install djangorestframework\n",
    "# Markdown support for the browsable API.\n",
    "%pip install markdown       \n",
    "# Filtering support\n",
    "%pip install django-filter  "
   ]
  },
  {
   "cell_type": "markdown",
   "metadata": {},
   "source": [
    "* Falcon: 고성능 마이크로서비스 웹 프레임워크"
   ]
  },
  {
   "cell_type": "code",
   "execution_count": 15,
   "metadata": {},
   "outputs": [
    {
     "name": "stdout",
     "output_type": "stream",
     "text": [
      "Requirement already satisfied: falcon in c:\\python312\\lib\\site-packages (3.1.3)\n",
      "Note: you may need to restart the kernel to use updated packages.\n"
     ]
    }
   ],
   "source": [
    "%pip install falcon --user"
   ]
  },
  {
   "cell_type": "markdown",
   "metadata": {},
   "source": [
    "* FastAPI: 빠르고 현대적인 API 개발"
   ]
  },
  {
   "cell_type": "code",
   "execution_count": 20,
   "metadata": {},
   "outputs": [
    {
     "name": "stdout",
     "output_type": "stream",
     "text": [
      "Requirement already satisfied: fastapi in c:\\users\\hyunyoun\\appdata\\roaming\\python\\python312\\site-packages (0.110.3)\n",
      "Requirement already satisfied: starlette<0.38.0,>=0.37.2 in c:\\users\\hyunyoun\\appdata\\roaming\\python\\python312\\site-packages (from fastapi) (0.37.2)\n",
      "Requirement already satisfied: pydantic!=1.8,!=1.8.1,!=2.0.0,!=2.0.1,!=2.1.0,<3.0.0,>=1.7.4 in c:\\python312\\lib\\site-packages (from fastapi) (2.8.2)\n",
      "Requirement already satisfied: typing-extensions>=4.8.0 in c:\\python312\\lib\\site-packages (from fastapi) (4.12.2)\n",
      "Requirement already satisfied: annotated-types>=0.4.0 in c:\\python312\\lib\\site-packages (from pydantic!=1.8,!=1.8.1,!=2.0.0,!=2.0.1,!=2.1.0,<3.0.0,>=1.7.4->fastapi) (0.7.0)\n",
      "Requirement already satisfied: pydantic-core==2.20.1 in c:\\python312\\lib\\site-packages (from pydantic!=1.8,!=1.8.1,!=2.0.0,!=2.0.1,!=2.1.0,<3.0.0,>=1.7.4->fastapi) (2.20.1)\n",
      "Requirement already satisfied: anyio<5,>=3.4.0 in c:\\python312\\lib\\site-packages (from starlette<0.38.0,>=0.37.2->fastapi) (4.4.0)\n",
      "Requirement already satisfied: idna>=2.8 in c:\\python312\\lib\\site-packages (from anyio<5,>=3.4.0->starlette<0.38.0,>=0.37.2->fastapi) (3.7)\n",
      "Requirement already satisfied: sniffio>=1.1 in c:\\python312\\lib\\site-packages (from anyio<5,>=3.4.0->starlette<0.38.0,>=0.37.2->fastapi) (1.3.1)\n",
      "Note: you may need to restart the kernel to use updated packages.\n"
     ]
    }
   ],
   "source": [
    "%pip install fastapi --user"
   ]
  },
  {
   "cell_type": "markdown",
   "metadata": {},
   "source": [
    "* Flask: 경량화된 유연한 마이크로 웹 프레임워크"
   ]
  },
  {
   "cell_type": "code",
   "execution_count": 19,
   "metadata": {},
   "outputs": [
    {
     "name": "stdout",
     "output_type": "stream",
     "text": [
      "Collecting Flask\n",
      "  Using cached flask-3.0.3-py3-none-any.whl.metadata (3.2 kB)\n",
      "Collecting Werkzeug>=3.0.0 (from Flask)\n",
      "  Using cached werkzeug-3.0.3-py3-none-any.whl.metadata (3.7 kB)\n",
      "Requirement already satisfied: Jinja2>=3.1.2 in c:\\python312\\lib\\site-packages (from Flask) (3.1.4)\n",
      "Collecting itsdangerous>=2.1.2 (from Flask)\n",
      "  Using cached itsdangerous-2.2.0-py3-none-any.whl.metadata (1.9 kB)\n",
      "Requirement already satisfied: click>=8.1.3 in c:\\python312\\lib\\site-packages (from Flask) (8.1.7)\n",
      "Collecting blinker>=1.6.2 (from Flask)\n",
      "  Using cached blinker-1.8.2-py3-none-any.whl.metadata (1.6 kB)\n",
      "Requirement already satisfied: colorama in c:\\python312\\lib\\site-packages (from click>=8.1.3->Flask) (0.4.6)\n",
      "Requirement already satisfied: MarkupSafe>=2.0 in c:\\python312\\lib\\site-packages (from Jinja2>=3.1.2->Flask) (2.1.5)\n",
      "Using cached flask-3.0.3-py3-none-any.whl (101 kB)\n",
      "Using cached blinker-1.8.2-py3-none-any.whl (9.5 kB)\n",
      "Using cached itsdangerous-2.2.0-py3-none-any.whl (16 kB)\n",
      "Using cached werkzeug-3.0.3-py3-none-any.whl (227 kB)\n",
      "Installing collected packages: Werkzeug, itsdangerous, blinker, Flask\n",
      "Successfully installed Flask-3.0.3 Werkzeug-3.0.3 blinker-1.8.2 itsdangerous-2.2.0\n",
      "Note: you may need to restart the kernel to use updated packages.\n"
     ]
    }
   ],
   "source": [
    "%pip install Flask --user"
   ]
  },
  {
   "cell_type": "markdown",
   "metadata": {},
   "source": [
    "* Flask-RESTful: Flask 기반 RESTful API 구축 도구"
   ]
  },
  {
   "cell_type": "code",
   "execution_count": 21,
   "metadata": {},
   "outputs": [
    {
     "name": "stdout",
     "output_type": "stream",
     "text": [
      "Collecting flask-restful\n",
      "  Downloading Flask_RESTful-0.3.10-py2.py3-none-any.whl.metadata (1.0 kB)\n",
      "Collecting aniso8601>=0.82 (from flask-restful)\n",
      "  Downloading aniso8601-9.0.1-py2.py3-none-any.whl.metadata (23 kB)\n",
      "Requirement already satisfied: Flask>=0.8 in c:\\users\\hyunyoun\\appdata\\roaming\\python\\python312\\site-packages (from flask-restful) (3.0.3)\n",
      "Requirement already satisfied: six>=1.3.0 in c:\\python312\\lib\\site-packages (from flask-restful) (1.16.0)\n",
      "Requirement already satisfied: pytz in c:\\python312\\lib\\site-packages (from flask-restful) (2024.1)\n",
      "Requirement already satisfied: Werkzeug>=3.0.0 in c:\\users\\hyunyoun\\appdata\\roaming\\python\\python312\\site-packages (from Flask>=0.8->flask-restful) (3.0.3)\n",
      "Requirement already satisfied: Jinja2>=3.1.2 in c:\\python312\\lib\\site-packages (from Flask>=0.8->flask-restful) (3.1.4)\n",
      "Requirement already satisfied: itsdangerous>=2.1.2 in c:\\users\\hyunyoun\\appdata\\roaming\\python\\python312\\site-packages (from Flask>=0.8->flask-restful) (2.2.0)\n",
      "Requirement already satisfied: click>=8.1.3 in c:\\python312\\lib\\site-packages (from Flask>=0.8->flask-restful) (8.1.7)\n",
      "Requirement already satisfied: blinker>=1.6.2 in c:\\users\\hyunyoun\\appdata\\roaming\\python\\python312\\site-packages (from Flask>=0.8->flask-restful) (1.8.2)\n",
      "Requirement already satisfied: colorama in c:\\python312\\lib\\site-packages (from click>=8.1.3->Flask>=0.8->flask-restful) (0.4.6)\n",
      "Requirement already satisfied: MarkupSafe>=2.0 in c:\\python312\\lib\\site-packages (from Jinja2>=3.1.2->Flask>=0.8->flask-restful) (2.1.5)\n",
      "Downloading Flask_RESTful-0.3.10-py2.py3-none-any.whl (26 kB)\n",
      "Downloading aniso8601-9.0.1-py2.py3-none-any.whl (52 kB)\n",
      "   ---------------------------------------- 0.0/52.8 kB ? eta -:--:--\n",
      "   ---------------------------------------- 52.8/52.8 kB 2.7 MB/s eta 0:00:00\n",
      "Installing collected packages: aniso8601, flask-restful\n",
      "Successfully installed aniso8601-9.0.1 flask-restful-0.3.10\n",
      "Note: you may need to restart the kernel to use updated packages.\n"
     ]
    }
   ],
   "source": [
    "%pip install flask-restful"
   ]
  },
  {
   "cell_type": "markdown",
   "metadata": {},
   "source": [
    "* Pyramid: 경량, 유연한 웹 프레임워크"
   ]
  },
  {
   "cell_type": "code",
   "execution_count": 18,
   "metadata": {},
   "outputs": [
    {
     "name": "stdout",
     "output_type": "stream",
     "text": [
      "Collecting pyramid\n",
      "  Downloading pyramid-2.0.2-py3-none-any.whl.metadata (20 kB)\n",
      "Collecting hupper>=1.5 (from pyramid)\n",
      "  Downloading hupper-1.12.1-py3-none-any.whl.metadata (3.7 kB)\n",
      "Collecting plaster (from pyramid)\n",
      "  Downloading plaster-1.1.2-py2.py3-none-any.whl.metadata (6.4 kB)\n",
      "Collecting plaster-pastedeploy (from pyramid)\n",
      "  Downloading plaster_pastedeploy-1.0.1-py2.py3-none-any.whl.metadata (8.1 kB)\n",
      "Requirement already satisfied: setuptools in c:\\users\\hyunyoun\\appdata\\roaming\\python\\python312\\site-packages (from pyramid) (70.2.0)\n",
      "Collecting translationstring>=0.4 (from pyramid)\n",
      "  Downloading translationstring-1.4-py2.py3-none-any.whl.metadata (4.1 kB)\n",
      "Collecting venusian>=1.0 (from pyramid)\n",
      "  Downloading venusian-3.1.0-py3-none-any.whl.metadata (10 kB)\n",
      "Collecting webob>=1.8.3 (from pyramid)\n",
      "  Downloading WebOb-1.8.7-py2.py3-none-any.whl.metadata (10 kB)\n",
      "Collecting zope.deprecation>=3.5.0 (from pyramid)\n",
      "  Downloading zope.deprecation-5.0-py3-none-any.whl.metadata (5.1 kB)\n",
      "Requirement already satisfied: zope.interface>=3.8.0 in c:\\python312\\lib\\site-packages (from pyramid) (6.4.post2)\n",
      "Collecting PasteDeploy>=2.0 (from plaster-pastedeploy->pyramid)\n",
      "  Downloading PasteDeploy-3.1.0-py3-none-any.whl.metadata (2.7 kB)\n",
      "Downloading pyramid-2.0.2-py3-none-any.whl (247 kB)\n",
      "   ---------------------------------------- 0.0/247.3 kB ? eta -:--:--\n",
      "   ---------------------------------------- 247.3/247.3 kB 7.4 MB/s eta 0:00:00\n",
      "Downloading hupper-1.12.1-py3-none-any.whl (22 kB)\n",
      "Downloading translationstring-1.4-py2.py3-none-any.whl (15 kB)\n",
      "Downloading venusian-3.1.0-py3-none-any.whl (13 kB)\n",
      "Downloading WebOb-1.8.7-py2.py3-none-any.whl (114 kB)\n",
      "   ---------------------------------------- 0.0/115.0 kB ? eta -:--:--\n",
      "   ---------------------------------------- 115.0/115.0 kB ? eta 0:00:00\n",
      "Downloading zope.deprecation-5.0-py3-none-any.whl (10 kB)\n",
      "Downloading plaster-1.1.2-py2.py3-none-any.whl (11 kB)\n",
      "Downloading plaster_pastedeploy-1.0.1-py2.py3-none-any.whl (7.8 kB)\n",
      "Downloading PasteDeploy-3.1.0-py3-none-any.whl (16 kB)\n",
      "Installing collected packages: translationstring, zope.deprecation, webob, venusian, plaster, PasteDeploy, hupper, plaster-pastedeploy, pyramid\n",
      "Successfully installed PasteDeploy-3.1.0 hupper-1.12.1 plaster-1.1.2 plaster-pastedeploy-1.0.1 pyramid-2.0.2 translationstring-1.4 venusian-3.1.0 webob-1.8.7 zope.deprecation-5.0\n",
      "Note: you may need to restart the kernel to use updated packages.\n"
     ]
    }
   ],
   "source": [
    "%pip install pyramid --user"
   ]
  },
  {
   "cell_type": "markdown",
   "metadata": {},
   "source": [
    "* Reflex: 모던 웹 개발의 새로운 지평"
   ]
  },
  {
   "cell_type": "code",
   "execution_count": 16,
   "metadata": {},
   "outputs": [
    {
     "name": "stdout",
     "output_type": "stream",
     "text": [
      "Collecting reflex\n",
      "  Downloading reflex-0.5.5-py3-none-any.whl.metadata (12 kB)\n",
      "Collecting alembic<2.0,>=1.11.1 (from reflex)\n",
      "  Downloading alembic-1.13.2-py3-none-any.whl.metadata (7.4 kB)\n",
      "Collecting build<2.0,>=1.0.3 (from reflex)\n",
      "  Downloading build-1.2.1-py3-none-any.whl.metadata (4.3 kB)\n",
      "Requirement already satisfied: charset-normalizer<4.0,>=3.3.2 in c:\\python312\\lib\\site-packages (from reflex) (3.3.2)\n",
      "Collecting dill<0.4,>=0.3.8 (from reflex)\n",
      "  Downloading dill-0.3.8-py3-none-any.whl.metadata (10 kB)\n",
      "Collecting fastapi<0.111.0,>=0.96.0 (from reflex)\n",
      "  Downloading fastapi-0.110.3-py3-none-any.whl.metadata (24 kB)\n",
      "Collecting gunicorn<23.0,>=20.1.0 (from reflex)\n",
      "  Downloading gunicorn-22.0.0-py3-none-any.whl.metadata (4.4 kB)\n",
      "Requirement already satisfied: httpx<1.0,>=0.25.1 in c:\\python312\\lib\\site-packages (from reflex) (0.27.0)\n",
      "Requirement already satisfied: jinja2<4.0,>=3.1.2 in c:\\python312\\lib\\site-packages (from reflex) (3.1.4)\n",
      "Collecting lazy_loader>=0.4 (from reflex)\n",
      "  Downloading lazy_loader-0.4-py3-none-any.whl.metadata (7.6 kB)\n",
      "Requirement already satisfied: packaging<25.0,>=23.1 in c:\\python312\\lib\\site-packages (from reflex) (24.1)\n",
      "Requirement already satisfied: platformdirs<5.0,>=3.10.0 in c:\\python312\\lib\\site-packages (from reflex) (4.2.2)\n",
      "Collecting psutil<6.0,>=5.9.4 (from reflex)\n",
      "  Using cached psutil-5.9.8-cp37-abi3-win_amd64.whl.metadata (22 kB)\n",
      "Requirement already satisfied: pydantic<3.0,>=1.10.2 in c:\\python312\\lib\\site-packages (from reflex) (2.8.2)\n",
      "Requirement already satisfied: python-engineio!=4.6.0 in c:\\python312\\lib\\site-packages (from reflex) (4.9.1)\n",
      "Requirement already satisfied: python-multipart<0.1,>=0.0.5 in c:\\python312\\lib\\site-packages (from reflex) (0.0.9)\n",
      "Requirement already satisfied: python-socketio<6.0,>=5.7.0 in c:\\python312\\lib\\site-packages (from reflex) (5.11.3)\n",
      "Requirement already satisfied: redis<6.0,>=4.3.5 in c:\\python312\\lib\\site-packages (from reflex) (5.0.7)\n",
      "Collecting reflex-hosting-cli<2.0,>=0.1.2 (from reflex)\n",
      "  Downloading reflex_hosting_cli-0.1.13-py3-none-any.whl.metadata (1.3 kB)\n",
      "Requirement already satisfied: rich<14.0,>=13.0.0 in c:\\users\\hyunyoun\\appdata\\roaming\\python\\python312\\site-packages (from reflex) (13.7.1)\n",
      "Collecting setuptools<70.0,>=69.1.1 (from reflex)\n",
      "  Using cached setuptools-69.5.1-py3-none-any.whl.metadata (6.2 kB)\n",
      "Collecting sqlmodel<0.1,>=0.0.14 (from reflex)\n",
      "  Downloading sqlmodel-0.0.19-py3-none-any.whl.metadata (9.8 kB)\n",
      "Collecting starlette-admin<1.0,>=0.11.0 (from reflex)\n",
      "  Downloading starlette_admin-0.14.0-py3-none-any.whl.metadata (7.4 kB)\n",
      "Collecting tomlkit<1.0,>=0.12.4 (from reflex)\n",
      "  Downloading tomlkit-0.12.5-py3-none-any.whl.metadata (2.7 kB)\n",
      "Collecting twine<6.0,>=4.0.0 (from reflex)\n",
      "  Using cached twine-5.1.1-py3-none-any.whl.metadata (3.5 kB)\n",
      "Collecting typer<1.0,>=0.4.2 (from reflex)\n",
      "  Using cached typer-0.12.3-py3-none-any.whl.metadata (15 kB)\n",
      "Collecting uvicorn<0.25.0,>=0.24.0 (from reflex)\n",
      "  Downloading uvicorn-0.24.0.post1-py3-none-any.whl.metadata (6.4 kB)\n",
      "Collecting watchdog<5.0,>=2.3.1 (from reflex)\n",
      "  Downloading watchdog-4.0.1-py3-none-win_amd64.whl.metadata (37 kB)\n",
      "Collecting watchfiles<1.0,>=0.19.0 (from reflex)\n",
      "  Using cached watchfiles-0.22.0-cp312-none-win_amd64.whl.metadata (5.0 kB)\n",
      "Collecting wheel<1.0,>=0.42.0 (from reflex)\n",
      "  Using cached wheel-0.43.0-py3-none-any.whl.metadata (2.2 kB)\n",
      "Collecting wrapt<2.0,>=1.14.0 (from reflex)\n",
      "  Downloading wrapt-1.16.0-cp312-cp312-win_amd64.whl.metadata (6.8 kB)\n",
      "Requirement already satisfied: SQLAlchemy>=1.3.0 in c:\\python312\\lib\\site-packages (from alembic<2.0,>=1.11.1->reflex) (2.0.31)\n",
      "Collecting Mako (from alembic<2.0,>=1.11.1->reflex)\n",
      "  Downloading Mako-1.3.5-py3-none-any.whl.metadata (2.9 kB)\n",
      "Requirement already satisfied: typing-extensions>=4 in c:\\python312\\lib\\site-packages (from alembic<2.0,>=1.11.1->reflex) (4.12.2)\n",
      "Collecting pyproject_hooks (from build<2.0,>=1.0.3->reflex)\n",
      "  Downloading pyproject_hooks-1.1.0-py3-none-any.whl.metadata (1.3 kB)\n",
      "Requirement already satisfied: colorama in c:\\python312\\lib\\site-packages (from build<2.0,>=1.0.3->reflex) (0.4.6)\n",
      "Collecting starlette<0.38.0,>=0.37.2 (from fastapi<0.111.0,>=0.96.0->reflex)\n",
      "  Using cached starlette-0.37.2-py3-none-any.whl.metadata (5.9 kB)\n",
      "Requirement already satisfied: anyio in c:\\python312\\lib\\site-packages (from httpx<1.0,>=0.25.1->reflex) (4.4.0)\n",
      "Requirement already satisfied: certifi in c:\\python312\\lib\\site-packages (from httpx<1.0,>=0.25.1->reflex) (2024.6.2)\n",
      "Requirement already satisfied: httpcore==1.* in c:\\python312\\lib\\site-packages (from httpx<1.0,>=0.25.1->reflex) (1.0.5)\n",
      "Requirement already satisfied: idna in c:\\python312\\lib\\site-packages (from httpx<1.0,>=0.25.1->reflex) (3.7)\n",
      "Requirement already satisfied: sniffio in c:\\python312\\lib\\site-packages (from httpx<1.0,>=0.25.1->reflex) (1.3.1)\n",
      "Requirement already satisfied: h11<0.15,>=0.13 in c:\\python312\\lib\\site-packages (from httpcore==1.*->httpx<1.0,>=0.25.1->reflex) (0.14.0)\n",
      "Requirement already satisfied: MarkupSafe>=2.0 in c:\\python312\\lib\\site-packages (from jinja2<4.0,>=3.1.2->reflex) (2.1.5)\n",
      "Requirement already satisfied: annotated-types>=0.4.0 in c:\\python312\\lib\\site-packages (from pydantic<3.0,>=1.10.2->reflex) (0.7.0)\n",
      "Requirement already satisfied: pydantic-core==2.20.1 in c:\\python312\\lib\\site-packages (from pydantic<3.0,>=1.10.2->reflex) (2.20.1)\n",
      "Requirement already satisfied: simple-websocket>=0.10.0 in c:\\python312\\lib\\site-packages (from python-engineio!=4.6.0->reflex) (1.0.0)\n",
      "Requirement already satisfied: bidict>=0.21.0 in c:\\python312\\lib\\site-packages (from python-socketio<6.0,>=5.7.0->reflex) (0.23.1)\n",
      "Collecting pipdeptree<2.17.0,>=2.13.1 (from reflex-hosting-cli<2.0,>=0.1.2->reflex)\n",
      "  Downloading pipdeptree-2.16.2-py3-none-any.whl.metadata (15 kB)\n",
      "Requirement already satisfied: python-dateutil>=2.8.1 in c:\\python312\\lib\\site-packages (from reflex-hosting-cli<2.0,>=0.1.2->reflex) (2.9.0.post0)\n",
      "Collecting tabulate<0.10.0,>=0.9.0 (from reflex-hosting-cli<2.0,>=0.1.2->reflex)\n",
      "  Downloading tabulate-0.9.0-py3-none-any.whl.metadata (34 kB)\n",
      "Requirement already satisfied: websockets>=10.4 in c:\\python312\\lib\\site-packages (from reflex-hosting-cli<2.0,>=0.1.2->reflex) (12.0)\n",
      "Requirement already satisfied: markdown-it-py>=2.2.0 in c:\\users\\hyunyoun\\appdata\\roaming\\python\\python312\\site-packages (from rich<14.0,>=13.0.0->reflex) (3.0.0)\n",
      "Requirement already satisfied: pygments<3.0.0,>=2.13.0 in c:\\python312\\lib\\site-packages (from rich<14.0,>=13.0.0->reflex) (2.18.0)\n",
      "Collecting pkginfo>=1.8.1 (from twine<6.0,>=4.0.0->reflex)\n",
      "  Using cached pkginfo-1.11.1-py3-none-any.whl.metadata (11 kB)\n",
      "Collecting readme-renderer>=35.0 (from twine<6.0,>=4.0.0->reflex)\n",
      "  Using cached readme_renderer-43.0-py3-none-any.whl.metadata (2.8 kB)\n",
      "Requirement already satisfied: requests>=2.20 in c:\\python312\\lib\\site-packages (from twine<6.0,>=4.0.0->reflex) (2.32.3)\n",
      "Collecting requests-toolbelt!=0.9.0,>=0.8.0 (from twine<6.0,>=4.0.0->reflex)\n",
      "  Using cached requests_toolbelt-1.0.0-py2.py3-none-any.whl.metadata (14 kB)\n",
      "Requirement already satisfied: urllib3>=1.26.0 in c:\\python312\\lib\\site-packages (from twine<6.0,>=4.0.0->reflex) (2.2.2)\n",
      "Collecting importlib-metadata>=3.6 (from twine<6.0,>=4.0.0->reflex)\n",
      "  Using cached importlib_metadata-8.0.0-py3-none-any.whl.metadata (4.6 kB)\n",
      "Collecting keyring>=15.1 (from twine<6.0,>=4.0.0->reflex)\n",
      "  Using cached keyring-25.2.1-py3-none-any.whl.metadata (20 kB)\n",
      "Collecting rfc3986>=1.4.0 (from twine<6.0,>=4.0.0->reflex)\n",
      "  Using cached rfc3986-2.0.0-py2.py3-none-any.whl.metadata (6.6 kB)\n",
      "Collecting pkginfo>=1.8.1 (from twine<6.0,>=4.0.0->reflex)\n",
      "  Using cached pkginfo-1.10.0-py3-none-any.whl.metadata (11 kB)\n",
      "Requirement already satisfied: click>=8.0.0 in c:\\python312\\lib\\site-packages (from typer<1.0,>=0.4.2->reflex) (8.1.7)\n",
      "Collecting shellingham>=1.3.0 (from typer<1.0,>=0.4.2->reflex)\n",
      "  Using cached shellingham-1.5.4-py2.py3-none-any.whl.metadata (3.5 kB)\n",
      "Collecting zipp>=0.5 (from importlib-metadata>=3.6->twine<6.0,>=4.0.0->reflex)\n",
      "  Using cached zipp-3.19.2-py3-none-any.whl.metadata (3.6 kB)\n",
      "Collecting jaraco.classes (from keyring>=15.1->twine<6.0,>=4.0.0->reflex)\n",
      "  Using cached jaraco.classes-3.4.0-py3-none-any.whl.metadata (2.6 kB)\n",
      "Collecting jaraco.functools (from keyring>=15.1->twine<6.0,>=4.0.0->reflex)\n",
      "  Using cached jaraco.functools-4.0.1-py3-none-any.whl.metadata (2.9 kB)\n",
      "Collecting jaraco.context (from keyring>=15.1->twine<6.0,>=4.0.0->reflex)\n",
      "  Using cached jaraco.context-5.3.0-py3-none-any.whl.metadata (4.0 kB)\n",
      "Collecting pywin32-ctypes>=0.2.0 (from keyring>=15.1->twine<6.0,>=4.0.0->reflex)\n",
      "  Using cached pywin32_ctypes-0.2.2-py3-none-any.whl.metadata (3.8 kB)\n",
      "Requirement already satisfied: mdurl~=0.1 in c:\\users\\hyunyoun\\appdata\\roaming\\python\\python312\\site-packages (from markdown-it-py>=2.2.0->rich<14.0,>=13.0.0->reflex) (0.1.2)\n",
      "Requirement already satisfied: pip>=23.1.2 in c:\\python312\\lib\\site-packages (from pipdeptree<2.17.0,>=2.13.1->reflex-hosting-cli<2.0,>=0.1.2->reflex) (24.1.1)\n",
      "Requirement already satisfied: six>=1.5 in c:\\python312\\lib\\site-packages (from python-dateutil>=2.8.1->reflex-hosting-cli<2.0,>=0.1.2->reflex) (1.16.0)\n",
      "Requirement already satisfied: nh3>=0.2.14 in c:\\python312\\lib\\site-packages (from readme-renderer>=35.0->twine<6.0,>=4.0.0->reflex) (0.2.18)\n",
      "Collecting docutils>=0.13.1 (from readme-renderer>=35.0->twine<6.0,>=4.0.0->reflex)\n",
      "  Using cached docutils-0.21.2-py3-none-any.whl.metadata (2.8 kB)\n",
      "Requirement already satisfied: wsproto in c:\\python312\\lib\\site-packages (from simple-websocket>=0.10.0->python-engineio!=4.6.0->reflex) (1.2.0)\n",
      "Requirement already satisfied: greenlet!=0.4.17 in c:\\python312\\lib\\site-packages (from SQLAlchemy>=1.3.0->alembic<2.0,>=1.11.1->reflex) (3.0.3)\n",
      "Collecting more-itertools (from jaraco.classes->keyring>=15.1->twine<6.0,>=4.0.0->reflex)\n",
      "  Using cached more_itertools-10.3.0-py3-none-any.whl.metadata (36 kB)\n",
      "Downloading reflex-0.5.5-py3-none-any.whl (851 kB)\n",
      "   ---------------------------------------- 0.0/851.4 kB ? eta -:--:--\n",
      "   -------------------- ------------------ 450.6/851.4 kB 14.2 MB/s eta 0:00:01\n",
      "   ---------------------------------------- 851.4/851.4 kB 9.0 MB/s eta 0:00:00\n",
      "Downloading alembic-1.13.2-py3-none-any.whl (232 kB)\n",
      "   ---------------------------------------- 0.0/233.0 kB ? eta -:--:--\n",
      "   ---------------------------------------- 233.0/233.0 kB 7.0 MB/s eta 0:00:00\n",
      "Downloading build-1.2.1-py3-none-any.whl (21 kB)\n",
      "Downloading dill-0.3.8-py3-none-any.whl (116 kB)\n",
      "   ---------------------------------------- 0.0/116.3 kB ? eta -:--:--\n",
      "   ---------------------------------------- 116.3/116.3 kB 6.6 MB/s eta 0:00:00\n",
      "Downloading fastapi-0.110.3-py3-none-any.whl (91 kB)\n",
      "   ---------------------------------------- 0.0/91.8 kB ? eta -:--:--\n",
      "   ---------------------------------------- 91.8/91.8 kB 5.1 MB/s eta 0:00:00\n",
      "Downloading gunicorn-22.0.0-py3-none-any.whl (84 kB)\n",
      "   ---------------------------------------- 0.0/84.4 kB ? eta -:--:--\n",
      "   ---------------------------------------- 84.4/84.4 kB 4.6 MB/s eta 0:00:00\n",
      "Downloading lazy_loader-0.4-py3-none-any.whl (12 kB)\n",
      "Downloading psutil-5.9.8-cp37-abi3-win_amd64.whl (255 kB)\n",
      "   ---------------------------------------- 0.0/255.1 kB ? eta -:--:--\n",
      "   --------------------------------------- 255.1/255.1 kB 15.3 MB/s eta 0:00:00\n",
      "Downloading reflex_hosting_cli-0.1.13-py3-none-any.whl (32 kB)\n",
      "Using cached setuptools-69.5.1-py3-none-any.whl (894 kB)\n",
      "Downloading sqlmodel-0.0.19-py3-none-any.whl (28 kB)\n",
      "Downloading starlette_admin-0.14.0-py3-none-any.whl (2.2 MB)\n",
      "   ---------------------------------------- 0.0/2.2 MB ? eta -:--:--\n",
      "   -------- ------------------------------- 0.4/2.2 MB 13.9 MB/s eta 0:00:01\n",
      "   ---------------- ----------------------- 0.9/2.2 MB 14.4 MB/s eta 0:00:01\n",
      "   ------------------------- -------------- 1.4/2.2 MB 12.8 MB/s eta 0:00:01\n",
      "   ------------------------------------ --- 2.0/2.2 MB 12.6 MB/s eta 0:00:01\n",
      "   ---------------------------------------- 2.2/2.2 MB 11.5 MB/s eta 0:00:00\n",
      "Downloading tomlkit-0.12.5-py3-none-any.whl (37 kB)\n",
      "Using cached twine-5.1.1-py3-none-any.whl (38 kB)\n",
      "Using cached typer-0.12.3-py3-none-any.whl (47 kB)\n",
      "Downloading uvicorn-0.24.0.post1-py3-none-any.whl (59 kB)\n",
      "   ---------------------------------------- 0.0/59.7 kB ? eta -:--:--\n",
      "   ---------------------------------------- 59.7/59.7 kB ? eta 0:00:00\n",
      "Downloading watchdog-4.0.1-py3-none-win_amd64.whl (83 kB)\n",
      "   ---------------------------------------- 0.0/83.0 kB ? eta -:--:--\n",
      "   ---------------------------------------- 83.0/83.0 kB ? eta 0:00:00\n",
      "Using cached watchfiles-0.22.0-cp312-none-win_amd64.whl (280 kB)\n",
      "Using cached wheel-0.43.0-py3-none-any.whl (65 kB)\n",
      "Downloading wrapt-1.16.0-cp312-cp312-win_amd64.whl (37 kB)\n",
      "Using cached importlib_metadata-8.0.0-py3-none-any.whl (24 kB)\n",
      "Using cached keyring-25.2.1-py3-none-any.whl (38 kB)\n",
      "Downloading pipdeptree-2.16.2-py3-none-any.whl (27 kB)\n",
      "Using cached pkginfo-1.10.0-py3-none-any.whl (30 kB)\n",
      "Using cached readme_renderer-43.0-py3-none-any.whl (13 kB)\n",
      "Using cached requests_toolbelt-1.0.0-py2.py3-none-any.whl (54 kB)\n",
      "Using cached rfc3986-2.0.0-py2.py3-none-any.whl (31 kB)\n",
      "Using cached shellingham-1.5.4-py2.py3-none-any.whl (9.8 kB)\n",
      "Using cached starlette-0.37.2-py3-none-any.whl (71 kB)\n",
      "Downloading tabulate-0.9.0-py3-none-any.whl (35 kB)\n",
      "Downloading Mako-1.3.5-py3-none-any.whl (78 kB)\n",
      "   ---------------------------------------- 0.0/78.6 kB ? eta -:--:--\n",
      "   ---------------------------------------- 78.6/78.6 kB 4.3 MB/s eta 0:00:00\n",
      "Downloading pyproject_hooks-1.1.0-py3-none-any.whl (9.2 kB)\n",
      "Using cached docutils-0.21.2-py3-none-any.whl (587 kB)\n",
      "Using cached pywin32_ctypes-0.2.2-py3-none-any.whl (30 kB)\n",
      "Using cached zipp-3.19.2-py3-none-any.whl (9.0 kB)\n",
      "Using cached jaraco.classes-3.4.0-py3-none-any.whl (6.8 kB)\n",
      "Using cached jaraco.context-5.3.0-py3-none-any.whl (6.5 kB)\n",
      "Using cached jaraco.functools-4.0.1-py3-none-any.whl (9.8 kB)\n",
      "Using cached more_itertools-10.3.0-py3-none-any.whl (59 kB)\n",
      "Installing collected packages: zipp, wrapt, wheel, watchdog, tomlkit, tabulate, shellingham, setuptools, rfc3986, pywin32-ctypes, pyproject_hooks, psutil, pkginfo, pipdeptree, more-itertools, Mako, lazy_loader, jaraco.context, gunicorn, docutils, dill, watchfiles, uvicorn, starlette, requests-toolbelt, readme-renderer, jaraco.functools, jaraco.classes, importlib-metadata, build, alembic, typer, starlette-admin, sqlmodel, keyring, fastapi, twine, reflex-hosting-cli, reflex\n",
      "Successfully installed Mako-1.3.5 alembic-1.13.2 build-1.2.1 dill-0.3.8 docutils-0.21.2 fastapi-0.110.3 gunicorn-22.0.0 importlib-metadata-8.0.0 jaraco.classes-3.4.0 jaraco.context-5.3.0 jaraco.functools-4.0.1 keyring-25.2.1 lazy_loader-0.4 more-itertools-10.3.0 pipdeptree-2.16.2 pkginfo-1.10.0 psutil-5.9.8 pyproject_hooks-1.1.0 pywin32-ctypes-0.2.2 readme-renderer-43.0 reflex-0.5.5 reflex-hosting-cli-0.1.13 requests-toolbelt-1.0.0 rfc3986-2.0.0 setuptools-69.5.1 shellingham-1.5.4 sqlmodel-0.0.19 starlette-0.37.2 starlette-admin-0.14.0 tabulate-0.9.0 tomlkit-0.12.5 twine-5.1.1 typer-0.12.3 uvicorn-0.24.0.post1 watchdog-4.0.1 watchfiles-0.22.0 wheel-0.43.0 wrapt-1.16.0 zipp-3.19.2\n",
      "Note: you may need to restart the kernel to use updated packages.\n"
     ]
    }
   ],
   "source": [
    "%pip install reflex --user"
   ]
  },
  {
   "cell_type": "markdown",
   "metadata": {},
   "source": [
    "* Sanic: 고성능 비동기 웹 프레임워크"
   ]
  },
  {
   "cell_type": "code",
   "execution_count": 17,
   "metadata": {},
   "outputs": [
    {
     "name": "stdout",
     "output_type": "stream",
     "text": [
      "Collecting sanic\n",
      "  Downloading sanic-24.6.0-py3-none-any.whl.metadata (10 kB)\n",
      "Collecting sanic-routing>=23.12.0 (from sanic)\n",
      "  Downloading sanic_routing-23.12.0-py3-none-any.whl.metadata (8.2 kB)\n",
      "Collecting httptools>=0.0.10 (from sanic)\n",
      "  Using cached httptools-0.6.1-cp312-cp312-win_amd64.whl.metadata (3.7 kB)\n",
      "Collecting aiofiles>=0.6.0 (from sanic)\n",
      "  Using cached aiofiles-24.1.0-py3-none-any.whl.metadata (10 kB)\n",
      "Requirement already satisfied: websockets>=10.0 in c:\\python312\\lib\\site-packages (from sanic) (12.0)\n",
      "Requirement already satisfied: multidict<7.0,>=5.0 in c:\\python312\\lib\\site-packages (from sanic) (6.0.5)\n",
      "Collecting html5tagger>=1.2.1 (from sanic)\n",
      "  Downloading html5tagger-1.3.0-py3-none-any.whl.metadata (9.4 kB)\n",
      "Collecting tracerite>=1.0.0 (from sanic)\n",
      "  Downloading tracerite-1.1.1-py3-none-any.whl.metadata (3.7 kB)\n",
      "Requirement already satisfied: typing-extensions>=4.4.0 in c:\\python312\\lib\\site-packages (from sanic) (4.12.2)\n",
      "Collecting setuptools>=70.1.0 (from sanic)\n",
      "  Using cached setuptools-70.2.0-py3-none-any.whl.metadata (5.8 kB)\n",
      "Downloading sanic-24.6.0-py3-none-any.whl (244 kB)\n",
      "   ---------------------------------------- 0.0/244.9 kB ? eta -:--:--\n",
      "   --------------------------------------- 244.9/244.9 kB 15.6 MB/s eta 0:00:00\n",
      "Using cached aiofiles-24.1.0-py3-none-any.whl (15 kB)\n",
      "Downloading html5tagger-1.3.0-py3-none-any.whl (10 kB)\n",
      "Using cached httptools-0.6.1-cp312-cp312-win_amd64.whl (55 kB)\n",
      "Downloading sanic_routing-23.12.0-py3-none-any.whl (25 kB)\n",
      "Using cached setuptools-70.2.0-py3-none-any.whl (930 kB)\n",
      "Downloading tracerite-1.1.1-py3-none-any.whl (12 kB)\n",
      "Installing collected packages: sanic-routing, setuptools, httptools, html5tagger, aiofiles, tracerite, sanic\n",
      "  Attempting uninstall: setuptools\n",
      "    Found existing installation: setuptools 69.5.1\n",
      "    Uninstalling setuptools-69.5.1:\n",
      "      Successfully uninstalled setuptools-69.5.1\n",
      "Successfully installed aiofiles-24.1.0 html5tagger-1.3.0 httptools-0.6.1 sanic-24.6.0 sanic-routing-23.12.0 setuptools-70.2.0 tracerite-1.1.1\n",
      "Note: you may need to restart the kernel to use updated packages.\n"
     ]
    },
    {
     "name": "stderr",
     "output_type": "stream",
     "text": [
      "ERROR: pip's dependency resolver does not currently take into account all the packages that are installed. This behaviour is the source of the following dependency conflicts.\n",
      "reflex 0.5.5 requires setuptools<70.0,>=69.1.1, but you have setuptools 70.2.0 which is incompatible.\n"
     ]
    }
   ],
   "source": [
    "%pip install sanic --user"
   ]
  }
 ],
 "metadata": {
  "kernelspec": {
   "display_name": "Python 3",
   "language": "python",
   "name": "python3"
  },
  "language_info": {
   "codemirror_mode": {
    "name": "ipython",
    "version": 3
   },
   "file_extension": ".py",
   "mimetype": "text/x-python",
   "name": "python",
   "nbconvert_exporter": "python",
   "pygments_lexer": "ipython3",
   "version": "3.12.4"
  }
 },
 "nbformat": 4,
 "nbformat_minor": 2
}
