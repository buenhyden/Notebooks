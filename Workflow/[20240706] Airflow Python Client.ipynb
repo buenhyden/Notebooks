{
 "cells": [
  {
   "cell_type": "markdown",
   "metadata": {},
   "source": [
    "# Airflow"
   ]
  },
  {
   "cell_type": "markdown",
   "metadata": {},
   "source": [
    "* is an open-source platform for developing, scheduling, and monitoring batch-oriented workflows.\n",
    "* Airflow’s extensible Python framework enables you to build workflows connecting with virtually any technology. \n",
    "* A web interface helps manage the state of your workflows. \n",
    "* Airflow is deployable in many ways, varying from a single process on your laptop to a distributed setup to support even the biggest workflows.\n",
    "\n",
    "* Workflows as code : The main characteristic of Airflow workflows is that all workflows are defined in Python code. “Workflows as code” serves several purposes:\n",
    "  * Dynamic: Airflow pipelines are configured as Python code, allowing for dynamic pipeline generation.\n",
    "  * Extensible: The Airflow™ framework contains operators to connect with numerous technologies. All Airflow components are extensible to easily adjust to your environment.\n",
    "  * Flexible: Workflow parameterization is built-in leveraging the Jinja templating engine."
   ]
  },
  {
   "cell_type": "markdown",
   "metadata": {},
   "source": [
    "* apache-airflow-client : airflow python client"
   ]
  },
  {
   "cell_type": "code",
   "execution_count": 1,
   "metadata": {},
   "outputs": [
    {
     "name": "stdout",
     "output_type": "stream",
     "text": [
      "Collecting apache-airflow-client\n",
      "  Downloading apache_airflow_client-2.9.0-py3-none-any.whl.metadata (30 kB)\n",
      "Requirement already satisfied: python-dateutil in c:\\python312\\lib\\site-packages (from apache-airflow-client) (2.9.0.post0)\n",
      "Requirement already satisfied: urllib3>=1.25.3 in c:\\python312\\lib\\site-packages (from apache-airflow-client) (2.2.2)\n",
      "Requirement already satisfied: six>=1.5 in c:\\python312\\lib\\site-packages (from python-dateutil->apache-airflow-client) (1.16.0)\n",
      "Downloading apache_airflow_client-2.9.0-py3-none-any.whl (1.5 MB)\n",
      "   ---------------------------------------- 0.0/1.5 MB ? eta -:--:--\n",
      "   --------------- ------------------------ 0.6/1.5 MB 11.5 MB/s eta 0:00:01\n",
      "   ------------------------------- -------- 1.1/1.5 MB 12.0 MB/s eta 0:00:01\n",
      "   ---------------------------------------- 1.5/1.5 MB 10.3 MB/s eta 0:00:00\n",
      "Installing collected packages: apache-airflow-client\n",
      "Successfully installed apache-airflow-client-2.9.0\n",
      "Note: you may need to restart the kernel to use updated packages.\n"
     ]
    }
   ],
   "source": [
    "%pip install apache-airflow-client"
   ]
  },
  {
   "cell_type": "code",
   "execution_count": null,
   "metadata": {},
   "outputs": [],
   "source": []
  }
 ],
 "metadata": {
  "kernelspec": {
   "display_name": "Python 3",
   "language": "python",
   "name": "python3"
  },
  "language_info": {
   "codemirror_mode": {
    "name": "ipython",
    "version": 3
   },
   "file_extension": ".py",
   "mimetype": "text/x-python",
   "name": "python",
   "nbconvert_exporter": "python",
   "pygments_lexer": "ipython3",
   "version": "3.12.4"
  }
 },
 "nbformat": 4,
 "nbformat_minor": 2
}
