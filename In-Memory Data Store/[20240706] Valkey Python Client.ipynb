{
 "cells": [
  {
   "cell_type": "markdown",
   "metadata": {},
   "source": [
    "# Valkey"
   ]
  },
  {
   "cell_type": "markdown",
   "metadata": {},
   "source": [
    "* is an open source (BSD) high-performance key/value datastore that supports a variety of workloads such as caching, message queues, and can act as a primary database.\n",
    "* Valkey can run as either a standalone daemon or in a cluster, with options for replication and high availability."
   ]
  },
  {
   "cell_type": "markdown",
   "metadata": {},
   "source": [
    "* valkey : Valkey Python client"
   ]
  },
  {
   "cell_type": "code",
   "execution_count": 1,
   "metadata": {},
   "outputs": [
    {
     "name": "stdout",
     "output_type": "stream",
     "text": [
      "Collecting valkey\n",
      "  Downloading valkey-5.1.0b7-py3-none-any.whl.metadata (8.0 kB)\n",
      "Downloading valkey-5.1.0b7-py3-none-any.whl (259 kB)\n",
      "   ---------------------------------------- 0.0/259.9 kB ? eta -:--:--\n",
      "   --------------------------------------- 259.9/259.9 kB 15.6 MB/s eta 0:00:00\n",
      "Installing collected packages: valkey\n",
      "Successfully installed valkey-5.1.0b7\n",
      "Note: you may need to restart the kernel to use updated packages.\n"
     ]
    }
   ],
   "source": [
    "%pip install valkey"
   ]
  },
  {
   "cell_type": "markdown",
   "metadata": {},
   "source": [
    "* valkey[hiredis] : Valkey Python client"
   ]
  },
  {
   "cell_type": "code",
   "execution_count": 7,
   "metadata": {},
   "outputs": [
    {
     "name": "stdout",
     "output_type": "stream",
     "text": [
      "Requirement already satisfied: valkey[hiredis] in c:\\python312\\lib\\site-packages (5.1.0b7)\n",
      "Collecting hiredis>=1.0.0 (from valkey[hiredis])\n",
      "  Downloading hiredis-2.3.2-cp312-cp312-win_amd64.whl.metadata (7.3 kB)\n",
      "Downloading hiredis-2.3.2-cp312-cp312-win_amd64.whl (21 kB)\n",
      "Installing collected packages: hiredis\n",
      "Successfully installed hiredis-2.3.2\n",
      "Note: you may need to restart the kernel to use updated packages.\n"
     ]
    }
   ],
   "source": [
    "%pip install \"valkey[hiredis]\""
   ]
  }
 ],
 "metadata": {
  "kernelspec": {
   "display_name": "Python 3",
   "language": "python",
   "name": "python3"
  },
  "language_info": {
   "codemirror_mode": {
    "name": "ipython",
    "version": 3
   },
   "file_extension": ".py",
   "mimetype": "text/x-python",
   "name": "python",
   "nbconvert_exporter": "python",
   "pygments_lexer": "ipython3",
   "version": "3.12.4"
  }
 },
 "nbformat": 4,
 "nbformat_minor": 2
}
