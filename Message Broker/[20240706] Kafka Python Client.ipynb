{
 "cells": [
  {
   "cell_type": "markdown",
   "metadata": {},
   "source": [
    "# Kafka"
   ]
  },
  {
   "cell_type": "markdown",
   "metadata": {},
   "source": [
    "* Apache Kafka is an open-source distributed event streaming platform used by thousands of companies for high-performance data pipelines, streaming analytics, data integration, and mission-critical applications."
   ]
  },
  {
   "cell_type": "markdown",
   "metadata": {},
   "source": [
    "* kafka-python : Python client for the Apache Kafka\n",
    "  * Python client for the Apache Kafka distributed stream processing system. \n",
    "  * kafka-python is designed to function much like the official java client, with a sprinkling of pythonic interfaces (e.g., consumer iterators)."
   ]
  },
  {
   "cell_type": "code",
   "execution_count": 1,
   "metadata": {},
   "outputs": [
    {
     "name": "stdout",
     "output_type": "stream",
     "text": [
      "Collecting kafka-python\n",
      "  Downloading kafka_python-2.0.2-py2.py3-none-any.whl.metadata (7.8 kB)\n",
      "Downloading kafka_python-2.0.2-py2.py3-none-any.whl (246 kB)\n",
      "   ---------------------------------------- 0.0/246.5 kB ? eta -:--:--\n",
      "   --------------------------------------- 246.5/246.5 kB 14.8 MB/s eta 0:00:00\n",
      "Installing collected packages: kafka-python\n",
      "Successfully installed kafka-python-2.0.2\n",
      "Note: you may need to restart the kernel to use updated packages.\n"
     ]
    }
   ],
   "source": [
    "# %pip install kafka-python\n",
    "%pip install git+https://github.com/dpkp/kafka-python.git"
   ]
  },
  {
   "cell_type": "markdown",
   "metadata": {},
   "source": [
    "* confluent-kafka : Confluent's Kafka Python Client\n",
    "  * provides a high-level Producer, Consumer and AdminClient compatible with all Apache KafkaTM brokers >= v0.8, Confluent Cloud and Confluent Platform. The client is:\n",
    "    * Reliable - It's a wrapper around librdkafka (provided automatically via binary wheels) which is widely deployed in a diverse set of production scenarios. It's tested using the same set of system tests as the Java client and more. It's supported by Confluent.\n",
    "    * Performant - Performance is a key design consideration. Maximum throughput is on par with the Java client for larger message sizes (where the overhead of the Python interpreter has less impact). Latency is on par with the Java client.\n",
    "    * Future proof - Confluent, founded by the creators of Kafka, is building a streaming platform with Apache Kafka at its core. It's high priority for us that client features keep pace with core Apache Kafka and components of the Confluent Platform."
   ]
  },
  {
   "cell_type": "code",
   "execution_count": 6,
   "metadata": {},
   "outputs": [
    {
     "name": "stdout",
     "output_type": "stream",
     "text": [
      "Collecting confluent-kafka\n",
      "  Downloading confluent_kafka-2.4.0-cp312-cp312-win_amd64.whl.metadata (2.4 kB)\n",
      "Downloading confluent_kafka-2.4.0-cp312-cp312-win_amd64.whl (3.5 MB)\n",
      "   ---------------------------------------- 0.0/3.5 MB ? eta -:--:--\n",
      "   ----- ---------------------------------- 0.5/3.5 MB 10.0 MB/s eta 0:00:01\n",
      "   ------------ --------------------------- 1.1/3.5 MB 11.1 MB/s eta 0:00:01\n",
      "   ------------------- -------------------- 1.7/3.5 MB 10.7 MB/s eta 0:00:01\n",
      "   ------------------------ --------------- 2.1/3.5 MB 11.1 MB/s eta 0:00:01\n",
      "   ------------------------------ --------- 2.6/3.5 MB 9.9 MB/s eta 0:00:01\n",
      "   ----------------------------------- ---- 3.1/3.5 MB 9.7 MB/s eta 0:00:01\n",
      "   ---------------------------------------  3.5/3.5 MB 10.0 MB/s eta 0:00:01\n",
      "   ---------------------------------------- 3.5/3.5 MB 9.2 MB/s eta 0:00:00\n",
      "Installing collected packages: confluent-kafka\n",
      "Note: you may need to restart the kernel to use updated packages.\n"
     ]
    },
    {
     "name": "stderr",
     "output_type": "stream",
     "text": [
      "ERROR: Could not install packages due to an OSError: [WinError 5] 액세스가 거부되었습니다: 'c:\\\\Python312\\\\LICENSE.txt'\n",
      "Consider using the `--user` option or check the permissions.\n",
      "\n"
     ]
    }
   ],
   "source": [
    "%pip install confluent-kafka"
   ]
  }
 ],
 "metadata": {
  "kernelspec": {
   "display_name": "Python 3",
   "language": "python",
   "name": "python3"
  },
  "language_info": {
   "codemirror_mode": {
    "name": "ipython",
    "version": 3
   },
   "file_extension": ".py",
   "mimetype": "text/x-python",
   "name": "python",
   "nbconvert_exporter": "python",
   "pygments_lexer": "ipython3",
   "version": "3.12.4"
  }
 },
 "nbformat": 4,
 "nbformat_minor": 2
}
