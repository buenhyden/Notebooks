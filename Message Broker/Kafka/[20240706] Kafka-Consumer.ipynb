{
 "cells": [
  {
   "cell_type": "markdown",
   "metadata": {},
   "source": [
    "# Kafka Consumer"
   ]
  },
  {
   "cell_type": "code",
   "execution_count": 13,
   "metadata": {},
   "outputs": [
    {
     "data": {
      "text/plain": [
       "{'instance_id': 'my_consumer_instance',\n",
       " 'base_uri': 'http://localhost:8082/consumers/my_consumer_group/instances/my_consumer_instance'}"
      ]
     },
     "execution_count": 13,
     "metadata": {},
     "output_type": "execute_result"
    }
   ],
   "source": [
    "import requests\n",
    "import json\n",
    "import time\n",
    "\n",
    "# Kafka REST Proxy URL 설정\n",
    "KAFKA_REST_PROXY_URL = \"http://localhost:8082\"\n",
    "CONSUMER_GROUP = \"my_consumer_group\"\n",
    "TOPIC = \"my_topic\"\n",
    "\n",
    "# Consumer 인스턴스 생성\n",
    "consumer_data = {\n",
    "    \"name\": \"my_consumer_instance\",\n",
    "    \"format\": \"json\",\n",
    "    \"auto.offset.reset\": \"earliest\",\n",
    "}\n",
    "\n",
    "response = requests.post(\n",
    "    f\"{KAFKA_REST_PROXY_URL}/consumers/{CONSUMER_GROUP}\",\n",
    "    headers={\"Content-Type\": \"application/vnd.kafka.v2+json\"},\n",
    "    data=json.dumps(consumer_data),\n",
    ")\n",
    "response.json()"
   ]
  },
  {
   "cell_type": "code",
   "execution_count": 14,
   "metadata": {},
   "outputs": [
    {
     "name": "stdout",
     "output_type": "stream",
     "text": [
      "Consumer instance created successfully\n",
      "Subscribed to topic successfully\n",
      "Received message: value1\n",
      "Received message: value2\n",
      "Received message: value3\n",
      "Received message: value1\n",
      "Received message: value2\n",
      "Received message: value3\n",
      "Received message: value4\n",
      "Received message: value5\n",
      "Received message: value6\n",
      "Consumer instance deleted successfully\n"
     ]
    }
   ],
   "source": [
    "if response.status_code == 200:\n",
    "    consumer_instance = response.json()\n",
    "    print(\"Consumer instance created successfully\")\n",
    "else:\n",
    "    print(\n",
    "        f\"Failed to create consumer instance: {response.status_code}, {response.text}\"\n",
    "    )\n",
    "    exit(1)\n",
    "\n",
    "# 토픽 구독\n",
    "subscription_data = {\"topics\": [TOPIC]}\n",
    "\n",
    "response = requests.post(\n",
    "    f\"{consumer_instance['base_uri']}/subscription\",\n",
    "    headers={\"Content-Type\": \"application/vnd.kafka.v2+json\"},\n",
    "    data=json.dumps(subscription_data),\n",
    ")\n",
    "\n",
    "if response.status_code == 204:\n",
    "    print(\"Subscribed to topic successfully\")\n",
    "else:\n",
    "    print(f\"Failed to subscribe to topic: {response.status_code}, {response.text}\")\n",
    "    exit(1)\n",
    "\n",
    "# 메시지 읽기\n",
    "try:\n",
    "    while True:\n",
    "        response = requests.get(\n",
    "            f\"{consumer_instance['base_uri']}/records\",\n",
    "            headers={\"Accept\": \"application/vnd.kafka.json.v2+json\"},\n",
    "            timeout=5,\n",
    "        )\n",
    "\n",
    "        if response.status_code == 200:\n",
    "            records = response.json()\n",
    "            for record in records:\n",
    "                print(f\"Received message: {record['value']}\")\n",
    "        elif response.status_code == 204:\n",
    "            # No new messages\n",
    "            time.sleep(1)\n",
    "        else:\n",
    "            print(f\"Failed to fetch messages: {response.status_code}, {response.text}\")\n",
    "            break\n",
    "except KeyboardInterrupt:\n",
    "    pass\n",
    "finally:\n",
    "    # Consumer 인스턴스 삭제\n",
    "    response = requests.delete(\n",
    "        consumer_instance[\"base_uri\"],\n",
    "        headers={\"Accept\": \"application/vnd.kafka.v2+json\"},\n",
    "    )\n",
    "    if response.status_code == 204:\n",
    "        print(\"Consumer instance deleted successfully\")\n",
    "    else:\n",
    "        print(\n",
    "            f\"Failed to delete consumer instance: {response.status_code}, {response.text}\"\n",
    "        )"
   ]
  }
 ],
 "metadata": {
  "kernelspec": {
   "display_name": "Python 3",
   "language": "python",
   "name": "python3"
  },
  "language_info": {
   "codemirror_mode": {
    "name": "ipython",
    "version": 3
   },
   "file_extension": ".py",
   "mimetype": "text/x-python",
   "name": "python",
   "nbconvert_exporter": "python",
   "pygments_lexer": "ipython3",
   "version": "3.12.4"
  }
 },
 "nbformat": 4,
 "nbformat_minor": 2
}
