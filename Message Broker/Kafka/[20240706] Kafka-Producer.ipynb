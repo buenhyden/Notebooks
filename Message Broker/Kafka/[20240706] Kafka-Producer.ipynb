{
 "cells": [
  {
   "cell_type": "markdown",
   "metadata": {},
   "source": [
    "# Kafka Producer"
   ]
  },
  {
   "cell_type": "code",
   "execution_count": 13,
   "metadata": {},
   "outputs": [
    {
     "data": {
      "text/plain": [
       "{'instance_id': 'my_consumer_instance',\n",
       " 'base_uri': 'http://localhost:8082/consumers/my_consumer_group/instances/my_consumer_instance'}"
      ]
     },
     "execution_count": 13,
     "metadata": {},
     "output_type": "execute_result"
    }
   ],
   "source": [
    "import requests\n",
    "import json\n",
    "\n",
    "# Kafka REST Proxy URL 설정\n",
    "KAFKA_REST_PROXY_URL = \"http://localhost:8082\"\n",
    "\n",
    "# 메시지를 전송할 토픽\n",
    "TOPIC = \"my_topic\"\n",
    "\n",
    "# 메시지 생성\n",
    "messages = [\n",
    "    {\"key\": \"key4\", \"value\": \"value4\"},\n",
    "    {\"key\": \"key5\", \"value\": \"value5\"},\n",
    "    {\"key\": \"key6\", \"value\": \"value6\"},\n",
    "]\n",
    "\n",
    "# REST Proxy에 메시지 전송\n",
    "headers = {\n",
    "    \"Content-Type\": \"application/vnd.kafka.json.v2+json\",\n",
    "    \"Accept\": \"application/vnd.kafka.v2+json\",\n",
    "}\n",
    "\n",
    "data = {\"records\": [{\"key\": msg[\"key\"], \"value\": msg[\"value\"]} for msg in messages]}\n",
    "\n",
    "response = requests.post(\n",
    "    f\"{KAFKA_REST_PROXY_URL}/topics/{TOPIC}\", headers=headers, data=json.dumps(data)\n",
    ")\n",
    "\n",
    "if response.status_code == 200:\n",
    "    print(\"Messages produced successfully\")\n",
    "else:\n",
    "    print(f\"Failed to produce messages: {response.status_code}, {response.text}\")"
   ]
  }
 ],
 "metadata": {
  "kernelspec": {
   "display_name": "Python 3",
   "language": "python",
   "name": "python3"
  },
  "language_info": {
   "codemirror_mode": {
    "name": "ipython",
    "version": 3
   },
   "file_extension": ".py",
   "mimetype": "text/x-python",
   "name": "python",
   "nbconvert_exporter": "python",
   "pygments_lexer": "ipython3",
   "version": "3.12.4"
  }
 },
 "nbformat": 4,
 "nbformat_minor": 2
}
