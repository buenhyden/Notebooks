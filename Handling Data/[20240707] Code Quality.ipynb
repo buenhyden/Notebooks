{
 "cells": [
  {
   "cell_type": "markdown",
   "metadata": {},
   "source": [
    "# Code Quality"
   ]
  },
  {
   "cell_type": "markdown",
   "metadata": {},
   "source": [
    "* YAPF: 구글에서 개발한 Python Code Formatter"
   ]
  },
  {
   "cell_type": "code",
   "execution_count": 1,
   "metadata": {},
   "outputs": [
    {
     "name": "stdout",
     "output_type": "stream",
     "text": [
      "Collecting yapf\n",
      "  Downloading yapf-0.40.2-py3-none-any.whl.metadata (45 kB)\n",
      "     ---------------------------------------- 0.0/45.4 kB ? eta -:--:--\n",
      "     ---------------------------------------- 45.4/45.4 kB 2.2 MB/s eta 0:00:00\n",
      "Requirement already satisfied: importlib-metadata>=6.6.0 in c:\\users\\hyunyoun\\appdata\\roaming\\python\\python312\\site-packages (from yapf) (8.0.0)\n",
      "Requirement already satisfied: platformdirs>=3.5.1 in c:\\python312\\lib\\site-packages (from yapf) (4.2.2)\n",
      "Collecting tomli>=2.0.1 (from yapf)\n",
      "  Downloading tomli-2.0.1-py3-none-any.whl.metadata (8.9 kB)\n",
      "Requirement already satisfied: zipp>=0.5 in c:\\users\\hyunyoun\\appdata\\roaming\\python\\python312\\site-packages (from importlib-metadata>=6.6.0->yapf) (3.19.2)\n",
      "Downloading yapf-0.40.2-py3-none-any.whl (254 kB)\n",
      "   ---------------------------------------- 0.0/254.7 kB ? eta -:--:--\n",
      "   ---------------------------------------- 254.7/254.7 kB 7.6 MB/s eta 0:00:00\n",
      "Downloading tomli-2.0.1-py3-none-any.whl (12 kB)\n",
      "Installing collected packages: tomli, yapf\n",
      "Note: you may need to restart the kernel to use updated packages.\n"
     ]
    },
    {
     "name": "stderr",
     "output_type": "stream",
     "text": [
      "  WARNING: Failed to write executable - trying to use .deleteme logic\n",
      "ERROR: Could not install packages due to an OSError: [WinError 2] 지정된 파일을 찾을 수 없습니다: 'c:\\\\Python312\\\\Scripts\\\\yapf.exe' -> 'c:\\\\Python312\\\\Scripts\\\\yapf.exe.deleteme'\n",
      "\n"
     ]
    }
   ],
   "source": [
    "%pip install yapf\n"
   ]
  },
  {
   "cell_type": "markdown",
   "metadata": {},
   "source": [
    "* Bandit: 보안 취약점을 찾기 위한 도구"
   ]
  },
  {
   "cell_type": "code",
   "execution_count": 2,
   "metadata": {},
   "outputs": [
    {
     "name": "stdout",
     "output_type": "stream",
     "text": [
      "Collecting banditNote: you may need to restart the kernel to use updated packages.\n",
      "\n",
      "  Downloading bandit-1.7.9-py3-none-any.whl.metadata (6.7 kB)\n",
      "Requirement already satisfied: PyYAML>=5.3.1 in c:\\python312\\lib\\site-packages (from bandit) (6.0.1)\n",
      "Collecting stevedore>=1.20.0 (from bandit)\n",
      "  Downloading stevedore-5.2.0-py3-none-any.whl.metadata (2.3 kB)\n",
      "Requirement already satisfied: rich in c:\\users\\hyunyoun\\appdata\\roaming\\python\\python312\\site-packages (from bandit) (13.7.1)\n",
      "Requirement already satisfied: colorama>=0.3.9 in c:\\python312\\lib\\site-packages (from bandit) (0.4.6)\n",
      "Collecting pbr!=2.1.0,>=2.0.0 (from stevedore>=1.20.0->bandit)\n",
      "  Downloading pbr-6.0.0-py2.py3-none-any.whl.metadata (1.3 kB)\n",
      "Requirement already satisfied: markdown-it-py>=2.2.0 in c:\\users\\hyunyoun\\appdata\\roaming\\python\\python312\\site-packages (from rich->bandit) (3.0.0)\n",
      "Requirement already satisfied: pygments<3.0.0,>=2.13.0 in c:\\python312\\lib\\site-packages (from rich->bandit) (2.18.0)\n",
      "Requirement already satisfied: mdurl~=0.1 in c:\\users\\hyunyoun\\appdata\\roaming\\python\\python312\\site-packages (from markdown-it-py>=2.2.0->rich->bandit) (0.1.2)\n",
      "Downloading bandit-1.7.9-py3-none-any.whl (127 kB)\n",
      "   ---------------------------------------- 0.0/128.0 kB ? eta -:--:--\n",
      "   ---------------------------------------- 128.0/128.0 kB 3.8 MB/s eta 0:00:00\n",
      "Downloading stevedore-5.2.0-py3-none-any.whl (49 kB)\n",
      "   ---------------------------------------- 0.0/49.7 kB ? eta -:--:--\n",
      "   ---------------------------------------- 49.7/49.7 kB 2.6 MB/s eta 0:00:00\n",
      "Downloading pbr-6.0.0-py2.py3-none-any.whl (107 kB)\n",
      "   ---------------------------------------- 0.0/107.5 kB ? eta -:--:--\n",
      "   ---------------------------------------- 107.5/107.5 kB 6.5 MB/s eta 0:00:00\n",
      "Installing collected packages: pbr, stevedore, bandit\n"
     ]
    },
    {
     "name": "stderr",
     "output_type": "stream",
     "text": [
      "  WARNING: Failed to write executable - trying to use .deleteme logic\n",
      "ERROR: Could not install packages due to an OSError: [WinError 2] 지정된 파일을 찾을 수 없습니다: 'c:\\\\Python312\\\\Scripts\\\\pbr.exe' -> 'c:\\\\Python312\\\\Scripts\\\\pbr.exe.deleteme'\n",
      "\n"
     ]
    }
   ],
   "source": [
    "%pip install bandit"
   ]
  },
  {
   "cell_type": "markdown",
   "metadata": {},
   "source": [
    "* Black: The uncompromising code formatter"
   ]
  },
  {
   "cell_type": "code",
   "execution_count": 3,
   "metadata": {},
   "outputs": [
    {
     "name": "stdout",
     "output_type": "stream",
     "text": [
      "Collecting black\n",
      "  Downloading black-24.4.2-cp312-cp312-win_amd64.whl.metadata (77 kB)\n",
      "     ---------------------------------------- 0.0/77.1 kB ? eta -:--:--\n",
      "     ---------------------------------------- 77.1/77.1 kB 4.5 MB/s eta 0:00:00\n",
      "Requirement already satisfied: click>=8.0.0 in c:\\python312\\lib\\site-packages (from black) (8.1.7)\n",
      "Collecting mypy-extensions>=0.4.3 (from black)\n",
      "  Downloading mypy_extensions-1.0.0-py3-none-any.whl.metadata (1.1 kB)\n",
      "Requirement already satisfied: packaging>=22.0 in c:\\python312\\lib\\site-packages (from black) (24.1)\n",
      "Collecting pathspec>=0.9.0 (from black)\n",
      "  Downloading pathspec-0.12.1-py3-none-any.whl.metadata (21 kB)\n",
      "Requirement already satisfied: platformdirs>=2 in c:\\python312\\lib\\site-packages (from black) (4.2.2)\n",
      "Requirement already satisfied: colorama in c:\\python312\\lib\\site-packages (from click>=8.0.0->black) (0.4.6)\n",
      "Downloading black-24.4.2-cp312-cp312-win_amd64.whl (1.4 MB)\n",
      "   ---------------------------------------- 0.0/1.4 MB ? eta -:--:--\n",
      "   -- ------------------------------------- 0.1/1.4 MB 1.5 MB/s eta 0:00:01\n",
      "   ---- ----------------------------------- 0.2/1.4 MB 2.1 MB/s eta 0:00:01\n",
      "   ------- -------------------------------- 0.3/1.4 MB 2.1 MB/s eta 0:00:01\n",
      "   ----------- ---------------------------- 0.4/1.4 MB 2.1 MB/s eta 0:00:01\n",
      "   ------------- -------------------------- 0.5/1.4 MB 2.0 MB/s eta 0:00:01\n",
      "   -------------- ------------------------- 0.5/1.4 MB 1.9 MB/s eta 0:00:01\n",
      "   ---------------- ----------------------- 0.6/1.4 MB 1.8 MB/s eta 0:00:01\n",
      "   ---------------- ----------------------- 0.6/1.4 MB 1.6 MB/s eta 0:00:01\n",
      "   ----------------- ---------------------- 0.6/1.4 MB 1.5 MB/s eta 0:00:01\n",
      "   ------------------ --------------------- 0.7/1.4 MB 1.4 MB/s eta 0:00:01\n",
      "   --------------------- ------------------ 0.8/1.4 MB 1.5 MB/s eta 0:00:01\n",
      "   ---------------------------- ----------- 1.0/1.4 MB 1.8 MB/s eta 0:00:01\n",
      "   ---------------------------------------  1.4/1.4 MB 2.3 MB/s eta 0:00:01\n",
      "   ---------------------------------------- 1.4/1.4 MB 2.3 MB/s eta 0:00:00\n",
      "Downloading mypy_extensions-1.0.0-py3-none-any.whl (4.7 kB)\n",
      "Downloading pathspec-0.12.1-py3-none-any.whl (31 kB)\n",
      "Installing collected packages: pathspec, mypy-extensions, black\n",
      "Note: you may need to restart the kernel to use updated packages.\n"
     ]
    },
    {
     "name": "stderr",
     "output_type": "stream",
     "text": [
      "  WARNING: Failed to write executable - trying to use .deleteme logic\n",
      "ERROR: Could not install packages due to an OSError: [WinError 2] 지정된 파일을 찾을 수 없습니다: 'c:\\\\Python312\\\\Scripts\\\\black.exe' -> 'c:\\\\Python312\\\\Scripts\\\\black.exe.deleteme'\n",
      "\n"
     ]
    }
   ],
   "source": [
    "%pip install black"
   ]
  },
  {
   "cell_type": "markdown",
   "metadata": {},
   "source": [
    "* Flake8: 파이썬 린팅(Linting) 도구"
   ]
  },
  {
   "cell_type": "code",
   "execution_count": 5,
   "metadata": {},
   "outputs": [
    {
     "name": "stdout",
     "output_type": "stream",
     "text": [
      "Collecting flake8\n",
      "  Downloading flake8-7.1.0-py2.py3-none-any.whl.metadata (3.8 kB)\n",
      "Collecting mccabe<0.8.0,>=0.7.0 (from flake8)\n",
      "  Downloading mccabe-0.7.0-py2.py3-none-any.whl.metadata (5.0 kB)\n",
      "Collecting pycodestyle<2.13.0,>=2.12.0 (from flake8)\n",
      "  Downloading pycodestyle-2.12.0-py2.py3-none-any.whl.metadata (4.5 kB)\n",
      "Collecting pyflakes<3.3.0,>=3.2.0 (from flake8)\n",
      "  Downloading pyflakes-3.2.0-py2.py3-none-any.whl.metadata (3.5 kB)\n",
      "Downloading flake8-7.1.0-py2.py3-none-any.whl (57 kB)\n",
      "   ---------------------------------------- 0.0/57.6 kB ? eta -:--:--\n",
      "   ---------------------------------------- 57.6/57.6 kB 3.2 MB/s eta 0:00:00\n",
      "Downloading mccabe-0.7.0-py2.py3-none-any.whl (7.3 kB)\n",
      "Downloading pycodestyle-2.12.0-py2.py3-none-any.whl (31 kB)\n",
      "Downloading pyflakes-3.2.0-py2.py3-none-any.whl (62 kB)\n",
      "   ---------------------------------------- 0.0/62.7 kB ? eta -:--:--\n",
      "   ---------------------------------------- 62.7/62.7 kB 3.3 MB/s eta 0:00:00\n",
      "Installing collected packages: pyflakes, pycodestyle, mccabe, flake8\n",
      "Note: you may need to restart the kernel to use updated packages.\n"
     ]
    },
    {
     "name": "stderr",
     "output_type": "stream",
     "text": [
      "  WARNING: Failed to write executable - trying to use .deleteme logic\n",
      "ERROR: Could not install packages due to an OSError: [WinError 2] 지정된 파일을 찾을 수 없습니다: 'c:\\\\Python312\\\\Scripts\\\\pyflakes.exe' -> 'c:\\\\Python312\\\\Scripts\\\\pyflakes.exe.deleteme'\n",
      "\n"
     ]
    }
   ],
   "source": [
    "%pip install flake8"
   ]
  },
  {
   "cell_type": "markdown",
   "metadata": {},
   "source": [
    "* Ruff: Rust 기반 파이썬 린터(Linter) 및 코드 포멧터"
   ]
  },
  {
   "cell_type": "code",
   "execution_count": 6,
   "metadata": {},
   "outputs": [
    {
     "name": "stdout",
     "output_type": "stream",
     "text": [
      "Collecting ruff\n",
      "  Downloading ruff-0.5.1-py3-none-win_amd64.whl.metadata (25 kB)\n",
      "Downloading ruff-0.5.1-py3-none-win_amd64.whl (8.6 MB)\n",
      "   ---------------------------------------- 0.0/8.6 MB ? eta -:--:--\n",
      "   -- ------------------------------------- 0.6/8.6 MB 17.6 MB/s eta 0:00:01\n",
      "   ----- ---------------------------------- 1.1/8.6 MB 14.0 MB/s eta 0:00:01\n",
      "   ------- -------------------------------- 1.6/8.6 MB 13.1 MB/s eta 0:00:01\n",
      "   ---------- ----------------------------- 2.2/8.6 MB 12.8 MB/s eta 0:00:01\n",
      "   ------------ --------------------------- 2.8/8.6 MB 12.6 MB/s eta 0:00:01\n",
      "   -------------- ------------------------- 3.1/8.6 MB 11.8 MB/s eta 0:00:01\n",
      "   --------------- ------------------------ 3.3/8.6 MB 10.4 MB/s eta 0:00:01\n",
      "   ----------------- ---------------------- 3.8/8.6 MB 10.4 MB/s eta 0:00:01\n",
      "   -------------------- ------------------- 4.3/8.6 MB 10.2 MB/s eta 0:00:01\n",
      "   ---------------------- ----------------- 4.8/8.6 MB 10.3 MB/s eta 0:00:01\n",
      "   ------------------------ --------------- 5.4/8.6 MB 10.4 MB/s eta 0:00:01\n",
      "   --------------------------- ------------ 5.9/8.6 MB 10.5 MB/s eta 0:00:01\n",
      "   ------------------------------- -------- 6.7/8.6 MB 10.7 MB/s eta 0:00:01\n",
      "   --------------------------------- ------ 7.2/8.6 MB 10.7 MB/s eta 0:00:01\n",
      "   ----------------------------------- ---- 7.7/8.6 MB 10.7 MB/s eta 0:00:01\n",
      "   -------------------------------------- - 8.3/8.6 MB 10.8 MB/s eta 0:00:01\n",
      "   ---------------------------------------  8.6/8.6 MB 11.0 MB/s eta 0:00:01\n",
      "   ---------------------------------------- 8.6/8.6 MB 10.4 MB/s eta 0:00:00\n",
      "Installing collected packages: ruff\n",
      "Note: you may need to restart the kernel to use updated packages.\n"
     ]
    },
    {
     "name": "stderr",
     "output_type": "stream",
     "text": [
      "ERROR: Could not install packages due to an OSError: [Errno 13] Permission denied: 'c:\\\\Python312\\\\Scripts\\\\ruff.exe'\n",
      "Consider using the `--user` option or check the permissions.\n",
      "\n"
     ]
    }
   ],
   "source": [
    "%pip install ruff"
   ]
  },
  {
   "cell_type": "markdown",
   "metadata": {},
   "source": [
    "* Coverage: 테스트 커버리지 측정 도구"
   ]
  },
  {
   "cell_type": "code",
   "execution_count": 7,
   "metadata": {},
   "outputs": [
    {
     "name": "stdout",
     "output_type": "stream",
     "text": [
      "Collecting coverage\n",
      "  Downloading coverage-7.5.4-cp312-cp312-win_amd64.whl.metadata (8.4 kB)\n",
      "Downloading coverage-7.5.4-cp312-cp312-win_amd64.whl (208 kB)\n",
      "   ---------------------------------------- 0.0/208.8 kB ? eta -:--:--\n",
      "   --------------------------------------- 208.8/208.8 kB 12.4 MB/s eta 0:00:00\n",
      "Installing collected packages: coverage\n",
      "Note: you may need to restart the kernel to use updated packages.\n"
     ]
    },
    {
     "name": "stderr",
     "output_type": "stream",
     "text": [
      "  WARNING: Failed to write executable - trying to use .deleteme logic\n",
      "ERROR: Could not install packages due to an OSError: [WinError 2] 지정된 파일을 찾을 수 없습니다: 'c:\\\\Python312\\\\Scripts\\\\coverage.exe' -> 'c:\\\\Python312\\\\Scripts\\\\coverage.exe.deleteme'\n",
      "\n"
     ]
    }
   ],
   "source": [
    "%pip install coverage"
   ]
  },
  {
   "cell_type": "code",
   "execution_count": null,
   "metadata": {},
   "outputs": [],
   "source": []
  }
 ],
 "metadata": {
  "kernelspec": {
   "display_name": "Python 3",
   "language": "python",
   "name": "python3"
  },
  "language_info": {
   "codemirror_mode": {
    "name": "ipython",
    "version": 3
   },
   "file_extension": ".py",
   "mimetype": "text/x-python",
   "name": "python",
   "nbconvert_exporter": "python",
   "pygments_lexer": "ipython3",
   "version": "3.12.4"
  }
 },
 "nbformat": 4,
 "nbformat_minor": 2
}
