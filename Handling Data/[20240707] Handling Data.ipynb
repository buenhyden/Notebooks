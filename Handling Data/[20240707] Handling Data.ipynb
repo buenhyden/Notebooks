{
 "cells": [
  {
   "cell_type": "markdown",
   "metadata": {},
   "source": [
    "# Handling Data"
   ]
  },
  {
   "cell_type": "markdown",
   "metadata": {},
   "source": [
    "* connector-x : Fastest library to load data from DB to DataFrames in Rust and Python"
   ]
  },
  {
   "cell_type": "code",
   "execution_count": 1,
   "metadata": {},
   "outputs": [
    {
     "name": "stdout",
     "output_type": "stream",
     "text": [
      "Requirement already satisfied: connectorx in c:\\python312\\lib\\site-packages (0.3.3)\n",
      "Note: you may need to restart the kernel to use updated packages.\n"
     ]
    },
    {
     "name": "stderr",
     "output_type": "stream",
     "text": [
      "WARNING: Ignoring invalid distribution ~ (c:\\Python312\\Lib\\site-packages)\n",
      "WARNING: Ignoring invalid distribution ~ebsockets (c:\\Python312\\Lib\\site-packages)\n",
      "WARNING: Ignoring invalid distribution ~equests (c:\\Python312\\Lib\\site-packages)\n",
      "WARNING: Ignoring invalid distribution ~ip (c:\\Python312\\Lib\\site-packages)\n",
      "WARNING: Ignoring invalid distribution ~ttpcore (c:\\Python312\\Lib\\site-packages)\n",
      "WARNING: Ignoring invalid distribution ~ (c:\\Python312\\Lib\\site-packages)\n",
      "WARNING: Ignoring invalid distribution ~ebsockets (c:\\Python312\\Lib\\site-packages)\n",
      "WARNING: Ignoring invalid distribution ~equests (c:\\Python312\\Lib\\site-packages)\n",
      "WARNING: Ignoring invalid distribution ~ip (c:\\Python312\\Lib\\site-packages)\n",
      "WARNING: Ignoring invalid distribution ~ttpcore (c:\\Python312\\Lib\\site-packages)\n",
      "WARNING: Ignoring invalid distribution ~ (c:\\Python312\\Lib\\site-packages)\n",
      "WARNING: Ignoring invalid distribution ~ebsockets (c:\\Python312\\Lib\\site-packages)\n",
      "WARNING: Ignoring invalid distribution ~equests (c:\\Python312\\Lib\\site-packages)\n",
      "WARNING: Ignoring invalid distribution ~ip (c:\\Python312\\Lib\\site-packages)\n",
      "WARNING: Ignoring invalid distribution ~ttpcore (c:\\Python312\\Lib\\site-packages)\n"
     ]
    }
   ],
   "source": [
    "%pip install connectorx"
   ]
  },
  {
   "cell_type": "markdown",
   "metadata": {},
   "source": [
    "* polars : Dataframes powered by a multithreaded, vectorized query engine, written in Rust"
   ]
  },
  {
   "cell_type": "code",
   "execution_count": 2,
   "metadata": {},
   "outputs": [
    {
     "name": "stdout",
     "output_type": "stream",
     "text": [
      "Requirement already satisfied: polars[all] in c:\\python312\\lib\\site-packages (0.20.31)\n",
      "Requirement already satisfied: adbc-driver-manager in c:\\users\\hyunyoun\\appdata\\roaming\\python\\python312\\site-packages (from polars[all]) (1.1.0)\n",
      "Requirement already satisfied: adbc-driver-sqlite in c:\\users\\hyunyoun\\appdata\\roaming\\python\\python312\\site-packages (from polars[all]) (1.1.0)\n",
      "Requirement already satisfied: nest-asyncio in c:\\python312\\lib\\site-packages (from polars[all]) (1.6.0)\n",
      "Requirement already satisfied: cloudpickle in c:\\python312\\lib\\site-packages (from polars[all]) (3.0.0)\n",
      "Requirement already satisfied: connectorx>=0.3.2 in c:\\python312\\lib\\site-packages (from polars[all]) (0.3.3)\n",
      "Requirement already satisfied: deltalake>=0.15.0 in c:\\users\\hyunyoun\\appdata\\roaming\\python\\python312\\site-packages (from polars[all]) (0.18.2)\n",
      "Requirement already satisfied: fastexcel>=0.9 in c:\\users\\hyunyoun\\appdata\\roaming\\python\\python312\\site-packages (from polars[all]) (0.10.4)\n",
      "Requirement already satisfied: fsspec in c:\\users\\hyunyoun\\appdata\\roaming\\python\\python312\\site-packages (from polars[all]) (2023.12.2)\n",
      "Requirement already satisfied: gevent in c:\\users\\hyunyoun\\appdata\\roaming\\python\\python312\\site-packages (from polars[all]) (24.2.1)\n",
      "Requirement already satisfied: pyiceberg>=0.5.0 in c:\\users\\hyunyoun\\appdata\\roaming\\python\\python312\\site-packages (from polars[all]) (0.6.1)\n",
      "Requirement already satisfied: numpy>=1.16.0 in c:\\python312\\lib\\site-packages (from polars[all]) (2.0.0)\n",
      "Requirement already satisfied: pyarrow>=7.0.0 in c:\\python312\\lib\\site-packages (from polars[all]) (16.1.0)\n",
      "Requirement already satisfied: pandas in c:\\python312\\lib\\site-packages (from polars[all]) (2.2.2)\n",
      "Requirement already satisfied: hvplot>=0.9.1 in c:\\users\\hyunyoun\\appdata\\roaming\\python\\python312\\site-packages (from polars[all]) (0.10.0)\n",
      "Requirement already satisfied: pydantic in c:\\python312\\lib\\site-packages (from polars[all]) (2.8.2)\n",
      "Requirement already satisfied: sqlalchemy in c:\\python312\\lib\\site-packages (from polars[all]) (2.0.31)\n",
      "Requirement already satisfied: tzdata in c:\\python312\\lib\\site-packages (from polars[all]) (2024.1)\n",
      "Requirement already satisfied: xlsx2csv>=0.8.0 in c:\\python312\\lib\\site-packages (from polars[all]) (0.8.2)\n",
      "Requirement already satisfied: xlsxwriter in c:\\users\\hyunyoun\\appdata\\roaming\\python\\python312\\site-packages (from polars[all]) (3.2.0)\n",
      "Requirement already satisfied: pyarrow-hotfix in c:\\users\\hyunyoun\\appdata\\roaming\\python\\python312\\site-packages (from deltalake>=0.15.0->polars[all]) (0.6)\n",
      "Requirement already satisfied: bokeh>=1.0.0 in c:\\users\\hyunyoun\\appdata\\roaming\\python\\python312\\site-packages (from hvplot>=0.9.1->polars[all]) (3.4.2)\n",
      "Requirement already satisfied: colorcet>=2 in c:\\users\\hyunyoun\\appdata\\roaming\\python\\python312\\site-packages (from hvplot>=0.9.1->polars[all]) (3.1.0)\n",
      "Requirement already satisfied: holoviews>=1.11.0 in c:\\users\\hyunyoun\\appdata\\roaming\\python\\python312\\site-packages (from hvplot>=0.9.1->polars[all]) (1.19.1)\n",
      "Requirement already satisfied: packaging in c:\\python312\\lib\\site-packages (from hvplot>=0.9.1->polars[all]) (24.1)\n",
      "Requirement already satisfied: panel>=0.11.0 in c:\\users\\hyunyoun\\appdata\\roaming\\python\\python312\\site-packages (from hvplot>=0.9.1->polars[all]) (1.4.4)\n",
      "Requirement already satisfied: param<3.0,>=1.12.0 in c:\\users\\hyunyoun\\appdata\\roaming\\python\\python312\\site-packages (from hvplot>=0.9.1->polars[all]) (2.1.1)\n",
      "Requirement already satisfied: click<9.0.0,>=7.1.1 in c:\\python312\\lib\\site-packages (from pyiceberg>=0.5.0->polars[all]) (8.1.7)\n",
      "Requirement already satisfied: mmhash3<4.0.0,>=3.0.0 in c:\\python312\\lib\\site-packages (from pyiceberg>=0.5.0->polars[all]) (3.0.1)\n",
      "Requirement already satisfied: pyparsing<4.0.0,>=3.1.0 in c:\\python312\\lib\\site-packages (from pyiceberg>=0.5.0->polars[all]) (3.1.2)\n",
      "Requirement already satisfied: requests<3.0.0,>=2.20.0 in c:\\users\\hyunyoun\\appdata\\roaming\\python\\python312\\site-packages (from pyiceberg>=0.5.0->polars[all]) (2.25.1)\n",
      "Requirement already satisfied: rich<14.0.0,>=10.11.0 in c:\\users\\hyunyoun\\appdata\\roaming\\python\\python312\\site-packages (from pyiceberg>=0.5.0->polars[all]) (13.7.1)\n",
      "Requirement already satisfied: sortedcontainers==2.4.0 in c:\\python312\\lib\\site-packages (from pyiceberg>=0.5.0->polars[all]) (2.4.0)\n",
      "Requirement already satisfied: strictyaml<2.0.0,>=1.7.0 in c:\\users\\hyunyoun\\appdata\\roaming\\python\\python312\\site-packages (from pyiceberg>=0.5.0->polars[all]) (1.7.3)\n",
      "Requirement already satisfied: annotated-types>=0.4.0 in c:\\python312\\lib\\site-packages (from pydantic->polars[all]) (0.7.0)\n",
      "Requirement already satisfied: pydantic-core==2.20.1 in c:\\python312\\lib\\site-packages (from pydantic->polars[all]) (2.20.1)\n",
      "Requirement already satisfied: typing-extensions>=4.6.1 in c:\\python312\\lib\\site-packages (from pydantic->polars[all]) (4.12.2)\n",
      "Requirement already satisfied: importlib-resources>=1.3 in c:\\users\\hyunyoun\\appdata\\roaming\\python\\python312\\site-packages (from adbc-driver-sqlite->polars[all]) (6.4.0)\n",
      "Requirement already satisfied: zope.event in c:\\python312\\lib\\site-packages (from gevent->polars[all]) (5.0)\n",
      "Requirement already satisfied: zope.interface in c:\\python312\\lib\\site-packages (from gevent->polars[all]) (6.4.post2)\n",
      "Requirement already satisfied: greenlet>=3.0rc3 in c:\\python312\\lib\\site-packages (from gevent->polars[all]) (3.0.3)\n",
      "Requirement already satisfied: cffi>=1.12.2 in c:\\python312\\lib\\site-packages (from gevent->polars[all]) (1.16.0)\n",
      "Requirement already satisfied: python-dateutil>=2.8.2 in c:\\python312\\lib\\site-packages (from pandas->polars[all]) (2.9.0.post0)\n",
      "Requirement already satisfied: pytz>=2020.1 in c:\\python312\\lib\\site-packages (from pandas->polars[all]) (2024.1)\n",
      "Requirement already satisfied: Jinja2>=2.9 in c:\\python312\\lib\\site-packages (from bokeh>=1.0.0->hvplot>=0.9.1->polars[all]) (3.1.4)\n",
      "Requirement already satisfied: contourpy>=1.2 in c:\\users\\hyunyoun\\appdata\\roaming\\python\\python312\\site-packages (from bokeh>=1.0.0->hvplot>=0.9.1->polars[all]) (1.2.1)\n",
      "Requirement already satisfied: pillow>=7.1.0 in c:\\python312\\lib\\site-packages (from bokeh>=1.0.0->hvplot>=0.9.1->polars[all]) (10.3.0)\n",
      "Requirement already satisfied: PyYAML>=3.10 in c:\\python312\\lib\\site-packages (from bokeh>=1.0.0->hvplot>=0.9.1->polars[all]) (6.0.1)\n",
      "Requirement already satisfied: tornado>=6.2 in c:\\python312\\lib\\site-packages (from bokeh>=1.0.0->hvplot>=0.9.1->polars[all]) (6.4.1)\n",
      "Requirement already satisfied: xyzservices>=2021.09.1 in c:\\python312\\lib\\site-packages (from bokeh>=1.0.0->hvplot>=0.9.1->polars[all]) (2024.6.0)\n",
      "Requirement already satisfied: pycparser in c:\\python312\\lib\\site-packages (from cffi>=1.12.2->gevent->polars[all]) (2.22)\n",
      "Requirement already satisfied: colorama in c:\\python312\\lib\\site-packages (from click<9.0.0,>=7.1.1->pyiceberg>=0.5.0->polars[all]) (0.4.6)\n",
      "Requirement already satisfied: pyviz-comms>=2.1 in c:\\users\\hyunyoun\\appdata\\roaming\\python\\python312\\site-packages (from holoviews>=1.11.0->hvplot>=0.9.1->polars[all]) (3.0.2)\n",
      "Requirement already satisfied: markdown in c:\\users\\hyunyoun\\appdata\\roaming\\python\\python312\\site-packages (from panel>=0.11.0->hvplot>=0.9.1->polars[all]) (3.6)\n",
      "Requirement already satisfied: markdown-it-py in c:\\users\\hyunyoun\\appdata\\roaming\\python\\python312\\site-packages (from panel>=0.11.0->hvplot>=0.9.1->polars[all]) (3.0.0)\n",
      "Requirement already satisfied: linkify-it-py in c:\\users\\hyunyoun\\appdata\\roaming\\python\\python312\\site-packages (from panel>=0.11.0->hvplot>=0.9.1->polars[all]) (2.0.3)\n",
      "Requirement already satisfied: mdit-py-plugins in c:\\users\\hyunyoun\\appdata\\roaming\\python\\python312\\site-packages (from panel>=0.11.0->hvplot>=0.9.1->polars[all]) (0.4.1)\n",
      "Requirement already satisfied: tqdm>=4.48.0 in c:\\python312\\lib\\site-packages (from panel>=0.11.0->hvplot>=0.9.1->polars[all]) (4.66.4)\n",
      "Requirement already satisfied: bleach in c:\\python312\\lib\\site-packages (from panel>=0.11.0->hvplot>=0.9.1->polars[all]) (6.1.0)\n",
      "Requirement already satisfied: six>=1.5 in c:\\python312\\lib\\site-packages (from python-dateutil>=2.8.2->pandas->polars[all]) (1.16.0)\n",
      "Requirement already satisfied: chardet<5,>=3.0.2 in c:\\python312\\lib\\site-packages (from requests<3.0.0,>=2.20.0->pyiceberg>=0.5.0->polars[all]) (4.0.0)\n",
      "Requirement already satisfied: idna<3,>=2.5 in c:\\python312\\lib\\site-packages (from requests<3.0.0,>=2.20.0->pyiceberg>=0.5.0->polars[all]) (2.10)\n",
      "Requirement already satisfied: urllib3<1.27,>=1.21.1 in c:\\python312\\lib\\site-packages (from requests<3.0.0,>=2.20.0->pyiceberg>=0.5.0->polars[all]) (1.26.19)\n",
      "Requirement already satisfied: certifi>=2017.4.17 in c:\\users\\hyunyoun\\appdata\\roaming\\python\\python312\\site-packages (from requests<3.0.0,>=2.20.0->pyiceberg>=0.5.0->polars[all]) (2024.7.4)\n",
      "Requirement already satisfied: pygments<3.0.0,>=2.13.0 in c:\\python312\\lib\\site-packages (from rich<14.0.0,>=10.11.0->pyiceberg>=0.5.0->polars[all]) (2.18.0)\n",
      "Requirement already satisfied: setuptools in c:\\users\\hyunyoun\\appdata\\roaming\\python\\python312\\site-packages (from zope.event->gevent->polars[all]) (72.1.0)\n",
      "Requirement already satisfied: MarkupSafe>=2.0 in c:\\python312\\lib\\site-packages (from Jinja2>=2.9->bokeh>=1.0.0->hvplot>=0.9.1->polars[all]) (2.1.5)\n",
      "Requirement already satisfied: mdurl~=0.1 in c:\\users\\hyunyoun\\appdata\\roaming\\python\\python312\\site-packages (from markdown-it-py->panel>=0.11.0->hvplot>=0.9.1->polars[all]) (0.1.2)\n",
      "Requirement already satisfied: webencodings in c:\\python312\\lib\\site-packages (from bleach->panel>=0.11.0->hvplot>=0.9.1->polars[all]) (0.5.1)\n",
      "Requirement already satisfied: uc-micro-py in c:\\users\\hyunyoun\\appdata\\roaming\\python\\python312\\site-packages (from linkify-it-py->panel>=0.11.0->hvplot>=0.9.1->polars[all]) (1.0.3)\n",
      "Note: you may need to restart the kernel to use updated packages.\n"
     ]
    },
    {
     "name": "stderr",
     "output_type": "stream",
     "text": [
      "WARNING: Ignoring invalid distribution ~ (c:\\Python312\\Lib\\site-packages)\n",
      "WARNING: Ignoring invalid distribution ~ebsockets (c:\\Python312\\Lib\\site-packages)\n",
      "WARNING: Ignoring invalid distribution ~equests (c:\\Python312\\Lib\\site-packages)\n",
      "WARNING: Ignoring invalid distribution ~hardet (c:\\Python312\\Lib\\site-packages)\n",
      "WARNING: Ignoring invalid distribution ~ip (c:\\Python312\\Lib\\site-packages)\n",
      "WARNING: Ignoring invalid distribution ~ttpcore (c:\\Python312\\Lib\\site-packages)\n",
      "WARNING: Ignoring invalid distribution ~ (c:\\Python312\\Lib\\site-packages)\n",
      "WARNING: Ignoring invalid distribution ~ebsockets (c:\\Python312\\Lib\\site-packages)\n",
      "WARNING: Ignoring invalid distribution ~equests (c:\\Python312\\Lib\\site-packages)\n",
      "WARNING: Ignoring invalid distribution ~hardet (c:\\Python312\\Lib\\site-packages)\n",
      "WARNING: Ignoring invalid distribution ~ip (c:\\Python312\\Lib\\site-packages)\n",
      "WARNING: Ignoring invalid distribution ~ttpcore (c:\\Python312\\Lib\\site-packages)\n",
      "WARNING: Ignoring invalid distribution ~ (c:\\Python312\\Lib\\site-packages)\n",
      "WARNING: Ignoring invalid distribution ~ebsockets (c:\\Python312\\Lib\\site-packages)\n",
      "WARNING: Ignoring invalid distribution ~equests (c:\\Python312\\Lib\\site-packages)\n",
      "WARNING: Ignoring invalid distribution ~hardet (c:\\Python312\\Lib\\site-packages)\n",
      "WARNING: Ignoring invalid distribution ~ip (c:\\Python312\\Lib\\site-packages)\n",
      "WARNING: Ignoring invalid distribution ~ttpcore (c:\\Python312\\Lib\\site-packages)\n"
     ]
    }
   ],
   "source": [
    "%pip install polars[all]"
   ]
  },
  {
   "cell_type": "markdown",
   "metadata": {},
   "source": [
    "* modin : is a DataFrame for datasets from 1MB to 1TB+. We have focused heavily on bridging the solutions between DataFrames for small data (e.g. pandas) and large data. Often data scientists require different tools for doing the same thing on different sizes of data."
   ]
  },
  {
   "cell_type": "code",
   "execution_count": 3,
   "metadata": {},
   "outputs": [
    {
     "name": "stdout",
     "output_type": "stream",
     "text": [
      "Requirement already satisfied: modin in c:\\python312\\lib\\site-packages (0.31.0)\n",
      "Requirement already satisfied: pandas<2.3,>=2.2 in c:\\python312\\lib\\site-packages (from modin) (2.2.2)\n",
      "Requirement already satisfied: packaging>=21.0 in c:\\python312\\lib\\site-packages (from modin) (24.1)\n",
      "Requirement already satisfied: numpy>=1.22.4 in c:\\python312\\lib\\site-packages (from modin) (2.0.0)\n",
      "Requirement already satisfied: fsspec>=2022.11.0 in c:\\users\\hyunyoun\\appdata\\roaming\\python\\python312\\site-packages (from modin) (2023.12.2)\n",
      "Requirement already satisfied: psutil>=5.8.0 in c:\\users\\hyunyoun\\appdata\\roaming\\python\\python312\\site-packages (from modin) (5.9.8)\n",
      "Requirement already satisfied: python-dateutil>=2.8.2 in c:\\python312\\lib\\site-packages (from pandas<2.3,>=2.2->modin) (2.9.0.post0)\n",
      "Requirement already satisfied: pytz>=2020.1 in c:\\python312\\lib\\site-packages (from pandas<2.3,>=2.2->modin) (2024.1)\n",
      "Requirement already satisfied: tzdata>=2022.7 in c:\\python312\\lib\\site-packages (from pandas<2.3,>=2.2->modin) (2024.1)\n",
      "Requirement already satisfied: six>=1.5 in c:\\python312\\lib\\site-packages (from python-dateutil>=2.8.2->pandas<2.3,>=2.2->modin) (1.16.0)\n",
      "Note: you may need to restart the kernel to use updated packages.\n"
     ]
    },
    {
     "name": "stderr",
     "output_type": "stream",
     "text": [
      "WARNING: Ignoring invalid distribution ~ (c:\\Python312\\Lib\\site-packages)\n",
      "WARNING: Ignoring invalid distribution ~ebsockets (c:\\Python312\\Lib\\site-packages)\n",
      "WARNING: Ignoring invalid distribution ~equests (c:\\Python312\\Lib\\site-packages)\n",
      "WARNING: Ignoring invalid distribution ~hardet (c:\\Python312\\Lib\\site-packages)\n",
      "WARNING: Ignoring invalid distribution ~ip (c:\\Python312\\Lib\\site-packages)\n",
      "WARNING: Ignoring invalid distribution ~ttpcore (c:\\Python312\\Lib\\site-packages)\n",
      "WARNING: Ignoring invalid distribution ~ (c:\\Python312\\Lib\\site-packages)\n",
      "WARNING: Ignoring invalid distribution ~ebsockets (c:\\Python312\\Lib\\site-packages)\n",
      "WARNING: Ignoring invalid distribution ~equests (c:\\Python312\\Lib\\site-packages)\n",
      "WARNING: Ignoring invalid distribution ~hardet (c:\\Python312\\Lib\\site-packages)\n",
      "WARNING: Ignoring invalid distribution ~ip (c:\\Python312\\Lib\\site-packages)\n",
      "WARNING: Ignoring invalid distribution ~ttpcore (c:\\Python312\\Lib\\site-packages)\n",
      "WARNING: Ignoring invalid distribution ~ (c:\\Python312\\Lib\\site-packages)\n",
      "WARNING: Ignoring invalid distribution ~ebsockets (c:\\Python312\\Lib\\site-packages)\n",
      "WARNING: Ignoring invalid distribution ~equests (c:\\Python312\\Lib\\site-packages)\n",
      "WARNING: Ignoring invalid distribution ~hardet (c:\\Python312\\Lib\\site-packages)\n",
      "WARNING: Ignoring invalid distribution ~ip (c:\\Python312\\Lib\\site-packages)\n",
      "WARNING: Ignoring invalid distribution ~ttpcore (c:\\Python312\\Lib\\site-packages)\n"
     ]
    }
   ],
   "source": [
    "%pip install modin"
   ]
  },
  {
   "cell_type": "markdown",
   "metadata": {},
   "source": [
    "* pandas : is a fast, powerful, flexible and easy to use open source data analysis and manipulation tool, built on top of the Python programming language."
   ]
  },
  {
   "cell_type": "code",
   "execution_count": 4,
   "metadata": {},
   "outputs": [
    {
     "name": "stdout",
     "output_type": "stream",
     "text": [
      "Requirement already satisfied: pandas in c:\\python312\\lib\\site-packages (2.2.2)Note: you may need to restart the kernel to use updated packages.\n",
      "\n",
      "Requirement already satisfied: numpy>=1.26.0 in c:\\python312\\lib\\site-packages (from pandas) (2.0.0)\n",
      "Requirement already satisfied: python-dateutil>=2.8.2 in c:\\python312\\lib\\site-packages (from pandas) (2.9.0.post0)\n",
      "Requirement already satisfied: pytz>=2020.1 in c:\\python312\\lib\\site-packages (from pandas) (2024.1)\n",
      "Requirement already satisfied: tzdata>=2022.7 in c:\\python312\\lib\\site-packages (from pandas) (2024.1)\n",
      "Requirement already satisfied: six>=1.5 in c:\\python312\\lib\\site-packages (from python-dateutil>=2.8.2->pandas) (1.16.0)\n"
     ]
    },
    {
     "name": "stderr",
     "output_type": "stream",
     "text": [
      "WARNING: Ignoring invalid distribution ~ (c:\\Python312\\Lib\\site-packages)\n",
      "WARNING: Ignoring invalid distribution ~ebsockets (c:\\Python312\\Lib\\site-packages)\n",
      "WARNING: Ignoring invalid distribution ~equests (c:\\Python312\\Lib\\site-packages)\n",
      "WARNING: Ignoring invalid distribution ~hardet (c:\\Python312\\Lib\\site-packages)\n",
      "WARNING: Ignoring invalid distribution ~ip (c:\\Python312\\Lib\\site-packages)\n",
      "WARNING: Ignoring invalid distribution ~ttpcore (c:\\Python312\\Lib\\site-packages)\n",
      "WARNING: Ignoring invalid distribution ~ (c:\\Python312\\Lib\\site-packages)\n",
      "WARNING: Ignoring invalid distribution ~ebsockets (c:\\Python312\\Lib\\site-packages)\n",
      "WARNING: Ignoring invalid distribution ~equests (c:\\Python312\\Lib\\site-packages)\n",
      "WARNING: Ignoring invalid distribution ~hardet (c:\\Python312\\Lib\\site-packages)\n",
      "WARNING: Ignoring invalid distribution ~ip (c:\\Python312\\Lib\\site-packages)\n",
      "WARNING: Ignoring invalid distribution ~ttpcore (c:\\Python312\\Lib\\site-packages)\n",
      "WARNING: Ignoring invalid distribution ~ (c:\\Python312\\Lib\\site-packages)\n",
      "WARNING: Ignoring invalid distribution ~ebsockets (c:\\Python312\\Lib\\site-packages)\n",
      "WARNING: Ignoring invalid distribution ~equests (c:\\Python312\\Lib\\site-packages)\n",
      "WARNING: Ignoring invalid distribution ~hardet (c:\\Python312\\Lib\\site-packages)\n",
      "WARNING: Ignoring invalid distribution ~ip (c:\\Python312\\Lib\\site-packages)\n",
      "WARNING: Ignoring invalid distribution ~ttpcore (c:\\Python312\\Lib\\site-packages)\n"
     ]
    }
   ],
   "source": [
    "%pip install pandas"
   ]
  },
  {
   "cell_type": "markdown",
   "metadata": {},
   "source": [
    "* Dask : is a Python library for parallel and distributed computing"
   ]
  },
  {
   "cell_type": "code",
   "execution_count": 5,
   "metadata": {},
   "outputs": [
    {
     "name": "stdout",
     "output_type": "stream",
     "text": [
      "Requirement already satisfied: dask in c:\\python312\\lib\\site-packages (2024.6.2)\n",
      "Requirement already satisfied: click>=8.1 in c:\\python312\\lib\\site-packages (from dask) (8.1.7)\n",
      "Requirement already satisfied: cloudpickle>=1.5.0 in c:\\python312\\lib\\site-packages (from dask) (3.0.0)\n",
      "Requirement already satisfied: fsspec>=2021.09.0 in c:\\users\\hyunyoun\\appdata\\roaming\\python\\python312\\site-packages (from dask) (2023.12.2)\n",
      "Requirement already satisfied: packaging>=20.0 in c:\\python312\\lib\\site-packages (from dask) (24.1)\n",
      "Requirement already satisfied: partd>=1.2.0 in c:\\python312\\lib\\site-packages (from dask) (1.4.2)\n",
      "Requirement already satisfied: pyyaml>=5.3.1 in c:\\python312\\lib\\site-packages (from dask) (6.0.1)\n",
      "Requirement already satisfied: toolz>=0.10.0 in c:\\python312\\lib\\site-packages (from dask) (0.12.1)\n",
      "Requirement already satisfied: colorama in c:\\python312\\lib\\site-packages (from click>=8.1->dask) (0.4.6)\n",
      "Requirement already satisfied: locket in c:\\python312\\lib\\site-packages (from partd>=1.2.0->dask) (1.0.0)\n",
      "Note: you may need to restart the kernel to use updated packages.\n"
     ]
    },
    {
     "name": "stderr",
     "output_type": "stream",
     "text": [
      "WARNING: Ignoring invalid distribution ~ (c:\\Python312\\Lib\\site-packages)\n",
      "WARNING: Ignoring invalid distribution ~ebsockets (c:\\Python312\\Lib\\site-packages)\n",
      "WARNING: Ignoring invalid distribution ~equests (c:\\Python312\\Lib\\site-packages)\n",
      "WARNING: Ignoring invalid distribution ~hardet (c:\\Python312\\Lib\\site-packages)\n",
      "WARNING: Ignoring invalid distribution ~ip (c:\\Python312\\Lib\\site-packages)\n",
      "WARNING: Ignoring invalid distribution ~ttpcore (c:\\Python312\\Lib\\site-packages)\n",
      "WARNING: Ignoring invalid distribution ~ (c:\\Python312\\Lib\\site-packages)\n",
      "WARNING: Ignoring invalid distribution ~ebsockets (c:\\Python312\\Lib\\site-packages)\n",
      "WARNING: Ignoring invalid distribution ~equests (c:\\Python312\\Lib\\site-packages)\n",
      "WARNING: Ignoring invalid distribution ~hardet (c:\\Python312\\Lib\\site-packages)\n",
      "WARNING: Ignoring invalid distribution ~ip (c:\\Python312\\Lib\\site-packages)\n",
      "WARNING: Ignoring invalid distribution ~ttpcore (c:\\Python312\\Lib\\site-packages)\n",
      "WARNING: Ignoring invalid distribution ~ (c:\\Python312\\Lib\\site-packages)\n",
      "WARNING: Ignoring invalid distribution ~ebsockets (c:\\Python312\\Lib\\site-packages)\n",
      "WARNING: Ignoring invalid distribution ~equests (c:\\Python312\\Lib\\site-packages)\n",
      "WARNING: Ignoring invalid distribution ~hardet (c:\\Python312\\Lib\\site-packages)\n",
      "WARNING: Ignoring invalid distribution ~ip (c:\\Python312\\Lib\\site-packages)\n",
      "WARNING: Ignoring invalid distribution ~ttpcore (c:\\Python312\\Lib\\site-packages)\n"
     ]
    }
   ],
   "source": [
    "%pip install dask"
   ]
  },
  {
   "cell_type": "markdown",
   "metadata": {},
   "source": [
    "* Fugue : provides an easier interface to using distributed compute effectively and accelerates big data projects. \n",
    "  * It does this by minimizing the amount of code you need to write, in addition to taking care of tricks and optimizations that lead to more efficient execution on distributed compute. \n",
    "  * Fugue ports Python, Pandas, and SQL code to Spark, Dask, and Ray."
   ]
  },
  {
   "cell_type": "code",
   "execution_count": 6,
   "metadata": {},
   "outputs": [
    {
     "name": "stdout",
     "output_type": "stream",
     "text": [
      "Requirement already satisfied: fugue in c:\\python312\\lib\\site-packages (0.9.1)\n",
      "Requirement already satisfied: triad>=0.9.7 in c:\\python312\\lib\\site-packages (from fugue) (0.9.8)\n",
      "Requirement already satisfied: adagio>=0.2.4 in c:\\python312\\lib\\site-packages (from fugue) (0.2.4)\n",
      "Requirement already satisfied: numpy in c:\\python312\\lib\\site-packages (from triad>=0.9.7->fugue) (2.0.0)\n",
      "Requirement already satisfied: pandas>=1.3.5 in c:\\python312\\lib\\site-packages (from triad>=0.9.7->fugue) (2.2.2)\n",
      "Requirement already satisfied: six in c:\\python312\\lib\\site-packages (from triad>=0.9.7->fugue) (1.16.0)\n",
      "Requirement already satisfied: pyarrow>=6.0.1 in c:\\python312\\lib\\site-packages (from triad>=0.9.7->fugue) (16.1.0)\n",
      "Requirement already satisfied: fsspec>=2022.5.0 in c:\\users\\hyunyoun\\appdata\\roaming\\python\\python312\\site-packages (from triad>=0.9.7->fugue) (2023.12.2)\n",
      "Requirement already satisfied: fs in c:\\python312\\lib\\site-packages (from triad>=0.9.7->fugue) (2.4.16)\n",
      "Requirement already satisfied: python-dateutil>=2.8.2 in c:\\python312\\lib\\site-packages (from pandas>=1.3.5->triad>=0.9.7->fugue) (2.9.0.post0)\n",
      "Requirement already satisfied: pytz>=2020.1 in c:\\python312\\lib\\site-packages (from pandas>=1.3.5->triad>=0.9.7->fugue) (2024.1)\n",
      "Requirement already satisfied: tzdata>=2022.7 in c:\\python312\\lib\\site-packages (from pandas>=1.3.5->triad>=0.9.7->fugue) (2024.1)\n",
      "Requirement already satisfied: appdirs~=1.4.3 in c:\\python312\\lib\\site-packages (from fs->triad>=0.9.7->fugue) (1.4.4)\n",
      "Requirement already satisfied: setuptools in c:\\users\\hyunyoun\\appdata\\roaming\\python\\python312\\site-packages (from fs->triad>=0.9.7->fugue) (72.1.0)\n",
      "Note: you may need to restart the kernel to use updated packages.\n"
     ]
    },
    {
     "name": "stderr",
     "output_type": "stream",
     "text": [
      "WARNING: Ignoring invalid distribution ~ (c:\\Python312\\Lib\\site-packages)\n",
      "WARNING: Ignoring invalid distribution ~ebsockets (c:\\Python312\\Lib\\site-packages)\n",
      "WARNING: Ignoring invalid distribution ~equests (c:\\Python312\\Lib\\site-packages)\n",
      "WARNING: Ignoring invalid distribution ~hardet (c:\\Python312\\Lib\\site-packages)\n",
      "WARNING: Ignoring invalid distribution ~ip (c:\\Python312\\Lib\\site-packages)\n",
      "WARNING: Ignoring invalid distribution ~ttpcore (c:\\Python312\\Lib\\site-packages)\n",
      "WARNING: Ignoring invalid distribution ~ (c:\\Python312\\Lib\\site-packages)\n",
      "WARNING: Ignoring invalid distribution ~ebsockets (c:\\Python312\\Lib\\site-packages)\n",
      "WARNING: Ignoring invalid distribution ~equests (c:\\Python312\\Lib\\site-packages)\n",
      "WARNING: Ignoring invalid distribution ~hardet (c:\\Python312\\Lib\\site-packages)\n",
      "WARNING: Ignoring invalid distribution ~ip (c:\\Python312\\Lib\\site-packages)\n",
      "WARNING: Ignoring invalid distribution ~ttpcore (c:\\Python312\\Lib\\site-packages)\n",
      "WARNING: Ignoring invalid distribution ~ (c:\\Python312\\Lib\\site-packages)\n",
      "WARNING: Ignoring invalid distribution ~ebsockets (c:\\Python312\\Lib\\site-packages)\n",
      "WARNING: Ignoring invalid distribution ~equests (c:\\Python312\\Lib\\site-packages)\n",
      "WARNING: Ignoring invalid distribution ~hardet (c:\\Python312\\Lib\\site-packages)\n",
      "WARNING: Ignoring invalid distribution ~ip (c:\\Python312\\Lib\\site-packages)\n",
      "WARNING: Ignoring invalid distribution ~ttpcore (c:\\Python312\\Lib\\site-packages)\n"
     ]
    }
   ],
   "source": [
    "%pip install fugue"
   ]
  },
  {
   "cell_type": "markdown",
   "metadata": {},
   "source": [
    "* Daft\n",
    "  * Daft was designed with the following principles in mind:\n",
    "    * Any Data: Beyond the usual strings/numbers/dates, Daft columns can also hold complex or nested multimodal data such as Images, Embeddings and Python objects efficiently with it's Arrow based memory representation. Ingestion and basic transformations of multimodal data is extremely easy and performant in Daft.\n",
    "    * Interactive Computing: Daft is built for the interactive developer experience through notebooks or REPLs - intelligent caching/query optimizations accelerates your experimentation and data exploration.\n",
    "    * Distributed Computing: Some workloads can quickly outgrow your local laptop's computational resources - Daft integrates natively with Ray for running dataframes on large clusters of machines with thousands of CPUs/GPUs."
   ]
  },
  {
   "cell_type": "code",
   "execution_count": 7,
   "metadata": {},
   "outputs": [
    {
     "name": "stdout",
     "output_type": "stream",
     "text": [
      "Requirement already satisfied: getdaft in c:\\python312\\lib\\site-packages (0.2.29)\n",
      "Requirement already satisfied: pyarrow>=7.0.0 in c:\\python312\\lib\\site-packages (from getdaft) (16.1.0)\n",
      "Requirement already satisfied: fsspec in c:\\users\\hyunyoun\\appdata\\roaming\\python\\python312\\site-packages (from getdaft) (2023.12.2)\n",
      "Requirement already satisfied: tqdm in c:\\python312\\lib\\site-packages (from getdaft) (4.66.4)\n",
      "Requirement already satisfied: numpy>=1.16.6 in c:\\python312\\lib\\site-packages (from pyarrow>=7.0.0->getdaft) (2.0.0)\n",
      "Requirement already satisfied: colorama in c:\\python312\\lib\\site-packages (from tqdm->getdaft) (0.4.6)\n",
      "Note: you may need to restart the kernel to use updated packages.\n"
     ]
    },
    {
     "name": "stderr",
     "output_type": "stream",
     "text": [
      "WARNING: Ignoring invalid distribution ~ (c:\\Python312\\Lib\\site-packages)\n",
      "WARNING: Ignoring invalid distribution ~ebsockets (c:\\Python312\\Lib\\site-packages)\n",
      "WARNING: Ignoring invalid distribution ~equests (c:\\Python312\\Lib\\site-packages)\n",
      "WARNING: Ignoring invalid distribution ~hardet (c:\\Python312\\Lib\\site-packages)\n",
      "WARNING: Ignoring invalid distribution ~ip (c:\\Python312\\Lib\\site-packages)\n",
      "WARNING: Ignoring invalid distribution ~ttpcore (c:\\Python312\\Lib\\site-packages)\n",
      "WARNING: Ignoring invalid distribution ~ (c:\\Python312\\Lib\\site-packages)\n",
      "WARNING: Ignoring invalid distribution ~ebsockets (c:\\Python312\\Lib\\site-packages)\n",
      "WARNING: Ignoring invalid distribution ~equests (c:\\Python312\\Lib\\site-packages)\n",
      "WARNING: Ignoring invalid distribution ~hardet (c:\\Python312\\Lib\\site-packages)\n",
      "WARNING: Ignoring invalid distribution ~ip (c:\\Python312\\Lib\\site-packages)\n",
      "WARNING: Ignoring invalid distribution ~ttpcore (c:\\Python312\\Lib\\site-packages)\n",
      "WARNING: Ignoring invalid distribution ~ (c:\\Python312\\Lib\\site-packages)\n",
      "WARNING: Ignoring invalid distribution ~ebsockets (c:\\Python312\\Lib\\site-packages)\n",
      "WARNING: Ignoring invalid distribution ~equests (c:\\Python312\\Lib\\site-packages)\n",
      "WARNING: Ignoring invalid distribution ~hardet (c:\\Python312\\Lib\\site-packages)\n",
      "WARNING: Ignoring invalid distribution ~ip (c:\\Python312\\Lib\\site-packages)\n",
      "WARNING: Ignoring invalid distribution ~ttpcore (c:\\Python312\\Lib\\site-packages)\n"
     ]
    }
   ],
   "source": [
    "%pip install getdaft"
   ]
  },
  {
   "cell_type": "markdown",
   "metadata": {},
   "source": [
    "* Protobuf: 구글이 개발한 직렬화 데이터 구조"
   ]
  },
  {
   "cell_type": "code",
   "execution_count": 8,
   "metadata": {},
   "outputs": [
    {
     "name": "stdout",
     "output_type": "stream",
     "text": [
      "Requirement already satisfied: protobuf in c:\\python312\\lib\\site-packages (4.25.3)\n",
      "Note: you may need to restart the kernel to use updated packages.\n"
     ]
    },
    {
     "name": "stderr",
     "output_type": "stream",
     "text": [
      "WARNING: Ignoring invalid distribution ~ (c:\\Python312\\Lib\\site-packages)\n",
      "WARNING: Ignoring invalid distribution ~ebsockets (c:\\Python312\\Lib\\site-packages)\n",
      "WARNING: Ignoring invalid distribution ~equests (c:\\Python312\\Lib\\site-packages)\n",
      "WARNING: Ignoring invalid distribution ~hardet (c:\\Python312\\Lib\\site-packages)\n",
      "WARNING: Ignoring invalid distribution ~ip (c:\\Python312\\Lib\\site-packages)\n",
      "WARNING: Ignoring invalid distribution ~ttpcore (c:\\Python312\\Lib\\site-packages)\n",
      "WARNING: Ignoring invalid distribution ~ (c:\\Python312\\Lib\\site-packages)\n",
      "WARNING: Ignoring invalid distribution ~ebsockets (c:\\Python312\\Lib\\site-packages)\n",
      "WARNING: Ignoring invalid distribution ~equests (c:\\Python312\\Lib\\site-packages)\n",
      "WARNING: Ignoring invalid distribution ~hardet (c:\\Python312\\Lib\\site-packages)\n",
      "WARNING: Ignoring invalid distribution ~ip (c:\\Python312\\Lib\\site-packages)\n",
      "WARNING: Ignoring invalid distribution ~ttpcore (c:\\Python312\\Lib\\site-packages)\n",
      "WARNING: Ignoring invalid distribution ~ (c:\\Python312\\Lib\\site-packages)\n",
      "WARNING: Ignoring invalid distribution ~ebsockets (c:\\Python312\\Lib\\site-packages)\n",
      "WARNING: Ignoring invalid distribution ~equests (c:\\Python312\\Lib\\site-packages)\n",
      "WARNING: Ignoring invalid distribution ~hardet (c:\\Python312\\Lib\\site-packages)\n",
      "WARNING: Ignoring invalid distribution ~ip (c:\\Python312\\Lib\\site-packages)\n",
      "WARNING: Ignoring invalid distribution ~ttpcore (c:\\Python312\\Lib\\site-packages)\n"
     ]
    }
   ],
   "source": [
    "%pip install protobuf"
   ]
  },
  {
   "cell_type": "code",
   "execution_count": null,
   "metadata": {},
   "outputs": [],
   "source": []
  },
  {
   "cell_type": "code",
   "execution_count": null,
   "metadata": {},
   "outputs": [],
   "source": []
  }
 ],
 "metadata": {
  "kernelspec": {
   "display_name": "Python 3",
   "language": "python",
   "name": "python3"
  },
  "language_info": {
   "codemirror_mode": {
    "name": "ipython",
    "version": 3
   },
   "file_extension": ".py",
   "mimetype": "text/x-python",
   "name": "python",
   "nbconvert_exporter": "python",
   "pygments_lexer": "ipython3",
   "version": "3.12.4"
  }
 },
 "nbformat": 4,
 "nbformat_minor": 2
}
