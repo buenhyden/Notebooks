{
 "cells": [
  {
   "cell_type": "markdown",
   "metadata": {},
   "source": [
    "# Handling Data"
   ]
  },
  {
   "cell_type": "markdown",
   "metadata": {},
   "source": [
    "* connector-x : Fastest library to load data from DB to DataFrames in Rust and Python"
   ]
  },
  {
   "cell_type": "code",
   "execution_count": 3,
   "metadata": {},
   "outputs": [
    {
     "name": "stdout",
     "output_type": "stream",
     "text": [
      "Requirement already satisfied: connectorx in c:\\python312\\lib\\site-packages (0.3.3)\n",
      "Note: you may need to restart the kernel to use updated packages.\n"
     ]
    }
   ],
   "source": [
    "%pip install connectorx"
   ]
  },
  {
   "cell_type": "markdown",
   "metadata": {},
   "source": [
    "* polars : Dataframes powered by a multithreaded, vectorized query engine, written in Rust"
   ]
  },
  {
   "cell_type": "code",
   "execution_count": 4,
   "metadata": {},
   "outputs": [
    {
     "name": "stdout",
     "output_type": "stream",
     "text": [
      "Note: you may need to restart the kernel to use updated packages.\n"
     ]
    },
    {
     "name": "stderr",
     "output_type": "stream",
     "text": [
      "ERROR: Invalid requirement: \"'polars[all]'\": Expected package name at the start of dependency specifier\n",
      "    'polars[all]'\n",
      "    ^\n"
     ]
    }
   ],
   "source": [
    "%pip install 'polars[all]'"
   ]
  },
  {
   "cell_type": "markdown",
   "metadata": {},
   "source": [
    "* modin : is a DataFrame for datasets from 1MB to 1TB+. We have focused heavily on bridging the solutions between DataFrames for small data (e.g. pandas) and large data. Often data scientists require different tools for doing the same thing on different sizes of data."
   ]
  },
  {
   "cell_type": "code",
   "execution_count": 1,
   "metadata": {},
   "outputs": [
    {
     "name": "stdout",
     "output_type": "stream",
     "text": [
      "Requirement already satisfied: modin in c:\\python312\\lib\\site-packages (0.31.0)\n",
      "Requirement already satisfied: pandas<2.3,>=2.2 in c:\\python312\\lib\\site-packages (from modin) (2.2.2)\n",
      "Requirement already satisfied: packaging>=21.0 in c:\\python312\\lib\\site-packages (from modin) (24.1)\n",
      "Requirement already satisfied: numpy>=1.22.4 in c:\\python312\\lib\\site-packages (from modin) (2.0.0)\n",
      "Requirement already satisfied: fsspec>=2022.11.0 in c:\\python312\\lib\\site-packages (from modin) (2024.6.1)\n",
      "Requirement already satisfied: psutil>=5.8.0 in c:\\python312\\lib\\site-packages (from modin) (6.0.0)\n",
      "Requirement already satisfied: python-dateutil>=2.8.2 in c:\\python312\\lib\\site-packages (from pandas<2.3,>=2.2->modin) (2.9.0.post0)\n",
      "Requirement already satisfied: pytz>=2020.1 in c:\\python312\\lib\\site-packages (from pandas<2.3,>=2.2->modin) (2024.1)\n",
      "Requirement already satisfied: tzdata>=2022.7 in c:\\python312\\lib\\site-packages (from pandas<2.3,>=2.2->modin) (2024.1)\n",
      "Requirement already satisfied: six>=1.5 in c:\\python312\\lib\\site-packages (from python-dateutil>=2.8.2->pandas<2.3,>=2.2->modin) (1.16.0)\n",
      "Note: you may need to restart the kernel to use updated packages.\n"
     ]
    }
   ],
   "source": [
    "%pip install modin"
   ]
  },
  {
   "cell_type": "markdown",
   "metadata": {},
   "source": [
    "* pandas : is a fast, powerful, flexible and easy to use open source data analysis and manipulation tool, built on top of the Python programming language."
   ]
  },
  {
   "cell_type": "code",
   "execution_count": 6,
   "metadata": {},
   "outputs": [
    {
     "name": "stdout",
     "output_type": "stream",
     "text": [
      "Requirement already satisfied: pandas in c:\\python312\\lib\\site-packages (2.2.2)\n",
      "Requirement already satisfied: numpy>=1.26.0 in c:\\python312\\lib\\site-packages (from pandas) (2.0.0)\n",
      "Requirement already satisfied: python-dateutil>=2.8.2 in c:\\python312\\lib\\site-packages (from pandas) (2.9.0.post0)\n",
      "Requirement already satisfied: pytz>=2020.1 in c:\\python312\\lib\\site-packages (from pandas) (2024.1)\n",
      "Requirement already satisfied: tzdata>=2022.7 in c:\\python312\\lib\\site-packages (from pandas) (2024.1)\n",
      "Requirement already satisfied: six>=1.5 in c:\\python312\\lib\\site-packages (from python-dateutil>=2.8.2->pandas) (1.16.0)\n",
      "Note: you may need to restart the kernel to use updated packages.\n"
     ]
    }
   ],
   "source": [
    "%pip install pandas"
   ]
  },
  {
   "cell_type": "markdown",
   "metadata": {},
   "source": [
    "* Dask : is a Python library for parallel and distributed computing"
   ]
  },
  {
   "cell_type": "code",
   "execution_count": 8,
   "metadata": {},
   "outputs": [
    {
     "name": "stdout",
     "output_type": "stream",
     "text": [
      "Requirement already satisfied: dask in c:\\python312\\lib\\site-packages (2024.6.2)\n",
      "Requirement already satisfied: click>=8.1 in c:\\python312\\lib\\site-packages (from dask) (8.1.7)\n",
      "Requirement already satisfied: cloudpickle>=1.5.0 in c:\\python312\\lib\\site-packages (from dask) (3.0.0)\n",
      "Requirement already satisfied: fsspec>=2021.09.0 in c:\\python312\\lib\\site-packages (from dask) (2024.6.1)\n",
      "Requirement already satisfied: packaging>=20.0 in c:\\python312\\lib\\site-packages (from dask) (24.1)\n",
      "Requirement already satisfied: partd>=1.2.0 in c:\\python312\\lib\\site-packages (from dask) (1.4.2)\n",
      "Requirement already satisfied: pyyaml>=5.3.1 in c:\\python312\\lib\\site-packages (from dask) (6.0.1)\n",
      "Requirement already satisfied: toolz>=0.10.0 in c:\\python312\\lib\\site-packages (from dask) (0.12.1)\n",
      "Requirement already satisfied: colorama in c:\\python312\\lib\\site-packages (from click>=8.1->dask) (0.4.6)\n",
      "Requirement already satisfied: locket in c:\\python312\\lib\\site-packages (from partd>=1.2.0->dask) (1.0.0)\n",
      "Note: you may need to restart the kernel to use updated packages.\n"
     ]
    }
   ],
   "source": [
    "%pip install dask"
   ]
  },
  {
   "cell_type": "markdown",
   "metadata": {},
   "source": [
    "* Fugue : provides an easier interface to using distributed compute effectively and accelerates big data projects. \n",
    "  * It does this by minimizing the amount of code you need to write, in addition to taking care of tricks and optimizations that lead to more efficient execution on distributed compute. \n",
    "  * Fugue ports Python, Pandas, and SQL code to Spark, Dask, and Ray."
   ]
  },
  {
   "cell_type": "code",
   "execution_count": 1,
   "metadata": {},
   "outputs": [
    {
     "name": "stdout",
     "output_type": "stream",
     "text": [
      "Collecting fugueNote: you may need to restart the kernel to use updated packages.\n",
      "\n",
      "  Downloading fugue-0.9.1-py3-none-any.whl.metadata (18 kB)\n",
      "Collecting triad>=0.9.7 (from fugue)\n",
      "  Downloading triad-0.9.8-py3-none-any.whl.metadata (6.3 kB)\n",
      "Collecting adagio>=0.2.4 (from fugue)\n",
      "  Downloading adagio-0.2.4-py3-none-any.whl.metadata (1.8 kB)\n",
      "Requirement already satisfied: numpy in c:\\python312\\lib\\site-packages (from triad>=0.9.7->fugue) (2.0.0)\n",
      "Requirement already satisfied: pandas>=1.3.5 in c:\\python312\\lib\\site-packages (from triad>=0.9.7->fugue) (2.2.2)\n",
      "Requirement already satisfied: six in c:\\python312\\lib\\site-packages (from triad>=0.9.7->fugue) (1.16.0)\n",
      "Requirement already satisfied: pyarrow>=6.0.1 in c:\\python312\\lib\\site-packages (from triad>=0.9.7->fugue) (16.1.0)\n",
      "Requirement already satisfied: fsspec>=2022.5.0 in c:\\users\\hyunyoun\\appdata\\roaming\\python\\python312\\site-packages (from triad>=0.9.7->fugue) (2023.12.2)\n",
      "Collecting fs (from triad>=0.9.7->fugue)\n",
      "  Downloading fs-2.4.16-py2.py3-none-any.whl.metadata (6.3 kB)\n",
      "Requirement already satisfied: python-dateutil>=2.8.2 in c:\\python312\\lib\\site-packages (from pandas>=1.3.5->triad>=0.9.7->fugue) (2.9.0.post0)\n",
      "Requirement already satisfied: pytz>=2020.1 in c:\\python312\\lib\\site-packages (from pandas>=1.3.5->triad>=0.9.7->fugue) (2024.1)\n",
      "Requirement already satisfied: tzdata>=2022.7 in c:\\python312\\lib\\site-packages (from pandas>=1.3.5->triad>=0.9.7->fugue) (2024.1)\n",
      "Collecting appdirs~=1.4.3 (from fs->triad>=0.9.7->fugue)\n",
      "  Downloading appdirs-1.4.4-py2.py3-none-any.whl.metadata (9.0 kB)\n",
      "Requirement already satisfied: setuptools in c:\\users\\hyunyoun\\appdata\\roaming\\python\\python312\\site-packages (from fs->triad>=0.9.7->fugue) (70.2.0)\n",
      "Downloading fugue-0.9.1-py3-none-any.whl (278 kB)\n",
      "   ---------------------------------------- 0.0/278.2 kB ? eta -:--:--\n",
      "   ---------------------------------------- 278.2/278.2 kB 8.6 MB/s eta 0:00:00\n",
      "Downloading adagio-0.2.4-py3-none-any.whl (26 kB)\n",
      "Downloading triad-0.9.8-py3-none-any.whl (62 kB)\n",
      "   ---------------------------------------- 0.0/62.3 kB ? eta -:--:--\n",
      "   ---------------------------------------- 62.3/62.3 kB 3.3 MB/s eta 0:00:00\n",
      "Downloading fs-2.4.16-py2.py3-none-any.whl (135 kB)\n",
      "   ---------------------------------------- 0.0/135.3 kB ? eta -:--:--\n",
      "   ---------------------------------------- 135.3/135.3 kB 7.8 MB/s eta 0:00:00\n",
      "Downloading appdirs-1.4.4-py2.py3-none-any.whl (9.6 kB)\n",
      "Installing collected packages: appdirs, fs, triad, adagio, fugue\n",
      "Successfully installed adagio-0.2.4 appdirs-1.4.4 fs-2.4.16 fugue-0.9.1 triad-0.9.8\n"
     ]
    }
   ],
   "source": [
    "%pip install fugue"
   ]
  },
  {
   "cell_type": "markdown",
   "metadata": {},
   "source": [
    "* Daft\n",
    "  * Daft was designed with the following principles in mind:\n",
    "    * Any Data: Beyond the usual strings/numbers/dates, Daft columns can also hold complex or nested multimodal data such as Images, Embeddings and Python objects efficiently with it's Arrow based memory representation. Ingestion and basic transformations of multimodal data is extremely easy and performant in Daft.\n",
    "    * Interactive Computing: Daft is built for the interactive developer experience through notebooks or REPLs - intelligent caching/query optimizations accelerates your experimentation and data exploration.\n",
    "    * Distributed Computing: Some workloads can quickly outgrow your local laptop's computational resources - Daft integrates natively with Ray for running dataframes on large clusters of machines with thousands of CPUs/GPUs."
   ]
  },
  {
   "cell_type": "code",
   "execution_count": 2,
   "metadata": {},
   "outputs": [
    {
     "name": "stdout",
     "output_type": "stream",
     "text": [
      "Collecting getdaft\n",
      "  Downloading getdaft-0.2.29-cp38-abi3-win_amd64.whl.metadata (11 kB)\n",
      "Requirement already satisfied: pyarrow>=7.0.0 in c:\\python312\\lib\\site-packages (from getdaft) (16.1.0)\n",
      "Requirement already satisfied: fsspec in c:\\users\\hyunyoun\\appdata\\roaming\\python\\python312\\site-packages (from getdaft) (2023.12.2)\n",
      "Requirement already satisfied: tqdm in c:\\python312\\lib\\site-packages (from getdaft) (4.66.4)\n",
      "Requirement already satisfied: numpy>=1.16.6 in c:\\python312\\lib\\site-packages (from pyarrow>=7.0.0->getdaft) (2.0.0)\n",
      "Requirement already satisfied: colorama in c:\\python312\\lib\\site-packages (from tqdm->getdaft) (0.4.6)\n",
      "Downloading getdaft-0.2.29-cp38-abi3-win_amd64.whl (19.6 MB)\n",
      "   ---------------------------------------- 0.0/19.6 MB ? eta -:--:--\n",
      "   - -------------------------------------- 0.5/19.6 MB 11.1 MB/s eta 0:00:02\n",
      "   -- ------------------------------------- 1.1/19.6 MB 11.4 MB/s eta 0:00:02\n",
      "   --- ------------------------------------ 1.7/19.6 MB 11.7 MB/s eta 0:00:02\n",
      "   ---- ----------------------------------- 2.2/19.6 MB 11.8 MB/s eta 0:00:02\n",
      "   ----- ---------------------------------- 2.8/19.6 MB 11.7 MB/s eta 0:00:02\n",
      "   ------ --------------------------------- 3.3/19.6 MB 11.7 MB/s eta 0:00:02\n",
      "   ------- -------------------------------- 3.8/19.6 MB 11.7 MB/s eta 0:00:02\n",
      "   -------- ------------------------------- 4.4/19.6 MB 11.7 MB/s eta 0:00:02\n",
      "   ---------- ----------------------------- 4.9/19.6 MB 11.7 MB/s eta 0:00:02\n",
      "   ---------- ----------------------------- 5.2/19.6 MB 11.1 MB/s eta 0:00:02\n",
      "   ---------- ----------------------------- 5.3/19.6 MB 10.3 MB/s eta 0:00:02\n",
      "   ---------- ----------------------------- 5.3/19.6 MB 9.7 MB/s eta 0:00:02\n",
      "   ---------- ----------------------------- 5.4/19.6 MB 9.2 MB/s eta 0:00:02\n",
      "   ---------- ----------------------------- 5.4/19.6 MB 8.4 MB/s eta 0:00:02\n",
      "   ----------- ---------------------------- 5.4/19.6 MB 7.8 MB/s eta 0:00:02\n",
      "   ----------- ---------------------------- 5.4/19.6 MB 7.2 MB/s eta 0:00:02\n",
      "   ----------- ---------------------------- 5.4/19.6 MB 6.8 MB/s eta 0:00:03\n",
      "   ----------- ---------------------------- 5.4/19.6 MB 6.7 MB/s eta 0:00:03\n",
      "   ----------- ---------------------------- 5.5/19.6 MB 6.5 MB/s eta 0:00:03\n",
      "   ----------- ---------------------------- 5.5/19.6 MB 5.9 MB/s eta 0:00:03\n",
      "   ----------- ---------------------------- 5.5/19.6 MB 5.9 MB/s eta 0:00:03\n",
      "   ----------- ---------------------------- 5.5/19.6 MB 5.5 MB/s eta 0:00:03\n",
      "   ----------- ---------------------------- 5.6/19.6 MB 5.2 MB/s eta 0:00:03\n",
      "   ----------- ---------------------------- 5.7/19.6 MB 5.0 MB/s eta 0:00:03\n",
      "   ----------- ---------------------------- 5.7/19.6 MB 4.9 MB/s eta 0:00:03\n",
      "   ----------- ---------------------------- 5.7/19.6 MB 4.8 MB/s eta 0:00:03\n",
      "   ----------- ---------------------------- 5.7/19.6 MB 4.6 MB/s eta 0:00:04\n",
      "   ----------- ---------------------------- 5.8/19.6 MB 4.4 MB/s eta 0:00:04\n",
      "   ----------- ---------------------------- 5.8/19.6 MB 4.4 MB/s eta 0:00:04\n",
      "   ----------- ---------------------------- 5.8/19.6 MB 4.3 MB/s eta 0:00:04\n",
      "   ----------- ---------------------------- 5.8/19.6 MB 4.1 MB/s eta 0:00:04\n",
      "   ----------- ---------------------------- 5.8/19.6 MB 4.0 MB/s eta 0:00:04\n",
      "   ----------- ---------------------------- 5.8/19.6 MB 3.9 MB/s eta 0:00:04\n",
      "   ----------- ---------------------------- 5.8/19.6 MB 3.9 MB/s eta 0:00:04\n",
      "   ----------- ---------------------------- 5.8/19.6 MB 3.9 MB/s eta 0:00:04\n",
      "   ----------- ---------------------------- 5.8/19.6 MB 3.9 MB/s eta 0:00:04\n",
      "   ----------- ---------------------------- 5.8/19.6 MB 3.9 MB/s eta 0:00:04\n",
      "   ----------- ---------------------------- 5.9/19.6 MB 3.3 MB/s eta 0:00:05\n",
      "   ------------ --------------------------- 5.9/19.6 MB 3.3 MB/s eta 0:00:05\n",
      "   ------------ --------------------------- 6.1/19.6 MB 3.3 MB/s eta 0:00:05\n",
      "   ------------- -------------------------- 6.5/19.6 MB 3.4 MB/s eta 0:00:04\n",
      "   -------------- ------------------------- 7.1/19.6 MB 3.6 MB/s eta 0:00:04\n",
      "   --------------- ------------------------ 7.6/19.6 MB 3.8 MB/s eta 0:00:04\n",
      "   ---------------- ----------------------- 8.2/19.6 MB 4.0 MB/s eta 0:00:03\n",
      "   ----------------- ---------------------- 8.7/19.6 MB 4.2 MB/s eta 0:00:03\n",
      "   ------------------ --------------------- 9.3/19.6 MB 4.3 MB/s eta 0:00:03\n",
      "   ------------------- -------------------- 9.8/19.6 MB 4.5 MB/s eta 0:00:03\n",
      "   --------------------- ------------------ 10.4/19.6 MB 4.6 MB/s eta 0:00:03\n",
      "   ---------------------- ----------------- 10.9/19.6 MB 4.6 MB/s eta 0:00:02\n",
      "   ----------------------- ---------------- 11.5/19.6 MB 4.6 MB/s eta 0:00:02\n",
      "   ------------------------ --------------- 12.0/19.6 MB 4.6 MB/s eta 0:00:02\n",
      "   ------------------------- -------------- 12.6/19.6 MB 4.6 MB/s eta 0:00:02\n",
      "   -------------------------- ------------- 12.8/19.6 MB 4.5 MB/s eta 0:00:02\n",
      "   -------------------------- ------------- 12.8/19.6 MB 4.5 MB/s eta 0:00:02\n",
      "   -------------------------- ------------- 13.0/19.6 MB 4.4 MB/s eta 0:00:02\n",
      "   -------------------------- ------------- 13.2/19.6 MB 4.3 MB/s eta 0:00:02\n",
      "   --------------------------- ------------ 13.7/19.6 MB 4.3 MB/s eta 0:00:02\n",
      "   ----------------------------- ---------- 14.3/19.6 MB 4.3 MB/s eta 0:00:02\n",
      "   ------------------------------ --------- 14.8/19.6 MB 4.3 MB/s eta 0:00:02\n",
      "   ------------------------------- -------- 15.3/19.6 MB 4.3 MB/s eta 0:00:01\n",
      "   -------------------------------- ------- 15.9/19.6 MB 6.0 MB/s eta 0:00:01\n",
      "   --------------------------------- ------ 16.5/19.6 MB 9.9 MB/s eta 0:00:01\n",
      "   ---------------------------------- ----- 17.0/19.6 MB 10.1 MB/s eta 0:00:01\n",
      "   ----------------------------------- ---- 17.5/19.6 MB 10.1 MB/s eta 0:00:01\n",
      "   ------------------------------------ --- 18.1/19.6 MB 10.1 MB/s eta 0:00:01\n",
      "   ------------------------------------- -- 18.6/19.6 MB 9.9 MB/s eta 0:00:01\n",
      "   ---------------------------------------  19.1/19.6 MB 9.9 MB/s eta 0:00:01\n",
      "   ---------------------------------------  19.6/19.6 MB 10.1 MB/s eta 0:00:01\n",
      "   ---------------------------------------  19.6/19.6 MB 10.1 MB/s eta 0:00:01\n",
      "   ---------------------------------------- 19.6/19.6 MB 9.5 MB/s eta 0:00:00\n",
      "Installing collected packages: getdaft\n",
      "Successfully installed getdaft-0.2.29\n",
      "Note: you may need to restart the kernel to use updated packages.\n"
     ]
    }
   ],
   "source": [
    "%pip install getdaft"
   ]
  },
  {
   "cell_type": "markdown",
   "metadata": {},
   "source": [
    "* Protobuf: 구글이 개발한 직렬화 데이터 구조"
   ]
  },
  {
   "cell_type": "code",
   "execution_count": 3,
   "metadata": {},
   "outputs": [
    {
     "name": "stdout",
     "output_type": "stream",
     "text": [
      "Requirement already satisfied: protobuf in c:\\python312\\lib\\site-packages (4.25.3)\n",
      "Note: you may need to restart the kernel to use updated packages.\n"
     ]
    }
   ],
   "source": [
    "%pip install protobuf"
   ]
  },
  {
   "cell_type": "code",
   "execution_count": null,
   "metadata": {},
   "outputs": [],
   "source": []
  }
 ],
 "metadata": {
  "kernelspec": {
   "display_name": "Python 3",
   "language": "python",
   "name": "python3"
  },
  "language_info": {
   "codemirror_mode": {
    "name": "ipython",
    "version": 3
   },
   "file_extension": ".py",
   "mimetype": "text/x-python",
   "name": "python",
   "nbconvert_exporter": "python",
   "pygments_lexer": "ipython3",
   "version": "3.12.4"
  }
 },
 "nbformat": 4,
 "nbformat_minor": 2
}
