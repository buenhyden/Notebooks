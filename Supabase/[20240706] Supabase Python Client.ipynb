{
 "cells": [
  {
   "cell_type": "markdown",
   "metadata": {},
   "source": [
    "# Supabase"
   ]
  },
  {
   "cell_type": "markdown",
   "metadata": {},
   "source": [
    "* is open source.\n",
    "* We choose open source tools which are scalable and make them simple to use.\n",
    "* Supabase is not a 1-to-1 mapping of Firebase. \n",
    "* While we are building many of the features that Firebase offers, we are not going about it the same way:\n",
    "  * our technological choices are quite different; everything we use is open source; and wherever possible, we use and support existing tools rather than developing from scratch."
   ]
  },
  {
   "cell_type": "markdown",
   "metadata": {},
   "source": [
    "* supabase-py : Python Client Library"
   ]
  },
  {
   "cell_type": "code",
   "execution_count": 1,
   "metadata": {},
   "outputs": [
    {
     "name": "stdout",
     "output_type": "stream",
     "text": [
      "Collecting supabase\n",
      "  Downloading supabase-2.5.1-py3-none-any.whl.metadata (9.3 kB)\n",
      "Collecting gotrue<3.0,>=1.3 (from supabase)\n",
      "  Downloading gotrue-2.5.4-py3-none-any.whl.metadata (6.0 kB)\n",
      "Requirement already satisfied: httpx<0.28,>=0.24 in c:\\python312\\lib\\site-packages (from supabase) (0.27.0)\n",
      "Collecting postgrest<0.17.0,>=0.14 (from supabase)\n",
      "  Downloading postgrest-0.16.8-py3-none-any.whl.metadata (5.1 kB)\n",
      "Collecting realtime<2.0.0,>=1.0.0 (from supabase)\n",
      "  Downloading realtime-1.0.6-py3-none-any.whl.metadata (2.6 kB)\n",
      "Collecting storage3<0.8.0,>=0.5.3 (from supabase)\n",
      "  Downloading storage3-0.7.6-py3-none-any.whl.metadata (1.9 kB)\n",
      "Collecting supafunc<0.5.0,>=0.3.1 (from supabase)\n",
      "  Downloading supafunc-0.4.6-py3-none-any.whl.metadata (1.2 kB)\n",
      "Collecting pydantic<3,>=1.10 (from gotrue<3.0,>=1.3->supabase)\n",
      "  Downloading pydantic-2.8.2-py3-none-any.whl.metadata (125 kB)\n",
      "     ---------------------------------------- 0.0/125.2 kB ? eta -:--:--\n",
      "     -------------------------------------- 125.2/125.2 kB 7.7 MB/s eta 0:00:00\n",
      "Requirement already satisfied: anyio in c:\\python312\\lib\\site-packages (from httpx<0.28,>=0.24->supabase) (4.4.0)\n",
      "Requirement already satisfied: certifi in c:\\python312\\lib\\site-packages (from httpx<0.28,>=0.24->supabase) (2024.6.2)\n",
      "Requirement already satisfied: httpcore==1.* in c:\\python312\\lib\\site-packages (from httpx<0.28,>=0.24->supabase) (1.0.5)\n",
      "Requirement already satisfied: idna in c:\\python312\\lib\\site-packages (from httpx<0.28,>=0.24->supabase) (3.7)\n",
      "Requirement already satisfied: sniffio in c:\\python312\\lib\\site-packages (from httpx<0.28,>=0.24->supabase) (1.3.1)\n",
      "Requirement already satisfied: h11<0.15,>=0.13 in c:\\python312\\lib\\site-packages (from httpcore==1.*->httpx<0.28,>=0.24->supabase) (0.14.0)\n",
      "Collecting deprecation<3.0.0,>=2.1.0 (from postgrest<0.17.0,>=0.14->supabase)\n",
      "  Downloading deprecation-2.1.0-py2.py3-none-any.whl.metadata (4.6 kB)\n",
      "Collecting strenum<0.5.0,>=0.4.9 (from postgrest<0.17.0,>=0.14->supabase)\n",
      "  Downloading StrEnum-0.4.15-py3-none-any.whl.metadata (5.3 kB)\n",
      "Requirement already satisfied: python-dateutil<3.0.0,>=2.8.1 in c:\\python312\\lib\\site-packages (from realtime<2.0.0,>=1.0.0->supabase) (2.9.0.post0)\n",
      "Requirement already satisfied: typing-extensions<5.0.0,>=4.12.2 in c:\\python312\\lib\\site-packages (from realtime<2.0.0,>=1.0.0->supabase) (4.12.2)\n",
      "Collecting websockets<13,>=11 (from realtime<2.0.0,>=1.0.0->supabase)\n",
      "  Downloading websockets-12.0-cp312-cp312-win_amd64.whl.metadata (6.8 kB)\n",
      "Requirement already satisfied: packaging in c:\\python312\\lib\\site-packages (from deprecation<3.0.0,>=2.1.0->postgrest<0.17.0,>=0.14->supabase) (24.1)\n",
      "Collecting annotated-types>=0.4.0 (from pydantic<3,>=1.10->gotrue<3.0,>=1.3->supabase)\n",
      "  Downloading annotated_types-0.7.0-py3-none-any.whl.metadata (15 kB)\n",
      "Collecting pydantic-core==2.20.1 (from pydantic<3,>=1.10->gotrue<3.0,>=1.3->supabase)\n",
      "  Downloading pydantic_core-2.20.1-cp312-none-win_amd64.whl.metadata (6.7 kB)\n",
      "Requirement already satisfied: six>=1.5 in c:\\python312\\lib\\site-packages (from python-dateutil<3.0.0,>=2.8.1->realtime<2.0.0,>=1.0.0->supabase) (1.16.0)\n",
      "Downloading supabase-2.5.1-py3-none-any.whl (16 kB)\n",
      "Downloading gotrue-2.5.4-py3-none-any.whl (45 kB)\n",
      "   ---------------------------------------- 0.0/45.1 kB ? eta -:--:--\n",
      "   ---------------------------------------- 45.1/45.1 kB ? eta 0:00:00\n",
      "Downloading postgrest-0.16.8-py3-none-any.whl (21 kB)\n",
      "Downloading realtime-1.0.6-py3-none-any.whl (9.0 kB)\n",
      "Downloading storage3-0.7.6-py3-none-any.whl (16 kB)\n",
      "Downloading supafunc-0.4.6-py3-none-any.whl (6.2 kB)\n",
      "Downloading deprecation-2.1.0-py2.py3-none-any.whl (11 kB)\n",
      "Downloading pydantic-2.8.2-py3-none-any.whl (423 kB)\n",
      "   ---------------------------------------- 0.0/423.9 kB ? eta -:--:--\n",
      "   ---------------------------------------  419.8/423.9 kB 8.7 MB/s eta 0:00:01\n",
      "   ---------------------------------------- 423.9/423.9 kB 8.8 MB/s eta 0:00:00\n",
      "Downloading pydantic_core-2.20.1-cp312-none-win_amd64.whl (1.9 MB)\n",
      "   ---------------------------------------- 0.0/1.9 MB ? eta -:--:--\n",
      "   --------- ------------------------------ 0.4/1.9 MB 13.1 MB/s eta 0:00:01\n",
      "   ------------------ --------------------- 0.9/1.9 MB 13.5 MB/s eta 0:00:01\n",
      "   --------------------------- ------------ 1.3/1.9 MB 11.6 MB/s eta 0:00:01\n",
      "   ------------------------------------ --- 1.7/1.9 MB 12.1 MB/s eta 0:00:01\n",
      "   ---------------------------------------- 1.9/1.9 MB 11.0 MB/s eta 0:00:00\n",
      "Downloading StrEnum-0.4.15-py3-none-any.whl (8.9 kB)\n",
      "Downloading websockets-12.0-cp312-cp312-win_amd64.whl (124 kB)\n",
      "   ---------------------------------------- 0.0/125.0 kB ? eta -:--:--\n",
      "   ---------------------------------------- 125.0/125.0 kB 7.6 MB/s eta 0:00:00\n",
      "Downloading annotated_types-0.7.0-py3-none-any.whl (13 kB)\n",
      "Installing collected packages: strenum, websockets, pydantic-core, deprecation, annotated-types, realtime, pydantic, supafunc, storage3, postgrest, gotrue, supabase\n",
      "Note: you may need to restart the kernel to use updated packages.\n"
     ]
    },
    {
     "name": "stderr",
     "output_type": "stream",
     "text": [
      "  WARNING: Failed to write executable - trying to use .deleteme logic\n",
      "ERROR: Could not install packages due to an OSError: [WinError 2] 지정된 파일을 찾을 수 없습니다: 'c:\\\\Python312\\\\Scripts\\\\tests.exe' -> 'c:\\\\Python312\\\\Scripts\\\\tests.exe.deleteme'\n",
      "\n"
     ]
    }
   ],
   "source": [
    "%pip install supabase"
   ]
  },
  {
   "cell_type": "code",
   "execution_count": null,
   "metadata": {},
   "outputs": [],
   "source": []
  }
 ],
 "metadata": {
  "kernelspec": {
   "display_name": "Python 3",
   "language": "python",
   "name": "python3"
  },
  "language_info": {
   "codemirror_mode": {
    "name": "ipython",
    "version": 3
   },
   "file_extension": ".py",
   "mimetype": "text/x-python",
   "name": "python",
   "nbconvert_exporter": "python",
   "pygments_lexer": "ipython3",
   "version": "3.12.4"
  }
 },
 "nbformat": 4,
 "nbformat_minor": 2
}
