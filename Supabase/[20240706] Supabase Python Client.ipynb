{
 "cells": [
  {
   "cell_type": "markdown",
   "metadata": {},
   "source": [
    "# Supabase"
   ]
  },
  {
   "cell_type": "markdown",
   "metadata": {},
   "source": [
    "* is open source.\n",
    "* We choose open source tools which are scalable and make them simple to use.\n",
    "* Supabase is not a 1-to-1 mapping of Firebase. \n",
    "* While we are building many of the features that Firebase offers, we are not going about it the same way:\n",
    "  * our technological choices are quite different; everything we use is open source; and wherever possible, we use and support existing tools rather than developing from scratch."
   ]
  },
  {
   "cell_type": "markdown",
   "metadata": {},
   "source": [
    "* supabase-py : Python Client Library"
   ]
  },
  {
   "cell_type": "code",
   "execution_count": 1,
   "metadata": {},
   "outputs": [
    {
     "name": "stdout",
     "output_type": "stream",
     "text": [
      "Requirement already satisfied: supabase in c:\\python312\\lib\\site-packages (2.5.1)\n",
      "Collecting gotrue<3.0,>=1.3 (from supabase)\n",
      "  Using cached gotrue-2.6.1-py3-none-any.whl.metadata (6.0 kB)\n",
      "Requirement already satisfied: httpx<0.28,>=0.24 in c:\\python312\\lib\\site-packages (from supabase) (0.27.0)\n",
      "Requirement already satisfied: postgrest<0.17.0,>=0.14 in c:\\python312\\lib\\site-packages (from supabase) (0.16.8)\n",
      "Requirement already satisfied: realtime<2.0.0,>=1.0.0 in c:\\python312\\lib\\site-packages (from supabase) (1.0.6)\n",
      "Requirement already satisfied: storage3<0.8.0,>=0.5.3 in c:\\python312\\lib\\site-packages (from supabase) (0.7.6)\n",
      "Requirement already satisfied: supafunc<0.5.0,>=0.3.1 in c:\\python312\\lib\\site-packages (from supabase) (0.4.6)\n",
      "Requirement already satisfied: pydantic<3,>=1.10 in c:\\python312\\lib\\site-packages (from gotrue<3.0,>=1.3->supabase) (2.8.2)\n",
      "Requirement already satisfied: anyio in c:\\python312\\lib\\site-packages (from httpx<0.28,>=0.24->supabase) (4.4.0)\n",
      "Requirement already satisfied: certifi in c:\\users\\hyunyoun\\appdata\\roaming\\python\\python312\\site-packages (from httpx<0.28,>=0.24->supabase) (2024.7.4)\n",
      "Requirement already satisfied: httpcore==1.* in c:\\users\\hyunyoun\\appdata\\roaming\\python\\python312\\site-packages (from httpx<0.28,>=0.24->supabase) (1.0.5)\n",
      "Requirement already satisfied: idna in c:\\python312\\lib\\site-packages (from httpx<0.28,>=0.24->supabase) (2.10)\n",
      "Requirement already satisfied: sniffio in c:\\python312\\lib\\site-packages (from httpx<0.28,>=0.24->supabase) (1.3.1)\n",
      "Requirement already satisfied: h11<0.15,>=0.13 in c:\\python312\\lib\\site-packages (from httpcore==1.*->httpx<0.28,>=0.24->supabase) (0.14.0)\n",
      "Requirement already satisfied: deprecation<3.0.0,>=2.1.0 in c:\\python312\\lib\\site-packages (from postgrest<0.17.0,>=0.14->supabase) (2.1.0)\n",
      "Requirement already satisfied: strenum<0.5.0,>=0.4.9 in c:\\python312\\lib\\site-packages (from postgrest<0.17.0,>=0.14->supabase) (0.4.15)\n",
      "Requirement already satisfied: python-dateutil<3.0.0,>=2.8.1 in c:\\python312\\lib\\site-packages (from realtime<2.0.0,>=1.0.0->supabase) (2.9.0.post0)\n",
      "Requirement already satisfied: typing-extensions<5.0.0,>=4.12.2 in c:\\python312\\lib\\site-packages (from realtime<2.0.0,>=1.0.0->supabase) (4.12.2)\n",
      "Requirement already satisfied: websockets<13,>=11 in c:\\users\\hyunyoun\\appdata\\roaming\\python\\python312\\site-packages (from realtime<2.0.0,>=1.0.0->supabase) (12.0)\n",
      "Requirement already satisfied: packaging in c:\\python312\\lib\\site-packages (from deprecation<3.0.0,>=2.1.0->postgrest<0.17.0,>=0.14->supabase) (24.1)\n",
      "Collecting h2<5,>=3 (from httpx[http2]<0.28,>=0.24->gotrue<3.0,>=1.3->supabase)\n",
      "  Using cached h2-4.1.0-py3-none-any.whl.metadata (3.6 kB)\n",
      "Requirement already satisfied: annotated-types>=0.4.0 in c:\\python312\\lib\\site-packages (from pydantic<3,>=1.10->gotrue<3.0,>=1.3->supabase) (0.7.0)\n",
      "Requirement already satisfied: pydantic-core==2.20.1 in c:\\python312\\lib\\site-packages (from pydantic<3,>=1.10->gotrue<3.0,>=1.3->supabase) (2.20.1)\n",
      "Requirement already satisfied: six>=1.5 in c:\\python312\\lib\\site-packages (from python-dateutil<3.0.0,>=2.8.1->realtime<2.0.0,>=1.0.0->supabase) (1.16.0)\n",
      "Collecting hyperframe<7,>=6.0 (from h2<5,>=3->httpx[http2]<0.28,>=0.24->gotrue<3.0,>=1.3->supabase)\n",
      "  Using cached hyperframe-6.0.1-py3-none-any.whl.metadata (2.7 kB)\n",
      "Collecting hpack<5,>=4.0 (from h2<5,>=3->httpx[http2]<0.28,>=0.24->gotrue<3.0,>=1.3->supabase)\n",
      "  Using cached hpack-4.0.0-py3-none-any.whl.metadata (2.5 kB)\n",
      "Using cached gotrue-2.6.1-py3-none-any.whl (45 kB)\n",
      "Using cached h2-4.1.0-py3-none-any.whl (57 kB)\n",
      "Using cached hpack-4.0.0-py3-none-any.whl (32 kB)\n",
      "Using cached hyperframe-6.0.1-py3-none-any.whl (12 kB)\n",
      "Installing collected packages: hyperframe, hpack, h2, gotrue\n",
      "Successfully installed gotrue-2.6.1 h2-4.1.0 hpack-4.0.0 hyperframe-6.0.1\n",
      "Note: you may need to restart the kernel to use updated packages.\n"
     ]
    },
    {
     "name": "stderr",
     "output_type": "stream",
     "text": [
      "WARNING: Ignoring invalid distribution ~ (c:\\Python312\\Lib\\site-packages)\n",
      "WARNING: Ignoring invalid distribution ~ebsockets (c:\\Python312\\Lib\\site-packages)\n",
      "WARNING: Ignoring invalid distribution ~equests (c:\\Python312\\Lib\\site-packages)\n",
      "WARNING: Ignoring invalid distribution ~hardet (c:\\Python312\\Lib\\site-packages)\n",
      "WARNING: Ignoring invalid distribution ~ip (c:\\Python312\\Lib\\site-packages)\n",
      "WARNING: Ignoring invalid distribution ~ttpcore (c:\\Python312\\Lib\\site-packages)\n",
      "WARNING: Ignoring invalid distribution ~ (c:\\Python312\\Lib\\site-packages)\n",
      "WARNING: Ignoring invalid distribution ~ebsockets (c:\\Python312\\Lib\\site-packages)\n",
      "WARNING: Ignoring invalid distribution ~equests (c:\\Python312\\Lib\\site-packages)\n",
      "WARNING: Ignoring invalid distribution ~hardet (c:\\Python312\\Lib\\site-packages)\n",
      "WARNING: Ignoring invalid distribution ~ip (c:\\Python312\\Lib\\site-packages)\n",
      "WARNING: Ignoring invalid distribution ~ttpcore (c:\\Python312\\Lib\\site-packages)\n"
     ]
    }
   ],
   "source": [
    "%pip install supabase --user"
   ]
  },
  {
   "cell_type": "code",
   "execution_count": 2,
   "metadata": {},
   "outputs": [
    {
     "name": "stdout",
     "output_type": "stream",
     "text": [
      "Collecting supabase-py\n",
      "  Using cached supabase_py-0.0.2-py3-none-any.whl.metadata (564 bytes)\n",
      "Collecting gotrue==0.2.0 (from supabase-py)\n",
      "  Using cached gotrue-0.2.0-py3-none-any.whl.metadata (4.1 kB)\n",
      "Collecting postgrest-py==0.4.0 (from supabase-py)\n",
      "  Using cached postgrest_py-0.4.0-py3-none-any.whl.metadata (3.1 kB)\n",
      "Collecting pytest<7,>=6 (from supabase-py)\n",
      "  Using cached pytest-6.2.5-py3-none-any.whl.metadata (7.5 kB)\n",
      "Collecting realtime-py<0.2.0,>=0.1.2 (from supabase-py)\n",
      "  Using cached realtime_py-0.1.3-py3-none-any.whl.metadata (432 bytes)\n",
      "Collecting requests==2.25.1 (from supabase-py)\n",
      "  Using cached requests-2.25.1-py2.py3-none-any.whl.metadata (4.2 kB)\n",
      "Requirement already satisfied: deprecation<3.0.0,>=2.1.0 in c:\\python312\\lib\\site-packages (from postgrest-py==0.4.0->supabase-py) (2.1.0)\n",
      "Collecting httpx<0.17.0,>=0.16.1 (from postgrest-py==0.4.0->supabase-py)\n",
      "  Using cached httpx-0.16.1-py3-none-any.whl.metadata (38 kB)\n",
      "Requirement already satisfied: chardet<5,>=3.0.2 in c:\\python312\\lib\\site-packages (from requests==2.25.1->supabase-py) (4.0.0)\n",
      "Requirement already satisfied: idna<3,>=2.5 in c:\\python312\\lib\\site-packages (from requests==2.25.1->supabase-py) (2.10)\n",
      "Requirement already satisfied: urllib3<1.27,>=1.21.1 in c:\\python312\\lib\\site-packages (from requests==2.25.1->supabase-py) (1.26.19)\n",
      "Requirement already satisfied: certifi>=2017.4.17 in c:\\users\\hyunyoun\\appdata\\roaming\\python\\python312\\site-packages (from requests==2.25.1->supabase-py) (2024.7.4)\n",
      "Requirement already satisfied: attrs>=19.2.0 in c:\\python312\\lib\\site-packages (from pytest<7,>=6->supabase-py) (23.2.0)\n",
      "Requirement already satisfied: iniconfig in c:\\python312\\lib\\site-packages (from pytest<7,>=6->supabase-py) (2.0.0)\n",
      "Requirement already satisfied: packaging in c:\\python312\\lib\\site-packages (from pytest<7,>=6->supabase-py) (24.1)\n",
      "Requirement already satisfied: pluggy<2.0,>=0.12 in c:\\python312\\lib\\site-packages (from pytest<7,>=6->supabase-py) (1.5.0)\n",
      "Requirement already satisfied: py>=1.8.2 in c:\\python312\\lib\\site-packages (from pytest<7,>=6->supabase-py) (1.11.0)\n",
      "Requirement already satisfied: toml in c:\\python312\\lib\\site-packages (from pytest<7,>=6->supabase-py) (0.10.2)\n",
      "Collecting atomicwrites>=1.0 (from pytest<7,>=6->supabase-py)\n",
      "  Using cached atomicwrites-1.4.1-py2.py3-none-any.whl\n",
      "Requirement already satisfied: colorama in c:\\python312\\lib\\site-packages (from pytest<7,>=6->supabase-py) (0.4.6)\n",
      "Requirement already satisfied: dataclasses<0.7,>=0.6 in c:\\python312\\lib\\site-packages (from realtime-py<0.2.0,>=0.1.2->supabase-py) (0.6)\n",
      "Requirement already satisfied: python-dateutil<3.0.0,>=2.8.1 in c:\\python312\\lib\\site-packages (from realtime-py<0.2.0,>=0.1.2->supabase-py) (2.9.0.post0)\n",
      "Collecting websockets<10.0,>=9.1 (from realtime-py<0.2.0,>=0.1.2->supabase-py)\n",
      "  Using cached websockets-9.1-cp312-cp312-win_amd64.whl\n",
      "Requirement already satisfied: sniffio in c:\\python312\\lib\\site-packages (from httpx<0.17.0,>=0.16.1->postgrest-py==0.4.0->supabase-py) (1.3.1)\n",
      "Requirement already satisfied: rfc3986<2,>=1.3 in c:\\python312\\lib\\site-packages (from rfc3986[idna2008]<2,>=1.3->httpx<0.17.0,>=0.16.1->postgrest-py==0.4.0->supabase-py) (1.5.0)\n",
      "Collecting httpcore==0.12.* (from httpx<0.17.0,>=0.16.1->postgrest-py==0.4.0->supabase-py)\n",
      "  Using cached httpcore-0.12.3-py3-none-any.whl.metadata (10 kB)\n",
      "Requirement already satisfied: h11==0.* in c:\\python312\\lib\\site-packages (from httpcore==0.12.*->httpx<0.17.0,>=0.16.1->postgrest-py==0.4.0->supabase-py) (0.14.0)\n",
      "Requirement already satisfied: six>=1.5 in c:\\python312\\lib\\site-packages (from python-dateutil<3.0.0,>=2.8.1->realtime-py<0.2.0,>=0.1.2->supabase-py) (1.16.0)\n",
      "Using cached supabase_py-0.0.2-py3-none-any.whl (7.5 kB)\n",
      "Using cached gotrue-0.2.0-py3-none-any.whl (8.9 kB)\n",
      "Using cached postgrest_py-0.4.0-py3-none-any.whl (6.0 kB)\n",
      "Using cached requests-2.25.1-py2.py3-none-any.whl (61 kB)\n",
      "Using cached pytest-6.2.5-py3-none-any.whl (280 kB)\n",
      "Using cached realtime_py-0.1.3-py3-none-any.whl (8.1 kB)\n",
      "Using cached httpx-0.16.1-py3-none-any.whl (65 kB)\n",
      "Using cached httpcore-0.12.3-py3-none-any.whl (55 kB)\n",
      "Installing collected packages: websockets, requests, httpcore, gotrue, atomicwrites, realtime-py, pytest, httpx, postgrest-py, supabase-py\n",
      "  Attempting uninstall: websockets\n",
      "    Found existing installation: websockets 12.0\n",
      "    Uninstalling websockets-12.0:\n",
      "      Successfully uninstalled websockets-12.0\n",
      "  Attempting uninstall: httpcore\n",
      "    Found existing installation: httpcore 1.0.5\n",
      "    Uninstalling httpcore-1.0.5:\n",
      "      Successfully uninstalled httpcore-1.0.5\n",
      "  Attempting uninstall: gotrue\n",
      "    Found existing installation: gotrue 2.6.1\n",
      "    Uninstalling gotrue-2.6.1:\n",
      "      Successfully uninstalled gotrue-2.6.1\n",
      "Successfully installed atomicwrites-1.4.1 gotrue-0.2.0 httpcore-0.12.3 httpx-0.16.1 postgrest-py-0.4.0 pytest-6.2.5 realtime-py-0.1.3 requests-2.25.1 supabase-py-0.0.2 websockets-9.1\n",
      "Note: you may need to restart the kernel to use updated packages.\n"
     ]
    },
    {
     "name": "stderr",
     "output_type": "stream",
     "text": [
      "WARNING: Ignoring invalid distribution ~ (c:\\Python312\\Lib\\site-packages)\n",
      "WARNING: Ignoring invalid distribution ~ebsockets (c:\\Python312\\Lib\\site-packages)\n",
      "WARNING: Ignoring invalid distribution ~equests (c:\\Python312\\Lib\\site-packages)\n",
      "WARNING: Ignoring invalid distribution ~hardet (c:\\Python312\\Lib\\site-packages)\n",
      "WARNING: Ignoring invalid distribution ~ip (c:\\Python312\\Lib\\site-packages)\n",
      "WARNING: Ignoring invalid distribution ~ttpcore (c:\\Python312\\Lib\\site-packages)\n",
      "WARNING: Ignoring invalid distribution ~ (c:\\Python312\\Lib\\site-packages)\n",
      "WARNING: Ignoring invalid distribution ~ebsockets (c:\\Python312\\Lib\\site-packages)\n",
      "WARNING: Ignoring invalid distribution ~equests (c:\\Python312\\Lib\\site-packages)\n",
      "WARNING: Ignoring invalid distribution ~hardet (c:\\Python312\\Lib\\site-packages)\n",
      "WARNING: Ignoring invalid distribution ~ip (c:\\Python312\\Lib\\site-packages)\n",
      "WARNING: Ignoring invalid distribution ~ttpcore (c:\\Python312\\Lib\\site-packages)\n",
      "ERROR: pip's dependency resolver does not currently take into account all the packages that are installed. This behaviour is the source of the following dependency conflicts.\n",
      "justpy 0.14.0 requires httpx>=0.23.0, but you have httpx 0.16.1 which is incompatible.\n",
      "nicegui 1.4.34 requires httpx>=0.24.0, but you have httpx 0.16.1 which is incompatible.\n",
      "nicegui 1.4.34 requires requests>=2.32.0, but you have requests 2.25.1 which is incompatible.\n",
      "reflex 0.5.5 requires httpx<1.0,>=0.25.1, but you have httpx 0.16.1 which is incompatible.\n",
      "reflex 0.5.5 requires setuptools<70.0,>=69.1.1, but you have setuptools 72.1.0 which is incompatible.\n",
      "reflex-hosting-cli 0.1.13 requires httpx<1.0,>=0.25.1, but you have httpx 0.16.1 which is incompatible.\n",
      "reflex-hosting-cli 0.1.13 requires websockets>=10.4, but you have websockets 9.1 which is incompatible.\n",
      "sanic 24.6.0 requires websockets>=10.0, but you have websockets 9.1 which is incompatible.\n",
      "jupyterlab 4.2.3 requires httpx>=0.25.0, but you have httpx 0.16.1 which is incompatible.\n",
      "jupyterlab-server 2.27.2 requires requests>=2.31, but you have requests 2.25.1 which is incompatible.\n",
      "postgrest 0.16.8 requires httpx<0.28,>=0.24, but you have httpx 0.16.1 which is incompatible.\n",
      "realtime 1.0.6 requires websockets<13,>=11, but you have websockets 9.1 which is incompatible.\n",
      "storage3 0.7.6 requires httpx<0.28,>=0.24, but you have httpx 0.16.1 which is incompatible.\n",
      "supabase 2.5.1 requires gotrue<3.0,>=1.3, but you have gotrue 0.2.0 which is incompatible.\n",
      "supabase 2.5.1 requires httpx<0.28,>=0.24, but you have httpx 0.16.1 which is incompatible.\n",
      "supafunc 0.4.6 requires httpx<0.28,>=0.24, but you have httpx 0.16.1 which is incompatible.\n"
     ]
    }
   ],
   "source": [
    "%pip install supabase-py --user"
   ]
  },
  {
   "cell_type": "code",
   "execution_count": null,
   "metadata": {},
   "outputs": [],
   "source": []
  }
 ],
 "metadata": {
  "kernelspec": {
   "display_name": "Python 3",
   "language": "python",
   "name": "python3"
  },
  "language_info": {
   "codemirror_mode": {
    "name": "ipython",
    "version": 3
   },
   "file_extension": ".py",
   "mimetype": "text/x-python",
   "name": "python",
   "nbconvert_exporter": "python",
   "pygments_lexer": "ipython3",
   "version": "3.12.4"
  }
 },
 "nbformat": 4,
 "nbformat_minor": 2
}
