{
 "cells": [
  {
   "cell_type": "markdown",
   "metadata": {},
   "source": [
    "# Minio"
   ]
  },
  {
   "cell_type": "markdown",
   "metadata": {},
   "source": [
    "* is a high-performance, S3 compatible object store.\n",
    "* It is built for large scale AI/ML, data lake and database workloads. \n",
    "* It is software-defined and runs on any cloud or on-premises infrastructure. \n",
    "* MinIO is dual-licensed under open source GNU AGPL v3 and a commercial enterprise license."
   ]
  },
  {
   "cell_type": "markdown",
   "metadata": {},
   "source": [
    "* minio Python Client API"
   ]
  },
  {
   "cell_type": "code",
   "execution_count": 1,
   "metadata": {},
   "outputs": [
    {
     "name": "stdout",
     "output_type": "stream",
     "text": [
      "Requirement already satisfied: minio in c:\\python312\\lib\\site-packages (7.2.7)Note: you may need to restart the kernel to use updated packages.\n",
      "\n",
      "Requirement already satisfied: certifi in c:\\python312\\lib\\site-packages (from minio) (2024.6.2)\n",
      "Requirement already satisfied: urllib3 in c:\\python312\\lib\\site-packages (from minio) (1.26.19)\n",
      "Requirement already satisfied: argon2-cffi in c:\\python312\\lib\\site-packages (from minio) (23.1.0)\n",
      "Requirement already satisfied: pycryptodome in c:\\python312\\lib\\site-packages (from minio) (3.20.0)\n",
      "Requirement already satisfied: typing-extensions in c:\\python312\\lib\\site-packages (from minio) (4.12.2)\n",
      "Requirement already satisfied: argon2-cffi-bindings in c:\\python312\\lib\\site-packages (from argon2-cffi->minio) (21.2.0)\n",
      "Requirement already satisfied: cffi>=1.0.1 in c:\\python312\\lib\\site-packages (from argon2-cffi-bindings->argon2-cffi->minio) (1.16.0)\n",
      "Requirement already satisfied: pycparser in c:\\python312\\lib\\site-packages (from cffi>=1.0.1->argon2-cffi-bindings->argon2-cffi->minio) (2.22)\n"
     ]
    },
    {
     "name": "stderr",
     "output_type": "stream",
     "text": [
      "WARNING: Ignoring invalid distribution ~ (c:\\Python312\\Lib\\site-packages)\n",
      "WARNING: Ignoring invalid distribution ~ebsockets (c:\\Python312\\Lib\\site-packages)\n",
      "WARNING: Ignoring invalid distribution ~equests (c:\\Python312\\Lib\\site-packages)\n",
      "WARNING: Ignoring invalid distribution ~ip (c:\\Python312\\Lib\\site-packages)\n",
      "WARNING: Ignoring invalid distribution ~ttpcore (c:\\Python312\\Lib\\site-packages)\n",
      "WARNING: Ignoring invalid distribution ~ (c:\\Python312\\Lib\\site-packages)\n",
      "WARNING: Ignoring invalid distribution ~ebsockets (c:\\Python312\\Lib\\site-packages)\n",
      "WARNING: Ignoring invalid distribution ~equests (c:\\Python312\\Lib\\site-packages)\n",
      "WARNING: Ignoring invalid distribution ~ip (c:\\Python312\\Lib\\site-packages)\n",
      "WARNING: Ignoring invalid distribution ~ttpcore (c:\\Python312\\Lib\\site-packages)\n",
      "WARNING: Ignoring invalid distribution ~ (c:\\Python312\\Lib\\site-packages)\n",
      "WARNING: Ignoring invalid distribution ~ebsockets (c:\\Python312\\Lib\\site-packages)\n",
      "WARNING: Ignoring invalid distribution ~equests (c:\\Python312\\Lib\\site-packages)\n",
      "WARNING: Ignoring invalid distribution ~ip (c:\\Python312\\Lib\\site-packages)\n",
      "WARNING: Ignoring invalid distribution ~ttpcore (c:\\Python312\\Lib\\site-packages)\n"
     ]
    }
   ],
   "source": [
    "%pip install minio"
   ]
  },
  {
   "cell_type": "code",
   "execution_count": null,
   "metadata": {},
   "outputs": [],
   "source": []
  }
 ],
 "metadata": {
  "kernelspec": {
   "display_name": "Python 3",
   "language": "python",
   "name": "python3"
  },
  "language_info": {
   "codemirror_mode": {
    "name": "ipython",
    "version": 3
   },
   "file_extension": ".py",
   "mimetype": "text/x-python",
   "name": "python",
   "nbconvert_exporter": "python",
   "pygments_lexer": "ipython3",
   "version": "3.12.4"
  }
 },
 "nbformat": 4,
 "nbformat_minor": 2
}
