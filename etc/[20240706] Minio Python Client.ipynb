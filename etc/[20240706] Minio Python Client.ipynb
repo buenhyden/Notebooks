{
 "cells": [
  {
   "cell_type": "markdown",
   "metadata": {},
   "source": [
    "# Minio"
   ]
  },
  {
   "cell_type": "markdown",
   "metadata": {},
   "source": [
    "* is a high-performance, S3 compatible object store.\n",
    "* It is built for large scale AI/ML, data lake and database workloads. \n",
    "* It is software-defined and runs on any cloud or on-premises infrastructure. \n",
    "* MinIO is dual-licensed under open source GNU AGPL v3 and a commercial enterprise license."
   ]
  },
  {
   "cell_type": "markdown",
   "metadata": {},
   "source": [
    "* minio Python Client API"
   ]
  },
  {
   "cell_type": "code",
   "execution_count": 1,
   "metadata": {},
   "outputs": [
    {
     "name": "stdout",
     "output_type": "stream",
     "text": [
      "Collecting minio\n",
      "  Downloading minio-7.2.7-py3-none-any.whl.metadata (6.4 kB)\n",
      "Requirement already satisfied: certifi in c:\\python312\\lib\\site-packages (from minio) (2024.6.2)\n",
      "Requirement already satisfied: urllib3 in c:\\python312\\lib\\site-packages (from minio) (2.2.2)\n",
      "Requirement already satisfied: argon2-cffi in c:\\python312\\lib\\site-packages (from minio) (23.1.0)\n",
      "Collecting pycryptodome (from minio)\n",
      "  Downloading pycryptodome-3.20.0-cp35-abi3-win_amd64.whl.metadata (3.4 kB)\n",
      "Requirement already satisfied: typing-extensions in c:\\python312\\lib\\site-packages (from minio) (4.12.2)\n",
      "Requirement already satisfied: argon2-cffi-bindings in c:\\python312\\lib\\site-packages (from argon2-cffi->minio) (21.2.0)\n",
      "Requirement already satisfied: cffi>=1.0.1 in c:\\python312\\lib\\site-packages (from argon2-cffi-bindings->argon2-cffi->minio) (1.16.0)\n",
      "Requirement already satisfied: pycparser in c:\\python312\\lib\\site-packages (from cffi>=1.0.1->argon2-cffi-bindings->argon2-cffi->minio) (2.22)\n",
      "Downloading minio-7.2.7-py3-none-any.whl (93 kB)\n",
      "   ---------------------------------------- 0.0/93.5 kB ? eta -:--:--\n",
      "   ---------------------------------------- 93.5/93.5 kB 5.5 MB/s eta 0:00:00\n",
      "Downloading pycryptodome-3.20.0-cp35-abi3-win_amd64.whl (1.8 MB)\n",
      "   ---------------------------------------- 0.0/1.8 MB ? eta -:--:--\n",
      "   -- ------------------------------------- 0.1/1.8 MB 7.5 MB/s eta 0:00:01\n",
      "   ---- ----------------------------------- 0.2/1.8 MB 2.5 MB/s eta 0:00:01\n",
      "   ------- -------------------------------- 0.3/1.8 MB 2.5 MB/s eta 0:00:01\n",
      "   ---------- ----------------------------- 0.4/1.8 MB 2.8 MB/s eta 0:00:01\n",
      "   -------------- ------------------------- 0.6/1.8 MB 3.1 MB/s eta 0:00:01\n",
      "   -------------------------- ------------- 1.2/1.8 MB 4.6 MB/s eta 0:00:01\n",
      "   ------------------------------------- -- 1.6/1.8 MB 5.5 MB/s eta 0:00:01\n",
      "   ---------------------------------------- 1.8/1.8 MB 5.6 MB/s eta 0:00:00\n",
      "Installing collected packages: pycryptodome, minio\n",
      "Successfully installed minio-7.2.7 pycryptodome-3.20.0\n",
      "Note: you may need to restart the kernel to use updated packages.\n"
     ]
    }
   ],
   "source": [
    "%pip install minio"
   ]
  },
  {
   "cell_type": "code",
   "execution_count": null,
   "metadata": {},
   "outputs": [],
   "source": []
  }
 ],
 "metadata": {
  "kernelspec": {
   "display_name": "Python 3",
   "language": "python",
   "name": "python3"
  },
  "language_info": {
   "codemirror_mode": {
    "name": "ipython",
    "version": 3
   },
   "file_extension": ".py",
   "mimetype": "text/x-python",
   "name": "python",
   "nbconvert_exporter": "python",
   "pygments_lexer": "ipython3",
   "version": "3.12.4"
  }
 },
 "nbformat": 4,
 "nbformat_minor": 2
}
