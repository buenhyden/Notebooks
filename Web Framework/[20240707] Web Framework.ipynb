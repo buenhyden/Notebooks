{
 "cells": [
  {
   "cell_type": "markdown",
   "metadata": {},
   "source": [
    "# Web Framework"
   ]
  },
  {
   "cell_type": "markdown",
   "metadata": {},
   "source": [
    "* Django: 강력한 기능의 웹 프레임워크"
   ]
  },
  {
   "cell_type": "code",
   "execution_count": 14,
   "metadata": {},
   "outputs": [
    {
     "name": "stdout",
     "output_type": "stream",
     "text": [
      "Requirement already satisfied: Django in c:\\python312\\lib\\site-packages (5.0.6)\n",
      "Requirement already satisfied: asgiref<4,>=3.7.0 in c:\\python312\\lib\\site-packages (from Django) (3.8.1)\n",
      "Requirement already satisfied: sqlparse>=0.3.1 in c:\\python312\\lib\\site-packages (from Django) (0.5.0)\n",
      "Requirement already satisfied: tzdata in c:\\python312\\lib\\site-packages (from Django) (2024.1)\n",
      "Note: you may need to restart the kernel to use updated packages.\n"
     ]
    }
   ],
   "source": [
    "%pip install Django --user"
   ]
  },
  {
   "cell_type": "markdown",
   "metadata": {},
   "source": [
    "* Channels: Django 애플리케이션에 비동기 처리와 실시간 통신 기능을 추가"
   ]
  },
  {
   "cell_type": "code",
   "execution_count": 22,
   "metadata": {},
   "outputs": [
    {
     "name": "stdout",
     "output_type": "stream",
     "text": [
      "Collecting channels\n",
      "  Downloading channels-4.1.0-py3-none-any.whl.metadata (4.5 kB)\n",
      "Requirement already satisfied: Django>=4.2 in c:\\python312\\lib\\site-packages (from channels) (5.0.6)\n",
      "Requirement already satisfied: asgiref<4,>=3.6.0 in c:\\python312\\lib\\site-packages (from channels) (3.8.1)\n",
      "Requirement already satisfied: sqlparse>=0.3.1 in c:\\python312\\lib\\site-packages (from Django>=4.2->channels) (0.5.0)\n",
      "Requirement already satisfied: tzdata in c:\\python312\\lib\\site-packages (from Django>=4.2->channels) (2024.1)\n",
      "Downloading channels-4.1.0-py3-none-any.whl (30 kB)\n",
      "Installing collected packages: channels\n",
      "Successfully installed channels-4.1.0\n",
      "Note: you may need to restart the kernel to use updated packages.\n"
     ]
    }
   ],
   "source": [
    "%pip install channels"
   ]
  },
  {
   "cell_type": "markdown",
   "metadata": {},
   "source": [
    "* Django REST framework (DRF): Django 웹 프레임워크 기반 툴"
   ]
  },
  {
   "cell_type": "code",
   "execution_count": 24,
   "metadata": {},
   "outputs": [
    {
     "name": "stdout",
     "output_type": "stream",
     "text": [
      "Requirement already satisfied: djangorestframework in c:\\python312\\lib\\site-packages (3.15.2)\n",
      "Requirement already satisfied: django>=4.2 in c:\\python312\\lib\\site-packages (from djangorestframework) (5.0.6)\n",
      "Requirement already satisfied: asgiref<4,>=3.7.0 in c:\\python312\\lib\\site-packages (from django>=4.2->djangorestframework) (3.8.1)\n",
      "Requirement already satisfied: sqlparse>=0.3.1 in c:\\python312\\lib\\site-packages (from django>=4.2->djangorestframework) (0.5.0)\n",
      "Requirement already satisfied: tzdata in c:\\python312\\lib\\site-packages (from django>=4.2->djangorestframework) (2024.1)\n",
      "Note: you may need to restart the kernel to use updated packages.\n",
      "Requirement already satisfied: markdown in c:\\users\\hyunyoun\\appdata\\roaming\\python\\python312\\site-packages (3.6)\n",
      "Note: you may need to restart the kernel to use updated packages.\n",
      "Collecting django-filter\n",
      "  Downloading django_filter-24.2-py3-none-any.whl.metadata (5.1 kB)\n",
      "Requirement already satisfied: Django>=4.2 in c:\\python312\\lib\\site-packages (from django-filter) (5.0.6)\n",
      "Requirement already satisfied: asgiref<4,>=3.7.0 in c:\\python312\\lib\\site-packages (from Django>=4.2->django-filter) (3.8.1)\n",
      "Requirement already satisfied: sqlparse>=0.3.1 in c:\\python312\\lib\\site-packages (from Django>=4.2->django-filter) (0.5.0)\n",
      "Requirement already satisfied: tzdata in c:\\python312\\lib\\site-packages (from Django>=4.2->django-filter) (2024.1)\n",
      "Downloading django_filter-24.2-py3-none-any.whl (94 kB)\n",
      "   ---------------------------------------- 0.0/94.5 kB ? eta -:--:--\n",
      "   ---------------------------------------- 94.5/94.5 kB 5.6 MB/s eta 0:00:00\n",
      "Installing collected packages: django-filter\n",
      "Successfully installed django-filter-24.2\n",
      "Note: you may need to restart the kernel to use updated packages.\n"
     ]
    }
   ],
   "source": [
    "%pip install djangorestframework\n",
    "# Markdown support for the browsable API.\n",
    "%pip install markdown       \n",
    "# Filtering support\n",
    "%pip install django-filter  "
   ]
  },
  {
   "cell_type": "markdown",
   "metadata": {},
   "source": [
    "* Falcon: 고성능 마이크로서비스 웹 프레임워크"
   ]
  },
  {
   "cell_type": "code",
   "execution_count": 15,
   "metadata": {},
   "outputs": [
    {
     "name": "stdout",
     "output_type": "stream",
     "text": [
      "Requirement already satisfied: falcon in c:\\python312\\lib\\site-packages (3.1.3)\n",
      "Note: you may need to restart the kernel to use updated packages.\n"
     ]
    }
   ],
   "source": [
    "%pip install falcon --user"
   ]
  },
  {
   "cell_type": "markdown",
   "metadata": {},
   "source": [
    "* FastAPI: 빠르고 현대적인 API 개발"
   ]
  },
  {
   "cell_type": "code",
   "execution_count": 20,
   "metadata": {},
   "outputs": [
    {
     "name": "stdout",
     "output_type": "stream",
     "text": [
      "Requirement already satisfied: fastapi in c:\\users\\hyunyoun\\appdata\\roaming\\python\\python312\\site-packages (0.110.3)\n",
      "Requirement already satisfied: starlette<0.38.0,>=0.37.2 in c:\\users\\hyunyoun\\appdata\\roaming\\python\\python312\\site-packages (from fastapi) (0.37.2)\n",
      "Requirement already satisfied: pydantic!=1.8,!=1.8.1,!=2.0.0,!=2.0.1,!=2.1.0,<3.0.0,>=1.7.4 in c:\\python312\\lib\\site-packages (from fastapi) (2.8.2)\n",
      "Requirement already satisfied: typing-extensions>=4.8.0 in c:\\python312\\lib\\site-packages (from fastapi) (4.12.2)\n",
      "Requirement already satisfied: annotated-types>=0.4.0 in c:\\python312\\lib\\site-packages (from pydantic!=1.8,!=1.8.1,!=2.0.0,!=2.0.1,!=2.1.0,<3.0.0,>=1.7.4->fastapi) (0.7.0)\n",
      "Requirement already satisfied: pydantic-core==2.20.1 in c:\\python312\\lib\\site-packages (from pydantic!=1.8,!=1.8.1,!=2.0.0,!=2.0.1,!=2.1.0,<3.0.0,>=1.7.4->fastapi) (2.20.1)\n",
      "Requirement already satisfied: anyio<5,>=3.4.0 in c:\\python312\\lib\\site-packages (from starlette<0.38.0,>=0.37.2->fastapi) (4.4.0)\n",
      "Requirement already satisfied: idna>=2.8 in c:\\python312\\lib\\site-packages (from anyio<5,>=3.4.0->starlette<0.38.0,>=0.37.2->fastapi) (3.7)\n",
      "Requirement already satisfied: sniffio>=1.1 in c:\\python312\\lib\\site-packages (from anyio<5,>=3.4.0->starlette<0.38.0,>=0.37.2->fastapi) (1.3.1)\n",
      "Note: you may need to restart the kernel to use updated packages.\n"
     ]
    }
   ],
   "source": [
    "%pip install fastapi --user"
   ]
  },
  {
   "cell_type": "markdown",
   "metadata": {},
   "source": [
    "* Flask: 경량화된 유연한 마이크로 웹 프레임워크"
   ]
  },
  {
   "cell_type": "code",
   "execution_count": 19,
   "metadata": {},
   "outputs": [
    {
     "name": "stdout",
     "output_type": "stream",
     "text": [
      "Collecting Flask\n",
      "  Using cached flask-3.0.3-py3-none-any.whl.metadata (3.2 kB)\n",
      "Collecting Werkzeug>=3.0.0 (from Flask)\n",
      "  Using cached werkzeug-3.0.3-py3-none-any.whl.metadata (3.7 kB)\n",
      "Requirement already satisfied: Jinja2>=3.1.2 in c:\\python312\\lib\\site-packages (from Flask) (3.1.4)\n",
      "Collecting itsdangerous>=2.1.2 (from Flask)\n",
      "  Using cached itsdangerous-2.2.0-py3-none-any.whl.metadata (1.9 kB)\n",
      "Requirement already satisfied: click>=8.1.3 in c:\\python312\\lib\\site-packages (from Flask) (8.1.7)\n",
      "Collecting blinker>=1.6.2 (from Flask)\n",
      "  Using cached blinker-1.8.2-py3-none-any.whl.metadata (1.6 kB)\n",
      "Requirement already satisfied: colorama in c:\\python312\\lib\\site-packages (from click>=8.1.3->Flask) (0.4.6)\n",
      "Requirement already satisfied: MarkupSafe>=2.0 in c:\\python312\\lib\\site-packages (from Jinja2>=3.1.2->Flask) (2.1.5)\n",
      "Using cached flask-3.0.3-py3-none-any.whl (101 kB)\n",
      "Using cached blinker-1.8.2-py3-none-any.whl (9.5 kB)\n",
      "Using cached itsdangerous-2.2.0-py3-none-any.whl (16 kB)\n",
      "Using cached werkzeug-3.0.3-py3-none-any.whl (227 kB)\n",
      "Installing collected packages: Werkzeug, itsdangerous, blinker, Flask\n",
      "Successfully installed Flask-3.0.3 Werkzeug-3.0.3 blinker-1.8.2 itsdangerous-2.2.0\n",
      "Note: you may need to restart the kernel to use updated packages.\n"
     ]
    }
   ],
   "source": [
    "%pip install Flask --user"
   ]
  },
  {
   "cell_type": "markdown",
   "metadata": {},
   "source": [
    "* Flask-RESTful: Flask 기반 RESTful API 구축 도구"
   ]
  },
  {
   "cell_type": "code",
   "execution_count": 21,
   "metadata": {},
   "outputs": [
    {
     "name": "stdout",
     "output_type": "stream",
     "text": [
      "Collecting flask-restful\n",
      "  Downloading Flask_RESTful-0.3.10-py2.py3-none-any.whl.metadata (1.0 kB)\n",
      "Collecting aniso8601>=0.82 (from flask-restful)\n",
      "  Downloading aniso8601-9.0.1-py2.py3-none-any.whl.metadata (23 kB)\n",
      "Requirement already satisfied: Flask>=0.8 in c:\\users\\hyunyoun\\appdata\\roaming\\python\\python312\\site-packages (from flask-restful) (3.0.3)\n",
      "Requirement already satisfied: six>=1.3.0 in c:\\python312\\lib\\site-packages (from flask-restful) (1.16.0)\n",
      "Requirement already satisfied: pytz in c:\\python312\\lib\\site-packages (from flask-restful) (2024.1)\n",
      "Requirement already satisfied: Werkzeug>=3.0.0 in c:\\users\\hyunyoun\\appdata\\roaming\\python\\python312\\site-packages (from Flask>=0.8->flask-restful) (3.0.3)\n",
      "Requirement already satisfied: Jinja2>=3.1.2 in c:\\python312\\lib\\site-packages (from Flask>=0.8->flask-restful) (3.1.4)\n",
      "Requirement already satisfied: itsdangerous>=2.1.2 in c:\\users\\hyunyoun\\appdata\\roaming\\python\\python312\\site-packages (from Flask>=0.8->flask-restful) (2.2.0)\n",
      "Requirement already satisfied: click>=8.1.3 in c:\\python312\\lib\\site-packages (from Flask>=0.8->flask-restful) (8.1.7)\n",
      "Requirement already satisfied: blinker>=1.6.2 in c:\\users\\hyunyoun\\appdata\\roaming\\python\\python312\\site-packages (from Flask>=0.8->flask-restful) (1.8.2)\n",
      "Requirement already satisfied: colorama in c:\\python312\\lib\\site-packages (from click>=8.1.3->Flask>=0.8->flask-restful) (0.4.6)\n",
      "Requirement already satisfied: MarkupSafe>=2.0 in c:\\python312\\lib\\site-packages (from Jinja2>=3.1.2->Flask>=0.8->flask-restful) (2.1.5)\n",
      "Downloading Flask_RESTful-0.3.10-py2.py3-none-any.whl (26 kB)\n",
      "Downloading aniso8601-9.0.1-py2.py3-none-any.whl (52 kB)\n",
      "   ---------------------------------------- 0.0/52.8 kB ? eta -:--:--\n",
      "   ---------------------------------------- 52.8/52.8 kB 2.7 MB/s eta 0:00:00\n",
      "Installing collected packages: aniso8601, flask-restful\n",
      "Successfully installed aniso8601-9.0.1 flask-restful-0.3.10\n",
      "Note: you may need to restart the kernel to use updated packages.\n"
     ]
    }
   ],
   "source": [
    "%pip install flask-restful"
   ]
  },
  {
   "cell_type": "markdown",
   "metadata": {},
   "source": [
    "* Pyramid: 경량, 유연한 웹 프레임워크"
   ]
  },
  {
   "cell_type": "code",
   "execution_count": 18,
   "metadata": {},
   "outputs": [
    {
     "name": "stdout",
     "output_type": "stream",
     "text": [
      "Collecting pyramid\n",
      "  Downloading pyramid-2.0.2-py3-none-any.whl.metadata (20 kB)\n",
      "Collecting hupper>=1.5 (from pyramid)\n",
      "  Downloading hupper-1.12.1-py3-none-any.whl.metadata (3.7 kB)\n",
      "Collecting plaster (from pyramid)\n",
      "  Downloading plaster-1.1.2-py2.py3-none-any.whl.metadata (6.4 kB)\n",
      "Collecting plaster-pastedeploy (from pyramid)\n",
      "  Downloading plaster_pastedeploy-1.0.1-py2.py3-none-any.whl.metadata (8.1 kB)\n",
      "Requirement already satisfied: setuptools in c:\\users\\hyunyoun\\appdata\\roaming\\python\\python312\\site-packages (from pyramid) (70.2.0)\n",
      "Collecting translationstring>=0.4 (from pyramid)\n",
      "  Downloading translationstring-1.4-py2.py3-none-any.whl.metadata (4.1 kB)\n",
      "Collecting venusian>=1.0 (from pyramid)\n",
      "  Downloading venusian-3.1.0-py3-none-any.whl.metadata (10 kB)\n",
      "Collecting webob>=1.8.3 (from pyramid)\n",
      "  Downloading WebOb-1.8.7-py2.py3-none-any.whl.metadata (10 kB)\n",
      "Collecting zope.deprecation>=3.5.0 (from pyramid)\n",
      "  Downloading zope.deprecation-5.0-py3-none-any.whl.metadata (5.1 kB)\n",
      "Requirement already satisfied: zope.interface>=3.8.0 in c:\\python312\\lib\\site-packages (from pyramid) (6.4.post2)\n",
      "Collecting PasteDeploy>=2.0 (from plaster-pastedeploy->pyramid)\n",
      "  Downloading PasteDeploy-3.1.0-py3-none-any.whl.metadata (2.7 kB)\n",
      "Downloading pyramid-2.0.2-py3-none-any.whl (247 kB)\n",
      "   ---------------------------------------- 0.0/247.3 kB ? eta -:--:--\n",
      "   ---------------------------------------- 247.3/247.3 kB 7.4 MB/s eta 0:00:00\n",
      "Downloading hupper-1.12.1-py3-none-any.whl (22 kB)\n",
      "Downloading translationstring-1.4-py2.py3-none-any.whl (15 kB)\n",
      "Downloading venusian-3.1.0-py3-none-any.whl (13 kB)\n",
      "Downloading WebOb-1.8.7-py2.py3-none-any.whl (114 kB)\n",
      "   ---------------------------------------- 0.0/115.0 kB ? eta -:--:--\n",
      "   ---------------------------------------- 115.0/115.0 kB ? eta 0:00:00\n",
      "Downloading zope.deprecation-5.0-py3-none-any.whl (10 kB)\n",
      "Downloading plaster-1.1.2-py2.py3-none-any.whl (11 kB)\n",
      "Downloading plaster_pastedeploy-1.0.1-py2.py3-none-any.whl (7.8 kB)\n",
      "Downloading PasteDeploy-3.1.0-py3-none-any.whl (16 kB)\n",
      "Installing collected packages: translationstring, zope.deprecation, webob, venusian, plaster, PasteDeploy, hupper, plaster-pastedeploy, pyramid\n",
      "Successfully installed PasteDeploy-3.1.0 hupper-1.12.1 plaster-1.1.2 plaster-pastedeploy-1.0.1 pyramid-2.0.2 translationstring-1.4 venusian-3.1.0 webob-1.8.7 zope.deprecation-5.0\n",
      "Note: you may need to restart the kernel to use updated packages.\n"
     ]
    }
   ],
   "source": [
    "%pip install pyramid --user"
   ]
  },
  {
   "cell_type": "markdown",
   "metadata": {},
   "source": [
    "* Reflex: 모던 웹 개발의 새로운 지평"
   ]
  },
  {
   "cell_type": "code",
   "execution_count": 16,
   "metadata": {},
   "outputs": [
    {
     "name": "stdout",
     "output_type": "stream",
     "text": [
      "Collecting reflex\n",
      "  Downloading reflex-0.5.5-py3-none-any.whl.metadata (12 kB)\n",
      "Collecting alembic<2.0,>=1.11.1 (from reflex)\n",
      "  Downloading alembic-1.13.2-py3-none-any.whl.metadata (7.4 kB)\n",
      "Collecting build<2.0,>=1.0.3 (from reflex)\n",
      "  Downloading build-1.2.1-py3-none-any.whl.metadata (4.3 kB)\n",
      "Requirement already satisfied: charset-normalizer<4.0,>=3.3.2 in c:\\python312\\lib\\site-packages (from reflex) (3.3.2)\n",
      "Collecting dill<0.4,>=0.3.8 (from reflex)\n",
      "  Downloading dill-0.3.8-py3-none-any.whl.metadata (10 kB)\n",
      "Collecting fastapi<0.111.0,>=0.96.0 (from reflex)\n",
      "  Downloading fastapi-0.110.3-py3-none-any.whl.metadata (24 kB)\n",
      "Collecting gunicorn<23.0,>=20.1.0 (from reflex)\n",
      "  Downloading gunicorn-22.0.0-py3-none-any.whl.metadata (4.4 kB)\n",
      "Requirement already satisfied: httpx<1.0,>=0.25.1 in c:\\python312\\lib\\site-packages (from reflex) (0.27.0)\n",
      "Requirement already satisfied: jinja2<4.0,>=3.1.2 in c:\\python312\\lib\\site-packages (from reflex) (3.1.4)\n",
      "Collecting lazy_loader>=0.4 (from reflex)\n",
      "  Downloading lazy_loader-0.4-py3-none-any.whl.metadata (7.6 kB)\n",
      "Requirement already satisfied: packaging<25.0,>=23.1 in c:\\python312\\lib\\site-packages (from reflex) (24.1)\n",
      "Requirement already satisfied: platformdirs<5.0,>=3.10.0 in c:\\python312\\lib\\site-packages (from reflex) (4.2.2)\n",
      "Collecting psutil<6.0,>=5.9.4 (from reflex)\n",
      "  Using cached psutil-5.9.8-cp37-abi3-win_amd64.whl.metadata (22 kB)\n",
      "Requirement already satisfied: pydantic<3.0,>=1.10.2 in c:\\python312\\lib\\site-packages (from reflex) (2.8.2)\n",
      "Requirement already satisfied: python-engineio!=4.6.0 in c:\\python312\\lib\\site-packages (from reflex) (4.9.1)\n",
      "Requirement already satisfied: python-multipart<0.1,>=0.0.5 in c:\\python312\\lib\\site-packages (from reflex) (0.0.9)\n",
      "Requirement already satisfied: python-socketio<6.0,>=5.7.0 in c:\\python312\\lib\\site-packages (from reflex) (5.11.3)\n",
      "Requirement already satisfied: redis<6.0,>=4.3.5 in c:\\python312\\lib\\site-packages (from reflex) (5.0.7)\n",
      "Collecting reflex-hosting-cli<2.0,>=0.1.2 (from reflex)\n",
      "  Downloading reflex_hosting_cli-0.1.13-py3-none-any.whl.metadata (1.3 kB)\n",
      "Requirement already satisfied: rich<14.0,>=13.0.0 in c:\\users\\hyunyoun\\appdata\\roaming\\python\\python312\\site-packages (from reflex) (13.7.1)\n",
      "Collecting setuptools<70.0,>=69.1.1 (from reflex)\n",
      "  Using cached setuptools-69.5.1-py3-none-any.whl.metadata (6.2 kB)\n",
      "Collecting sqlmodel<0.1,>=0.0.14 (from reflex)\n",
      "  Downloading sqlmodel-0.0.19-py3-none-any.whl.metadata (9.8 kB)\n",
      "Collecting starlette-admin<1.0,>=0.11.0 (from reflex)\n",
      "  Downloading starlette_admin-0.14.0-py3-none-any.whl.metadata (7.4 kB)\n",
      "Collecting tomlkit<1.0,>=0.12.4 (from reflex)\n",
      "  Downloading tomlkit-0.12.5-py3-none-any.whl.metadata (2.7 kB)\n",
      "Collecting twine<6.0,>=4.0.0 (from reflex)\n",
      "  Using cached twine-5.1.1-py3-none-any.whl.metadata (3.5 kB)\n",
      "Collecting typer<1.0,>=0.4.2 (from reflex)\n",
      "  Using cached typer-0.12.3-py3-none-any.whl.metadata (15 kB)\n",
      "Collecting uvicorn<0.25.0,>=0.24.0 (from reflex)\n",
      "  Downloading uvicorn-0.24.0.post1-py3-none-any.whl.metadata (6.4 kB)\n",
      "Collecting watchdog<5.0,>=2.3.1 (from reflex)\n",
      "  Downloading watchdog-4.0.1-py3-none-win_amd64.whl.metadata (37 kB)\n",
      "Collecting watchfiles<1.0,>=0.19.0 (from reflex)\n",
      "  Using cached watchfiles-0.22.0-cp312-none-win_amd64.whl.metadata (5.0 kB)\n",
      "Collecting wheel<1.0,>=0.42.0 (from reflex)\n",
      "  Using cached wheel-0.43.0-py3-none-any.whl.metadata (2.2 kB)\n",
      "Collecting wrapt<2.0,>=1.14.0 (from reflex)\n",
      "  Downloading wrapt-1.16.0-cp312-cp312-win_amd64.whl.metadata (6.8 kB)\n",
      "Requirement already satisfied: SQLAlchemy>=1.3.0 in c:\\python312\\lib\\site-packages (from alembic<2.0,>=1.11.1->reflex) (2.0.31)\n",
      "Collecting Mako (from alembic<2.0,>=1.11.1->reflex)\n",
      "  Downloading Mako-1.3.5-py3-none-any.whl.metadata (2.9 kB)\n",
      "Requirement already satisfied: typing-extensions>=4 in c:\\python312\\lib\\site-packages (from alembic<2.0,>=1.11.1->reflex) (4.12.2)\n",
      "Collecting pyproject_hooks (from build<2.0,>=1.0.3->reflex)\n",
      "  Downloading pyproject_hooks-1.1.0-py3-none-any.whl.metadata (1.3 kB)\n",
      "Requirement already satisfied: colorama in c:\\python312\\lib\\site-packages (from build<2.0,>=1.0.3->reflex) (0.4.6)\n",
      "Collecting starlette<0.38.0,>=0.37.2 (from fastapi<0.111.0,>=0.96.0->reflex)\n",
      "  Using cached starlette-0.37.2-py3-none-any.whl.metadata (5.9 kB)\n",
      "Requirement already satisfied: anyio in c:\\python312\\lib\\site-packages (from httpx<1.0,>=0.25.1->reflex) (4.4.0)\n",
      "Requirement already satisfied: certifi in c:\\python312\\lib\\site-packages (from httpx<1.0,>=0.25.1->reflex) (2024.6.2)\n",
      "Requirement already satisfied: httpcore==1.* in c:\\python312\\lib\\site-packages (from httpx<1.0,>=0.25.1->reflex) (1.0.5)\n",
      "Requirement already satisfied: idna in c:\\python312\\lib\\site-packages (from httpx<1.0,>=0.25.1->reflex) (3.7)\n",
      "Requirement already satisfied: sniffio in c:\\python312\\lib\\site-packages (from httpx<1.0,>=0.25.1->reflex) (1.3.1)\n",
      "Requirement already satisfied: h11<0.15,>=0.13 in c:\\python312\\lib\\site-packages (from httpcore==1.*->httpx<1.0,>=0.25.1->reflex) (0.14.0)\n",
      "Requirement already satisfied: MarkupSafe>=2.0 in c:\\python312\\lib\\site-packages (from jinja2<4.0,>=3.1.2->reflex) (2.1.5)\n",
      "Requirement already satisfied: annotated-types>=0.4.0 in c:\\python312\\lib\\site-packages (from pydantic<3.0,>=1.10.2->reflex) (0.7.0)\n",
      "Requirement already satisfied: pydantic-core==2.20.1 in c:\\python312\\lib\\site-packages (from pydantic<3.0,>=1.10.2->reflex) (2.20.1)\n",
      "Requirement already satisfied: simple-websocket>=0.10.0 in c:\\python312\\lib\\site-packages (from python-engineio!=4.6.0->reflex) (1.0.0)\n",
      "Requirement already satisfied: bidict>=0.21.0 in c:\\python312\\lib\\site-packages (from python-socketio<6.0,>=5.7.0->reflex) (0.23.1)\n",
      "Collecting pipdeptree<2.17.0,>=2.13.1 (from reflex-hosting-cli<2.0,>=0.1.2->reflex)\n",
      "  Downloading pipdeptree-2.16.2-py3-none-any.whl.metadata (15 kB)\n",
      "Requirement already satisfied: python-dateutil>=2.8.1 in c:\\python312\\lib\\site-packages (from reflex-hosting-cli<2.0,>=0.1.2->reflex) (2.9.0.post0)\n",
      "Collecting tabulate<0.10.0,>=0.9.0 (from reflex-hosting-cli<2.0,>=0.1.2->reflex)\n",
      "  Downloading tabulate-0.9.0-py3-none-any.whl.metadata (34 kB)\n",
      "Requirement already satisfied: websockets>=10.4 in c:\\python312\\lib\\site-packages (from reflex-hosting-cli<2.0,>=0.1.2->reflex) (12.0)\n",
      "Requirement already satisfied: markdown-it-py>=2.2.0 in c:\\users\\hyunyoun\\appdata\\roaming\\python\\python312\\site-packages (from rich<14.0,>=13.0.0->reflex) (3.0.0)\n",
      "Requirement already satisfied: pygments<3.0.0,>=2.13.0 in c:\\python312\\lib\\site-packages (from rich<14.0,>=13.0.0->reflex) (2.18.0)\n",
      "Collecting pkginfo>=1.8.1 (from twine<6.0,>=4.0.0->reflex)\n",
      "  Using cached pkginfo-1.11.1-py3-none-any.whl.metadata (11 kB)\n",
      "Collecting readme-renderer>=35.0 (from twine<6.0,>=4.0.0->reflex)\n",
      "  Using cached readme_renderer-43.0-py3-none-any.whl.metadata (2.8 kB)\n",
      "Requirement already satisfied: requests>=2.20 in c:\\python312\\lib\\site-packages (from twine<6.0,>=4.0.0->reflex) (2.32.3)\n",
      "Collecting requests-toolbelt!=0.9.0,>=0.8.0 (from twine<6.0,>=4.0.0->reflex)\n",
      "  Using cached requests_toolbelt-1.0.0-py2.py3-none-any.whl.metadata (14 kB)\n",
      "Requirement already satisfied: urllib3>=1.26.0 in c:\\python312\\lib\\site-packages (from twine<6.0,>=4.0.0->reflex) (2.2.2)\n",
      "Collecting importlib-metadata>=3.6 (from twine<6.0,>=4.0.0->reflex)\n",
      "  Using cached importlib_metadata-8.0.0-py3-none-any.whl.metadata (4.6 kB)\n",
      "Collecting keyring>=15.1 (from twine<6.0,>=4.0.0->reflex)\n",
      "  Using cached keyring-25.2.1-py3-none-any.whl.metadata (20 kB)\n",
      "Collecting rfc3986>=1.4.0 (from twine<6.0,>=4.0.0->reflex)\n",
      "  Using cached rfc3986-2.0.0-py2.py3-none-any.whl.metadata (6.6 kB)\n",
      "Collecting pkginfo>=1.8.1 (from twine<6.0,>=4.0.0->reflex)\n",
      "  Using cached pkginfo-1.10.0-py3-none-any.whl.metadata (11 kB)\n",
      "Requirement already satisfied: click>=8.0.0 in c:\\python312\\lib\\site-packages (from typer<1.0,>=0.4.2->reflex) (8.1.7)\n",
      "Collecting shellingham>=1.3.0 (from typer<1.0,>=0.4.2->reflex)\n",
      "  Using cached shellingham-1.5.4-py2.py3-none-any.whl.metadata (3.5 kB)\n",
      "Collecting zipp>=0.5 (from importlib-metadata>=3.6->twine<6.0,>=4.0.0->reflex)\n",
      "  Using cached zipp-3.19.2-py3-none-any.whl.metadata (3.6 kB)\n",
      "Collecting jaraco.classes (from keyring>=15.1->twine<6.0,>=4.0.0->reflex)\n",
      "  Using cached jaraco.classes-3.4.0-py3-none-any.whl.metadata (2.6 kB)\n",
      "Collecting jaraco.functools (from keyring>=15.1->twine<6.0,>=4.0.0->reflex)\n",
      "  Using cached jaraco.functools-4.0.1-py3-none-any.whl.metadata (2.9 kB)\n",
      "Collecting jaraco.context (from keyring>=15.1->twine<6.0,>=4.0.0->reflex)\n",
      "  Using cached jaraco.context-5.3.0-py3-none-any.whl.metadata (4.0 kB)\n",
      "Collecting pywin32-ctypes>=0.2.0 (from keyring>=15.1->twine<6.0,>=4.0.0->reflex)\n",
      "  Using cached pywin32_ctypes-0.2.2-py3-none-any.whl.metadata (3.8 kB)\n",
      "Requirement already satisfied: mdurl~=0.1 in c:\\users\\hyunyoun\\appdata\\roaming\\python\\python312\\site-packages (from markdown-it-py>=2.2.0->rich<14.0,>=13.0.0->reflex) (0.1.2)\n",
      "Requirement already satisfied: pip>=23.1.2 in c:\\python312\\lib\\site-packages (from pipdeptree<2.17.0,>=2.13.1->reflex-hosting-cli<2.0,>=0.1.2->reflex) (24.1.1)\n",
      "Requirement already satisfied: six>=1.5 in c:\\python312\\lib\\site-packages (from python-dateutil>=2.8.1->reflex-hosting-cli<2.0,>=0.1.2->reflex) (1.16.0)\n",
      "Requirement already satisfied: nh3>=0.2.14 in c:\\python312\\lib\\site-packages (from readme-renderer>=35.0->twine<6.0,>=4.0.0->reflex) (0.2.18)\n",
      "Collecting docutils>=0.13.1 (from readme-renderer>=35.0->twine<6.0,>=4.0.0->reflex)\n",
      "  Using cached docutils-0.21.2-py3-none-any.whl.metadata (2.8 kB)\n",
      "Requirement already satisfied: wsproto in c:\\python312\\lib\\site-packages (from simple-websocket>=0.10.0->python-engineio!=4.6.0->reflex) (1.2.0)\n",
      "Requirement already satisfied: greenlet!=0.4.17 in c:\\python312\\lib\\site-packages (from SQLAlchemy>=1.3.0->alembic<2.0,>=1.11.1->reflex) (3.0.3)\n",
      "Collecting more-itertools (from jaraco.classes->keyring>=15.1->twine<6.0,>=4.0.0->reflex)\n",
      "  Using cached more_itertools-10.3.0-py3-none-any.whl.metadata (36 kB)\n",
      "Downloading reflex-0.5.5-py3-none-any.whl (851 kB)\n",
      "   ---------------------------------------- 0.0/851.4 kB ? eta -:--:--\n",
      "   -------------------- ------------------ 450.6/851.4 kB 14.2 MB/s eta 0:00:01\n",
      "   ---------------------------------------- 851.4/851.4 kB 9.0 MB/s eta 0:00:00\n",
      "Downloading alembic-1.13.2-py3-none-any.whl (232 kB)\n",
      "   ---------------------------------------- 0.0/233.0 kB ? eta -:--:--\n",
      "   ---------------------------------------- 233.0/233.0 kB 7.0 MB/s eta 0:00:00\n",
      "Downloading build-1.2.1-py3-none-any.whl (21 kB)\n",
      "Downloading dill-0.3.8-py3-none-any.whl (116 kB)\n",
      "   ---------------------------------------- 0.0/116.3 kB ? eta -:--:--\n",
      "   ---------------------------------------- 116.3/116.3 kB 6.6 MB/s eta 0:00:00\n",
      "Downloading fastapi-0.110.3-py3-none-any.whl (91 kB)\n",
      "   ---------------------------------------- 0.0/91.8 kB ? eta -:--:--\n",
      "   ---------------------------------------- 91.8/91.8 kB 5.1 MB/s eta 0:00:00\n",
      "Downloading gunicorn-22.0.0-py3-none-any.whl (84 kB)\n",
      "   ---------------------------------------- 0.0/84.4 kB ? eta -:--:--\n",
      "   ---------------------------------------- 84.4/84.4 kB 4.6 MB/s eta 0:00:00\n",
      "Downloading lazy_loader-0.4-py3-none-any.whl (12 kB)\n",
      "Downloading psutil-5.9.8-cp37-abi3-win_amd64.whl (255 kB)\n",
      "   ---------------------------------------- 0.0/255.1 kB ? eta -:--:--\n",
      "   --------------------------------------- 255.1/255.1 kB 15.3 MB/s eta 0:00:00\n",
      "Downloading reflex_hosting_cli-0.1.13-py3-none-any.whl (32 kB)\n",
      "Using cached setuptools-69.5.1-py3-none-any.whl (894 kB)\n",
      "Downloading sqlmodel-0.0.19-py3-none-any.whl (28 kB)\n",
      "Downloading starlette_admin-0.14.0-py3-none-any.whl (2.2 MB)\n",
      "   ---------------------------------------- 0.0/2.2 MB ? eta -:--:--\n",
      "   -------- ------------------------------- 0.4/2.2 MB 13.9 MB/s eta 0:00:01\n",
      "   ---------------- ----------------------- 0.9/2.2 MB 14.4 MB/s eta 0:00:01\n",
      "   ------------------------- -------------- 1.4/2.2 MB 12.8 MB/s eta 0:00:01\n",
      "   ------------------------------------ --- 2.0/2.2 MB 12.6 MB/s eta 0:00:01\n",
      "   ---------------------------------------- 2.2/2.2 MB 11.5 MB/s eta 0:00:00\n",
      "Downloading tomlkit-0.12.5-py3-none-any.whl (37 kB)\n",
      "Using cached twine-5.1.1-py3-none-any.whl (38 kB)\n",
      "Using cached typer-0.12.3-py3-none-any.whl (47 kB)\n",
      "Downloading uvicorn-0.24.0.post1-py3-none-any.whl (59 kB)\n",
      "   ---------------------------------------- 0.0/59.7 kB ? eta -:--:--\n",
      "   ---------------------------------------- 59.7/59.7 kB ? eta 0:00:00\n",
      "Downloading watchdog-4.0.1-py3-none-win_amd64.whl (83 kB)\n",
      "   ---------------------------------------- 0.0/83.0 kB ? eta -:--:--\n",
      "   ---------------------------------------- 83.0/83.0 kB ? eta 0:00:00\n",
      "Using cached watchfiles-0.22.0-cp312-none-win_amd64.whl (280 kB)\n",
      "Using cached wheel-0.43.0-py3-none-any.whl (65 kB)\n",
      "Downloading wrapt-1.16.0-cp312-cp312-win_amd64.whl (37 kB)\n",
      "Using cached importlib_metadata-8.0.0-py3-none-any.whl (24 kB)\n",
      "Using cached keyring-25.2.1-py3-none-any.whl (38 kB)\n",
      "Downloading pipdeptree-2.16.2-py3-none-any.whl (27 kB)\n",
      "Using cached pkginfo-1.10.0-py3-none-any.whl (30 kB)\n",
      "Using cached readme_renderer-43.0-py3-none-any.whl (13 kB)\n",
      "Using cached requests_toolbelt-1.0.0-py2.py3-none-any.whl (54 kB)\n",
      "Using cached rfc3986-2.0.0-py2.py3-none-any.whl (31 kB)\n",
      "Using cached shellingham-1.5.4-py2.py3-none-any.whl (9.8 kB)\n",
      "Using cached starlette-0.37.2-py3-none-any.whl (71 kB)\n",
      "Downloading tabulate-0.9.0-py3-none-any.whl (35 kB)\n",
      "Downloading Mako-1.3.5-py3-none-any.whl (78 kB)\n",
      "   ---------------------------------------- 0.0/78.6 kB ? eta -:--:--\n",
      "   ---------------------------------------- 78.6/78.6 kB 4.3 MB/s eta 0:00:00\n",
      "Downloading pyproject_hooks-1.1.0-py3-none-any.whl (9.2 kB)\n",
      "Using cached docutils-0.21.2-py3-none-any.whl (587 kB)\n",
      "Using cached pywin32_ctypes-0.2.2-py3-none-any.whl (30 kB)\n",
      "Using cached zipp-3.19.2-py3-none-any.whl (9.0 kB)\n",
      "Using cached jaraco.classes-3.4.0-py3-none-any.whl (6.8 kB)\n",
      "Using cached jaraco.context-5.3.0-py3-none-any.whl (6.5 kB)\n",
      "Using cached jaraco.functools-4.0.1-py3-none-any.whl (9.8 kB)\n",
      "Using cached more_itertools-10.3.0-py3-none-any.whl (59 kB)\n",
      "Installing collected packages: zipp, wrapt, wheel, watchdog, tomlkit, tabulate, shellingham, setuptools, rfc3986, pywin32-ctypes, pyproject_hooks, psutil, pkginfo, pipdeptree, more-itertools, Mako, lazy_loader, jaraco.context, gunicorn, docutils, dill, watchfiles, uvicorn, starlette, requests-toolbelt, readme-renderer, jaraco.functools, jaraco.classes, importlib-metadata, build, alembic, typer, starlette-admin, sqlmodel, keyring, fastapi, twine, reflex-hosting-cli, reflex\n",
      "Successfully installed Mako-1.3.5 alembic-1.13.2 build-1.2.1 dill-0.3.8 docutils-0.21.2 fastapi-0.110.3 gunicorn-22.0.0 importlib-metadata-8.0.0 jaraco.classes-3.4.0 jaraco.context-5.3.0 jaraco.functools-4.0.1 keyring-25.2.1 lazy_loader-0.4 more-itertools-10.3.0 pipdeptree-2.16.2 pkginfo-1.10.0 psutil-5.9.8 pyproject_hooks-1.1.0 pywin32-ctypes-0.2.2 readme-renderer-43.0 reflex-0.5.5 reflex-hosting-cli-0.1.13 requests-toolbelt-1.0.0 rfc3986-2.0.0 setuptools-69.5.1 shellingham-1.5.4 sqlmodel-0.0.19 starlette-0.37.2 starlette-admin-0.14.0 tabulate-0.9.0 tomlkit-0.12.5 twine-5.1.1 typer-0.12.3 uvicorn-0.24.0.post1 watchdog-4.0.1 watchfiles-0.22.0 wheel-0.43.0 wrapt-1.16.0 zipp-3.19.2\n",
      "Note: you may need to restart the kernel to use updated packages.\n"
     ]
    }
   ],
   "source": [
    "%pip install reflex --user"
   ]
  },
  {
   "cell_type": "markdown",
   "metadata": {},
   "source": [
    "* Sanic: 고성능 비동기 웹 프레임워크"
   ]
  },
  {
   "cell_type": "code",
   "execution_count": 17,
   "metadata": {},
   "outputs": [
    {
     "name": "stdout",
     "output_type": "stream",
     "text": [
      "Collecting sanic\n",
      "  Downloading sanic-24.6.0-py3-none-any.whl.metadata (10 kB)\n",
      "Collecting sanic-routing>=23.12.0 (from sanic)\n",
      "  Downloading sanic_routing-23.12.0-py3-none-any.whl.metadata (8.2 kB)\n",
      "Collecting httptools>=0.0.10 (from sanic)\n",
      "  Using cached httptools-0.6.1-cp312-cp312-win_amd64.whl.metadata (3.7 kB)\n",
      "Collecting aiofiles>=0.6.0 (from sanic)\n",
      "  Using cached aiofiles-24.1.0-py3-none-any.whl.metadata (10 kB)\n",
      "Requirement already satisfied: websockets>=10.0 in c:\\python312\\lib\\site-packages (from sanic) (12.0)\n",
      "Requirement already satisfied: multidict<7.0,>=5.0 in c:\\python312\\lib\\site-packages (from sanic) (6.0.5)\n",
      "Collecting html5tagger>=1.2.1 (from sanic)\n",
      "  Downloading html5tagger-1.3.0-py3-none-any.whl.metadata (9.4 kB)\n",
      "Collecting tracerite>=1.0.0 (from sanic)\n",
      "  Downloading tracerite-1.1.1-py3-none-any.whl.metadata (3.7 kB)\n",
      "Requirement already satisfied: typing-extensions>=4.4.0 in c:\\python312\\lib\\site-packages (from sanic) (4.12.2)\n",
      "Collecting setuptools>=70.1.0 (from sanic)\n",
      "  Using cached setuptools-70.2.0-py3-none-any.whl.metadata (5.8 kB)\n",
      "Downloading sanic-24.6.0-py3-none-any.whl (244 kB)\n",
      "   ---------------------------------------- 0.0/244.9 kB ? eta -:--:--\n",
      "   --------------------------------------- 244.9/244.9 kB 15.6 MB/s eta 0:00:00\n",
      "Using cached aiofiles-24.1.0-py3-none-any.whl (15 kB)\n",
      "Downloading html5tagger-1.3.0-py3-none-any.whl (10 kB)\n",
      "Using cached httptools-0.6.1-cp312-cp312-win_amd64.whl (55 kB)\n",
      "Downloading sanic_routing-23.12.0-py3-none-any.whl (25 kB)\n",
      "Using cached setuptools-70.2.0-py3-none-any.whl (930 kB)\n",
      "Downloading tracerite-1.1.1-py3-none-any.whl (12 kB)\n",
      "Installing collected packages: sanic-routing, setuptools, httptools, html5tagger, aiofiles, tracerite, sanic\n",
      "  Attempting uninstall: setuptools\n",
      "    Found existing installation: setuptools 69.5.1\n",
      "    Uninstalling setuptools-69.5.1:\n",
      "      Successfully uninstalled setuptools-69.5.1\n",
      "Successfully installed aiofiles-24.1.0 html5tagger-1.3.0 httptools-0.6.1 sanic-24.6.0 sanic-routing-23.12.0 setuptools-70.2.0 tracerite-1.1.1\n",
      "Note: you may need to restart the kernel to use updated packages.\n"
     ]
    },
    {
     "name": "stderr",
     "output_type": "stream",
     "text": [
      "ERROR: pip's dependency resolver does not currently take into account all the packages that are installed. This behaviour is the source of the following dependency conflicts.\n",
      "reflex 0.5.5 requires setuptools<70.0,>=69.1.1, but you have setuptools 70.2.0 which is incompatible.\n"
     ]
    }
   ],
   "source": [
    "%pip install sanic --user"
   ]
  }
 ],
 "metadata": {
  "kernelspec": {
   "display_name": "Python 3",
   "language": "python",
   "name": "python3"
  },
  "language_info": {
   "codemirror_mode": {
    "name": "ipython",
    "version": 3
   },
   "file_extension": ".py",
   "mimetype": "text/x-python",
   "name": "python",
   "nbconvert_exporter": "python",
   "pygments_lexer": "ipython3",
   "version": "3.12.4"
  }
 },
 "nbformat": 4,
 "nbformat_minor": 2
}
