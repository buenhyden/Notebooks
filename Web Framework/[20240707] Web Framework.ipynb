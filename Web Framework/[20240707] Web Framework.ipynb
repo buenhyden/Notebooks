{
 "cells": [
  {
   "cell_type": "markdown",
   "metadata": {},
   "source": [
    "# Web Framework"
   ]
  },
  {
   "cell_type": "markdown",
   "metadata": {},
   "source": [
    "* Django: 강력한 기능의 웹 프레임워크"
   ]
  },
  {
   "cell_type": "code",
   "execution_count": 1,
   "metadata": {},
   "outputs": [
    {
     "name": "stdout",
     "output_type": "stream",
     "text": [
      "Requirement already satisfied: Django in c:\\python312\\lib\\site-packages (5.0.6)\n",
      "Requirement already satisfied: asgiref<4,>=3.7.0 in c:\\python312\\lib\\site-packages (from Django) (3.8.1)\n",
      "Requirement already satisfied: sqlparse>=0.3.1 in c:\\python312\\lib\\site-packages (from Django) (0.5.0)\n",
      "Requirement already satisfied: tzdata in c:\\python312\\lib\\site-packages (from Django) (2024.1)\n",
      "Note: you may need to restart the kernel to use updated packages.\n"
     ]
    },
    {
     "name": "stderr",
     "output_type": "stream",
     "text": [
      "WARNING: Ignoring invalid distribution ~ip (c:\\Python312\\Lib\\site-packages)\n",
      "WARNING: Ignoring invalid distribution ~ip (c:\\Python312\\Lib\\site-packages)\n"
     ]
    }
   ],
   "source": [
    "%pip install Django --user"
   ]
  },
  {
   "cell_type": "markdown",
   "metadata": {},
   "source": [
    "* Channels: Django 애플리케이션에 비동기 처리와 실시간 통신 기능을 추가"
   ]
  },
  {
   "cell_type": "code",
   "execution_count": 2,
   "metadata": {},
   "outputs": [
    {
     "name": "stdout",
     "output_type": "stream",
     "text": [
      "Requirement already satisfied: channels in c:\\python312\\lib\\site-packages (4.1.0)\n",
      "Requirement already satisfied: Django>=4.2 in c:\\python312\\lib\\site-packages (from channels) (5.0.6)\n",
      "Requirement already satisfied: asgiref<4,>=3.6.0 in c:\\python312\\lib\\site-packages (from channels) (3.8.1)\n",
      "Requirement already satisfied: sqlparse>=0.3.1 in c:\\python312\\lib\\site-packages (from Django>=4.2->channels) (0.5.0)\n",
      "Requirement already satisfied: tzdata in c:\\python312\\lib\\site-packages (from Django>=4.2->channels) (2024.1)\n",
      "Note: you may need to restart the kernel to use updated packages.\n"
     ]
    },
    {
     "name": "stderr",
     "output_type": "stream",
     "text": [
      "WARNING: Ignoring invalid distribution ~ip (c:\\Python312\\Lib\\site-packages)\n",
      "WARNING: Ignoring invalid distribution ~ip (c:\\Python312\\Lib\\site-packages)\n",
      "WARNING: Ignoring invalid distribution ~ip (c:\\Python312\\Lib\\site-packages)\n"
     ]
    }
   ],
   "source": [
    "%pip install channels"
   ]
  },
  {
   "cell_type": "markdown",
   "metadata": {},
   "source": [
    "* Django REST framework (DRF): Django 웹 프레임워크 기반 툴"
   ]
  },
  {
   "cell_type": "code",
   "execution_count": 3,
   "metadata": {},
   "outputs": [
    {
     "name": "stdout",
     "output_type": "stream",
     "text": [
      "Requirement already satisfied: djangorestframework in c:\\python312\\lib\\site-packages (3.15.2)\n",
      "Requirement already satisfied: django>=4.2 in c:\\python312\\lib\\site-packages (from djangorestframework) (5.0.6)\n",
      "Requirement already satisfied: asgiref<4,>=3.7.0 in c:\\python312\\lib\\site-packages (from django>=4.2->djangorestframework) (3.8.1)\n",
      "Requirement already satisfied: sqlparse>=0.3.1 in c:\\python312\\lib\\site-packages (from django>=4.2->djangorestframework) (0.5.0)\n",
      "Requirement already satisfied: tzdata in c:\\python312\\lib\\site-packages (from django>=4.2->djangorestframework) (2024.1)\n",
      "Note: you may need to restart the kernel to use updated packages.\n"
     ]
    },
    {
     "name": "stderr",
     "output_type": "stream",
     "text": [
      "WARNING: Ignoring invalid distribution ~ip (c:\\Python312\\Lib\\site-packages)\n",
      "WARNING: Ignoring invalid distribution ~ip (c:\\Python312\\Lib\\site-packages)\n",
      "WARNING: Ignoring invalid distribution ~ip (c:\\Python312\\Lib\\site-packages)\n"
     ]
    },
    {
     "name": "stdout",
     "output_type": "stream",
     "text": [
      "Requirement already satisfied: markdown in c:\\users\\hyunyoun\\appdata\\roaming\\python\\python312\\site-packages (3.6)\n",
      "Note: you may need to restart the kernel to use updated packages.\n"
     ]
    },
    {
     "name": "stderr",
     "output_type": "stream",
     "text": [
      "WARNING: Ignoring invalid distribution ~ip (c:\\Python312\\Lib\\site-packages)\n",
      "WARNING: Ignoring invalid distribution ~ip (c:\\Python312\\Lib\\site-packages)\n",
      "WARNING: Ignoring invalid distribution ~ip (c:\\Python312\\Lib\\site-packages)\n"
     ]
    },
    {
     "name": "stdout",
     "output_type": "stream",
     "text": [
      "Requirement already satisfied: django-filter in c:\\python312\\lib\\site-packages (24.2)\n",
      "Requirement already satisfied: Django>=4.2 in c:\\python312\\lib\\site-packages (from django-filter) (5.0.6)\n",
      "Requirement already satisfied: asgiref<4,>=3.7.0 in c:\\python312\\lib\\site-packages (from Django>=4.2->django-filter) (3.8.1)\n",
      "Requirement already satisfied: sqlparse>=0.3.1 in c:\\python312\\lib\\site-packages (from Django>=4.2->django-filter) (0.5.0)\n",
      "Requirement already satisfied: tzdata in c:\\python312\\lib\\site-packages (from Django>=4.2->django-filter) (2024.1)\n",
      "Note: you may need to restart the kernel to use updated packages.\n"
     ]
    },
    {
     "name": "stderr",
     "output_type": "stream",
     "text": [
      "WARNING: Ignoring invalid distribution ~ip (c:\\Python312\\Lib\\site-packages)\n",
      "WARNING: Ignoring invalid distribution ~ip (c:\\Python312\\Lib\\site-packages)\n",
      "WARNING: Ignoring invalid distribution ~ip (c:\\Python312\\Lib\\site-packages)\n"
     ]
    }
   ],
   "source": [
    "%pip install djangorestframework\n",
    "# Markdown support for the browsable API.\n",
    "%pip install markdown       \n",
    "# Filtering support\n",
    "%pip install django-filter  "
   ]
  },
  {
   "cell_type": "markdown",
   "metadata": {},
   "source": [
    "* Falcon: 고성능 마이크로서비스 웹 프레임워크"
   ]
  },
  {
   "cell_type": "code",
   "execution_count": 4,
   "metadata": {},
   "outputs": [
    {
     "name": "stdout",
     "output_type": "stream",
     "text": [
      "Requirement already satisfied: falcon in c:\\python312\\lib\\site-packages (3.1.3)\n",
      "Note: you may need to restart the kernel to use updated packages.\n"
     ]
    },
    {
     "name": "stderr",
     "output_type": "stream",
     "text": [
      "WARNING: Ignoring invalid distribution ~ip (c:\\Python312\\Lib\\site-packages)\n",
      "WARNING: Ignoring invalid distribution ~ip (c:\\Python312\\Lib\\site-packages)\n"
     ]
    }
   ],
   "source": [
    "%pip install falcon --user"
   ]
  },
  {
   "cell_type": "markdown",
   "metadata": {},
   "source": [
    "* FastAPI: 빠르고 현대적인 API 개발"
   ]
  },
  {
   "cell_type": "code",
   "execution_count": 5,
   "metadata": {},
   "outputs": [
    {
     "name": "stdout",
     "output_type": "stream",
     "text": [
      "Requirement already satisfied: fastapi in c:\\users\\hyunyoun\\appdata\\roaming\\python\\python312\\site-packages (0.110.3)\n",
      "Requirement already satisfied: starlette<0.38.0,>=0.37.2 in c:\\users\\hyunyoun\\appdata\\roaming\\python\\python312\\site-packages (from fastapi) (0.37.2)\n",
      "Requirement already satisfied: pydantic!=1.8,!=1.8.1,!=2.0.0,!=2.0.1,!=2.1.0,<3.0.0,>=1.7.4 in c:\\python312\\lib\\site-packages (from fastapi) (2.8.2)\n",
      "Requirement already satisfied: typing-extensions>=4.8.0 in c:\\python312\\lib\\site-packages (from fastapi) (4.12.2)\n",
      "Requirement already satisfied: annotated-types>=0.4.0 in c:\\python312\\lib\\site-packages (from pydantic!=1.8,!=1.8.1,!=2.0.0,!=2.0.1,!=2.1.0,<3.0.0,>=1.7.4->fastapi) (0.7.0)\n",
      "Requirement already satisfied: pydantic-core==2.20.1 in c:\\python312\\lib\\site-packages (from pydantic!=1.8,!=1.8.1,!=2.0.0,!=2.0.1,!=2.1.0,<3.0.0,>=1.7.4->fastapi) (2.20.1)\n",
      "Requirement already satisfied: anyio<5,>=3.4.0 in c:\\python312\\lib\\site-packages (from starlette<0.38.0,>=0.37.2->fastapi) (4.4.0)\n",
      "Requirement already satisfied: idna>=2.8 in c:\\python312\\lib\\site-packages (from anyio<5,>=3.4.0->starlette<0.38.0,>=0.37.2->fastapi) (2.10)\n",
      "Requirement already satisfied: sniffio>=1.1 in c:\\python312\\lib\\site-packages (from anyio<5,>=3.4.0->starlette<0.38.0,>=0.37.2->fastapi) (1.3.1)\n",
      "Note: you may need to restart the kernel to use updated packages.\n"
     ]
    },
    {
     "name": "stderr",
     "output_type": "stream",
     "text": [
      "WARNING: Ignoring invalid distribution ~ip (c:\\Python312\\Lib\\site-packages)\n",
      "WARNING: Ignoring invalid distribution ~ip (c:\\Python312\\Lib\\site-packages)\n"
     ]
    }
   ],
   "source": [
    "%pip install fastapi --user"
   ]
  },
  {
   "cell_type": "markdown",
   "metadata": {},
   "source": [
    "* Flask: 경량화된 유연한 마이크로 웹 프레임워크"
   ]
  },
  {
   "cell_type": "code",
   "execution_count": 6,
   "metadata": {},
   "outputs": [
    {
     "name": "stdout",
     "output_type": "stream",
     "text": [
      "Requirement already satisfied: Flask in c:\\users\\hyunyoun\\appdata\\roaming\\python\\python312\\site-packages (3.0.3)\n",
      "Requirement already satisfied: Werkzeug>=3.0.0 in c:\\users\\hyunyoun\\appdata\\roaming\\python\\python312\\site-packages (from Flask) (3.0.3)\n",
      "Requirement already satisfied: Jinja2>=3.1.2 in c:\\python312\\lib\\site-packages (from Flask) (3.1.4)\n",
      "Requirement already satisfied: itsdangerous>=2.1.2 in c:\\users\\hyunyoun\\appdata\\roaming\\python\\python312\\site-packages (from Flask) (2.2.0)\n",
      "Requirement already satisfied: click>=8.1.3 in c:\\python312\\lib\\site-packages (from Flask) (8.1.7)\n",
      "Requirement already satisfied: blinker>=1.6.2 in c:\\users\\hyunyoun\\appdata\\roaming\\python\\python312\\site-packages (from Flask) (1.8.2)\n",
      "Requirement already satisfied: colorama in c:\\python312\\lib\\site-packages (from click>=8.1.3->Flask) (0.4.6)\n",
      "Requirement already satisfied: MarkupSafe>=2.0 in c:\\python312\\lib\\site-packages (from Jinja2>=3.1.2->Flask) (2.1.5)\n",
      "Note: you may need to restart the kernel to use updated packages.\n"
     ]
    },
    {
     "name": "stderr",
     "output_type": "stream",
     "text": [
      "WARNING: Ignoring invalid distribution ~ip (c:\\Python312\\Lib\\site-packages)\n",
      "WARNING: Ignoring invalid distribution ~ttpcore (c:\\Python312\\Lib\\site-packages)\n",
      "WARNING: Ignoring invalid distribution ~ip (c:\\Python312\\Lib\\site-packages)\n",
      "WARNING: Ignoring invalid distribution ~ttpcore (c:\\Python312\\Lib\\site-packages)\n"
     ]
    }
   ],
   "source": [
    "%pip install Flask --user"
   ]
  },
  {
   "cell_type": "markdown",
   "metadata": {},
   "source": [
    "* Flask-RESTful: Flask 기반 RESTful API 구축 도구"
   ]
  },
  {
   "cell_type": "code",
   "execution_count": 7,
   "metadata": {},
   "outputs": [
    {
     "name": "stdout",
     "output_type": "stream",
     "text": [
      "Requirement already satisfied: flask-restful in c:\\python312\\lib\\site-packages (0.3.10)\n",
      "Requirement already satisfied: aniso8601>=0.82 in c:\\python312\\lib\\site-packages (from flask-restful) (9.0.1)\n",
      "Requirement already satisfied: Flask>=0.8 in c:\\users\\hyunyoun\\appdata\\roaming\\python\\python312\\site-packages (from flask-restful) (3.0.3)\n",
      "Requirement already satisfied: six>=1.3.0 in c:\\python312\\lib\\site-packages (from flask-restful) (1.16.0)\n",
      "Requirement already satisfied: pytz in c:\\python312\\lib\\site-packages (from flask-restful) (2024.1)\n",
      "Requirement already satisfied: Werkzeug>=3.0.0 in c:\\users\\hyunyoun\\appdata\\roaming\\python\\python312\\site-packages (from Flask>=0.8->flask-restful) (3.0.3)\n",
      "Requirement already satisfied: Jinja2>=3.1.2 in c:\\python312\\lib\\site-packages (from Flask>=0.8->flask-restful) (3.1.4)\n",
      "Requirement already satisfied: itsdangerous>=2.1.2 in c:\\users\\hyunyoun\\appdata\\roaming\\python\\python312\\site-packages (from Flask>=0.8->flask-restful) (2.2.0)\n",
      "Requirement already satisfied: click>=8.1.3 in c:\\python312\\lib\\site-packages (from Flask>=0.8->flask-restful) (8.1.7)\n",
      "Requirement already satisfied: blinker>=1.6.2 in c:\\users\\hyunyoun\\appdata\\roaming\\python\\python312\\site-packages (from Flask>=0.8->flask-restful) (1.8.2)\n",
      "Requirement already satisfied: colorama in c:\\python312\\lib\\site-packages (from click>=8.1.3->Flask>=0.8->flask-restful) (0.4.6)\n",
      "Requirement already satisfied: MarkupSafe>=2.0 in c:\\python312\\lib\\site-packages (from Jinja2>=3.1.2->Flask>=0.8->flask-restful) (2.1.5)\n",
      "Note: you may need to restart the kernel to use updated packages.\n"
     ]
    },
    {
     "name": "stderr",
     "output_type": "stream",
     "text": [
      "WARNING: Ignoring invalid distribution ~ebsockets (c:\\Python312\\Lib\\site-packages)\n",
      "WARNING: Ignoring invalid distribution ~ip (c:\\Python312\\Lib\\site-packages)\n",
      "WARNING: Ignoring invalid distribution ~ttpcore (c:\\Python312\\Lib\\site-packages)\n",
      "WARNING: Ignoring invalid distribution ~ebsockets (c:\\Python312\\Lib\\site-packages)\n",
      "WARNING: Ignoring invalid distribution ~ip (c:\\Python312\\Lib\\site-packages)\n",
      "WARNING: Ignoring invalid distribution ~ttpcore (c:\\Python312\\Lib\\site-packages)\n",
      "WARNING: Ignoring invalid distribution ~ (c:\\Python312\\Lib\\site-packages)\n",
      "WARNING: Ignoring invalid distribution ~ebsockets (c:\\Python312\\Lib\\site-packages)\n",
      "WARNING: Ignoring invalid distribution ~ip (c:\\Python312\\Lib\\site-packages)\n",
      "WARNING: Ignoring invalid distribution ~ttpcore (c:\\Python312\\Lib\\site-packages)\n"
     ]
    }
   ],
   "source": [
    "%pip install flask-restful"
   ]
  },
  {
   "cell_type": "markdown",
   "metadata": {},
   "source": [
    "* Pyramid: 경량, 유연한 웹 프레임워크"
   ]
  },
  {
   "cell_type": "code",
   "execution_count": 8,
   "metadata": {},
   "outputs": [
    {
     "name": "stdout",
     "output_type": "stream",
     "text": [
      "Requirement already satisfied: pyramid in c:\\users\\hyunyoun\\appdata\\roaming\\python\\python312\\site-packages (2.0.2)\n",
      "Requirement already satisfied: hupper>=1.5 in c:\\users\\hyunyoun\\appdata\\roaming\\python\\python312\\site-packages (from pyramid) (1.12.1)\n",
      "Requirement already satisfied: plaster in c:\\users\\hyunyoun\\appdata\\roaming\\python\\python312\\site-packages (from pyramid) (1.1.2)\n",
      "Requirement already satisfied: plaster-pastedeploy in c:\\users\\hyunyoun\\appdata\\roaming\\python\\python312\\site-packages (from pyramid) (1.0.1)\n",
      "Requirement already satisfied: setuptools in c:\\users\\hyunyoun\\appdata\\roaming\\python\\python312\\site-packages (from pyramid) (70.2.0)\n",
      "Requirement already satisfied: translationstring>=0.4 in c:\\users\\hyunyoun\\appdata\\roaming\\python\\python312\\site-packages (from pyramid) (1.4)\n",
      "Requirement already satisfied: venusian>=1.0 in c:\\users\\hyunyoun\\appdata\\roaming\\python\\python312\\site-packages (from pyramid) (3.1.0)\n",
      "Requirement already satisfied: webob>=1.8.3 in c:\\users\\hyunyoun\\appdata\\roaming\\python\\python312\\site-packages (from pyramid) (1.8.7)\n",
      "Requirement already satisfied: zope.deprecation>=3.5.0 in c:\\users\\hyunyoun\\appdata\\roaming\\python\\python312\\site-packages (from pyramid) (5.0)\n",
      "Requirement already satisfied: zope.interface>=3.8.0 in c:\\python312\\lib\\site-packages (from pyramid) (6.4.post2)\n",
      "Requirement already satisfied: PasteDeploy>=2.0 in c:\\users\\hyunyoun\\appdata\\roaming\\python\\python312\\site-packages (from plaster-pastedeploy->pyramid) (3.1.0)\n",
      "Note: you may need to restart the kernel to use updated packages.\n"
     ]
    },
    {
     "name": "stderr",
     "output_type": "stream",
     "text": [
      "WARNING: Ignoring invalid distribution ~ (c:\\Python312\\Lib\\site-packages)\n",
      "WARNING: Ignoring invalid distribution ~ebsockets (c:\\Python312\\Lib\\site-packages)\n",
      "WARNING: Ignoring invalid distribution ~ip (c:\\Python312\\Lib\\site-packages)\n",
      "WARNING: Ignoring invalid distribution ~ttpcore (c:\\Python312\\Lib\\site-packages)\n",
      "WARNING: Ignoring invalid distribution ~ (c:\\Python312\\Lib\\site-packages)\n",
      "WARNING: Ignoring invalid distribution ~ebsockets (c:\\Python312\\Lib\\site-packages)\n",
      "WARNING: Ignoring invalid distribution ~ip (c:\\Python312\\Lib\\site-packages)\n",
      "WARNING: Ignoring invalid distribution ~ttpcore (c:\\Python312\\Lib\\site-packages)\n"
     ]
    }
   ],
   "source": [
    "%pip install pyramid --user"
   ]
  },
  {
   "cell_type": "markdown",
   "metadata": {},
   "source": [
    "* Reflex: 모던 웹 개발의 새로운 지평"
   ]
  },
  {
   "cell_type": "code",
   "execution_count": 9,
   "metadata": {},
   "outputs": [
    {
     "name": "stdout",
     "output_type": "stream",
     "text": [
      "Requirement already satisfied: reflex in c:\\users\\hyunyoun\\appdata\\roaming\\python\\python312\\site-packages (0.5.5)Note: you may need to restart the kernel to use updated packages.\n"
     ]
    },
    {
     "name": "stderr",
     "output_type": "stream",
     "text": [
      "WARNING: Ignoring invalid distribution ~ (c:\\Python312\\Lib\\site-packages)\n",
      "WARNING: Ignoring invalid distribution ~ebsockets (c:\\Python312\\Lib\\site-packages)\n",
      "WARNING: Ignoring invalid distribution ~equests (c:\\Python312\\Lib\\site-packages)\n",
      "WARNING: Ignoring invalid distribution ~ip (c:\\Python312\\Lib\\site-packages)\n",
      "WARNING: Ignoring invalid distribution ~ttpcore (c:\\Python312\\Lib\\site-packages)\n",
      "WARNING: Ignoring invalid distribution ~ (c:\\Python312\\Lib\\site-packages)\n",
      "WARNING: Ignoring invalid distribution ~ebsockets (c:\\Python312\\Lib\\site-packages)\n",
      "WARNING: Ignoring invalid distribution ~equests (c:\\Python312\\Lib\\site-packages)\n",
      "WARNING: Ignoring invalid distribution ~ip (c:\\Python312\\Lib\\site-packages)\n",
      "WARNING: Ignoring invalid distribution ~ttpcore (c:\\Python312\\Lib\\site-packages)\n",
      "ERROR: pip's dependency resolver does not currently take into account all the packages that are installed. This behaviour is the source of the following dependency conflicts.\n",
      "sanic 24.6.0 requires setuptools>=70.1.0, but you have setuptools 69.5.1 which is incompatible.\n",
      "supabase 2.5.1 requires gotrue<3.0,>=1.3, but you have gotrue 0.2.0 which is incompatible.\n"
     ]
    },
    {
     "name": "stdout",
     "output_type": "stream",
     "text": [
      "\n",
      "Requirement already satisfied: alembic<2.0,>=1.11.1 in c:\\users\\hyunyoun\\appdata\\roaming\\python\\python312\\site-packages (from reflex) (1.13.2)\n",
      "Requirement already satisfied: build<2.0,>=1.0.3 in c:\\users\\hyunyoun\\appdata\\roaming\\python\\python312\\site-packages (from reflex) (1.2.1)\n",
      "Requirement already satisfied: charset-normalizer<4.0,>=3.3.2 in c:\\python312\\lib\\site-packages (from reflex) (3.3.2)\n",
      "Requirement already satisfied: dill<0.4,>=0.3.8 in c:\\users\\hyunyoun\\appdata\\roaming\\python\\python312\\site-packages (from reflex) (0.3.8)\n",
      "Requirement already satisfied: fastapi<0.111.0,>=0.96.0 in c:\\users\\hyunyoun\\appdata\\roaming\\python\\python312\\site-packages (from reflex) (0.110.3)\n",
      "Requirement already satisfied: gunicorn<23.0,>=20.1.0 in c:\\users\\hyunyoun\\appdata\\roaming\\python\\python312\\site-packages (from reflex) (22.0.0)\n",
      "Requirement already satisfied: httpx<1.0,>=0.25.1 in c:\\python312\\lib\\site-packages (from reflex) (0.27.0)\n",
      "Requirement already satisfied: jinja2<4.0,>=3.1.2 in c:\\python312\\lib\\site-packages (from reflex) (3.1.4)\n",
      "Requirement already satisfied: lazy_loader>=0.4 in c:\\users\\hyunyoun\\appdata\\roaming\\python\\python312\\site-packages (from reflex) (0.4)\n",
      "Requirement already satisfied: packaging<25.0,>=23.1 in c:\\python312\\lib\\site-packages (from reflex) (24.1)\n",
      "Requirement already satisfied: platformdirs<5.0,>=3.10.0 in c:\\python312\\lib\\site-packages (from reflex) (4.2.2)\n",
      "Requirement already satisfied: psutil<6.0,>=5.9.4 in c:\\users\\hyunyoun\\appdata\\roaming\\python\\python312\\site-packages (from reflex) (5.9.8)\n",
      "Requirement already satisfied: pydantic<3.0,>=1.10.2 in c:\\python312\\lib\\site-packages (from reflex) (2.8.2)\n",
      "Requirement already satisfied: python-engineio!=4.6.0 in c:\\python312\\lib\\site-packages (from reflex) (4.9.1)\n",
      "Requirement already satisfied: python-multipart<0.1,>=0.0.5 in c:\\python312\\lib\\site-packages (from reflex) (0.0.9)\n",
      "Requirement already satisfied: python-socketio<6.0,>=5.7.0 in c:\\python312\\lib\\site-packages (from reflex) (5.11.3)\n",
      "Requirement already satisfied: redis<6.0,>=4.3.5 in c:\\python312\\lib\\site-packages (from reflex) (5.0.7)\n",
      "Requirement already satisfied: reflex-hosting-cli<2.0,>=0.1.2 in c:\\users\\hyunyoun\\appdata\\roaming\\python\\python312\\site-packages (from reflex) (0.1.13)\n",
      "Requirement already satisfied: rich<14.0,>=13.0.0 in c:\\users\\hyunyoun\\appdata\\roaming\\python\\python312\\site-packages (from reflex) (13.7.1)\n",
      "Collecting setuptools<70.0,>=69.1.1 (from reflex)\n",
      "  Using cached setuptools-69.5.1-py3-none-any.whl.metadata (6.2 kB)\n",
      "Requirement already satisfied: sqlmodel<0.1,>=0.0.14 in c:\\users\\hyunyoun\\appdata\\roaming\\python\\python312\\site-packages (from reflex) (0.0.19)\n",
      "Requirement already satisfied: starlette-admin<1.0,>=0.11.0 in c:\\users\\hyunyoun\\appdata\\roaming\\python\\python312\\site-packages (from reflex) (0.14.0)\n",
      "Requirement already satisfied: tomlkit<1.0,>=0.12.4 in c:\\users\\hyunyoun\\appdata\\roaming\\python\\python312\\site-packages (from reflex) (0.12.5)\n",
      "Requirement already satisfied: twine<6.0,>=4.0.0 in c:\\users\\hyunyoun\\appdata\\roaming\\python\\python312\\site-packages (from reflex) (5.1.1)\n",
      "Requirement already satisfied: typer<1.0,>=0.4.2 in c:\\users\\hyunyoun\\appdata\\roaming\\python\\python312\\site-packages (from reflex) (0.12.3)\n",
      "Requirement already satisfied: uvicorn<0.25.0,>=0.24.0 in c:\\users\\hyunyoun\\appdata\\roaming\\python\\python312\\site-packages (from reflex) (0.24.0.post1)\n",
      "Requirement already satisfied: watchdog<5.0,>=2.3.1 in c:\\users\\hyunyoun\\appdata\\roaming\\python\\python312\\site-packages (from reflex) (4.0.1)\n",
      "Requirement already satisfied: watchfiles<1.0,>=0.19.0 in c:\\users\\hyunyoun\\appdata\\roaming\\python\\python312\\site-packages (from reflex) (0.22.0)\n",
      "Requirement already satisfied: wheel<1.0,>=0.42.0 in c:\\users\\hyunyoun\\appdata\\roaming\\python\\python312\\site-packages (from reflex) (0.43.0)\n",
      "Requirement already satisfied: wrapt<2.0,>=1.14.0 in c:\\users\\hyunyoun\\appdata\\roaming\\python\\python312\\site-packages (from reflex) (1.16.0)\n",
      "Requirement already satisfied: SQLAlchemy>=1.3.0 in c:\\python312\\lib\\site-packages (from alembic<2.0,>=1.11.1->reflex) (2.0.31)\n",
      "Requirement already satisfied: Mako in c:\\users\\hyunyoun\\appdata\\roaming\\python\\python312\\site-packages (from alembic<2.0,>=1.11.1->reflex) (1.3.5)\n",
      "Requirement already satisfied: typing-extensions>=4 in c:\\python312\\lib\\site-packages (from alembic<2.0,>=1.11.1->reflex) (4.12.2)\n",
      "Requirement already satisfied: pyproject_hooks in c:\\users\\hyunyoun\\appdata\\roaming\\python\\python312\\site-packages (from build<2.0,>=1.0.3->reflex) (1.1.0)\n",
      "Requirement already satisfied: colorama in c:\\python312\\lib\\site-packages (from build<2.0,>=1.0.3->reflex) (0.4.6)\n",
      "Requirement already satisfied: starlette<0.38.0,>=0.37.2 in c:\\users\\hyunyoun\\appdata\\roaming\\python\\python312\\site-packages (from fastapi<0.111.0,>=0.96.0->reflex) (0.37.2)\n",
      "Requirement already satisfied: anyio in c:\\python312\\lib\\site-packages (from httpx<1.0,>=0.25.1->reflex) (4.4.0)\n",
      "Requirement already satisfied: certifi in c:\\python312\\lib\\site-packages (from httpx<1.0,>=0.25.1->reflex) (2024.6.2)\n",
      "Collecting httpcore==1.* (from httpx<1.0,>=0.25.1->reflex)\n",
      "  Using cached httpcore-1.0.5-py3-none-any.whl.metadata (20 kB)\n",
      "Requirement already satisfied: idna in c:\\python312\\lib\\site-packages (from httpx<1.0,>=0.25.1->reflex) (2.10)\n",
      "Requirement already satisfied: sniffio in c:\\python312\\lib\\site-packages (from httpx<1.0,>=0.25.1->reflex) (1.3.1)\n",
      "Requirement already satisfied: h11<0.15,>=0.13 in c:\\python312\\lib\\site-packages (from httpcore==1.*->httpx<1.0,>=0.25.1->reflex) (0.14.0)\n",
      "Requirement already satisfied: MarkupSafe>=2.0 in c:\\python312\\lib\\site-packages (from jinja2<4.0,>=3.1.2->reflex) (2.1.5)\n",
      "Requirement already satisfied: annotated-types>=0.4.0 in c:\\python312\\lib\\site-packages (from pydantic<3.0,>=1.10.2->reflex) (0.7.0)\n",
      "Requirement already satisfied: pydantic-core==2.20.1 in c:\\python312\\lib\\site-packages (from pydantic<3.0,>=1.10.2->reflex) (2.20.1)\n",
      "Requirement already satisfied: simple-websocket>=0.10.0 in c:\\python312\\lib\\site-packages (from python-engineio!=4.6.0->reflex) (1.0.0)\n",
      "Requirement already satisfied: bidict>=0.21.0 in c:\\python312\\lib\\site-packages (from python-socketio<6.0,>=5.7.0->reflex) (0.23.1)\n",
      "Requirement already satisfied: pipdeptree<2.17.0,>=2.13.1 in c:\\users\\hyunyoun\\appdata\\roaming\\python\\python312\\site-packages (from reflex-hosting-cli<2.0,>=0.1.2->reflex) (2.16.2)\n",
      "Requirement already satisfied: python-dateutil>=2.8.1 in c:\\python312\\lib\\site-packages (from reflex-hosting-cli<2.0,>=0.1.2->reflex) (2.9.0.post0)\n",
      "Requirement already satisfied: tabulate<0.10.0,>=0.9.0 in c:\\users\\hyunyoun\\appdata\\roaming\\python\\python312\\site-packages (from reflex-hosting-cli<2.0,>=0.1.2->reflex) (0.9.0)\n",
      "Collecting websockets>=10.4 (from reflex-hosting-cli<2.0,>=0.1.2->reflex)\n",
      "  Using cached websockets-12.0-cp312-cp312-win_amd64.whl.metadata (6.8 kB)\n",
      "Requirement already satisfied: markdown-it-py>=2.2.0 in c:\\users\\hyunyoun\\appdata\\roaming\\python\\python312\\site-packages (from rich<14.0,>=13.0.0->reflex) (3.0.0)\n",
      "Requirement already satisfied: pygments<3.0.0,>=2.13.0 in c:\\python312\\lib\\site-packages (from rich<14.0,>=13.0.0->reflex) (2.18.0)\n",
      "Requirement already satisfied: pkginfo>=1.8.1 in c:\\users\\hyunyoun\\appdata\\roaming\\python\\python312\\site-packages (from twine<6.0,>=4.0.0->reflex) (1.10.0)\n",
      "Requirement already satisfied: readme-renderer>=35.0 in c:\\users\\hyunyoun\\appdata\\roaming\\python\\python312\\site-packages (from twine<6.0,>=4.0.0->reflex) (43.0)\n",
      "Requirement already satisfied: requests>=2.20 in c:\\python312\\lib\\site-packages (from twine<6.0,>=4.0.0->reflex) (2.32.3)\n",
      "Requirement already satisfied: requests-toolbelt!=0.9.0,>=0.8.0 in c:\\users\\hyunyoun\\appdata\\roaming\\python\\python312\\site-packages (from twine<6.0,>=4.0.0->reflex) (1.0.0)\n",
      "Requirement already satisfied: urllib3>=1.26.0 in c:\\python312\\lib\\site-packages (from twine<6.0,>=4.0.0->reflex) (1.26.19)\n",
      "Requirement already satisfied: importlib-metadata>=3.6 in c:\\users\\hyunyoun\\appdata\\roaming\\python\\python312\\site-packages (from twine<6.0,>=4.0.0->reflex) (8.0.0)\n",
      "Requirement already satisfied: keyring>=15.1 in c:\\users\\hyunyoun\\appdata\\roaming\\python\\python312\\site-packages (from twine<6.0,>=4.0.0->reflex) (25.2.1)\n",
      "Requirement already satisfied: rfc3986>=1.4.0 in c:\\python312\\lib\\site-packages (from twine<6.0,>=4.0.0->reflex) (1.5.0)\n",
      "Requirement already satisfied: click>=8.0.0 in c:\\python312\\lib\\site-packages (from typer<1.0,>=0.4.2->reflex) (8.1.7)\n",
      "Requirement already satisfied: shellingham>=1.3.0 in c:\\users\\hyunyoun\\appdata\\roaming\\python\\python312\\site-packages (from typer<1.0,>=0.4.2->reflex) (1.5.4)\n",
      "Requirement already satisfied: zipp>=0.5 in c:\\users\\hyunyoun\\appdata\\roaming\\python\\python312\\site-packages (from importlib-metadata>=3.6->twine<6.0,>=4.0.0->reflex) (3.19.2)\n",
      "Requirement already satisfied: jaraco.classes in c:\\users\\hyunyoun\\appdata\\roaming\\python\\python312\\site-packages (from keyring>=15.1->twine<6.0,>=4.0.0->reflex) (3.4.0)\n",
      "Requirement already satisfied: jaraco.functools in c:\\users\\hyunyoun\\appdata\\roaming\\python\\python312\\site-packages (from keyring>=15.1->twine<6.0,>=4.0.0->reflex) (4.0.1)\n",
      "Requirement already satisfied: jaraco.context in c:\\users\\hyunyoun\\appdata\\roaming\\python\\python312\\site-packages (from keyring>=15.1->twine<6.0,>=4.0.0->reflex) (5.3.0)\n",
      "Requirement already satisfied: pywin32-ctypes>=0.2.0 in c:\\users\\hyunyoun\\appdata\\roaming\\python\\python312\\site-packages (from keyring>=15.1->twine<6.0,>=4.0.0->reflex) (0.2.2)\n",
      "Requirement already satisfied: mdurl~=0.1 in c:\\users\\hyunyoun\\appdata\\roaming\\python\\python312\\site-packages (from markdown-it-py>=2.2.0->rich<14.0,>=13.0.0->reflex) (0.1.2)\n",
      "Requirement already satisfied: pip>=23.1.2 in c:\\users\\hyunyoun\\appdata\\roaming\\python\\python312\\site-packages (from pipdeptree<2.17.0,>=2.13.1->reflex-hosting-cli<2.0,>=0.1.2->reflex) (24.2)\n",
      "Requirement already satisfied: six>=1.5 in c:\\python312\\lib\\site-packages (from python-dateutil>=2.8.1->reflex-hosting-cli<2.0,>=0.1.2->reflex) (1.16.0)\n",
      "Requirement already satisfied: nh3>=0.2.14 in c:\\python312\\lib\\site-packages (from readme-renderer>=35.0->twine<6.0,>=4.0.0->reflex) (0.2.18)\n",
      "Requirement already satisfied: docutils>=0.13.1 in c:\\users\\hyunyoun\\appdata\\roaming\\python\\python312\\site-packages (from readme-renderer>=35.0->twine<6.0,>=4.0.0->reflex) (0.21.2)\n",
      "Requirement already satisfied: wsproto in c:\\python312\\lib\\site-packages (from simple-websocket>=0.10.0->python-engineio!=4.6.0->reflex) (1.2.0)\n",
      "Requirement already satisfied: greenlet!=0.4.17 in c:\\python312\\lib\\site-packages (from SQLAlchemy>=1.3.0->alembic<2.0,>=1.11.1->reflex) (3.0.3)\n",
      "Requirement already satisfied: more-itertools in c:\\users\\hyunyoun\\appdata\\roaming\\python\\python312\\site-packages (from jaraco.classes->keyring>=15.1->twine<6.0,>=4.0.0->reflex) (10.3.0)\n",
      "Using cached httpcore-1.0.5-py3-none-any.whl (77 kB)\n",
      "Using cached setuptools-69.5.1-py3-none-any.whl (894 kB)\n",
      "Using cached websockets-12.0-cp312-cp312-win_amd64.whl (124 kB)\n",
      "Installing collected packages: websockets, setuptools, httpcore\n",
      "  Attempting uninstall: setuptools\n",
      "    Found existing installation: setuptools 70.2.0\n",
      "    Uninstalling setuptools-70.2.0:\n",
      "      Successfully uninstalled setuptools-70.2.0\n",
      "Successfully installed httpcore-1.0.5 setuptools-69.5.1 websockets-12.0\n"
     ]
    }
   ],
   "source": [
    "%pip install reflex --user"
   ]
  },
  {
   "cell_type": "markdown",
   "metadata": {},
   "source": [
    "* Sanic: 고성능 비동기 웹 프레임워크"
   ]
  },
  {
   "cell_type": "code",
   "execution_count": 10,
   "metadata": {},
   "outputs": [
    {
     "name": "stdout",
     "output_type": "stream",
     "text": [
      "Requirement already satisfied: sanic in c:\\users\\hyunyoun\\appdata\\roaming\\python\\python312\\site-packages (24.6.0)\n",
      "Requirement already satisfied: sanic-routing>=23.12.0 in c:\\users\\hyunyoun\\appdata\\roaming\\python\\python312\\site-packages (from sanic) (23.12.0)\n",
      "Requirement already satisfied: httptools>=0.0.10 in c:\\users\\hyunyoun\\appdata\\roaming\\python\\python312\\site-packages (from sanic) (0.6.1)\n",
      "Requirement already satisfied: aiofiles>=0.6.0 in c:\\users\\hyunyoun\\appdata\\roaming\\python\\python312\\site-packages (from sanic) (24.1.0)\n",
      "Requirement already satisfied: websockets>=10.0 in c:\\users\\hyunyoun\\appdata\\roaming\\python\\python312\\site-packages (from sanic) (12.0)\n",
      "Requirement already satisfied: multidict<7.0,>=5.0 in c:\\python312\\lib\\site-packages (from sanic) (6.0.5)\n",
      "Requirement already satisfied: html5tagger>=1.2.1 in c:\\users\\hyunyoun\\appdata\\roaming\\python\\python312\\site-packages (from sanic) (1.3.0)\n",
      "Requirement already satisfied: tracerite>=1.0.0 in c:\\users\\hyunyoun\\appdata\\roaming\\python\\python312\\site-packages (from sanic) (1.1.1)\n",
      "Requirement already satisfied: typing-extensions>=4.4.0 in c:\\python312\\lib\\site-packages (from sanic) (4.12.2)\n",
      "Collecting setuptools>=70.1.0 (from sanic)\n",
      "  Downloading setuptools-72.1.0-py3-none-any.whl.metadata (6.6 kB)\n",
      "Downloading setuptools-72.1.0-py3-none-any.whl (2.3 MB)\n",
      "   ---------------------------------------- 0.0/2.3 MB ? eta -:--:--\n",
      "   ---------------------------------------- 2.3/2.3 MB 11.0 MB/s eta 0:00:00\n",
      "Installing collected packages: setuptools\n",
      "  Attempting uninstall: setuptools\n",
      "    Found existing installation: setuptools 69.5.1\n",
      "    Uninstalling setuptools-69.5.1:\n",
      "      Successfully uninstalled setuptools-69.5.1\n",
      "Successfully installed setuptools-72.1.0\n",
      "Note: you may need to restart the kernel to use updated packages.\n"
     ]
    },
    {
     "name": "stderr",
     "output_type": "stream",
     "text": [
      "WARNING: Ignoring invalid distribution ~ (c:\\Python312\\Lib\\site-packages)\n",
      "WARNING: Ignoring invalid distribution ~ebsockets (c:\\Python312\\Lib\\site-packages)\n",
      "WARNING: Ignoring invalid distribution ~equests (c:\\Python312\\Lib\\site-packages)\n",
      "WARNING: Ignoring invalid distribution ~ip (c:\\Python312\\Lib\\site-packages)\n",
      "WARNING: Ignoring invalid distribution ~ttpcore (c:\\Python312\\Lib\\site-packages)\n",
      "WARNING: Ignoring invalid distribution ~ (c:\\Python312\\Lib\\site-packages)\n",
      "WARNING: Ignoring invalid distribution ~ebsockets (c:\\Python312\\Lib\\site-packages)\n",
      "WARNING: Ignoring invalid distribution ~equests (c:\\Python312\\Lib\\site-packages)\n",
      "WARNING: Ignoring invalid distribution ~ip (c:\\Python312\\Lib\\site-packages)\n",
      "WARNING: Ignoring invalid distribution ~ttpcore (c:\\Python312\\Lib\\site-packages)\n",
      "ERROR: pip's dependency resolver does not currently take into account all the packages that are installed. This behaviour is the source of the following dependency conflicts.\n",
      "reflex 0.5.5 requires setuptools<70.0,>=69.1.1, but you have setuptools 72.1.0 which is incompatible.\n"
     ]
    }
   ],
   "source": [
    "%pip install sanic --user"
   ]
  },
  {
   "cell_type": "code",
   "execution_count": null,
   "metadata": {},
   "outputs": [],
   "source": []
  }
 ],
 "metadata": {
  "kernelspec": {
   "display_name": "Python 3",
   "language": "python",
   "name": "python3"
  },
  "language_info": {
   "codemirror_mode": {
    "name": "ipython",
    "version": 3
   },
   "file_extension": ".py",
   "mimetype": "text/x-python",
   "name": "python",
   "nbconvert_exporter": "python",
   "pygments_lexer": "ipython3",
   "version": "3.12.4"
  }
 },
 "nbformat": 4,
 "nbformat_minor": 2
}
